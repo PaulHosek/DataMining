{
 "cells": [
  {
   "cell_type": "code",
   "execution_count": 1,
   "metadata": {},
   "outputs": [],
   "source": [
    "import pandas as pd\n",
    "import numpy as np\n",
    "import matplotlib.pylab as plt\n",
    "from datetime import datetime\n",
    "import random\n",
    "\n",
    "from tqdm import tqdm\n",
    "\n",
    "from xgboost import XGBRegressor, XGBRanker\n",
    "#from sklearn.xgboost import XGBRegressor\n",
    "\n",
    "from sklearn.ensemble import HistGradientBoostingRegressor, GradientBoostingRegressor, HistGradientBoostingClassifier, AdaBoostRegressor\n",
    "from sklearn.model_selection import RandomizedSearchCV, train_test_split\n",
    "from sklearn.model_selection import cross_val_score, RepeatedStratifiedKFold\n",
    "from sklearn.metrics import mean_squared_error, ndcg_score\n",
    "from sklearn.utils import resample\n",
    "from sklearn.experimental import enable_halving_search_cv\n",
    "from sklearn.model_selection import HalvingRandomSearchCV, GroupKFold"
   ]
  },
  {
   "cell_type": "code",
   "execution_count": 2,
   "metadata": {},
   "outputs": [],
   "source": [
    "def score_predict(X_test, y_test, pred):\n",
    "\n",
    "    df = X_test.copy()\n",
    "    df['true_y'] = y_test\n",
    "    df['pred_y'] = pred\n",
    "\n",
    "    match = sum((df.groupby('srch_id')['true_y'].idxmax() == df.groupby('srch_id')['pred_y'].idxmax()) & (df.groupby('srch_id')['true_y'].max() > 1))\n",
    "\n",
    "    score = match / df['srch_id'].nunique()\n",
    "    return score"
   ]
  },
  {
   "cell_type": "code",
   "execution_count": null,
   "outputs": [],
   "source": [
    "# data = pd.read_csv('data/train_train.csv')\n",
    "\n",
    "train_data = pd.read_csv('data/train_train_FE.csv')\n",
    "train_data.drop('Unnamed: 0', axis=1, inplace=True)\n",
    "\n",
    "train_data.drop('date_time', axis = 1, inplace=True)\n",
    "#train_data.drop('prob_searchclick', axis = 1, inplace=True)\n",
    "\n",
    "train_data['target'] = train_data['click_bool'] + 4* train_data['booking_bool']\n",
    "train_data['target'].loc[train_data['target'].isna()] = int(0)"
   ],
   "metadata": {
    "collapsed": false,
    "pycharm": {
     "name": "#%%\n"
    }
   }
  },
  {
   "cell_type": "code",
   "execution_count": null,
   "outputs": [],
   "source": [
    "test_data = pd.read_csv('data/train_test_FE.csv')\n",
    "test_data.drop('Unnamed: 0', axis=1, inplace=True)\n",
    "\n",
    "test_data.drop('date_time', axis = 1, inplace=True)\n",
    "test_data['target'] = test_data['click_bool'] + 4* test_data['booking_bool']\n",
    "test_data['target'].loc[test_data['target'].isna()] = int(0)"
   ],
   "metadata": {
    "collapsed": false,
    "pycharm": {
     "name": "#%%\n"
    }
   }
  },
  {
   "cell_type": "code",
   "execution_count": null,
   "outputs": [],
   "source": [
    "train_data['target'].hist()\n",
    "plt.yscale('log')"
   ],
   "metadata": {
    "collapsed": false,
    "pycharm": {
     "name": "#%%\n"
    }
   }
  },
  {
   "cell_type": "code",
   "execution_count": null,
   "outputs": [],
   "source": [
    "# data.sort_values(['srch_id', 'target'], axis=0, inplace=True, ignore_index=True, ascending=[True, False])\n",
    "# ids = data['srch_id'].unique()"
   ],
   "metadata": {
    "collapsed": false,
    "pycharm": {
     "name": "#%%\n"
    }
   }
  },
  {
   "cell_type": "code",
   "execution_count": null,
   "outputs": [],
   "source": [
    "# train_ids = random.sample(list(ids), k = int(0.95* len(ids)))\n",
    "# test_ids = set(ids) - set(train_ids)"
   ],
   "metadata": {
    "collapsed": false,
    "pycharm": {
     "name": "#%%\n"
    }
   }
  },
  {
   "cell_type": "code",
   "execution_count": null,
   "outputs": [],
   "source": [
    "# data = data.join(data.loc[data['srch_id'].isin(train_ids)].groupby('prop_id')['booking_bool'].mean(), on = 'prop_id', rsuffix = '_mean')\n",
    "# data = data.join(data.loc[data['srch_id'].isin(train_ids)].groupby('prop_id')['click_bool'].mean(), on = 'prop_id', rsuffix = '_mean')"
   ],
   "metadata": {
    "collapsed": false,
    "pycharm": {
     "name": "#%%\n"
    }
   }
  },
  {
   "cell_type": "code",
   "execution_count": null,
   "outputs": [],
   "source": [
    "# train_data = data.loc[data['srch_id'].isin(train_ids)]\n",
    "# test_data = data.loc[data['srch_id'].isin(test_ids)]"
   ],
   "metadata": {
    "collapsed": false,
    "pycharm": {
     "name": "#%%\n"
    }
   }
  },
  {
   "cell_type": "code",
   "execution_count": null,
   "outputs": [],
   "source": [
    "# # get search ids with any booking\n",
    "# ids_train = train_data['srch_id'].loc[train_data['booking_bool'] == 1].unique()\n",
    "# # use only the searches that resulted in a booking\n",
    "# train_data = train_data.loc[train_data['srch_id'].isin(ids)]\n",
    "# # only use properties that are being booked\n",
    "# props = train_data['prop_id'].loc[train_data['booking_bool'] == 1].unique()\n",
    "# data = train_data.loc[train_data['prop_id'].isin(props)]"
   ],
   "metadata": {
    "collapsed": false,
    "pycharm": {
     "name": "#%%\n"
    }
   }
  },
  {
   "cell_type": "code",
   "execution_count": null,
   "outputs": [],
   "source": [
    "#undersample non bookings\n",
    "X_under, y_under = resample(train_data.drop(['true_rank', 'click_bool', 'gross_bookings_usd', 'booking_bool', 'position', 'target']\n",
    "                                      , axis=1).loc[train_data['target'] < 1], train_data['target'].loc[train_data['target'] < 1]\n",
    "                                      , n_samples= 1* sum(data['target'] >= 1), replace=False)"
   ],
   "metadata": {
    "collapsed": false,
    "pycharm": {
     "name": "#%%\n"
    }
   }
  },
  {
   "cell_type": "code",
   "execution_count": null,
   "outputs": [],
   "source": [
    "# X_bal = pd.concat([X_under, train_data.drop(['true_rank', 'click_bool', 'gross_bookings_usd', 'booking_bool', 'position', 'target']\n",
    "#                                       , axis=1).loc[train_data['target'] >= 1]])\n",
    "\n",
    "# y_bal = y_under\n",
    "# y_bal = y_bal.append(train_data['target'].loc[train_data['target'] >= 1])\n",
    "\n",
    "X_bal = train_data.drop(['click_bool', 'gross_bookings_usd', 'booking_bool', 'position', 'target'], axis=1)\n",
    "y_bal = train_data['target']\n"
   ],
   "metadata": {
    "collapsed": false,
    "pycharm": {
     "name": "#%%\n"
    }
   }
  },
  {
   "cell_type": "code",
   "execution_count": null,
   "outputs": [],
   "source": [
    "plt.hist(y_bal)"
   ],
   "metadata": {
    "collapsed": false,
    "pycharm": {
     "name": "#%%\n"
    }
   }
  },
  {
   "cell_type": "code",
   "execution_count": null,
   "outputs": [],
   "source": [
    "# X_train, X_test, y_train, y_test = train_test_split(X_bal, y_bal)\n",
    "\n",
    "# X_train, X_test, y_train, y_test = train_test_split(data.drop(['booking_bool_mean', 'click_bool_mean', 'click_bool', 'gross_bookings_usd', 'booking_bool', 'position', 'target']\n",
    "#                                        , axis=1), data['target'])\n",
    "#X_train, y_train = X_bal, y_bal"
   ],
   "metadata": {
    "collapsed": false,
    "pycharm": {
     "name": "#%%\n"
    }
   }
  },
  {
   "cell_type": "code",
   "execution_count": null,
   "outputs": [],
   "source": [
    "# much better than just replacing with 0\n",
    "# X_train = X_train.fillna(-9999)\n",
    "# baseline = GradientBoostingRegressor(n_estimators = 100, max_leaf_nodes=None, max_depth=3, random_state=42)\n",
    "\n",
    "#baseline = HistGradientBoostingRegressor(random_state=42)\n",
    "#baseline = GradientBoostingRegressor(random_state=42)\n",
    "#baseline = AdaBoostRegressor(random_state=42)\n",
    "\n",
    "#baseline = XGBRegressor(n_estimators = 500, random_state = 42, objective= 'rank:ndcg@5')\n",
    "baseline = XGBRanker(n_estimators = 100, random_state = 42, objective= 'rank:ndcg', eval_metric = 'ndcg@5-')"
   ],
   "metadata": {
    "collapsed": false,
    "pycharm": {
     "name": "#%%\n"
    }
   }
  },
  {
   "cell_type": "code",
   "execution_count": null,
   "outputs": [],
   "source": [
    "# hyper param tuning\n",
    "# param_dist = {'min_samples_split' : [2, 10_000], 'max_depth' : [3, 15]}\n",
    "# hp_search = HalvingRandomSearchCV(baseline, param_dist, min_resources=50_000).fit(X_train, y_train)"
   ],
   "metadata": {
    "collapsed": false,
    "pycharm": {
     "name": "#%%\n"
    }
   }
  },
  {
   "cell_type": "code",
   "execution_count": null,
   "outputs": [],
   "source": [
    "# hp_search.best_params_"
   ],
   "metadata": {
    "collapsed": false,
    "pycharm": {
     "name": "#%%\n"
    }
   }
  },
  {
   "cell_type": "code",
   "execution_count": null,
   "outputs": [],
   "source": [
    "groups = X_bal.groupby('srch_id').size().to_frame('size')['size'].to_numpy()\n",
    "\n",
    "baseline.fit(X_bal.drop(['srch_id'], axis = 1),y_bal, group = groups)"
   ],
   "metadata": {
    "collapsed": false,
    "pycharm": {
     "name": "#%%\n"
    }
   }
  },
  {
   "cell_type": "code",
   "execution_count": null,
   "outputs": [],
   "source": [
    "# pred = baseline.predict(data.drop(['srch_id', 'click_bool', 'gross_bookings_usd', 'booking_bool', 'position', 'target'], axis=1).fillna(-9999))"
   ],
   "metadata": {
    "collapsed": false,
    "pycharm": {
     "name": "#%%\n"
    }
   }
  },
  {
   "cell_type": "code",
   "execution_count": null,
   "outputs": [],
   "source": [
    "#mean_squared_error(data['target'], pred)"
   ],
   "metadata": {
    "collapsed": false,
    "pycharm": {
     "name": "#%%\n"
    }
   }
  },
  {
   "cell_type": "code",
   "execution_count": null,
   "outputs": [],
   "source": [
    "# pred_test = baseline.predict(X_test.drop(['srch_id'], axis=1).fillna(-9999))\n",
    "# print('MSE', mean_squared_error(y_test, pred_test))\n",
    "\n",
    "# score = score_predict(X_test, y_test, pred_test)\n",
    "# print('score', score)"
   ],
   "metadata": {
    "collapsed": false,
    "pycharm": {
     "name": "#%%\n"
    }
   }
  },
  {
   "cell_type": "code",
   "execution_count": null,
   "outputs": [],
   "source": [
    "test_data['pred_score'] = baseline.predict(test_data.drop(['srch_id', 'click_bool', 'gross_bookings_usd', 'booking_bool', 'position', 'target']\n",
    "                                      , axis=1).fillna(-9999))"
   ],
   "metadata": {
    "collapsed": false,
    "pycharm": {
     "name": "#%%\n"
    }
   }
  },
  {
   "cell_type": "code",
   "execution_count": null,
   "outputs": [],
   "source": [
    "print('MSE', mean_squared_error(test_data['target'], test_data['pred_score']))"
   ],
   "metadata": {
    "collapsed": false,
    "pycharm": {
     "name": "#%%\n"
    }
   }
  },
  {
   "cell_type": "code",
   "execution_count": null,
   "outputs": [],
   "source": [
    "test_data['pred_rank'] = test_data.groupby('srch_id')['pred_score'].rank(ascending=False).astype(int)"
   ],
   "metadata": {
    "collapsed": false,
    "pycharm": {
     "name": "#%%\n"
    }
   }
  },
  {
   "cell_type": "code",
   "execution_count": null,
   "outputs": [],
   "source": [
    "# scoring with ndcg\n",
    "mean_ndcg = 0\n",
    "counter = 0\n",
    "for id in tqdm(test_ids):\n",
    "    if len(test_data['true_rank'].loc[test_data['srch_id'] == id]) > 1:\n",
    "        ndcg = ndcg_score([test_data['true_rank'].loc[test_data['srch_id'] == id].astype(int).to_numpy()],\n",
    "                        [test_data['pred_score'].loc[test_data['srch_id'] == id].to_numpy()], k = 5)\n",
    "\n",
    "    mean_ndcg += ndcg\n",
    "    if ndcg < 1.0:\n",
    "        counter +=1\n",
    "\n",
    "mean_ndcg = mean_ndcg/len(test_ids)"
   ],
   "metadata": {
    "collapsed": false,
    "pycharm": {
     "name": "#%%\n"
    }
   }
  },
  {
   "cell_type": "code",
   "execution_count": null,
   "outputs": [],
   "source": [
    "mean_ndcg"
   ],
   "metadata": {
    "collapsed": false,
    "pycharm": {
     "name": "#%%\n"
    }
   }
  },
  {
   "cell_type": "code",
   "execution_count": null,
   "outputs": [],
   "source": [
    "plt.bar(range(len(baseline.feature_importances_)), baseline.feature_importances_)\n",
    "plt.figsize= (4,20)\n",
    "# plt.xlabel(baseline.get_booster().feature_names, rotation = 90)\n",
    "plt.xticks(range(len(baseline.feature_importances_)), baseline.get_booster().feature_names,rotation = 90)\n",
    "plt.tight_layout()\n",
    "plt.show()\n"
   ],
   "metadata": {
    "collapsed": false,
    "pycharm": {
     "name": "#%%\n"
    }
   }
  },
  {
   "cell_type": "markdown",
   "source": [
    "## Predict the test dataset and bring it into requested format"
   ],
   "metadata": {
    "collapsed": false,
    "pycharm": {
     "name": "#%% md\n"
    }
   }
  },
  {
   "cell_type": "code",
   "execution_count": null,
   "outputs": [],
   "source": [
    "comp_data = pd.read_csv('data/FE_test_set.csv')\n",
    "comp_data.drop('Unnamed: 0', axis=1, inplace=True)\n",
    "\n",
    "# test_data = pd.read_csv('data/test_set_VU_DM.csv')\n",
    "comp_data.drop('date_time', axis = 1, inplace=True)"
   ],
   "metadata": {
    "collapsed": false,
    "pycharm": {
     "name": "#%%\n"
    }
   }
  },
  {
   "cell_type": "code",
   "execution_count": null,
   "outputs": [],
   "source": [
    "comp_data.head()"
   ],
   "metadata": {
    "collapsed": false,
    "pycharm": {
     "name": "#%%\n"
    }
   }
  },
  {
   "cell_type": "code",
   "execution_count": null,
   "outputs": [],
   "source": [
    "set(comp_data.columns) - set(baseline.get_booster().feature_names)"
   ],
   "metadata": {
    "collapsed": false,
    "pycharm": {
     "name": "#%%\n"
    }
   }
  },
  {
   "cell_type": "code",
   "execution_count": null,
   "outputs": [],
   "source": [
    "comp_data['prediction'] = baseline.predict(comp_data.drop(['srch_id', 'in_train'], axis=1).fillna(-9999))\n",
    "\n",
    "# test_data['prediction'] = baseline.predict(test_data.drop(['srch_id', 'date_time'], axis=1).fillna(-9999))"
   ],
   "metadata": {
    "collapsed": false,
    "pycharm": {
     "name": "#%%\n"
    }
   }
  },
  {
   "cell_type": "code",
   "execution_count": null,
   "outputs": [],
   "source": [
    "# sort values for final format\n",
    "comp_data.sort_values(['srch_id', 'prediction'], axis=0, inplace=True, ignore_index=True, ascending=[True, False])"
   ],
   "metadata": {
    "collapsed": false,
    "pycharm": {
     "name": "#%%\n"
    }
   }
  },
  {
   "cell_type": "code",
   "execution_count": null,
   "outputs": [],
   "source": [
    "filename = 'data/predictions/prediction'+str(datetime.now())+'.csv'\n",
    "comp_data[['srch_id', 'prop_id']].to_csv(filename, index=False)"
   ],
   "metadata": {
    "collapsed": false,
    "pycharm": {
     "name": "#%%\n"
    }
   }
  }
 ],
 "metadata": {
  "kernelspec": {
   "display_name": "DMT",
   "language": "python",
   "name": "python3"
  },
  "language_info": {
   "codemirror_mode": {
    "name": "ipython",
    "version": 3
   },
   "file_extension": ".py",
   "mimetype": "text/x-python",
   "name": "python",
   "nbconvert_exporter": "python",
   "pygments_lexer": "ipython3",
   "version": "3.11.2"
  },
  "orig_nbformat": 4
 },
 "nbformat": 4,
 "nbformat_minor": 2
}