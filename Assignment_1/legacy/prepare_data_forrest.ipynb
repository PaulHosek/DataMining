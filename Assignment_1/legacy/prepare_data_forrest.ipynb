{
 "cells": [
  {
   "cell_type": "code",
   "execution_count": 2,
   "metadata": {},
   "outputs": [],
   "source": [
    "import os\n",
    "import pandas as pd\n",
    "import numpy as np\n",
    "from tqdm import tqdm\n",
    "import matplotlib.pyplot as plt\n",
    "import dask\n",
    "from scipy.stats import randint\n",
    "from sklearn.ensemble import RandomForestClassifier\n",
    "from sklearn.ensemble import RandomForestRegressor\n",
    "from sklearn.model_selection import RandomizedSearchCV, train_test_split\n",
    "from sklearn.metrics import accuracy_score, confusion_matrix, precision_score, recall_score, ConfusionMatrixDisplay\n",
    "from sklearn.metrics import classification_report\n"
   ]
  },
  {
   "cell_type": "code",
   "execution_count": 3,
   "metadata": {},
   "outputs": [],
   "source": [
    "# read daily data\n",
    "processed_dfs = []\n",
    "for filename in sorted(os.listdir('data/aggregated_individual_data/')):\n",
    "    with open('data/aggregated_individual_data/'+filename, 'r') as f: # open in readonly mode\n",
    "        df = pd.read_csv(f)\n",
    "        df.drop('Unnamed: 0', inplace=True, axis = 1)\n",
    "        processed_dfs.append(df)"
   ]
  },
  {
   "cell_type": "code",
   "execution_count": 4,
   "metadata": {},
   "outputs": [
    {
     "data": {
      "text/html": [
       "<div>\n",
       "<style scoped>\n",
       "    .dataframe tbody tr th:only-of-type {\n",
       "        vertical-align: middle;\n",
       "    }\n",
       "\n",
       "    .dataframe tbody tr th {\n",
       "        vertical-align: top;\n",
       "    }\n",
       "\n",
       "    .dataframe thead th {\n",
       "        text-align: right;\n",
       "    }\n",
       "</style>\n",
       "<table border=\"1\" class=\"dataframe\">\n",
       "  <thead>\n",
       "    <tr style=\"text-align: right;\">\n",
       "      <th></th>\n",
       "      <th>time</th>\n",
       "      <th>weekday</th>\n",
       "      <th>mood</th>\n",
       "      <th>circumplex.arousal</th>\n",
       "      <th>circumplex.valence</th>\n",
       "      <th>activity</th>\n",
       "      <th>screen</th>\n",
       "      <th>call</th>\n",
       "      <th>sms</th>\n",
       "      <th>appCat.builtin</th>\n",
       "      <th>...</th>\n",
       "      <th>appCat.finance</th>\n",
       "      <th>appCat.game</th>\n",
       "      <th>appCat.office</th>\n",
       "      <th>appCat.other</th>\n",
       "      <th>appCat.social</th>\n",
       "      <th>appCat.travel</th>\n",
       "      <th>appCat.unknown</th>\n",
       "      <th>appCat.utilities</th>\n",
       "      <th>appCat.weather</th>\n",
       "      <th>sleep</th>\n",
       "    </tr>\n",
       "  </thead>\n",
       "  <tbody>\n",
       "    <tr>\n",
       "      <th>0</th>\n",
       "      <td>2014-03-16</td>\n",
       "      <td>6</td>\n",
       "      <td>6.5</td>\n",
       "      <td>-0.5</td>\n",
       "      <td>0.50</td>\n",
       "      <td>NaN</td>\n",
       "      <td>746.315000</td>\n",
       "      <td>0.0</td>\n",
       "      <td>0.0</td>\n",
       "      <td>116.333</td>\n",
       "      <td>...</td>\n",
       "      <td>0.0</td>\n",
       "      <td>0.0</td>\n",
       "      <td>0.0</td>\n",
       "      <td>48.325</td>\n",
       "      <td>39.985</td>\n",
       "      <td>0.000</td>\n",
       "      <td>0.0</td>\n",
       "      <td>0.0</td>\n",
       "      <td>NaN</td>\n",
       "      <td>15.424525</td>\n",
       "    </tr>\n",
       "    <tr>\n",
       "      <th>1</th>\n",
       "      <td>2014-03-17</td>\n",
       "      <td>0</td>\n",
       "      <td>6.5</td>\n",
       "      <td>0.5</td>\n",
       "      <td>0.00</td>\n",
       "      <td>0.145299</td>\n",
       "      <td>8669.900001</td>\n",
       "      <td>6.0</td>\n",
       "      <td>0.0</td>\n",
       "      <td>1392.999</td>\n",
       "      <td>...</td>\n",
       "      <td>0.0</td>\n",
       "      <td>0.0</td>\n",
       "      <td>0.0</td>\n",
       "      <td>128.881</td>\n",
       "      <td>123.806</td>\n",
       "      <td>0.000</td>\n",
       "      <td>0.0</td>\n",
       "      <td>0.0</td>\n",
       "      <td>NaN</td>\n",
       "      <td>12.060846</td>\n",
       "    </tr>\n",
       "    <tr>\n",
       "      <th>2</th>\n",
       "      <td>2014-03-18</td>\n",
       "      <td>1</td>\n",
       "      <td>8.0</td>\n",
       "      <td>0.8</td>\n",
       "      <td>1.00</td>\n",
       "      <td>0.351584</td>\n",
       "      <td>6820.626001</td>\n",
       "      <td>15.0</td>\n",
       "      <td>1.0</td>\n",
       "      <td>2703.184</td>\n",
       "      <td>...</td>\n",
       "      <td>0.0</td>\n",
       "      <td>0.0</td>\n",
       "      <td>0.0</td>\n",
       "      <td>89.302</td>\n",
       "      <td>212.871</td>\n",
       "      <td>0.000</td>\n",
       "      <td>0.0</td>\n",
       "      <td>0.0</td>\n",
       "      <td>NaN</td>\n",
       "      <td>13.511535</td>\n",
       "    </tr>\n",
       "    <tr>\n",
       "      <th>3</th>\n",
       "      <td>2014-03-19</td>\n",
       "      <td>2</td>\n",
       "      <td>7.4</td>\n",
       "      <td>0.2</td>\n",
       "      <td>0.60</td>\n",
       "      <td>0.452052</td>\n",
       "      <td>7920.775000</td>\n",
       "      <td>3.0</td>\n",
       "      <td>1.0</td>\n",
       "      <td>1524.853</td>\n",
       "      <td>...</td>\n",
       "      <td>0.0</td>\n",
       "      <td>0.0</td>\n",
       "      <td>0.0</td>\n",
       "      <td>97.805</td>\n",
       "      <td>51.841</td>\n",
       "      <td>567.165</td>\n",
       "      <td>0.0</td>\n",
       "      <td>0.0</td>\n",
       "      <td>NaN</td>\n",
       "      <td>15.624280</td>\n",
       "    </tr>\n",
       "    <tr>\n",
       "      <th>4</th>\n",
       "      <td>2014-03-20</td>\n",
       "      <td>3</td>\n",
       "      <td>6.5</td>\n",
       "      <td>-0.5</td>\n",
       "      <td>0.25</td>\n",
       "      <td>0.355026</td>\n",
       "      <td>4095.841002</td>\n",
       "      <td>6.0</td>\n",
       "      <td>0.0</td>\n",
       "      <td>1519.766</td>\n",
       "      <td>...</td>\n",
       "      <td>0.0</td>\n",
       "      <td>0.0</td>\n",
       "      <td>0.0</td>\n",
       "      <td>94.651</td>\n",
       "      <td>94.488</td>\n",
       "      <td>0.000</td>\n",
       "      <td>0.0</td>\n",
       "      <td>0.0</td>\n",
       "      <td>NaN</td>\n",
       "      <td>16.962416</td>\n",
       "    </tr>\n",
       "  </tbody>\n",
       "</table>\n",
       "<p>5 rows × 22 columns</p>\n",
       "</div>"
      ],
      "text/plain": [
       "         time  weekday  mood  circumplex.arousal  circumplex.valence  \\\n",
       "0  2014-03-16        6   6.5                -0.5                0.50   \n",
       "1  2014-03-17        0   6.5                 0.5                0.00   \n",
       "2  2014-03-18        1   8.0                 0.8                1.00   \n",
       "3  2014-03-19        2   7.4                 0.2                0.60   \n",
       "4  2014-03-20        3   6.5                -0.5                0.25   \n",
       "\n",
       "   activity       screen  call  sms  appCat.builtin  ...  appCat.finance  \\\n",
       "0       NaN   746.315000   0.0  0.0         116.333  ...             0.0   \n",
       "1  0.145299  8669.900001   6.0  0.0        1392.999  ...             0.0   \n",
       "2  0.351584  6820.626001  15.0  1.0        2703.184  ...             0.0   \n",
       "3  0.452052  7920.775000   3.0  1.0        1524.853  ...             0.0   \n",
       "4  0.355026  4095.841002   6.0  0.0        1519.766  ...             0.0   \n",
       "\n",
       "   appCat.game  appCat.office  appCat.other  appCat.social  appCat.travel  \\\n",
       "0          0.0            0.0        48.325         39.985          0.000   \n",
       "1          0.0            0.0       128.881        123.806          0.000   \n",
       "2          0.0            0.0        89.302        212.871          0.000   \n",
       "3          0.0            0.0        97.805         51.841        567.165   \n",
       "4          0.0            0.0        94.651         94.488          0.000   \n",
       "\n",
       "   appCat.unknown  appCat.utilities  appCat.weather      sleep  \n",
       "0             0.0               0.0             NaN  15.424525  \n",
       "1             0.0               0.0             NaN  12.060846  \n",
       "2             0.0               0.0             NaN  13.511535  \n",
       "3             0.0               0.0             NaN  15.624280  \n",
       "4             0.0               0.0             NaN  16.962416  \n",
       "\n",
       "[5 rows x 22 columns]"
      ]
     },
     "execution_count": 4,
     "metadata": {},
     "output_type": "execute_result"
    }
   ],
   "source": [
    "example = processed_dfs[1].copy()\n",
    "example.head()"
   ]
  },
  {
   "cell_type": "code",
   "execution_count": 5,
   "metadata": {},
   "outputs": [],
   "source": [
    "vars = ['time', 'weekday', 'mood', 'circumplex.arousal', 'circumplex.valence',\n",
    "       'activity', 'screen', 'call', 'sms', 'appCat.builtin',\n",
    "       'appCat.communication', 'appCat.entertainment', 'appCat.finance',\n",
    "       'appCat.game', 'appCat.office', 'appCat.other', 'appCat.social',\n",
    "       'appCat.travel', 'appCat.unknown', 'appCat.utilities', 'appCat.weather', 'sleep', 'sleep_before', 'mood_2days', 'mood_yesterday', '1day_mood_change', 'mood_target', 'target_bw' ]\n",
    "\n",
    "forest_data = pd.DataFrame(columns = vars)\n",
    "\n",
    "n_days = 3\n",
    "\n",
    "for i, df_org in enumerate(processed_dfs):\n",
    "    df = df_org.copy()\n",
    "\n",
    "    for j, col in enumerate(example.columns[3:len(vars)]):\n",
    "        df[col] = (df[col]-df[col].min())/(df[col].max() - df[col].min())\n",
    "        #df[col] = (df[col]-df[col].mean())\n",
    "        df[col] = df[col].fillna(0)\n",
    "        \n",
    "    for j in range(len(df)-n_days-1):\n",
    "        means = pd.DataFrame(df.iloc[j:j+n_days, 2:len(example.columns)].mean())\n",
    "        forest_data = pd.concat([forest_data, means.transpose()], ignore_index=True)\n",
    "        forest_data.iloc[-1, 0] = df['time'].iloc[j+n_days+1]\n",
    "        forest_data.iloc[-1, 1] = df['weekday'].iloc[j+n_days+1]\n",
    "        forest_data.iloc[-1, -6] = df['sleep'].iloc[j+n_days+1]\n",
    "        forest_data.iloc[-1, -5] = df['mood'].iloc[j+n_days-1]\n",
    "        forest_data.iloc[-1, -4] = df['mood'].iloc[j+n_days]\n",
    "        forest_data.iloc[-1, -2] = df['mood'].iloc[j+n_days+1]\n",
    "\n",
    "\n",
    "# delete columns with too many nan or 0 values\n",
    "for col in forest_data.columns:\n",
    "    if (sum(forest_data[col] == 0)/len(forest_data[col])) > 0.5:\n",
    "        forest_data = forest_data.drop(col, axis = 1)\n",
    "\n",
    "forest_data['target_bw'] = forest_data['mood_target'] - forest_data['mood_yesterday']\n",
    "forest_data['1day_mood_change'] = forest_data['mood_yesterday'] - forest_data['mood_2days']"
   ]
  },
  {
   "cell_type": "code",
   "execution_count": 6,
   "metadata": {},
   "outputs": [
    {
     "data": {
      "text/plain": [
       "<Axes: >"
      ]
     },
     "execution_count": 6,
     "metadata": {},
     "output_type": "execute_result"
    },
    {
     "data": {
      "image/png": "[encoded data removed]",
      "text/plain": [
       "<Figure size 640x480 with 1 Axes>"
      ]
     },
     "metadata": {},
     "output_type": "display_data"
    }
   ],
   "source": [
    "forest_data['sleep'].hist()"
   ]
  },
  {
   "cell_type": "code",
   "execution_count": 7,
   "metadata": {},
   "outputs": [],
   "source": [
    "# labels = ['vl', 'l', 'm', 'h', 'vh']\n",
    "# # build classes\n",
    "# for i, col in enumerate(forest_data.columns[2:len(vars)]):\n",
    "#     forest_data[col+'class'] = pd.cut(forest_data[col], 5, labels=labels)"
   ]
  },
  {
   "cell_type": "code",
   "execution_count": 8,
   "metadata": {
    "pycharm": {
     "name": "#%%\n"
    }
   },
   "outputs": [
    {
     "data": {
      "text/html": [
       "<div>\n",
       "<style scoped>\n",
       "    .dataframe tbody tr th:only-of-type {\n",
       "        vertical-align: middle;\n",
       "    }\n",
       "\n",
       "    .dataframe tbody tr th {\n",
       "        vertical-align: top;\n",
       "    }\n",
       "\n",
       "    .dataframe thead th {\n",
       "        text-align: right;\n",
       "    }\n",
       "</style>\n",
       "<table border=\"1\" class=\"dataframe\">\n",
       "  <thead>\n",
       "    <tr style=\"text-align: right;\">\n",
       "      <th></th>\n",
       "      <th>time</th>\n",
       "      <th>weekday</th>\n",
       "      <th>mood</th>\n",
       "      <th>circumplex.arousal</th>\n",
       "      <th>circumplex.valence</th>\n",
       "      <th>activity</th>\n",
       "      <th>screen</th>\n",
       "      <th>call</th>\n",
       "      <th>sms</th>\n",
       "      <th>appCat.builtin</th>\n",
       "      <th>...</th>\n",
       "      <th>appCat.social</th>\n",
       "      <th>appCat.travel</th>\n",
       "      <th>appCat.utilities</th>\n",
       "      <th>sleep</th>\n",
       "      <th>sleep_before</th>\n",
       "      <th>mood_2days</th>\n",
       "      <th>mood_yesterday</th>\n",
       "      <th>1day_mood_change</th>\n",
       "      <th>mood_target</th>\n",
       "      <th>target_bw</th>\n",
       "    </tr>\n",
       "  </thead>\n",
       "  <tbody>\n",
       "    <tr>\n",
       "      <th>0</th>\n",
       "      <td>2014-03-25</td>\n",
       "      <td>1</td>\n",
       "      <td>6.483333</td>\n",
       "      <td>0.674074</td>\n",
       "      <td>0.466667</td>\n",
       "      <td>0.544040</td>\n",
       "      <td>0.258174</td>\n",
       "      <td>0.300000</td>\n",
       "      <td>0.083333</td>\n",
       "      <td>0.084434</td>\n",
       "      <td>...</td>\n",
       "      <td>0.347946</td>\n",
       "      <td>0.196692</td>\n",
       "      <td>0.154879</td>\n",
       "      <td>0.392335</td>\n",
       "      <td>0.529645</td>\n",
       "      <td>6.6</td>\n",
       "      <td>5.8</td>\n",
       "      <td>-0.8</td>\n",
       "      <td>7.0</td>\n",
       "      <td>1.2</td>\n",
       "    </tr>\n",
       "    <tr>\n",
       "      <th>1</th>\n",
       "      <td>2014-03-26</td>\n",
       "      <td>2</td>\n",
       "      <td>6.333333</td>\n",
       "      <td>0.822222</td>\n",
       "      <td>0.383333</td>\n",
       "      <td>0.496246</td>\n",
       "      <td>0.255329</td>\n",
       "      <td>0.433333</td>\n",
       "      <td>0.083333</td>\n",
       "      <td>0.045470</td>\n",
       "      <td>...</td>\n",
       "      <td>0.325006</td>\n",
       "      <td>0.094369</td>\n",
       "      <td>0.116291</td>\n",
       "      <td>0.486050</td>\n",
       "      <td>0.192946</td>\n",
       "      <td>5.8</td>\n",
       "      <td>7.0</td>\n",
       "      <td>1.2</td>\n",
       "      <td>6.4</td>\n",
       "      <td>-0.6</td>\n",
       "    </tr>\n",
       "    <tr>\n",
       "      <th>2</th>\n",
       "      <td>2014-03-27</td>\n",
       "      <td>3</td>\n",
       "      <td>6.466667</td>\n",
       "      <td>0.844444</td>\n",
       "      <td>0.383333</td>\n",
       "      <td>0.365867</td>\n",
       "      <td>0.396236</td>\n",
       "      <td>0.333333</td>\n",
       "      <td>0.083333</td>\n",
       "      <td>0.042015</td>\n",
       "      <td>...</td>\n",
       "      <td>0.403589</td>\n",
       "      <td>0.086667</td>\n",
       "      <td>0.100905</td>\n",
       "      <td>0.407603</td>\n",
       "      <td>0.327224</td>\n",
       "      <td>7.0</td>\n",
       "      <td>6.4</td>\n",
       "      <td>-0.6</td>\n",
       "      <td>7.0</td>\n",
       "      <td>0.6</td>\n",
       "    </tr>\n",
       "    <tr>\n",
       "      <th>3</th>\n",
       "      <td>2014-03-28</td>\n",
       "      <td>4</td>\n",
       "      <td>6.400000</td>\n",
       "      <td>0.785185</td>\n",
       "      <td>0.383333</td>\n",
       "      <td>0.510295</td>\n",
       "      <td>0.639396</td>\n",
       "      <td>0.333333</td>\n",
       "      <td>0.083333</td>\n",
       "      <td>0.041981</td>\n",
       "      <td>...</td>\n",
       "      <td>0.643153</td>\n",
       "      <td>0.086667</td>\n",
       "      <td>0.153793</td>\n",
       "      <td>0.354383</td>\n",
       "      <td>0.48541</td>\n",
       "      <td>6.4</td>\n",
       "      <td>7.0</td>\n",
       "      <td>0.6</td>\n",
       "      <td>6.4</td>\n",
       "      <td>-0.6</td>\n",
       "    </tr>\n",
       "    <tr>\n",
       "      <th>4</th>\n",
       "      <td>2014-03-29</td>\n",
       "      <td>5</td>\n",
       "      <td>6.800000</td>\n",
       "      <td>0.666667</td>\n",
       "      <td>0.716667</td>\n",
       "      <td>0.651682</td>\n",
       "      <td>0.780672</td>\n",
       "      <td>0.066667</td>\n",
       "      <td>0.166667</td>\n",
       "      <td>0.054592</td>\n",
       "      <td>...</td>\n",
       "      <td>0.542698</td>\n",
       "      <td>0.009768</td>\n",
       "      <td>0.149692</td>\n",
       "      <td>0.349939</td>\n",
       "      <td>0.262787</td>\n",
       "      <td>7.0</td>\n",
       "      <td>6.4</td>\n",
       "      <td>-0.6</td>\n",
       "      <td>8.0</td>\n",
       "      <td>1.6</td>\n",
       "    </tr>\n",
       "  </tbody>\n",
       "</table>\n",
       "<p>5 rows × 23 columns</p>\n",
       "</div>"
      ],
      "text/plain": [
       "         time weekday      mood  circumplex.arousal  circumplex.valence  \\\n",
       "0  2014-03-25       1  6.483333            0.674074            0.466667   \n",
       "1  2014-03-26       2  6.333333            0.822222            0.383333   \n",
       "2  2014-03-27       3  6.466667            0.844444            0.383333   \n",
       "3  2014-03-28       4  6.400000            0.785185            0.383333   \n",
       "4  2014-03-29       5  6.800000            0.666667            0.716667   \n",
       "\n",
       "   activity    screen      call       sms  appCat.builtin  ...  appCat.social  \\\n",
       "0  0.544040  0.258174  0.300000  0.083333        0.084434  ...       0.347946   \n",
       "1  0.496246  0.255329  0.433333  0.083333        0.045470  ...       0.325006   \n",
       "2  0.365867  0.396236  0.333333  0.083333        0.042015  ...       0.403589   \n",
       "3  0.510295  0.639396  0.333333  0.083333        0.041981  ...       0.643153   \n",
       "4  0.651682  0.780672  0.066667  0.166667        0.054592  ...       0.542698   \n",
       "\n",
       "   appCat.travel  appCat.utilities     sleep  sleep_before  mood_2days  \\\n",
       "0       0.196692          0.154879  0.392335      0.529645         6.6   \n",
       "1       0.094369          0.116291  0.486050      0.192946         5.8   \n",
       "2       0.086667          0.100905  0.407603      0.327224         7.0   \n",
       "3       0.086667          0.153793  0.354383       0.48541         6.4   \n",
       "4       0.009768          0.149692  0.349939      0.262787         7.0   \n",
       "\n",
       "   mood_yesterday 1day_mood_change mood_target target_bw  \n",
       "0             5.8             -0.8         7.0       1.2  \n",
       "1             7.0              1.2         6.4      -0.6  \n",
       "2             6.4             -0.6         7.0       0.6  \n",
       "3             7.0              0.6         6.4      -0.6  \n",
       "4             6.4             -0.6         8.0       1.6  \n",
       "\n",
       "[5 rows x 23 columns]"
      ]
     },
     "execution_count": 8,
     "metadata": {},
     "output_type": "execute_result"
    }
   ],
   "source": [
    "forest_data.head()"
   ]
  },
  {
   "cell_type": "code",
   "execution_count": 9,
   "metadata": {},
   "outputs": [],
   "source": [
    "# delete constant columns\n",
    "# forest_data = forest_data.loc[:, (forest_data != forest_data.iloc[0]).any()] \n",
    "# len(forest_data.columns)"
   ]
  },
  {
   "cell_type": "code",
   "execution_count": 10,
   "metadata": {},
   "outputs": [],
   "source": [
    "wood = ['weekday', 'mood',\n",
    "       'activity', 'screen', 'call', 'sleep_before', 'mood_yesterday']\n",
    "\n",
    "X = forest_data.loc[:, wood].copy()\n",
    "#X = forest_data.iloc[:,1:-2].copy()\n",
    "\n",
    "#labels = ['vl', 'l', 'ml', 'm', 'mh', 'h', 'vh']\n",
    "labels = ['vl', 'l', 'm', 'h', 'vh']\n",
    "#labels = ['l', 'm', 'h']\n",
    "#labels = ['three', 'four', 'five', 'six', 'seven', 'eight', 'nine']\n",
    "# y = pd.cut(forest_data['mood_target'], 5, labels=labels)\n",
    "# y = y.to_numpy()\n",
    "y = forest_data.loc[:, 'mood_target'].copy()"
   ]
  },
  {
   "cell_type": "code",
   "execution_count": 11,
   "metadata": {},
   "outputs": [
    {
     "data": {
      "text/plain": [
       "(array([  3.,  10.,  12.,  28., 103., 240., 325., 223., 101.,  16.]),\n",
       " array([3.6 , 4.14, 4.68, 5.22, 5.76, 6.3 , 6.84, 7.38, 7.92, 8.46, 9.  ]),\n",
       " <BarContainer object of 10 artists>)"
      ]
     },
     "execution_count": 11,
     "metadata": {},
     "output_type": "execute_result"
    },
    {
     "data": {
      "image/png": "[encoded data removed]",
      "text/plain": [
       "<Figure size 640x480 with 1 Axes>"
      ]
     },
     "metadata": {},
     "output_type": "display_data"
    }
   ],
   "source": [
    "plt.hist(y)"
   ]
  },
  {
   "cell_type": "code",
   "execution_count": 12,
   "metadata": {},
   "outputs": [
    {
     "data": {
      "text/html": [
       "<div>\n",
       "<style scoped>\n",
       "    .dataframe tbody tr th:only-of-type {\n",
       "        vertical-align: middle;\n",
       "    }\n",
       "\n",
       "    .dataframe tbody tr th {\n",
       "        vertical-align: top;\n",
       "    }\n",
       "\n",
       "    .dataframe thead th {\n",
       "        text-align: right;\n",
       "    }\n",
       "</style>\n",
       "<table border=\"1\" class=\"dataframe\">\n",
       "  <thead>\n",
       "    <tr style=\"text-align: right;\">\n",
       "      <th></th>\n",
       "      <th>weekday</th>\n",
       "      <th>mood</th>\n",
       "      <th>activity</th>\n",
       "      <th>screen</th>\n",
       "      <th>call</th>\n",
       "      <th>sleep_before</th>\n",
       "      <th>mood_yesterday</th>\n",
       "    </tr>\n",
       "  </thead>\n",
       "  <tbody>\n",
       "    <tr>\n",
       "      <th>0</th>\n",
       "      <td>1</td>\n",
       "      <td>6.483333</td>\n",
       "      <td>0.544040</td>\n",
       "      <td>0.258174</td>\n",
       "      <td>0.300000</td>\n",
       "      <td>0.529645</td>\n",
       "      <td>5.8</td>\n",
       "    </tr>\n",
       "    <tr>\n",
       "      <th>1</th>\n",
       "      <td>2</td>\n",
       "      <td>6.333333</td>\n",
       "      <td>0.496246</td>\n",
       "      <td>0.255329</td>\n",
       "      <td>0.433333</td>\n",
       "      <td>0.192946</td>\n",
       "      <td>7.0</td>\n",
       "    </tr>\n",
       "    <tr>\n",
       "      <th>2</th>\n",
       "      <td>3</td>\n",
       "      <td>6.466667</td>\n",
       "      <td>0.365867</td>\n",
       "      <td>0.396236</td>\n",
       "      <td>0.333333</td>\n",
       "      <td>0.327224</td>\n",
       "      <td>6.4</td>\n",
       "    </tr>\n",
       "    <tr>\n",
       "      <th>3</th>\n",
       "      <td>4</td>\n",
       "      <td>6.400000</td>\n",
       "      <td>0.510295</td>\n",
       "      <td>0.639396</td>\n",
       "      <td>0.333333</td>\n",
       "      <td>0.48541</td>\n",
       "      <td>7.0</td>\n",
       "    </tr>\n",
       "    <tr>\n",
       "      <th>4</th>\n",
       "      <td>5</td>\n",
       "      <td>6.800000</td>\n",
       "      <td>0.651682</td>\n",
       "      <td>0.780672</td>\n",
       "      <td>0.066667</td>\n",
       "      <td>0.262787</td>\n",
       "      <td>6.4</td>\n",
       "    </tr>\n",
       "  </tbody>\n",
       "</table>\n",
       "</div>"
      ],
      "text/plain": [
       "  weekday      mood  activity    screen      call sleep_before mood_yesterday\n",
       "0       1  6.483333  0.544040  0.258174  0.300000     0.529645            5.8\n",
       "1       2  6.333333  0.496246  0.255329  0.433333     0.192946            7.0\n",
       "2       3  6.466667  0.365867  0.396236  0.333333     0.327224            6.4\n",
       "3       4  6.400000  0.510295  0.639396  0.333333      0.48541            7.0\n",
       "4       5  6.800000  0.651682  0.780672  0.066667     0.262787            6.4"
      ]
     },
     "execution_count": 12,
     "metadata": {},
     "output_type": "execute_result"
    }
   ],
   "source": [
    "X.head()"
   ]
  },
  {
   "cell_type": "code",
   "execution_count": 13,
   "metadata": {},
   "outputs": [],
   "source": [
    "X_train, X_test, y_train, y_test = train_test_split(X, y, test_size=0.2)"
   ]
  },
  {
   "cell_type": "code",
   "execution_count": 14,
   "metadata": {},
   "outputs": [
    {
     "data": {
      "text/html": [
       "<style>#sk-container-id-1 {color: black;background-color: white;}#sk-container-id-1 pre{padding: 0;}#sk-container-id-1 div.sk-toggleable {background-color: white;}#sk-container-id-1 label.sk-toggleable__label {cursor: pointer;display: block;width: 100%;margin-bottom: 0;padding: 0.3em;box-sizing: border-box;text-align: center;}#sk-container-id-1 label.sk-toggleable__label-arrow:before {content: \"▸\";float: left;margin-right: 0.25em;color: #696969;}#sk-container-id-1 label.sk-toggleable__label-arrow:hover:before {color: black;}#sk-container-id-1 div.sk-estimator:hover label.sk-toggleable__label-arrow:before {color: black;}#sk-container-id-1 div.sk-toggleable__content {max-height: 0;max-width: 0;overflow: hidden;text-align: left;background-color: #f0f8ff;}#sk-container-id-1 div.sk-toggleable__content pre {margin: 0.2em;color: black;border-radius: 0.25em;background-color: #f0f8ff;}#sk-container-id-1 input.sk-toggleable__control:checked~div.sk-toggleable__content {max-height: 200px;max-width: 100%;overflow: auto;}#sk-container-id-1 input.sk-toggleable__control:checked~label.sk-toggleable__label-arrow:before {content: \"▾\";}#sk-container-id-1 div.sk-estimator input.sk-toggleable__control:checked~label.sk-toggleable__label {background-color: #d4ebff;}#sk-container-id-1 div.sk-label input.sk-toggleable__control:checked~label.sk-toggleable__label {background-color: #d4ebff;}#sk-container-id-1 input.sk-hidden--visually {border: 0;clip: rect(1px 1px 1px 1px);clip: rect(1px, 1px, 1px, 1px);height: 1px;margin: -1px;overflow: hidden;padding: 0;position: absolute;width: 1px;}#sk-container-id-1 div.sk-estimator {font-family: monospace;background-color: #f0f8ff;border: 1px dotted black;border-radius: 0.25em;box-sizing: border-box;margin-bottom: 0.5em;}#sk-container-id-1 div.sk-estimator:hover {background-color: #d4ebff;}#sk-container-id-1 div.sk-parallel-item::after {content: \"\";width: 100%;border-bottom: 1px solid gray;flex-grow: 1;}#sk-container-id-1 div.sk-label:hover label.sk-toggleable__label {background-color: #d4ebff;}#sk-container-id-1 div.sk-serial::before {content: \"\";position: absolute;border-left: 1px solid gray;box-sizing: border-box;top: 0;bottom: 0;left: 50%;z-index: 0;}#sk-container-id-1 div.sk-serial {display: flex;flex-direction: column;align-items: center;background-color: white;padding-right: 0.2em;padding-left: 0.2em;position: relative;}#sk-container-id-1 div.sk-item {position: relative;z-index: 1;}#sk-container-id-1 div.sk-parallel {display: flex;align-items: stretch;justify-content: center;background-color: white;position: relative;}#sk-container-id-1 div.sk-item::before, #sk-container-id-1 div.sk-parallel-item::before {content: \"\";position: absolute;border-left: 1px solid gray;box-sizing: border-box;top: 0;bottom: 0;left: 50%;z-index: -1;}#sk-container-id-1 div.sk-parallel-item {display: flex;flex-direction: column;z-index: 1;position: relative;background-color: white;}#sk-container-id-1 div.sk-parallel-item:first-child::after {align-self: flex-end;width: 50%;}#sk-container-id-1 div.sk-parallel-item:last-child::after {align-self: flex-start;width: 50%;}#sk-container-id-1 div.sk-parallel-item:only-child::after {width: 0;}#sk-container-id-1 div.sk-dashed-wrapped {border: 1px dashed gray;margin: 0 0.4em 0.5em 0.4em;box-sizing: border-box;padding-bottom: 0.4em;background-color: white;}#sk-container-id-1 div.sk-label label {font-family: monospace;font-weight: bold;display: inline-block;line-height: 1.2em;}#sk-container-id-1 div.sk-label-container {text-align: center;}#sk-container-id-1 div.sk-container {/* jupyter's `normalize.less` sets `[hidden] { display: none; }` but bootstrap.min.css set `[hidden] { display: none !important; }` so we also need the `!important` here to be able to override the default hidden behavior on the sphinx rendered scikit-learn.org. See: https://github.com/scikit-learn/scikit-learn/issues/21755 */display: inline-block !important;position: relative;}#sk-container-id-1 div.sk-text-repr-fallback {display: none;}</style><div id=\"sk-container-id-1\" class=\"sk-top-container\"><div class=\"sk-text-repr-fallback\"><pre>RandomizedSearchCV(estimator=RandomForestRegressor(n_jobs=-1), n_iter=100,\n",
       "                   param_distributions={&#x27;max_depth&#x27;: &lt;scipy.stats._distn_infrastructure.rv_discrete_frozen object at 0x15c0fb4d0&gt;,\n",
       "                                        &#x27;n_estimators&#x27;: &lt;scipy.stats._distn_infrastructure.rv_discrete_frozen object at 0x15c271010&gt;})</pre><b>In a Jupyter environment, please rerun this cell to show the HTML representation or trust the notebook. <br />On GitHub, the HTML representation is unable to render, please try loading this page with nbviewer.org.</b></div><div class=\"sk-container\" hidden><div class=\"sk-item sk-dashed-wrapped\"><div class=\"sk-label-container\"><div class=\"sk-label sk-toggleable\"><input class=\"sk-toggleable__control sk-hidden--visually\" id=\"sk-estimator-id-1\" type=\"checkbox\" ><label for=\"sk-estimator-id-1\" class=\"sk-toggleable__label sk-toggleable__label-arrow\">RandomizedSearchCV</label><div class=\"sk-toggleable__content\"><pre>RandomizedSearchCV(estimator=RandomForestRegressor(n_jobs=-1), n_iter=100,\n",
       "                   param_distributions={&#x27;max_depth&#x27;: &lt;scipy.stats._distn_infrastructure.rv_discrete_frozen object at 0x15c0fb4d0&gt;,\n",
       "                                        &#x27;n_estimators&#x27;: &lt;scipy.stats._distn_infrastructure.rv_discrete_frozen object at 0x15c271010&gt;})</pre></div></div></div><div class=\"sk-parallel\"><div class=\"sk-parallel-item\"><div class=\"sk-item\"><div class=\"sk-label-container\"><div class=\"sk-label sk-toggleable\"><input class=\"sk-toggleable__control sk-hidden--visually\" id=\"sk-estimator-id-2\" type=\"checkbox\" ><label for=\"sk-estimator-id-2\" class=\"sk-toggleable__label sk-toggleable__label-arrow\">estimator: RandomForestRegressor</label><div class=\"sk-toggleable__content\"><pre>RandomForestRegressor(n_jobs=-1)</pre></div></div></div><div class=\"sk-serial\"><div class=\"sk-item\"><div class=\"sk-estimator sk-toggleable\"><input class=\"sk-toggleable__control sk-hidden--visually\" id=\"sk-estimator-id-3\" type=\"checkbox\" ><label for=\"sk-estimator-id-3\" class=\"sk-toggleable__label sk-toggleable__label-arrow\">RandomForestRegressor</label><div class=\"sk-toggleable__content\"><pre>RandomForestRegressor(n_jobs=-1)</pre></div></div></div></div></div></div></div></div></div></div>"
      ],
      "text/plain": [
       "RandomizedSearchCV(estimator=RandomForestRegressor(n_jobs=-1), n_iter=100,\n",
       "                   param_distributions={'max_depth': <scipy.stats._distn_infrastructure.rv_discrete_frozen object at 0x15c0fb4d0>,\n",
       "                                        'n_estimators': <scipy.stats._distn_infrastructure.rv_discrete_frozen object at 0x15c271010>})"
      ]
     },
     "execution_count": 14,
     "metadata": {},
     "output_type": "execute_result"
    }
   ],
   "source": [
    "# Hyperparameter tuning\n",
    "param_dist = {'n_estimators': randint(10,100),\n",
    "              'max_depth': randint(1,15)}\n",
    "\n",
    "# Create a random forest classifier\n",
    "rf = RandomForestRegressor(n_jobs = -1)\n",
    "\n",
    "# Use random search to find the best hyperparameters\n",
    "rand_search = RandomizedSearchCV(rf, \n",
    "                                 param_distributions = param_dist, \n",
    "                                 n_iter=100)\n",
    "\n",
    "# Fit the random search object to the data\n",
    "rand_search.fit(X_train, y_train)"
   ]
  },
  {
   "cell_type": "code",
   "execution_count": 15,
   "metadata": {},
   "outputs": [
    {
     "name": "stdout",
     "output_type": "stream",
     "text": [
      "Best hyperparameters: {'max_depth': 5, 'n_estimators': 99}\n"
     ]
    }
   ],
   "source": [
    "best_rf = rand_search.best_estimator_\n",
    "print('Best hyperparameters:',  rand_search.best_params_)"
   ]
  },
  {
   "cell_type": "code",
   "execution_count": 16,
   "metadata": {},
   "outputs": [],
   "source": [
    "rf = RandomForestRegressor(max_depth = 5, n_estimators = 50, n_jobs = -1)#, criterion='absolute_error')\n",
    "#rf = best_rf"
   ]
  },
  {
   "cell_type": "code",
   "execution_count": 17,
   "metadata": {},
   "outputs": [],
   "source": [
    "rf = rf.fit(X_train, y_train)"
   ]
  },
  {
   "cell_type": "code",
   "execution_count": 18,
   "metadata": {},
   "outputs": [],
   "source": [
    "y_pred = rf.predict(X_test)\n",
    "y_train_pred = rf.predict(X_train)"
   ]
  },
  {
   "cell_type": "code",
   "execution_count": 19,
   "metadata": {},
   "outputs": [
    {
     "name": "stdout",
     "output_type": "stream",
     "text": [
      "0.4515462985474266\n",
      "0.27721572166437497\n"
     ]
    }
   ],
   "source": [
    "from sklearn.metrics import mean_squared_error\n",
    "MSE_test = mean_squared_error(y_test,y_pred)\n",
    "MSE_train = mean_squared_error(y_train,y_train_pred)\n",
    "print(MSE_test)\n",
    "print(MSE_train)"
   ]
  },
  {
   "cell_type": "code",
   "execution_count": 20,
   "metadata": {},
   "outputs": [
    {
     "data": {
      "image/png": "[encoded data removed]",
      "text/plain": [
       "<Figure size 640x480 with 1 Axes>"
      ]
     },
     "metadata": {},
     "output_type": "display_data"
    }
   ],
   "source": [
    "feature_importances = pd.DataFrame(rf.feature_importances_,\n",
    "                                   index = X_train.columns,\n",
    "                                   columns=['importance']).sort_values('importance',ascending=False)\n",
    "\n",
    "fig = plt.figure()\n",
    "plt.barh(feature_importances.index,feature_importances.importance)\n",
    "\n",
    "plt.show()\n",
    "#fig.savefig('rf_importance.pdf')"
   ]
  },
  {
   "cell_type": "code",
   "execution_count": 21,
   "metadata": {
    "pycharm": {
     "name": "#%%\n"
    }
   },
   "outputs": [
    {
     "data": {
      "text/plain": [
       "[<matplotlib.lines.Line2D at 0x15c775b50>]"
      ]
     },
     "execution_count": 21,
     "metadata": {},
     "output_type": "execute_result"
    },
    {
     "data": {
      "image/png": "[encoded data removed]",
      "text/plain": [
       "<Figure size 640x480 with 1 Axes>"
      ]
     },
     "metadata": {},
     "output_type": "display_data"
    }
   ],
   "source": [
    "plt.plot(y_test.to_numpy())\n",
    "plt.plot(y_pred)"
   ]
  },
  {
   "cell_type": "code",
   "execution_count": null,
   "metadata": {},
   "outputs": [],
   "source": []
  }
 ],
 "metadata": {
  "kernelspec": {
   "display_name": "DMT",
   "language": "python",
   "name": "python3"
  },
  "language_info": {
   "codemirror_mode": {
    "name": "ipython",
    "version": 3
   },
   "file_extension": ".py",
   "mimetype": "text/x-python",
   "name": "python",
   "nbconvert_exporter": "python",
   "pygments_lexer": "ipython3",
   "version": "3.11.2"
  },
  "orig_nbformat": 4
 },
 "nbformat": 4,
 "nbformat_minor": 2
}
