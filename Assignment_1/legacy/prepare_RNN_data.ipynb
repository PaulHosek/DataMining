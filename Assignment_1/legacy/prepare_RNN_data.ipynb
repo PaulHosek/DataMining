{
 "cells": [
  {
   "cell_type": "code",
   "execution_count": 1,
   "metadata": {
    "pycharm": {
     "name": "#%%\n"
    }
   },
   "outputs": [
    {
     "name": "stderr",
     "output_type": "stream",
     "text": [
      "2023-04-10 15:24:34.276983: I tensorflow/core/platform/cpu_feature_guard.cc:193] This TensorFlow binary is optimized with oneAPI Deep Neural Network Library (oneDNN) to use the following CPU instructions in performance-critical operations:  SSE4.1 SSE4.2 AVX AVX2 FMA\n",
      "To enable them in other operations, rebuild TensorFlow with the appropriate compiler flags.\n"
     ]
    }
   ],
   "source": [
    "import pandas as pd\n",
    "import numpy as np\n",
    "import matplotlib.pyplot as plt\n",
    "import seaborn as sns\n",
    "import tensorflow as tf\n",
    "from tensorflow.keras.utils import timeseries_dataset_from_array"
   ]
  },
  {
   "cell_type": "markdown",
   "metadata": {
    "pycharm": {
     "name": "#%% md\n"
    }
   },
   "source": [
    "# TODO\n",
    "- linear interpolation\n",
    "- normalise for each person separately\n",
    "- join into a single csv and save"
   ]
  },
  {
   "cell_type": "markdown",
   "metadata": {
    "pycharm": {
     "name": "#%% md\n"
    }
   },
   "source": [
    "Split data"
   ]
  },
  {
   "cell_type": "code",
   "execution_count": 2,
   "metadata": {
    "pycharm": {
     "name": "#%%\n"
    }
   },
   "outputs": [],
   "source": [
    "pd.set_option(\"display.max_row\", 40)"
   ]
  },
  {
   "cell_type": "code",
   "execution_count": 3,
   "metadata": {
    "pycharm": {
     "name": "#%%\n"
    }
   },
   "outputs": [],
   "source": [
    "data_list = []\n",
    "for i in range(0, 27):\n",
    "    df = pd.read_csv(f\"data/aggregated_individual_data_interpolation/interpolation/{i}_interpolated.csv\", index_col=0)\n",
    "    df[\"subject_id\"] = i+1\n",
    "    data_list.append(df)\n",
    "\n",
    "# Concatenate the data into a single dataset\n",
    "data = pd.concat(data_list)\n",
    "data.drop([\"circumplex.arousal_std\",\"circumplex.valence_std\",\"mood_std\",\"activity_std\"], inplace=True,axis=1)"
   ]
  },
  {
   "cell_type": "markdown",
   "metadata": {
    "pycharm": {
     "name": "#%% md\n"
    }
   },
   "source": [
    "Single person: Split (70,20,10)"
   ]
  },
  {
   "cell_type": "markdown",
   "metadata": {
    "pycharm": {
     "name": "#%% md\n"
    }
   },
   "source": [
    "-------"
   ]
  },
  {
   "cell_type": "markdown",
   "metadata": {
    "pycharm": {
     "name": "#%%\n"
    }
   },
   "source": [
    "Normalise using z-score normalisation. Avoid data leakage by normalising only with the training set."
   ]
  },
  {
   "cell_type": "markdown",
   "metadata": {
    "pycharm": {
     "name": "#%% md\n"
    }
   },
   "source": [
    "----------------"
   ]
  },
  {
   "cell_type": "code",
   "execution_count": 4,
   "metadata": {
    "pycharm": {
     "name": "#%%\n"
    }
   },
   "outputs": [],
   "source": [
    "df = data\n",
    "df.reset_index(inplace=True,drop=True)\n",
    "df = df.astype({'subject_id': 'float64','days': 'float64','weekday': 'float64'})"
   ]
  },
  {
   "cell_type": "code",
   "execution_count": 5,
   "metadata": {
    "pycharm": {
     "name": "#%%\n"
    }
   },
   "outputs": [],
   "source": [
    "date_time = pd.to_datetime(df.pop('date'))\n",
    "df['days'] = date_time\n",
    "# date_time\n",
    "# df.drop(\"date\", inplace=True,axis=1)"
   ]
  },
  {
   "cell_type": "code",
   "execution_count": 6,
   "metadata": {
    "pycharm": {
     "name": "#%%\n"
    }
   },
   "outputs": [],
   "source": [
    "LABELS = ['mood']\n",
    "REGRESSORS = ['weekday', 'circumplex.arousal', 'circumplex.valence',\n",
    "       'activity', 'screen', 'call', 'sms', 'appCat.builtin',\n",
    "       'appCat.communication', 'appCat.entertainment', 'appCat.finance',\n",
    "       'appCat.game', 'appCat.office', 'appCat.other', 'appCat.social',\n",
    "       'appCat.travel', 'appCat.unknown', 'appCat.utilities', 'appCat.weather']\n",
    "\n",
    "DATE = 'days' \n",
    "IN_STEPS = 24\n",
    "OUT_STEPS = 24  \n",
    "GROUPBY = ['subject_id']\n",
    "BATCH_SIZE = 8"
   ]
  },
  {
   "cell_type": "markdown",
   "metadata": {
    "pycharm": {
     "name": "#%% md\n"
    }
   },
   "source": [
    "Do split"
   ]
  },
  {
   "cell_type": "code",
   "execution_count": 7,
   "metadata": {
    "pycharm": {
     "name": "#%%\n"
    }
   },
   "outputs": [
    {
     "data": {
      "text/plain": "((804, 22), (234, 22), (130, 22))"
     },
     "execution_count": 7,
     "metadata": {},
     "output_type": "execute_result"
    }
   ],
   "source": [
    "n = len(df)\n",
    "train_series = df.groupby(GROUPBY, as_index=False, group_keys=False).apply(lambda x: x.iloc[:int(len(x) * 0.7)]).reset_index(drop=True)\n",
    "val_series = df.groupby(GROUPBY, as_index=False, group_keys=False).apply(lambda x: x.iloc[int(len(x) * 0.7):int(len(x) * 0.9)]).reset_index(drop=True)\n",
    "test_series = df.groupby(GROUPBY, as_index=False, group_keys=False).apply(lambda x: x.iloc[int(len(x) * 0.9):]).reset_index(drop=True)\n",
    "train_series.shape, val_series.shape, test_series.shape"
   ]
  },
  {
   "cell_type": "code",
   "execution_count": 8,
   "metadata": {
    "pycharm": {
     "name": "#%%\n"
    }
   },
   "outputs": [],
   "source": [
    "class MultiSeriesWindowsGenerator():\n",
    "  def __init__(self, input_width, label_width, shift, batch_size, label_columns=[], GROUPBY=None, regressor_columns=[], static_columns=[]):\n",
    "\n",
    "    self.batch_size = batch_size\n",
    "\n",
    "    # Work out the label column indices.\n",
    "    self.label_columns = label_columns\n",
    "    if len(label_columns) != 0:\n",
    "      self.label_columns_indices = {name: i for i, name in\n",
    "                                    enumerate(label_columns)}\n",
    "    \n",
    "    self.GROUPBY = GROUPBY \n",
    "    self.regressor_columns = regressor_columns\n",
    "    self.static_columns = static_columns\n",
    "\n",
    "    # Work out the window parameters.\n",
    "    self.input_width = input_width\n",
    "    self.label_width = label_width\n",
    "    self.shift = shift\n",
    "\n",
    "    self.total_window_size = input_width + shift\n",
    "\n",
    "    self.input_slice = slice(0, input_width)\n",
    "    self.input_indices = np.arange(self.total_window_size)[self.input_slice]\n",
    "\n",
    "    self.label_start = self.total_window_size - self.label_width\n",
    "    self.labels_slice = slice(self.label_start, None)\n",
    "    self.label_indices = np.arange(self.total_window_size)[self.labels_slice]\n",
    "\n",
    "  def __repr__(self):\n",
    "    return '\\n'.join([\n",
    "        f'Total window size: {self.total_window_size}',\n",
    "        f'Input indices: {self.input_indices}',\n",
    "        f'Label indices: {self.label_indices}',\n",
    "        f'Batch Size: {self.batch_size}',\n",
    "        f'Label column name(s): {self.label_columns}',\n",
    "        f'Additional Regressor column name(s): {self.regressor_columns}', \n",
    "        f'GROUPBY column(s): {self.GROUPBY}' \n",
    "        ])\n",
    "\n",
    "  def preprocess_dataset(self, data:pd.DataFrame):\n",
    "    try:\n",
    "      if np.vstack(data.index).shape[1] != 1:\n",
    "        data = data.reset_index() \n",
    "\n",
    "      by = self.GROUPBY + [DATE] \n",
    "      labels = self.label_columns + self.regressor_columns + self.static_columns\n",
    "      data = data.set_index(by).unstack(-1)\n",
    "      data = tf.stack([data[label] for label in labels], axis=-1)\n",
    "      \n",
    "      if data.ndim != 3:\n",
    "          data = data[None, None, tf.newaxis]\n",
    "    except Exception as e:\n",
    "      print('Error while processing dataset', e)\n",
    "    return data\n",
    "\n",
    "  def update_datasets(self, train_df:pd.DataFrame, val_df:pd.DataFrame, test_df:pd.DataFrame, norm:bool=False):\n",
    "    # Store the raw data.\n",
    "    self.train_df = self.preprocess_dataset(train_df)\n",
    "    self.val_df = self.preprocess_dataset(val_df)\n",
    "    self.test_df = self.preprocess_dataset(test_df)\n",
    "\n",
    "    if norm:\n",
    "      train_mean = tf.reduce_mean(self.train_df, axis=1, keepdims=True)\n",
    "      train_std = tf.math.reduce_std(self.train_df, axis=1, keepdims=True)\n",
    "\n",
    "      self.train_df = (self.train_df - train_mean) / train_std\n",
    "      self.val_df = (self.val_df - train_mean) / train_std\n",
    "      self.test_df = (self.test_df - train_mean) / train_std\n",
    "\n",
    "      self.train_mean = train_mean \n",
    "      self.train_std = train_std \n",
    "      self.norm = norm \n",
    "\n",
    "    labels = self.label_columns + self.regressor_columns + self.static_columns\n",
    "    self.column_indices = {name: i for i, name in enumerate(labels)}\n"
   ]
  },
  {
   "cell_type": "code",
   "execution_count": 9,
   "metadata": {
    "pycharm": {
     "name": "#%%\n"
    }
   },
   "outputs": [
    {
     "name": "stderr",
     "output_type": "stream",
     "text": [
      "2023-04-10 15:24:41.942829: I tensorflow/core/platform/cpu_feature_guard.cc:193] This TensorFlow binary is optimized with oneAPI Deep Neural Network Library (oneDNN) to use the following CPU instructions in performance-critical operations:  SSE4.1 SSE4.2 AVX AVX2 FMA\n",
      "To enable them in other operations, rebuild TensorFlow with the appropriate compiler flags.\n"
     ]
    }
   ],
   "source": [
    "w1 = MultiSeriesWindowsGenerator(input_width=IN_STEPS, label_width=OUT_STEPS, shift=OUT_STEPS, batch_size=BATCH_SIZE, label_columns=LABELS, GROUPBY=GROUPBY, regressor_columns=REGRESSORS)\n",
    "w1.update_datasets(train_series, val_series, test_series, norm=True)"
   ]
  },
  {
   "cell_type": "code",
   "execution_count": 10,
   "metadata": {
    "pycharm": {
     "name": "#%%\n"
    }
   },
   "outputs": [
    {
     "data": {
      "text/plain": "Total window size: 48\nInput indices: [ 0  1  2  3  4  5  6  7  8  9 10 11 12 13 14 15 16 17 18 19 20 21 22 23]\nLabel indices: [24 25 26 27 28 29 30 31 32 33 34 35 36 37 38 39 40 41 42 43 44 45 46 47]\nBatch Size: 8\nLabel column name(s): ['mood']\nAdditional Regressor column name(s): ['weekday', 'circumplex.arousal', 'circumplex.valence', 'activity', 'screen', 'call', 'sms', 'appCat.builtin', 'appCat.communication', 'appCat.entertainment', 'appCat.finance', 'appCat.game', 'appCat.office', 'appCat.other', 'appCat.social', 'appCat.travel', 'appCat.unknown', 'appCat.utilities', 'appCat.weather']\nGROUPBY column(s): ['subject_id']"
     },
     "execution_count": 10,
     "metadata": {},
     "output_type": "execute_result"
    }
   ],
   "source": [
    "w1"
   ]
  },
  {
   "cell_type": "code",
   "execution_count": 11,
   "metadata": {},
   "outputs": [],
   "source": [
    "def split_window(self, features:tf.Tensor):\n",
    "    inputs = features[:, self.input_slice, :]\n",
    "    labels = features[:, self.labels_slice, :]\n",
    "    if self.label_columns is not None: \n",
    "        labels = tf.stack(\n",
    "          [labels[:, :, self.column_indices[name]] \n",
    "          for name in self.label_columns], axis=-1)\n",
    "          \n",
    "    inputs.set_shape([None, self.input_width, None])\n",
    "    labels.set_shape([None, self.label_width, None])\n",
    "\n",
    "    return inputs, labels \n",
    "MultiSeriesWindowsGenerator.split_window = split_window"
   ]
  },
  {
   "cell_type": "markdown",
   "metadata": {},
   "source": [
    "Example "
   ]
  },
  {
   "cell_type": "code",
   "execution_count": 12,
   "metadata": {},
   "outputs": [
    {
     "data": {
      "text/plain": "                       weekday      mood  circumplex.arousal  \\\nsubject_id days                                                \n1.0        2014-03-21      4.0  6.200000                 0.2   \n           2014-03-22      5.0  6.400000                 0.6   \n           2014-03-23      6.0  6.800000                 0.2   \n           2014-03-24      0.0  6.000000                 0.8   \n           2014-03-25      1.0  6.750000                 0.5   \n...                        ...       ...                 ...   \n           2014-05-03      5.0  8.000000                -0.2   \n           2014-05-04      6.0  8.000000                -0.5   \n2.0        2014-03-16      6.0  6.333333                 0.0   \n           2014-03-17      0.0  6.750000                 0.5   \n           2014-03-18      1.0  8.200000                 0.6   \n\n                       circumplex.valence  activity        screen  call  sms  \\\nsubject_id days                                                                \n1.0        2014-03-21                 0.2  0.134050  17978.907000   6.0  0.0   \n           2014-03-22                 0.5  0.236880   6142.161000   3.0  1.0   \n           2014-03-23                 0.8  0.142741   6773.832001   0.0  0.0   \n           2014-03-24                 0.0  0.078961  15047.351001  10.0  0.0   \n           2014-03-25                 0.5  0.098374  21475.354999   0.0  1.0   \n...                                   ...       ...           ...   ...  ...   \n           2014-05-03                 1.0  0.071741   8186.036001   0.0  1.0   \n           2014-05-04                 1.0  0.136192   5889.194999   0.0  0.0   \n2.0        2014-03-16                 0.0       NaN   4902.627000   4.0  1.0   \n           2014-03-17                 0.5  0.168068  10159.769001   4.0  0.0   \n           2014-03-18                 0.8  0.219484   4512.471001  15.0  1.0   \n\n                       appCat.builtin  appCat.communication  \\\nsubject_id days                                               \n1.0        2014-03-21        3139.218              6280.890   \n           2014-03-22         731.429              4962.918   \n           2014-03-23        1286.246              5237.319   \n           2014-03-24         866.956              9270.629   \n           2014-03-25        1032.768             10276.751   \n...                               ...                   ...   \n           2014-05-03         753.257              4539.776   \n           2014-05-04        1758.438              3381.689   \n2.0        2014-03-16        2526.424              3151.829   \n           2014-03-17        1229.347              4518.116   \n           2014-03-18        2604.521              3933.081   \n\n                       appCat.entertainment  appCat.finance  appCat.game  \\\nsubject_id days                                                            \n1.0        2014-03-21              1007.456          49.544          0.0   \n           2014-03-22                93.324          21.076          0.0   \n           2014-03-23                94.346          43.403          0.0   \n           2014-03-24               976.971          34.106          0.0   \n           2014-03-25                68.206          43.054          0.0   \n...                                     ...             ...          ...   \n           2014-05-03              2761.950         296.313          0.0   \n           2014-05-04               928.406           0.000          0.0   \n2.0        2014-03-16                88.392           0.000          0.0   \n           2014-03-17              2511.178           0.000          0.0   \n           2014-03-18                88.943           0.000          0.0   \n\n                       appCat.office  appCat.other  appCat.social  \\\nsubject_id days                                                     \n1.0        2014-03-21        172.206       239.751       4508.500   \n           2014-03-22          0.000        98.143        439.632   \n           2014-03-23          0.000        72.823        900.839   \n           2014-03-24          3.010        66.558       3223.626   \n           2014-03-25          0.000       178.819       1919.471   \n...                              ...           ...            ...   \n           2014-05-03          0.000        40.569        205.602   \n           2014-05-04          0.000        35.525        494.677   \n2.0        2014-03-16          0.000       408.106        181.591   \n           2014-03-17          0.000       103.699        103.028   \n           2014-03-18          0.000        88.722        212.364   \n\n                       appCat.travel  appCat.unknown  appCat.utilities  \\\nsubject_id days                                                          \n1.0        2014-03-21        915.445           0.000           598.754   \n           2014-03-22         37.305           0.000           117.621   \n           2014-03-23          0.000           0.000            30.086   \n           2014-03-24        419.805           0.000           178.732   \n           2014-03-25          0.000         235.223           222.893   \n...                              ...             ...               ...   \n           2014-05-03        143.631          30.102           125.605   \n           2014-05-04          0.000           0.000             0.000   \n2.0        2014-03-16          0.000           0.000             0.000   \n           2014-03-17          0.000           0.000             0.000   \n           2014-03-18          0.000           0.000             0.000   \n\n                       appCat.weather  \nsubject_id days                        \n1.0        2014-03-21           0.000  \n           2014-03-22           0.000  \n           2014-03-23          30.386  \n           2014-03-24           0.000  \n           2014-03-25           0.000  \n...                               ...  \n           2014-05-03           0.000  \n           2014-05-04           0.000  \n2.0        2014-03-16           0.000  \n           2014-03-17           0.000  \n           2014-03-18           0.000  \n\n[48 rows x 20 columns]",
      "text/html": "<div>\n<style scoped>\n    .dataframe tbody tr th:only-of-type {\n        vertical-align: middle;\n    }\n\n    .dataframe tbody tr th {\n        vertical-align: top;\n    }\n\n    .dataframe thead th {\n        text-align: right;\n    }\n</style>\n<table border=\"1\" class=\"dataframe\">\n  <thead>\n    <tr style=\"text-align: right;\">\n      <th></th>\n      <th></th>\n      <th>weekday</th>\n      <th>mood</th>\n      <th>circumplex.arousal</th>\n      <th>circumplex.valence</th>\n      <th>activity</th>\n      <th>screen</th>\n      <th>call</th>\n      <th>sms</th>\n      <th>appCat.builtin</th>\n      <th>appCat.communication</th>\n      <th>appCat.entertainment</th>\n      <th>appCat.finance</th>\n      <th>appCat.game</th>\n      <th>appCat.office</th>\n      <th>appCat.other</th>\n      <th>appCat.social</th>\n      <th>appCat.travel</th>\n      <th>appCat.unknown</th>\n      <th>appCat.utilities</th>\n      <th>appCat.weather</th>\n    </tr>\n    <tr>\n      <th>subject_id</th>\n      <th>days</th>\n      <th></th>\n      <th></th>\n      <th></th>\n      <th></th>\n      <th></th>\n      <th></th>\n      <th></th>\n      <th></th>\n      <th></th>\n      <th></th>\n      <th></th>\n      <th></th>\n      <th></th>\n      <th></th>\n      <th></th>\n      <th></th>\n      <th></th>\n      <th></th>\n      <th></th>\n      <th></th>\n    </tr>\n  </thead>\n  <tbody>\n    <tr>\n      <th rowspan=\"8\" valign=\"top\">1.0</th>\n      <th>2014-03-21</th>\n      <td>4.0</td>\n      <td>6.200000</td>\n      <td>0.2</td>\n      <td>0.2</td>\n      <td>0.134050</td>\n      <td>17978.907000</td>\n      <td>6.0</td>\n      <td>0.0</td>\n      <td>3139.218</td>\n      <td>6280.890</td>\n      <td>1007.456</td>\n      <td>49.544</td>\n      <td>0.0</td>\n      <td>172.206</td>\n      <td>239.751</td>\n      <td>4508.500</td>\n      <td>915.445</td>\n      <td>0.000</td>\n      <td>598.754</td>\n      <td>0.000</td>\n    </tr>\n    <tr>\n      <th>2014-03-22</th>\n      <td>5.0</td>\n      <td>6.400000</td>\n      <td>0.6</td>\n      <td>0.5</td>\n      <td>0.236880</td>\n      <td>6142.161000</td>\n      <td>3.0</td>\n      <td>1.0</td>\n      <td>731.429</td>\n      <td>4962.918</td>\n      <td>93.324</td>\n      <td>21.076</td>\n      <td>0.0</td>\n      <td>0.000</td>\n      <td>98.143</td>\n      <td>439.632</td>\n      <td>37.305</td>\n      <td>0.000</td>\n      <td>117.621</td>\n      <td>0.000</td>\n    </tr>\n    <tr>\n      <th>2014-03-23</th>\n      <td>6.0</td>\n      <td>6.800000</td>\n      <td>0.2</td>\n      <td>0.8</td>\n      <td>0.142741</td>\n      <td>6773.832001</td>\n      <td>0.0</td>\n      <td>0.0</td>\n      <td>1286.246</td>\n      <td>5237.319</td>\n      <td>94.346</td>\n      <td>43.403</td>\n      <td>0.0</td>\n      <td>0.000</td>\n      <td>72.823</td>\n      <td>900.839</td>\n      <td>0.000</td>\n      <td>0.000</td>\n      <td>30.086</td>\n      <td>30.386</td>\n    </tr>\n    <tr>\n      <th>2014-03-24</th>\n      <td>0.0</td>\n      <td>6.000000</td>\n      <td>0.8</td>\n      <td>0.0</td>\n      <td>0.078961</td>\n      <td>15047.351001</td>\n      <td>10.0</td>\n      <td>0.0</td>\n      <td>866.956</td>\n      <td>9270.629</td>\n      <td>976.971</td>\n      <td>34.106</td>\n      <td>0.0</td>\n      <td>3.010</td>\n      <td>66.558</td>\n      <td>3223.626</td>\n      <td>419.805</td>\n      <td>0.000</td>\n      <td>178.732</td>\n      <td>0.000</td>\n    </tr>\n    <tr>\n      <th>2014-03-25</th>\n      <td>1.0</td>\n      <td>6.750000</td>\n      <td>0.5</td>\n      <td>0.5</td>\n      <td>0.098374</td>\n      <td>21475.354999</td>\n      <td>0.0</td>\n      <td>1.0</td>\n      <td>1032.768</td>\n      <td>10276.751</td>\n      <td>68.206</td>\n      <td>43.054</td>\n      <td>0.0</td>\n      <td>0.000</td>\n      <td>178.819</td>\n      <td>1919.471</td>\n      <td>0.000</td>\n      <td>235.223</td>\n      <td>222.893</td>\n      <td>0.000</td>\n    </tr>\n    <tr>\n      <th>...</th>\n      <td>...</td>\n      <td>...</td>\n      <td>...</td>\n      <td>...</td>\n      <td>...</td>\n      <td>...</td>\n      <td>...</td>\n      <td>...</td>\n      <td>...</td>\n      <td>...</td>\n      <td>...</td>\n      <td>...</td>\n      <td>...</td>\n      <td>...</td>\n      <td>...</td>\n      <td>...</td>\n      <td>...</td>\n      <td>...</td>\n      <td>...</td>\n      <td>...</td>\n    </tr>\n    <tr>\n      <th>2014-05-03</th>\n      <td>5.0</td>\n      <td>8.000000</td>\n      <td>-0.2</td>\n      <td>1.0</td>\n      <td>0.071741</td>\n      <td>8186.036001</td>\n      <td>0.0</td>\n      <td>1.0</td>\n      <td>753.257</td>\n      <td>4539.776</td>\n      <td>2761.950</td>\n      <td>296.313</td>\n      <td>0.0</td>\n      <td>0.000</td>\n      <td>40.569</td>\n      <td>205.602</td>\n      <td>143.631</td>\n      <td>30.102</td>\n      <td>125.605</td>\n      <td>0.000</td>\n    </tr>\n    <tr>\n      <th>2014-05-04</th>\n      <td>6.0</td>\n      <td>8.000000</td>\n      <td>-0.5</td>\n      <td>1.0</td>\n      <td>0.136192</td>\n      <td>5889.194999</td>\n      <td>0.0</td>\n      <td>0.0</td>\n      <td>1758.438</td>\n      <td>3381.689</td>\n      <td>928.406</td>\n      <td>0.000</td>\n      <td>0.0</td>\n      <td>0.000</td>\n      <td>35.525</td>\n      <td>494.677</td>\n      <td>0.000</td>\n      <td>0.000</td>\n      <td>0.000</td>\n      <td>0.000</td>\n    </tr>\n    <tr>\n      <th rowspan=\"3\" valign=\"top\">2.0</th>\n      <th>2014-03-16</th>\n      <td>6.0</td>\n      <td>6.333333</td>\n      <td>0.0</td>\n      <td>0.0</td>\n      <td>NaN</td>\n      <td>4902.627000</td>\n      <td>4.0</td>\n      <td>1.0</td>\n      <td>2526.424</td>\n      <td>3151.829</td>\n      <td>88.392</td>\n      <td>0.000</td>\n      <td>0.0</td>\n      <td>0.000</td>\n      <td>408.106</td>\n      <td>181.591</td>\n      <td>0.000</td>\n      <td>0.000</td>\n      <td>0.000</td>\n      <td>0.000</td>\n    </tr>\n    <tr>\n      <th>2014-03-17</th>\n      <td>0.0</td>\n      <td>6.750000</td>\n      <td>0.5</td>\n      <td>0.5</td>\n      <td>0.168068</td>\n      <td>10159.769001</td>\n      <td>4.0</td>\n      <td>0.0</td>\n      <td>1229.347</td>\n      <td>4518.116</td>\n      <td>2511.178</td>\n      <td>0.000</td>\n      <td>0.0</td>\n      <td>0.000</td>\n      <td>103.699</td>\n      <td>103.028</td>\n      <td>0.000</td>\n      <td>0.000</td>\n      <td>0.000</td>\n      <td>0.000</td>\n    </tr>\n    <tr>\n      <th>2014-03-18</th>\n      <td>1.0</td>\n      <td>8.200000</td>\n      <td>0.6</td>\n      <td>0.8</td>\n      <td>0.219484</td>\n      <td>4512.471001</td>\n      <td>15.0</td>\n      <td>1.0</td>\n      <td>2604.521</td>\n      <td>3933.081</td>\n      <td>88.943</td>\n      <td>0.000</td>\n      <td>0.0</td>\n      <td>0.000</td>\n      <td>88.722</td>\n      <td>212.364</td>\n      <td>0.000</td>\n      <td>0.000</td>\n      <td>0.000</td>\n      <td>0.000</td>\n    </tr>\n  </tbody>\n</table>\n<p>48 rows × 20 columns</p>\n</div>"
     },
     "execution_count": 12,
     "metadata": {},
     "output_type": "execute_result"
    }
   ],
   "source": [
    "df.set_index(GROUPBY + [DATE])[:w1.total_window_size]"
   ]
  },
  {
   "cell_type": "code",
   "execution_count": 13,
   "metadata": {},
   "outputs": [
    {
     "name": "stdout",
     "output_type": "stream",
     "text": [
      "All shapes are: (batch, time, features)\n",
      "Window shape: (1, 48, 20)\n",
      "Inputs shape: (1, 24, 20)\n",
      "Labels shape: (1, 24, 1)\n"
     ]
    }
   ],
   "source": [
    "example_window = tf.stack([\n",
    "    np.array(df.set_index(GROUPBY + [DATE])[:w1.total_window_size]), \n",
    "    np.array(df.set_index(GROUPBY + [DATE])[2:2+w1.total_window_size]),\n",
    "    np.array(df.set_index(GROUPBY + [DATE])[4:4+w1.total_window_size])\n",
    "])\n",
    "\n",
    "example_window = tf.stack([\n",
    "    np.array(df.set_index(GROUPBY + [DATE])[:w1.total_window_size])\n",
    "])\n",
    "\n",
    "example_inputs, example_labels = w1.split_window(example_window)\n",
    "\n",
    "print('All shapes are: (batch, time, features)')\n",
    "print(f'Window shape: {example_window.shape}')\n",
    "print(f'Inputs shape: {example_inputs.shape}')\n",
    "print(f'Labels shape: {example_labels.shape}')"
   ]
  },
  {
   "cell_type": "code",
   "execution_count": 14,
   "metadata": {},
   "outputs": [],
   "source": [
    "w1.example = (example_inputs, example_labels)\n",
    "\n",
    "def plot(self, model=None, plot_col=LABELS[0], max_subplots=3):\n",
    "  inputs, labels = self.example\n",
    "  plt.figure(figsize=(12, 8))\n",
    "  plot_col_index = self.column_indices[plot_col]\n",
    "  max_n = min(max_subplots, len(inputs))\n",
    "  \n",
    "  for n in range(max_n):\n",
    "    plt.subplot(max_n, 1, n+1)\n",
    "    plt.ylabel(f'{plot_col} {\"[normed]\" if self.norm else \"\"}')\n",
    "    plt.plot(self.input_indices, inputs[n, :, plot_col_index],\n",
    "             label='Inputs', marker='.', zorder=-10)\n",
    "\n",
    "    if self.label_columns:\n",
    "      label_col_index = self.label_columns_indices.get(plot_col, None)\n",
    "    else:\n",
    "      label_col_index = plot_col_index\n",
    "\n",
    "    if label_col_index is None:\n",
    "      continue\n",
    "\n",
    "    plt.scatter(self.label_indices, labels[n, :, label_col_index],\n",
    "                edgecolors='k', label='Labels', c='#2ca02c', s=64)\n",
    "    if model is not None:\n",
    "      predictions = model(inputs)\n",
    "      plt.scatter(self.label_indices, predictions[n, :, label_col_index],\n",
    "                  marker='X', edgecolors='k', label='Predictions',\n",
    "                  c='#ff7f0e', s=64)\n",
    "\n",
    "    if n == 0:\n",
    "      plt.legend()\n",
    "\n",
    "  plt.xlabel('Time [days]')\n",
    "\n",
    "MultiSeriesWindowsGenerator.plot = plot"
   ]
  },
  {
   "cell_type": "code",
   "execution_count": 15,
   "metadata": {},
   "outputs": [
    {
     "data": {
      "text/plain": "<Figure size 1200x800 with 1 Axes>",
      "image/png": "[encoded data removed]"
     },
     "metadata": {},
     "output_type": "display_data"
    }
   ],
   "source": [
    "w1.plot()"
   ]
  },
  {
   "cell_type": "code",
   "execution_count": 15,
   "metadata": {},
   "outputs": [],
   "source": []
  },
  {
   "cell_type": "code",
   "execution_count": 15,
   "metadata": {},
   "outputs": [],
   "source": []
  },
  {
   "cell_type": "code",
   "execution_count": 15,
   "metadata": {},
   "outputs": [],
   "source": []
  },
  {
   "cell_type": "code",
   "execution_count": 15,
   "metadata": {},
   "outputs": [],
   "source": []
  },
  {
   "cell_type": "code",
   "execution_count": 16,
   "metadata": {
    "pycharm": {
     "name": "#%%\n"
    }
   },
   "outputs": [],
   "source": [
    "def make_cohort(self, data:np.array) -> tf.data.Dataset:\n",
    "    data = np.array(data, dtype=np.float32) \n",
    "    ds = timeseries_dataset_from_array(\n",
    "        data=data, \n",
    "        targets=None, \n",
    "        sequence_length=self.total_window_size, \n",
    "        sequence_stride=1, \n",
    "        shuffle=True, \n",
    "        batch_size=self.batch_size\n",
    "    )\n",
    "    ds = ds.map(self.split_window) \n",
    "    return ds \n",
    "\n",
    "MultiSeriesWindowsGenerator.make_cohort = make_cohort"
   ]
  },
  {
   "cell_type": "code",
   "execution_count": 17,
   "metadata": {
    "pycharm": {
     "name": "#%%\n"
    }
   },
   "outputs": [],
   "source": [
    "\"\"\"\n",
    "Reference code from https://stackoverflow.com/questions/49994496/mixing-multiple-tf-data-dataset\n",
    "\"\"\"\n",
    "\n",
    "def stack_windows(*windows):\n",
    "    features = tf.concat([window[0] for window in windows], 0) \n",
    "    labels = tf.concat([window[1] for window in windows], 0) \n",
    "    return (features, labels)\n",
    "    \n",
    "def make_dataset(self, data:tf.Tensor) -> tf.data.Dataset:    \n",
    "    # num_cohorts = min(10, len(cluster_cohorts))\n",
    "    # print(cluster, num_cohorts)\n",
    "    ds_list = tuple(self.make_cohort(data[i]) for i in range(len(data)))\n",
    "    ds = tf.data.Dataset.zip(ds_list)\n",
    "    ds = ds.map(stack_windows)\n",
    "    ds = ds.unbatch() \n",
    "    ds = ds.shuffle(10, seed=0)\n",
    "    ds = ds.batch(self.batch_size) \n",
    "    ds = ds.prefetch(1)\n",
    "    return ds \n",
    "\n",
    "MultiSeriesWindowsGenerator.make_dataset = make_dataset"
   ]
  },
  {
   "cell_type": "code",
   "execution_count": 18,
   "outputs": [
    {
     "data": {
      "text/plain": "<tf.Tensor: shape=(27, 70, 20), dtype=float64, numpy=\narray([[[nan, nan, nan, ..., nan, nan, nan],\n        [nan, nan, nan, ..., nan, nan, nan],\n        [nan, nan, nan, ..., nan, nan, nan],\n        ...,\n        [nan, nan, nan, ..., nan, nan, nan],\n        [nan, nan, nan, ..., nan, nan, nan],\n        [nan, nan, nan, ..., nan, nan, nan]],\n\n       [[nan, nan, nan, ..., nan, nan, nan],\n        [nan, nan, nan, ..., nan, nan, nan],\n        [nan, nan, nan, ..., nan, nan, nan],\n        ...,\n        [nan, nan, nan, ..., nan, nan, nan],\n        [nan, nan, nan, ..., nan, nan, nan],\n        [nan, nan, nan, ..., nan, nan, nan]],\n\n       [[nan, nan, nan, ..., nan, nan, nan],\n        [nan, nan, nan, ..., nan, nan, nan],\n        [nan, nan, nan, ..., nan, nan, nan],\n        ...,\n        [nan, nan, nan, ..., nan, nan, nan],\n        [nan, nan, nan, ..., nan, nan, nan],\n        [nan, nan, nan, ..., nan, nan, nan]],\n\n       ...,\n\n       [[nan, nan, nan, ..., nan, nan, nan],\n        [nan, nan, nan, ..., nan, nan, nan],\n        [nan, nan, nan, ..., nan, nan, nan],\n        ...,\n        [nan, nan, nan, ..., nan, nan, nan],\n        [nan, nan, nan, ..., nan, nan, nan],\n        [nan, nan, nan, ..., nan, nan, nan]],\n\n       [[nan, nan, nan, ..., nan, nan, nan],\n        [nan, nan, nan, ..., nan, nan, nan],\n        [nan, nan, nan, ..., nan, nan, nan],\n        ...,\n        [nan, nan, nan, ..., nan, nan, nan],\n        [nan, nan, nan, ..., nan, nan, nan],\n        [nan, nan, nan, ..., nan, nan, nan]],\n\n       [[nan, nan, nan, ..., nan, nan, nan],\n        [nan, nan, nan, ..., nan, nan, nan],\n        [nan, nan, nan, ..., nan, nan, nan],\n        ...,\n        [nan, nan, nan, ..., nan, nan, nan],\n        [nan, nan, nan, ..., nan, nan, nan],\n        [nan, nan, nan, ..., nan, nan, nan]]])>"
     },
     "execution_count": 18,
     "metadata": {},
     "output_type": "execute_result"
    }
   ],
   "source": [
    "w1.train_df"
   ],
   "metadata": {
    "collapsed": false,
    "pycharm": {
     "name": "#%%\n"
    }
   }
  },
  {
   "cell_type": "code",
   "execution_count": 19,
   "outputs": [
    {
     "data": {
      "text/plain": "<PrefetchDataset element_spec=(TensorSpec(shape=(None, 24, 20), dtype=tf.float32, name=None), TensorSpec(shape=(None, 24, 1), dtype=tf.float32, name=None))>"
     },
     "execution_count": 19,
     "metadata": {},
     "output_type": "execute_result"
    }
   ],
   "source": [
    "w1.make_dataset(w1.train_df)"
   ],
   "metadata": {
    "collapsed": false,
    "pycharm": {
     "name": "#%%\n"
    }
   }
  },
  {
   "cell_type": "code",
   "execution_count": 20,
   "metadata": {
    "pycharm": {
     "name": "#%%\n"
    }
   },
   "outputs": [],
   "source": [
    "w1.make_dataset(w1.train_df)"
   ]
  },
  {
   "cell_type": "code",
   "execution_count": 21,
   "metadata": {
    "pycharm": {
     "name": "#%%\n"
    }
   },
   "outputs": [
    {
     "name": "stdout",
     "output_type": "stream",
     "text": [
      "Inputs shape (batch, time, features): (8, 24, 20)\n",
      "Labels shape (batch, time, features): (8, 24, 1)\n",
      "Inputs shape (batch, time, features): (8, 24, 20)\n",
      "Labels shape (batch, time, features): (8, 24, 1)\n"
     ]
    }
   ],
   "source": [
    "@property\n",
    "def train(self) -> tf.data.Dataset:\n",
    "    return self.make_dataset(self.train_df)\n",
    "\n",
    "@property \n",
    "def val(self) -> tf.data.Dataset:\n",
    "    return self.make_dataset(self.val_df)\n",
    "\n",
    "@property \n",
    "def test(self) -> tf.data.Dataset:\n",
    "    return self.make_dataset(self.test_df)\n",
    "\n",
    "@property\n",
    "def example(self):\n",
    "    \"\"\"Get and cache an example batch of `inputs, labels` for plotting\"\"\"\n",
    "    result = getattr(self, '_example', None) \n",
    "    print('Number of train batches:', len(list(self.train.as_numpy_iterator())))\n",
    "    if result is None: \n",
    "        result = next(iter(self.train)) \n",
    "        self._example = result \n",
    "    return result \n",
    "\n",
    "MultiSeriesWindowsGenerator.train = train \n",
    "MultiSeriesWindowsGenerator.test = test \n",
    "MultiSeriesWindowsGenerator.val = val \n",
    "MultiSeriesWindowsGenerator.example = example "
   ]
  },
  {
   "cell_type": "code",
   "execution_count": 22,
   "metadata": {
    "pycharm": {
     "name": "#%%\n"
    }
   },
   "outputs": [],
   "source": [
    "for example_inputs, example_labels in w1.train.take(2):\n",
    "    print(f'Inputs shape (batch, time, features): {example_inputs.shape}')\n",
    "    print(f'Labels shape (batch, time, features): {example_labels.shape}')"
   ]
  },
  {
   "cell_type": "code",
   "execution_count": 23,
   "metadata": {
    "pycharm": {
     "name": "#%%\n"
    }
   },
   "outputs": [
    {
     "ename": "SyntaxError",
     "evalue": "expected 'else' after 'if' expression (3024283581.py, line 1)",
     "output_type": "error",
     "traceback": [
      "\u001B[0;36m  Cell \u001B[0;32mIn[23], line 1\u001B[0;36m\u001B[0m\n\u001B[0;31m    Try fitting baseline model to test if preprocessing works\u001B[0m\n\u001B[0m                                  ^\u001B[0m\n\u001B[0;31mSyntaxError\u001B[0m\u001B[0;31m:\u001B[0m expected 'else' after 'if' expression\n"
     ]
    }
   ],
   "source": [
    "def plot(self, model=None, plot_col=LABELS[0], max_subplots=10):\n",
    "  inputs, labels = self.example\n",
    "  plt.figure(figsize=(12, 8))\n",
    "  plot_col_index = self.column_indices[plot_col]\n",
    "  max_n = min(max_subplots, len(inputs))\n",
    "  \n",
    "  for n in range(max_n):\n",
    "    plt.subplot(max_n, 1, n+1)\n",
    "    plt.ylabel(f'{plot_col} {\"[normed]\" if self.norm else \"\"}')\n",
    "    plt.plot(self.input_indices, inputs[n, :, plot_col_index],\n",
    "             label='Inputs', marker='.', zorder=-10)\n",
    "\n",
    "    if self.label_columns:\n",
    "      label_col_index = self.label_columns_indices.get(plot_col, None)\n",
    "    else:\n",
    "      label_col_index = plot_col_index\n",
    "\n",
    "    if label_col_index is None:\n",
    "      continue\n",
    "\n",
    "    plt.scatter(self.label_indices, labels[n, :, label_col_index],\n",
    "                edgecolors='k', label='Labels', c='#2ca02c', s=64)\n",
    "    if model is not None:\n",
    "      predictions = model(inputs)\n",
    "      plt.scatter(self.label_indices, predictions[n, :, label_col_index],\n",
    "                  marker='X', edgecolors='k', label='Predictions',\n",
    "                  c='#ff7f0e', s=64)\n",
    "\n",
    "    if n == 0:\n",
    "      plt.legend()\n",
    "\n",
    "  plt.xlabel('Time [MS]')\n",
    "\n",
    "MultiSeriesWindowsGenerator.plot = plot"
   ]
  },
  {
   "cell_type": "markdown",
   "metadata": {
    "pycharm": {
     "name": "#%% md\n"
    }
   },
   "source": [
    "Try fitting baseline model to test if preprocessing works"
   ]
  },
  {
   "cell_type": "code",
   "execution_count": null,
   "metadata": {
    "pycharm": {
     "name": "#%%\n"
    }
   },
   "outputs": [],
   "source": [
    "w2 = MultiSeriesWindowsGenerator(input_width=6, label_width=1,\n",
    "                                 shift=1, batch_size=5, label_columns=[\"mood\"],\n",
    "                                 GROUPBY=GROUPBY, regressor_columns=REGRESSORS)\n",
    "w2.update_datasets(train_series, val_series, test_series, norm=True)\n"
   ]
  },
  {
   "cell_type": "code",
   "execution_count": null,
   "metadata": {
    "pycharm": {
     "name": "#%%\n"
    }
   },
   "outputs": [],
   "source": [
    "train_series[:w2.total_window_size].dtypes"
   ]
  },
  {
   "cell_type": "code",
   "execution_count": null,
   "metadata": {
    "pycharm": {
     "name": "#%%\n"
    }
   },
   "outputs": [],
   "source": [
    "# Stack three slices, the length of the total window.\n",
    "\n",
    "example_window = tf.stack([np.array(train_series[:w2.total_window_size]),\n",
    "                           np.array(train_series[100:100+w2.total_window_size]),\n",
    "                           np.array(train_series[200:200+w2.total_window_size])])\n",
    "\n",
    "example_inputs, example_labels = w2.split_window(example_window)\n",
    "\n",
    "print('All shapes are: (batch, time, features)')\n",
    "print(f'Window shape: {example_window.shape}')\n",
    "print(f'Inputs shape: {example_inputs.shape}')\n",
    "print(f'Labels shape: {example_labels.shape}')"
   ]
  },
  {
   "cell_type": "code",
   "execution_count": null,
   "metadata": {
    "pycharm": {
     "name": "#%%\n"
    }
   },
   "outputs": [],
   "source": [
    "class Baseline(tf.keras.Model):\n",
    "  def __init__(self, label_index=None):\n",
    "    super().__init__()\n",
    "    self.label_index = label_index\n",
    "\n",
    "  def call(self, inputs):\n",
    "    if self.label_index is None:\n",
    "      return inputs\n",
    "    result = inputs[:, :, self.label_index]\n",
    "    return result[:, :, tf.newaxis]"
   ]
  },
  {
   "cell_type": "code",
   "execution_count": null,
   "metadata": {
    "pycharm": {
     "name": "#%%\n"
    }
   },
   "outputs": [],
   "source": [
    "w1.column_indices[LABELS[0]]"
   ]
  },
  {
   "cell_type": "code",
   "execution_count": null,
   "metadata": {
    "pycharm": {
     "name": "#%%\n"
    }
   },
   "outputs": [],
   "source": [
    "baseline = Baseline(label_index=w1.column_indices[LABELS[0]])\n",
    "\n",
    "baseline.compile(loss=tf.keras.losses.MeanSquaredError(),\n",
    "                 metrics=[tf.keras.metrics.MeanAbsoluteError()])\n",
    "\n",
    "val_performance = {}\n",
    "performance = {}\n",
    "val_performance['Baseline'] = baseline.evaluate(w1.val)\n",
    "performance['Baseline'] = baseline.evaluate(w1.test, verbose=0)"
   ]
  },
  {
   "cell_type": "code",
   "execution_count": null,
   "metadata": {
    "pycharm": {
     "name": "#%%\n"
    }
   },
   "outputs": [],
   "source": [
    "w1.plot(baseline)"
   ]
  },
  {
   "cell_type": "markdown",
   "metadata": {},
   "source": [
    "Single person: Split (70,20,10)"
   ]
  },
  {
   "cell_type": "markdown",
   "metadata": {},
   "source": [
    "-------"
   ]
  },
  {
   "cell_type": "code",
   "execution_count": null,
   "metadata": {},
   "outputs": [],
   "source": [
    "# subj_1 = data[data[\"subject_id\"]==1]\n",
    "# subj_1"
   ]
  },
  {
   "cell_type": "code",
   "execution_count": null,
   "metadata": {
    "pycharm": {
     "name": "#%%\n"
    }
   },
   "outputs": [],
   "source": [
    "# column_indices = {name: i for i, name in enumerate(subj_1.columns)}\n",
    "\n",
    "# n = len(subj_1)\n",
    "# train_df = subj_1[0:int(n*0.7)]\n",
    "# val_df = subj_1[int(n*0.7):int(n*0.9)]\n",
    "# test_df = subj_1[int(n*0.9):]"
   ]
  },
  {
   "cell_type": "code",
   "execution_count": null,
   "metadata": {},
   "outputs": [],
   "source": [
    "# test_df"
   ]
  },
  {
   "cell_type": "markdown",
   "metadata": {
    "pycharm": {
     "name": "#%%\n"
    }
   },
   "source": [
    "Normalise using z-score normalisation. Avoid data leakage by normalising only with the training set."
   ]
  },
  {
   "cell_type": "code",
   "execution_count": null,
   "metadata": {},
   "outputs": [],
   "source": [
    "# train_mean = train_df.mean(numeric_only=True)\n",
    "# train_std = train_df.std()\n",
    "\n",
    "# train_df = (train_df - train_mean) / train_std\n",
    "# val_df = (val_df - train_mean) / train_std\n",
    "# test_df = (test_df - train_mean) / train_std"
   ]
  },
  {
   "cell_type": "code",
   "execution_count": null,
   "metadata": {},
   "outputs": [],
   "source": [
    "# train_df[\"subject_id\"] = 1\n",
    "# val_df[\"subject_id\"] = 1\n",
    "# test_df[\"subject_id\"] = 1\n",
    "# test_df.columns"
   ]
  },
  {
   "cell_type": "markdown",
   "metadata": {},
   "source": [
    "----------------"
   ]
  },
  {
   "cell_type": "code",
   "execution_count": null,
   "metadata": {},
   "outputs": [],
   "source": [
    "df = data\n",
    "df.reset_index(inplace=True,drop=True)\n",
    "df"
   ]
  },
  {
   "cell_type": "code",
   "execution_count": null,
   "metadata": {},
   "outputs": [],
   "source": [
    "# date_time = pd.to_datetime(df.pop('date'))\n",
    "# # df['date'] = df[\"days\"]\n"
   ]
  },
  {
   "cell_type": "code",
   "execution_count": null,
   "metadata": {},
   "outputs": [],
   "source": [
    "LABELS = ['mood']\n",
    "REGRESSORS = ['weekday', 'circumplex.arousal', 'circumplex.valence',\n",
    "       'activity', 'screen', 'call', 'sms', 'appCat.builtin',\n",
    "       'appCat.communication', 'appCat.entertainment', 'appCat.finance',\n",
    "       'appCat.game', 'appCat.office', 'appCat.other', 'appCat.social',\n",
    "       'appCat.travel', 'appCat.unknown', 'appCat.utilities', 'appCat.weather']\n",
    "\n",
    "DATE = 'days' \n",
    "IN_STEPS = 24\n",
    "OUT_STEPS = 24  \n",
    "GROUPBY = ['subject_id']\n",
    "BATCH_SIZE = 8"
   ]
  },
  {
   "cell_type": "markdown",
   "metadata": {},
   "source": [
    "Do split"
   ]
  },
  {
   "cell_type": "code",
   "execution_count": null,
   "metadata": {},
   "outputs": [],
   "source": [
    "n = len(df)\n",
    "train_series = df.groupby(GROUPBY, as_index=False, group_keys=False).apply(lambda x: x.iloc[:int(len(x) * 0.7)]).reset_index(drop=True)\n",
    "val_series = df.groupby(GROUPBY, as_index=False, group_keys=False).apply(lambda x: x.iloc[int(len(x) * 0.7):int(len(x) * 0.9)]).reset_index(drop=True)\n",
    "test_series = df.groupby(GROUPBY, as_index=False, group_keys=False).apply(lambda x: x.iloc[int(len(x) * 0.9):]).reset_index(drop=True)\n",
    "train_series.shape, val_series.shape, test_series.shape"
   ]
  },
  {
   "cell_type": "code",
   "execution_count": null,
   "metadata": {},
   "outputs": [],
   "source": [
    "class MultiSeriesWindowsGenerator():\n",
    "  def __init__(self, input_width, label_width, shift, batch_size, label_columns=[], GROUPBY=None, regressor_columns=[], static_columns=[]):\n",
    "\n",
    "    self.batch_size = batch_size\n",
    "\n",
    "    # Work out the label column indices.\n",
    "    self.label_columns = label_columns\n",
    "    if len(label_columns) != 0:\n",
    "      self.label_columns_indices = {name: i for i, name in\n",
    "                                    enumerate(label_columns)}\n",
    "    \n",
    "    self.GROUPBY = GROUPBY \n",
    "    self.regressor_columns = regressor_columns\n",
    "    self.static_columns = static_columns\n",
    "\n",
    "    # Work out the window parameters.\n",
    "    self.input_width = input_width\n",
    "    self.label_width = label_width\n",
    "    self.shift = shift\n",
    "\n",
    "    self.total_window_size = input_width + shift\n",
    "\n",
    "    self.input_slice = slice(0, input_width)\n",
    "    self.input_indices = np.arange(self.total_window_size)[self.input_slice]\n",
    "\n",
    "    self.label_start = self.total_window_size - self.label_width\n",
    "    self.labels_slice = slice(self.label_start, None)\n",
    "    self.label_indices = np.arange(self.total_window_size)[self.labels_slice]\n",
    "\n",
    "  def __repr__(self):\n",
    "    return '\\n'.join([\n",
    "        f'Total window size: {self.total_window_size}',\n",
    "        f'Input indices: {self.input_indices}',\n",
    "        f'Label indices: {self.label_indices}',\n",
    "        f'Batch Size: {self.batch_size}',\n",
    "        f'Label column name(s): {self.label_columns}',\n",
    "        f'Additional Regressor column name(s): {self.regressor_columns}', \n",
    "        f'GROUPBY column(s): {self.GROUPBY}' \n",
    "        ])\n",
    "\n",
    "  def preprocess_dataset(self, data:pd.DataFrame):\n",
    "    try:\n",
    "      if np.vstack(data.index).shape[1] != 1:\n",
    "        data = data.reset_index() \n",
    "\n",
    "      by = self.GROUPBY + [DATE] \n",
    "      labels = self.label_columns + self.regressor_columns + self.static_columns\n",
    "      data = data.set_index(by).unstack(-1)\n",
    "      data = tf.stack([data[label] for label in labels], axis=-1)\n",
    "      \n",
    "      if data.ndim != 3:\n",
    "          data = data[None, None, tf.newaxis]\n",
    "    except Exception as e:\n",
    "      print('Error while processing dataset', e)\n",
    "    return data\n",
    "\n",
    "  def update_datasets(self, train_df:pd.DataFrame, val_df:pd.DataFrame, test_df:pd.DataFrame, norm:bool=False):\n",
    "    # Store the raw data.\n",
    "    self.train_df = self.preprocess_dataset(train_df)\n",
    "    self.val_df = self.preprocess_dataset(val_df)\n",
    "    self.test_df = self.preprocess_dataset(test_df)\n",
    "\n",
    "    if norm:\n",
    "      train_mean = tf.reduce_mean(self.train_df, axis=1, keepdims=True)\n",
    "      train_std = tf.math.reduce_std(self.train_df, axis=1, keepdims=True)\n",
    "\n",
    "      self.train_df = (self.train_df - train_mean) / train_std\n",
    "      self.val_df = (self.val_df - train_mean) / train_std\n",
    "      self.test_df = (self.test_df - train_mean) / train_std\n",
    "\n",
    "      self.train_mean = train_mean \n",
    "      self.train_std = train_std \n",
    "      self.norm = norm \n",
    "\n",
    "    labels = self.label_columns + self.regressor_columns + self.static_columns\n",
    "    self.column_indices = {name: i for i, name in enumerate(labels)}\n"
   ]
  },
  {
   "cell_type": "code",
   "execution_count": null,
   "metadata": {},
   "outputs": [],
   "source": [
    "w1 = MultiSeriesWindowsGenerator(input_width=IN_STEPS, label_width=OUT_STEPS, shift=OUT_STEPS, batch_size=BATCH_SIZE, label_columns=LABELS, GROUPBY=GROUPBY, regressor_columns=REGRESSORS)\n",
    "w1.update_datasets(train_series, val_series, test_series, norm=True)"
   ]
  },
  {
   "cell_type": "code",
   "execution_count": null,
   "metadata": {},
   "outputs": [],
   "source": [
    "w1"
   ]
  },
  {
   "cell_type": "code",
   "execution_count": null,
   "metadata": {},
   "outputs": [],
   "source": [
    "def make_cohort(self, data:np.array) -> tf.data.Dataset:\n",
    "    data = np.array(data, dtype=np.float32) \n",
    "    ds = timeseries_dataset_from_array(\n",
    "        data=data, \n",
    "        targets=None, \n",
    "        sequence_length=self.total_window_size, \n",
    "        sequence_stride=1, \n",
    "        shuffle=True, \n",
    "        batch_size=self.batch_size\n",
    "    )\n",
    "    ds = ds.map(self.split_window) \n",
    "    return ds \n",
    "\n",
    "MultiSeriesWindowsGenerator.make_cohort = make_cohort"
   ]
  },
  {
   "cell_type": "code",
   "execution_count": null,
   "metadata": {},
   "outputs": [],
   "source": [
    "\"\"\"\n",
    "Reference code from https://stackoverflow.com/questions/49994496/mixing-multiple-tf-data-dataset\n",
    "\"\"\"\n",
    "\n",
    "def stack_windows(*windows):\n",
    "    features = tf.concat([window[0] for window in windows], 0) \n",
    "    labels = tf.concat([window[1] for window in windows], 0) \n",
    "    return (features, labels)\n",
    "    \n",
    "def make_dataset(self, data:tf.Tensor) -> tf.data.Dataset:    \n",
    "    # num_cohorts = min(10, len(cluster_cohorts))\n",
    "    # print(cluster, num_cohorts)\n",
    "    ds_list = tuple(self.make_cohort(data[i]) for i in range(len(data)))\n",
    "    ds = tf.data.Dataset.zip(ds_list)\n",
    "    ds = ds.map(stack_windows)\n",
    "    ds = ds.unbatch() \n",
    "    ds = ds.shuffle(10, seed=0)\n",
    "    ds = ds.batch(self.batch_size) \n",
    "    ds = ds.prefetch(1)\n",
    "    return ds \n",
    "\n",
    "MultiSeriesWindowsGenerator.make_dataset = make_dataset"
   ]
  },
  {
   "cell_type": "code",
   "execution_count": null,
   "metadata": {},
   "outputs": [],
   "source": [
    "w1.make_dataset(w1.train_df)"
   ]
  },
  {
   "cell_type": "code",
   "execution_count": null,
   "metadata": {},
   "outputs": [],
   "source": [
    "@property\n",
    "def train(self) -> tf.data.Dataset:\n",
    "    return self.make_dataset(self.train_df)\n",
    "\n",
    "@property \n",
    "def val(self) -> tf.data.Dataset:\n",
    "    return self.make_dataset(self.val_df)\n",
    "\n",
    "@property \n",
    "def test(self) -> tf.data.Dataset:\n",
    "    return self.make_dataset(self.test_df)\n",
    "\n",
    "@property\n",
    "def example(self):\n",
    "    \"\"\"Get and cache an example batch of `inputs, labels` for plotting\"\"\"\n",
    "    result = getattr(self, '_example', None) \n",
    "    print('Number of train batches:', len(list(self.train.as_numpy_iterator())))\n",
    "    if result is None: \n",
    "        result = next(iter(self.train)) \n",
    "        self._example = result \n",
    "    return result \n",
    "\n",
    "MultiSeriesWindowsGenerator.train = train \n",
    "MultiSeriesWindowsGenerator.test = test \n",
    "MultiSeriesWindowsGenerator.val = val \n",
    "MultiSeriesWindowsGenerator.example = example "
   ]
  },
  {
   "cell_type": "code",
   "execution_count": null,
   "metadata": {},
   "outputs": [],
   "source": [
    "for example_inputs, example_labels in w1.train.take(2):\n",
    "    print(f'Inputs shape (batch, time, features): {example_inputs.shape}')\n",
    "    print(f'Labels shape (batch, time, features): {example_labels.shape}')"
   ]
  },
  {
   "cell_type": "code",
   "execution_count": null,
   "metadata": {},
   "outputs": [],
   "source": [
    "def plot(self, model=None, plot_col=LABELS[0], max_subplots=10):\n",
    "  inputs, labels = self.example\n",
    "  plt.figure(figsize=(12, 8))\n",
    "  plot_col_index = self.column_indices[plot_col]\n",
    "  max_n = min(max_subplots, len(inputs))\n",
    "  \n",
    "  for n in range(max_n):\n",
    "    plt.subplot(max_n, 1, n+1)\n",
    "    plt.ylabel(f'{plot_col} {\"[normed]\" if self.norm else \"\"}')\n",
    "    plt.plot(self.input_indices, inputs[n, :, plot_col_index],\n",
    "             label='Inputs', marker='.', zorder=-10)\n",
    "\n",
    "    if self.label_columns:\n",
    "      label_col_index = self.label_columns_indices.get(plot_col, None)\n",
    "    else:\n",
    "      label_col_index = plot_col_index\n",
    "\n",
    "    if label_col_index is None:\n",
    "      continue\n",
    "\n",
    "    plt.scatter(self.label_indices, labels[n, :, label_col_index],\n",
    "                edgecolors='k', label='Labels', c='#2ca02c', s=64)\n",
    "    if model is not None:\n",
    "      predictions = model(inputs)\n",
    "      plt.scatter(self.label_indices, predictions[n, :, label_col_index],\n",
    "                  marker='X', edgecolors='k', label='Predictions',\n",
    "                  c='#ff7f0e', s=64)\n",
    "\n",
    "    if n == 0:\n",
    "      plt.legend()\n",
    "\n",
    "  plt.xlabel('Time [MS]')\n",
    "\n",
    "MultiSeriesWindowsGenerator.plot = plot"
   ]
  },
  {
   "cell_type": "markdown",
   "metadata": {},
   "source": [
    "Try fitting baseline model to test if preprocessing works"
   ]
  },
  {
   "cell_type": "code",
   "execution_count": null,
   "metadata": {},
   "outputs": [],
   "source": [
    "w2 = MultiSeriesWindowsGenerator(input_width=6, label_width=1,\n",
    "                                 shift=1, batch_size=5, label_columns=[\"mood\"],\n",
    "                                 GROUPBY=GROUPBY, regressor_columns=REGRESSORS)\n",
    "w2.update_datasets(train_series, val_series, test_series, norm=True)\n"
   ]
  },
  {
   "cell_type": "code",
   "execution_count": null,
   "metadata": {},
   "outputs": [],
   "source": []
  },
  {
   "cell_type": "code",
   "execution_count": null,
   "metadata": {},
   "outputs": [],
   "source": [
    "train_series.drop(\"date\", axis=1, inplace=True)"
   ]
  },
  {
   "cell_type": "code",
   "execution_count": null,
   "metadata": {},
   "outputs": [],
   "source": [
    "# Stack three slices, the length of the total window.\n",
    "\n",
    "example_window = tf.stack([np.array(train_series[:w2.total_window_size]),\n",
    "                           np.array(train_series[100:100+w2.total_window_size]),\n",
    "                           np.array(train_series[200:200+w2.total_window_size])])\n",
    "\n",
    "example_inputs, example_labels = w2.split_window(example_window)\n",
    "\n",
    "print('All shapes are: (batch, time, features)')\n",
    "print(f'Window shape: {example_window.shape}')\n",
    "print(f'Inputs shape: {example_inputs.shape}')\n",
    "print(f'Labels shape: {example_labels.shape}')"
   ]
  },
  {
   "cell_type": "code",
   "execution_count": null,
   "metadata": {},
   "outputs": [],
   "source": [
    "class Baseline(tf.keras.Model):\n",
    "  def __init__(self, label_index=None):\n",
    "    super().__init__()\n",
    "    self.label_index = label_index\n",
    "\n",
    "  def call(self, inputs):\n",
    "    if self.label_index is None:\n",
    "      return inputs\n",
    "    result = inputs[:, :, self.label_index]\n",
    "    return result[:, :, tf.newaxis]"
   ]
  },
  {
   "cell_type": "code",
   "execution_count": null,
   "metadata": {},
   "outputs": [],
   "source": [
    "w1.column_indices[LABELS[0]]"
   ]
  },
  {
   "cell_type": "code",
   "execution_count": null,
   "metadata": {},
   "outputs": [],
   "source": [
    "w1"
   ]
  },
  {
   "cell_type": "code",
   "execution_count": null,
   "metadata": {},
   "outputs": [],
   "source": [
    "baseline = Baseline(label_index=w1.column_indices[LABELS[0]])\n",
    "\n",
    "baseline.compile(loss=tf.keras.losses.MeanSquaredError(),\n",
    "                 metrics=[tf.keras.metrics.MeanAbsoluteError()])\n",
    "\n",
    "val_performance = {}\n",
    "performance = {}\n",
    "val_performance['Baseline'] = baseline.evaluate(w1.val)\n",
    "performance['Baseline'] = baseline.evaluate(w1.test, verbose=0)"
   ]
  },
  {
   "cell_type": "code",
   "execution_count": null,
   "metadata": {},
   "outputs": [],
   "source": [
    "w1.plot(baseline)"
   ]
  },
  {
   "cell_type": "code",
   "execution_count": null,
   "metadata": {},
   "outputs": [],
   "source": []
  }
 ],
 "metadata": {
  "kernelspec": {
   "display_name": "Python 3 (ipykernel)",
   "language": "python",
   "name": "python3"
  },
  "language_info": {
   "codemirror_mode": {
    "name": "ipython",
    "version": 3
   },
   "file_extension": ".py",
   "mimetype": "text/x-python",
   "name": "python",
   "nbconvert_exporter": "python",
   "pygments_lexer": "ipython3",
   "version": "3.10.10"
  }
 },
 "nbformat": 4,
 "nbformat_minor": 1
}