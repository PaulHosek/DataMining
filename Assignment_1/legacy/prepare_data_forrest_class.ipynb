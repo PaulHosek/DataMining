{
 "cells": [
  {
   "cell_type": "code",
   "execution_count": 1,
   "metadata": {},
   "outputs": [],
   "source": [
    "import os\n",
    "import pandas as pd\n",
    "import numpy as np\n",
    "from tqdm import tqdm\n",
    "import matplotlib.pyplot as plt\n",
    "import dask\n",
    "from scipy.stats import randint\n",
    "from sklearn.ensemble import RandomForestClassifier\n",
    "from sklearn.ensemble import RandomForestRegressor\n",
    "from sklearn.model_selection import RandomizedSearchCV, train_test_split\n",
    "from sklearn.metrics import accuracy_score, confusion_matrix, precision_score, recall_score, ConfusionMatrixDisplay\n",
    "from sklearn.metrics import classification_report\n"
   ]
  },
  {
   "cell_type": "code",
   "execution_count": 2,
   "metadata": {},
   "outputs": [],
   "source": [
    "# read daily data\n",
    "processed_dfs = []\n",
    "for filename in sorted(os.listdir('data/aggregated_individual_data/')):\n",
    "    with open('data/aggregated_individual_data/'+filename, 'r') as f: # open in readonly mode\n",
    "        df = pd.read_csv(f)\n",
    "        df.drop('Unnamed: 0', inplace=True, axis = 1)\n",
    "        processed_dfs.append(df)"
   ]
  },
  {
   "cell_type": "code",
   "execution_count": 3,
   "metadata": {},
   "outputs": [
    {
     "data": {
      "text/html": [
       "<div>\n",
       "<style scoped>\n",
       "    .dataframe tbody tr th:only-of-type {\n",
       "        vertical-align: middle;\n",
       "    }\n",
       "\n",
       "    .dataframe tbody tr th {\n",
       "        vertical-align: top;\n",
       "    }\n",
       "\n",
       "    .dataframe thead th {\n",
       "        text-align: right;\n",
       "    }\n",
       "</style>\n",
       "<table border=\"1\" class=\"dataframe\">\n",
       "  <thead>\n",
       "    <tr style=\"text-align: right;\">\n",
       "      <th></th>\n",
       "      <th>time</th>\n",
       "      <th>weekday</th>\n",
       "      <th>mood</th>\n",
       "      <th>circumplex.arousal</th>\n",
       "      <th>circumplex.valence</th>\n",
       "      <th>activity</th>\n",
       "      <th>screen</th>\n",
       "      <th>call</th>\n",
       "      <th>sms</th>\n",
       "      <th>appCat.builtin</th>\n",
       "      <th>...</th>\n",
       "      <th>appCat.finance</th>\n",
       "      <th>appCat.game</th>\n",
       "      <th>appCat.office</th>\n",
       "      <th>appCat.other</th>\n",
       "      <th>appCat.social</th>\n",
       "      <th>appCat.travel</th>\n",
       "      <th>appCat.unknown</th>\n",
       "      <th>appCat.utilities</th>\n",
       "      <th>appCat.weather</th>\n",
       "      <th>sleep</th>\n",
       "    </tr>\n",
       "  </thead>\n",
       "  <tbody>\n",
       "    <tr>\n",
       "      <th>0</th>\n",
       "      <td>2014-03-16</td>\n",
       "      <td>6</td>\n",
       "      <td>6.5</td>\n",
       "      <td>-0.5</td>\n",
       "      <td>0.50</td>\n",
       "      <td>NaN</td>\n",
       "      <td>746.315000</td>\n",
       "      <td>0.0</td>\n",
       "      <td>0.0</td>\n",
       "      <td>116.333</td>\n",
       "      <td>...</td>\n",
       "      <td>0.0</td>\n",
       "      <td>0.0</td>\n",
       "      <td>0.0</td>\n",
       "      <td>48.325</td>\n",
       "      <td>39.985</td>\n",
       "      <td>0.000</td>\n",
       "      <td>0.0</td>\n",
       "      <td>0.0</td>\n",
       "      <td>NaN</td>\n",
       "      <td>15.424525</td>\n",
       "    </tr>\n",
       "    <tr>\n",
       "      <th>1</th>\n",
       "      <td>2014-03-17</td>\n",
       "      <td>0</td>\n",
       "      <td>6.5</td>\n",
       "      <td>0.5</td>\n",
       "      <td>0.00</td>\n",
       "      <td>0.145299</td>\n",
       "      <td>8669.900001</td>\n",
       "      <td>6.0</td>\n",
       "      <td>0.0</td>\n",
       "      <td>1392.999</td>\n",
       "      <td>...</td>\n",
       "      <td>0.0</td>\n",
       "      <td>0.0</td>\n",
       "      <td>0.0</td>\n",
       "      <td>128.881</td>\n",
       "      <td>123.806</td>\n",
       "      <td>0.000</td>\n",
       "      <td>0.0</td>\n",
       "      <td>0.0</td>\n",
       "      <td>NaN</td>\n",
       "      <td>12.060846</td>\n",
       "    </tr>\n",
       "    <tr>\n",
       "      <th>2</th>\n",
       "      <td>2014-03-18</td>\n",
       "      <td>1</td>\n",
       "      <td>8.0</td>\n",
       "      <td>0.8</td>\n",
       "      <td>1.00</td>\n",
       "      <td>0.351584</td>\n",
       "      <td>6820.626001</td>\n",
       "      <td>15.0</td>\n",
       "      <td>1.0</td>\n",
       "      <td>2703.184</td>\n",
       "      <td>...</td>\n",
       "      <td>0.0</td>\n",
       "      <td>0.0</td>\n",
       "      <td>0.0</td>\n",
       "      <td>89.302</td>\n",
       "      <td>212.871</td>\n",
       "      <td>0.000</td>\n",
       "      <td>0.0</td>\n",
       "      <td>0.0</td>\n",
       "      <td>NaN</td>\n",
       "      <td>13.511535</td>\n",
       "    </tr>\n",
       "    <tr>\n",
       "      <th>3</th>\n",
       "      <td>2014-03-19</td>\n",
       "      <td>2</td>\n",
       "      <td>7.4</td>\n",
       "      <td>0.2</td>\n",
       "      <td>0.60</td>\n",
       "      <td>0.452052</td>\n",
       "      <td>7920.775000</td>\n",
       "      <td>3.0</td>\n",
       "      <td>1.0</td>\n",
       "      <td>1524.853</td>\n",
       "      <td>...</td>\n",
       "      <td>0.0</td>\n",
       "      <td>0.0</td>\n",
       "      <td>0.0</td>\n",
       "      <td>97.805</td>\n",
       "      <td>51.841</td>\n",
       "      <td>567.165</td>\n",
       "      <td>0.0</td>\n",
       "      <td>0.0</td>\n",
       "      <td>NaN</td>\n",
       "      <td>15.624280</td>\n",
       "    </tr>\n",
       "    <tr>\n",
       "      <th>4</th>\n",
       "      <td>2014-03-20</td>\n",
       "      <td>3</td>\n",
       "      <td>6.5</td>\n",
       "      <td>-0.5</td>\n",
       "      <td>0.25</td>\n",
       "      <td>0.355026</td>\n",
       "      <td>4095.841002</td>\n",
       "      <td>6.0</td>\n",
       "      <td>0.0</td>\n",
       "      <td>1519.766</td>\n",
       "      <td>...</td>\n",
       "      <td>0.0</td>\n",
       "      <td>0.0</td>\n",
       "      <td>0.0</td>\n",
       "      <td>94.651</td>\n",
       "      <td>94.488</td>\n",
       "      <td>0.000</td>\n",
       "      <td>0.0</td>\n",
       "      <td>0.0</td>\n",
       "      <td>NaN</td>\n",
       "      <td>16.962416</td>\n",
       "    </tr>\n",
       "  </tbody>\n",
       "</table>\n",
       "<p>5 rows × 22 columns</p>\n",
       "</div>"
      ],
      "text/plain": [
       "         time  weekday  mood  circumplex.arousal  circumplex.valence  \\\n",
       "0  2014-03-16        6   6.5                -0.5                0.50   \n",
       "1  2014-03-17        0   6.5                 0.5                0.00   \n",
       "2  2014-03-18        1   8.0                 0.8                1.00   \n",
       "3  2014-03-19        2   7.4                 0.2                0.60   \n",
       "4  2014-03-20        3   6.5                -0.5                0.25   \n",
       "\n",
       "   activity       screen  call  sms  appCat.builtin  ...  appCat.finance  \\\n",
       "0       NaN   746.315000   0.0  0.0         116.333  ...             0.0   \n",
       "1  0.145299  8669.900001   6.0  0.0        1392.999  ...             0.0   \n",
       "2  0.351584  6820.626001  15.0  1.0        2703.184  ...             0.0   \n",
       "3  0.452052  7920.775000   3.0  1.0        1524.853  ...             0.0   \n",
       "4  0.355026  4095.841002   6.0  0.0        1519.766  ...             0.0   \n",
       "\n",
       "   appCat.game  appCat.office  appCat.other  appCat.social  appCat.travel  \\\n",
       "0          0.0            0.0        48.325         39.985          0.000   \n",
       "1          0.0            0.0       128.881        123.806          0.000   \n",
       "2          0.0            0.0        89.302        212.871          0.000   \n",
       "3          0.0            0.0        97.805         51.841        567.165   \n",
       "4          0.0            0.0        94.651         94.488          0.000   \n",
       "\n",
       "   appCat.unknown  appCat.utilities  appCat.weather      sleep  \n",
       "0             0.0               0.0             NaN  15.424525  \n",
       "1             0.0               0.0             NaN  12.060846  \n",
       "2             0.0               0.0             NaN  13.511535  \n",
       "3             0.0               0.0             NaN  15.624280  \n",
       "4             0.0               0.0             NaN  16.962416  \n",
       "\n",
       "[5 rows x 22 columns]"
      ]
     },
     "execution_count": 3,
     "metadata": {},
     "output_type": "execute_result"
    }
   ],
   "source": [
    "example = processed_dfs[1].copy()\n",
    "example.head()"
   ]
  },
  {
   "cell_type": "code",
   "execution_count": 4,
   "metadata": {},
   "outputs": [
    {
     "data": {
      "text/html": [
       "<div>\n",
       "<style scoped>\n",
       "    .dataframe tbody tr th:only-of-type {\n",
       "        vertical-align: middle;\n",
       "    }\n",
       "\n",
       "    .dataframe tbody tr th {\n",
       "        vertical-align: top;\n",
       "    }\n",
       "\n",
       "    .dataframe thead th {\n",
       "        text-align: right;\n",
       "    }\n",
       "</style>\n",
       "<table border=\"1\" class=\"dataframe\">\n",
       "  <thead>\n",
       "    <tr style=\"text-align: right;\">\n",
       "      <th></th>\n",
       "      <th>weekday</th>\n",
       "      <th>mood</th>\n",
       "      <th>circumplex.arousal</th>\n",
       "      <th>circumplex.valence</th>\n",
       "      <th>activity</th>\n",
       "      <th>screen</th>\n",
       "      <th>call</th>\n",
       "      <th>sms</th>\n",
       "      <th>appCat.builtin</th>\n",
       "      <th>appCat.communication</th>\n",
       "      <th>...</th>\n",
       "      <th>appCat.finance</th>\n",
       "      <th>appCat.game</th>\n",
       "      <th>appCat.office</th>\n",
       "      <th>appCat.other</th>\n",
       "      <th>appCat.social</th>\n",
       "      <th>appCat.travel</th>\n",
       "      <th>appCat.unknown</th>\n",
       "      <th>appCat.utilities</th>\n",
       "      <th>appCat.weather</th>\n",
       "      <th>sleep</th>\n",
       "    </tr>\n",
       "  </thead>\n",
       "  <tbody>\n",
       "    <tr>\n",
       "      <th>count</th>\n",
       "      <td>35.000000</td>\n",
       "      <td>35.000000</td>\n",
       "      <td>35.000000</td>\n",
       "      <td>35.000000</td>\n",
       "      <td>30.000000</td>\n",
       "      <td>35.000000</td>\n",
       "      <td>35.000000</td>\n",
       "      <td>35.000000</td>\n",
       "      <td>35.000000</td>\n",
       "      <td>35.000000</td>\n",
       "      <td>...</td>\n",
       "      <td>35.0</td>\n",
       "      <td>35.0</td>\n",
       "      <td>35.0</td>\n",
       "      <td>35.000000</td>\n",
       "      <td>35.000000</td>\n",
       "      <td>35.000000</td>\n",
       "      <td>35.0</td>\n",
       "      <td>35.000000</td>\n",
       "      <td>0.0</td>\n",
       "      <td>35.000000</td>\n",
       "    </tr>\n",
       "    <tr>\n",
       "      <th>mean</th>\n",
       "      <td>2.914286</td>\n",
       "      <td>6.817143</td>\n",
       "      <td>-0.412857</td>\n",
       "      <td>0.365714</td>\n",
       "      <td>0.360364</td>\n",
       "      <td>4721.334029</td>\n",
       "      <td>6.285714</td>\n",
       "      <td>0.800000</td>\n",
       "      <td>1738.362086</td>\n",
       "      <td>2088.807714</td>\n",
       "      <td>...</td>\n",
       "      <td>0.0</td>\n",
       "      <td>0.0</td>\n",
       "      <td>0.0</td>\n",
       "      <td>92.321686</td>\n",
       "      <td>424.957143</td>\n",
       "      <td>179.552829</td>\n",
       "      <td>0.0</td>\n",
       "      <td>4.590914</td>\n",
       "      <td>NaN</td>\n",
       "      <td>13.464322</td>\n",
       "    </tr>\n",
       "    <tr>\n",
       "      <th>std</th>\n",
       "      <td>2.048980</td>\n",
       "      <td>0.777718</td>\n",
       "      <td>0.646068</td>\n",
       "      <td>0.444206</td>\n",
       "      <td>0.106075</td>\n",
       "      <td>2764.935862</td>\n",
       "      <td>5.238834</td>\n",
       "      <td>1.278786</td>\n",
       "      <td>2892.651917</td>\n",
       "      <td>1228.711820</td>\n",
       "      <td>...</td>\n",
       "      <td>0.0</td>\n",
       "      <td>0.0</td>\n",
       "      <td>0.0</td>\n",
       "      <td>135.720695</td>\n",
       "      <td>633.064967</td>\n",
       "      <td>305.284903</td>\n",
       "      <td>0.0</td>\n",
       "      <td>17.957793</td>\n",
       "      <td>NaN</td>\n",
       "      <td>3.064394</td>\n",
       "    </tr>\n",
       "    <tr>\n",
       "      <th>min</th>\n",
       "      <td>0.000000</td>\n",
       "      <td>5.000000</td>\n",
       "      <td>-2.000000</td>\n",
       "      <td>-0.600000</td>\n",
       "      <td>0.145299</td>\n",
       "      <td>0.000000</td>\n",
       "      <td>0.000000</td>\n",
       "      <td>0.000000</td>\n",
       "      <td>0.000000</td>\n",
       "      <td>0.000000</td>\n",
       "      <td>...</td>\n",
       "      <td>0.0</td>\n",
       "      <td>0.0</td>\n",
       "      <td>0.0</td>\n",
       "      <td>0.000000</td>\n",
       "      <td>0.000000</td>\n",
       "      <td>0.000000</td>\n",
       "      <td>0.0</td>\n",
       "      <td>0.000000</td>\n",
       "      <td>NaN</td>\n",
       "      <td>6.925842</td>\n",
       "    </tr>\n",
       "    <tr>\n",
       "      <th>25%</th>\n",
       "      <td>1.000000</td>\n",
       "      <td>6.500000</td>\n",
       "      <td>-0.875000</td>\n",
       "      <td>0.000000</td>\n",
       "      <td>0.289654</td>\n",
       "      <td>3048.169000</td>\n",
       "      <td>3.000000</td>\n",
       "      <td>0.000000</td>\n",
       "      <td>852.637000</td>\n",
       "      <td>1374.441500</td>\n",
       "      <td>...</td>\n",
       "      <td>0.0</td>\n",
       "      <td>0.0</td>\n",
       "      <td>0.0</td>\n",
       "      <td>36.147000</td>\n",
       "      <td>102.456500</td>\n",
       "      <td>0.000000</td>\n",
       "      <td>0.0</td>\n",
       "      <td>0.000000</td>\n",
       "      <td>NaN</td>\n",
       "      <td>12.000000</td>\n",
       "    </tr>\n",
       "    <tr>\n",
       "      <th>50%</th>\n",
       "      <td>3.000000</td>\n",
       "      <td>6.800000</td>\n",
       "      <td>-0.400000</td>\n",
       "      <td>0.400000</td>\n",
       "      <td>0.363477</td>\n",
       "      <td>4680.699999</td>\n",
       "      <td>5.000000</td>\n",
       "      <td>1.000000</td>\n",
       "      <td>1278.506000</td>\n",
       "      <td>2080.793000</td>\n",
       "      <td>...</td>\n",
       "      <td>0.0</td>\n",
       "      <td>0.0</td>\n",
       "      <td>0.0</td>\n",
       "      <td>66.363000</td>\n",
       "      <td>197.340000</td>\n",
       "      <td>0.000000</td>\n",
       "      <td>0.0</td>\n",
       "      <td>0.000000</td>\n",
       "      <td>NaN</td>\n",
       "      <td>13.299894</td>\n",
       "    </tr>\n",
       "    <tr>\n",
       "      <th>75%</th>\n",
       "      <td>5.000000</td>\n",
       "      <td>7.300000</td>\n",
       "      <td>0.000000</td>\n",
       "      <td>0.750000</td>\n",
       "      <td>0.443299</td>\n",
       "      <td>6755.091501</td>\n",
       "      <td>9.000000</td>\n",
       "      <td>1.000000</td>\n",
       "      <td>1764.624000</td>\n",
       "      <td>2943.256500</td>\n",
       "      <td>...</td>\n",
       "      <td>0.0</td>\n",
       "      <td>0.0</td>\n",
       "      <td>0.0</td>\n",
       "      <td>104.606500</td>\n",
       "      <td>388.144000</td>\n",
       "      <td>328.271500</td>\n",
       "      <td>0.0</td>\n",
       "      <td>0.000000</td>\n",
       "      <td>NaN</td>\n",
       "      <td>15.673454</td>\n",
       "    </tr>\n",
       "    <tr>\n",
       "      <th>max</th>\n",
       "      <td>6.000000</td>\n",
       "      <td>8.250000</td>\n",
       "      <td>0.800000</td>\n",
       "      <td>1.000000</td>\n",
       "      <td>0.610627</td>\n",
       "      <td>9488.749001</td>\n",
       "      <td>27.000000</td>\n",
       "      <td>7.000000</td>\n",
       "      <td>17745.090000</td>\n",
       "      <td>4786.894000</td>\n",
       "      <td>...</td>\n",
       "      <td>0.0</td>\n",
       "      <td>0.0</td>\n",
       "      <td>0.0</td>\n",
       "      <td>820.488000</td>\n",
       "      <td>2709.468000</td>\n",
       "      <td>1236.239000</td>\n",
       "      <td>0.0</td>\n",
       "      <td>84.488000</td>\n",
       "      <td>NaN</td>\n",
       "      <td>19.910520</td>\n",
       "    </tr>\n",
       "  </tbody>\n",
       "</table>\n",
       "<p>8 rows × 21 columns</p>\n",
       "</div>"
      ],
      "text/plain": [
       "         weekday       mood  circumplex.arousal  circumplex.valence  \\\n",
       "count  35.000000  35.000000           35.000000           35.000000   \n",
       "mean    2.914286   6.817143           -0.412857            0.365714   \n",
       "std     2.048980   0.777718            0.646068            0.444206   \n",
       "min     0.000000   5.000000           -2.000000           -0.600000   \n",
       "25%     1.000000   6.500000           -0.875000            0.000000   \n",
       "50%     3.000000   6.800000           -0.400000            0.400000   \n",
       "75%     5.000000   7.300000            0.000000            0.750000   \n",
       "max     6.000000   8.250000            0.800000            1.000000   \n",
       "\n",
       "        activity       screen       call        sms  appCat.builtin  \\\n",
       "count  30.000000    35.000000  35.000000  35.000000       35.000000   \n",
       "mean    0.360364  4721.334029   6.285714   0.800000     1738.362086   \n",
       "std     0.106075  2764.935862   5.238834   1.278786     2892.651917   \n",
       "min     0.145299     0.000000   0.000000   0.000000        0.000000   \n",
       "25%     0.289654  3048.169000   3.000000   0.000000      852.637000   \n",
       "50%     0.363477  4680.699999   5.000000   1.000000     1278.506000   \n",
       "75%     0.443299  6755.091501   9.000000   1.000000     1764.624000   \n",
       "max     0.610627  9488.749001  27.000000   7.000000    17745.090000   \n",
       "\n",
       "       appCat.communication  ...  appCat.finance  appCat.game  appCat.office  \\\n",
       "count             35.000000  ...            35.0         35.0           35.0   \n",
       "mean            2088.807714  ...             0.0          0.0            0.0   \n",
       "std             1228.711820  ...             0.0          0.0            0.0   \n",
       "min                0.000000  ...             0.0          0.0            0.0   \n",
       "25%             1374.441500  ...             0.0          0.0            0.0   \n",
       "50%             2080.793000  ...             0.0          0.0            0.0   \n",
       "75%             2943.256500  ...             0.0          0.0            0.0   \n",
       "max             4786.894000  ...             0.0          0.0            0.0   \n",
       "\n",
       "       appCat.other  appCat.social  appCat.travel  appCat.unknown  \\\n",
       "count     35.000000      35.000000      35.000000            35.0   \n",
       "mean      92.321686     424.957143     179.552829             0.0   \n",
       "std      135.720695     633.064967     305.284903             0.0   \n",
       "min        0.000000       0.000000       0.000000             0.0   \n",
       "25%       36.147000     102.456500       0.000000             0.0   \n",
       "50%       66.363000     197.340000       0.000000             0.0   \n",
       "75%      104.606500     388.144000     328.271500             0.0   \n",
       "max      820.488000    2709.468000    1236.239000             0.0   \n",
       "\n",
       "       appCat.utilities  appCat.weather      sleep  \n",
       "count         35.000000             0.0  35.000000  \n",
       "mean           4.590914             NaN  13.464322  \n",
       "std           17.957793             NaN   3.064394  \n",
       "min            0.000000             NaN   6.925842  \n",
       "25%            0.000000             NaN  12.000000  \n",
       "50%            0.000000             NaN  13.299894  \n",
       "75%            0.000000             NaN  15.673454  \n",
       "max           84.488000             NaN  19.910520  \n",
       "\n",
       "[8 rows x 21 columns]"
      ]
     },
     "execution_count": 4,
     "metadata": {},
     "output_type": "execute_result"
    }
   ],
   "source": [
    "example.describe()"
   ]
  },
  {
   "cell_type": "code",
   "execution_count": 5,
   "metadata": {},
   "outputs": [],
   "source": [
    "vars = ['time', 'weekday', 'mood', 'circumplex.arousal', 'circumplex.valence',\n",
    "       'activity', 'screen', 'call', 'sms', 'appCat.builtin',\n",
    "       'appCat.communication', 'appCat.entertainment', 'appCat.finance',\n",
    "       'appCat.game', 'appCat.office', 'appCat.other', 'appCat.social',\n",
    "       'appCat.travel', 'appCat.unknown', 'appCat.utilities', 'appCat.weather', 'sleep', 'sleep_before', 'mood_2days', 'mood_yesterday', 'mood_target', 'target_bw' ]\n",
    "\n",
    "forest_data = pd.DataFrame(columns = vars)\n",
    "\n",
    "n_days = 3\n",
    "\n",
    "for i, df_org in enumerate(processed_dfs):\n",
    "    df = df_org.copy()\n",
    "\n",
    "    for j, col in enumerate(example.columns[3:len(vars)]):\n",
    "        df[col] = (df[col]-df[col].min())/(df[col].max() - df[col].min())\n",
    "        #df[col] = (df[col]-df[col].mean())\n",
    "        df[col] = df[col].fillna(0)\n",
    "        \n",
    "    for j in range(len(df)-n_days-1):\n",
    "        means = pd.DataFrame(df.iloc[j:j+n_days, 2:len(example.columns)].mean())\n",
    "        forest_data = pd.concat([forest_data, means.transpose()], ignore_index=True)\n",
    "        forest_data.iloc[-1, 0] = df['time'].iloc[j+n_days+1]\n",
    "        forest_data.iloc[-1, 1] = df['weekday'].iloc[j+n_days+1]\n",
    "        forest_data.iloc[-1, -5] = df['sleep'].iloc[j+n_days+1]\n",
    "        forest_data.iloc[-1, -4] = df['mood'].iloc[j+n_days-1]\n",
    "        forest_data.iloc[-1, -3] = df['mood'].iloc[j+n_days]\n",
    "        forest_data.iloc[-1, -2] = df['mood'].iloc[j+n_days+1]\n",
    "\n",
    "\n",
    "# delete columns with too many nan or 0 values\n",
    "for col in forest_data.columns:\n",
    "    if (sum(forest_data[col] == 0)/len(forest_data[col])) > 0.5:\n",
    "        forest_data = forest_data.drop(col, axis = 1)\n",
    "\n",
    "forest_data['target_bw'] = forest_data['mood_target'] - forest_data['mood_yesterday']\n",
    "forest_data.fillna(0)\n",
    "forest_data['mood_target'] = forest_data['mood_target'].astype(int)"
   ]
  },
  {
   "cell_type": "code",
   "execution_count": 8,
   "metadata": {},
   "outputs": [
    {
     "name": "stdout",
     "output_type": "stream",
     "text": [
      "1043\n",
      "1043\n",
      "8\n",
      "5\n"
     ]
    }
   ],
   "source": [
    "print(len(forest_data))\n",
    "forest_data.drop(forest_data.index[(forest_data['mood_target'] < 5) | (forest_data['mood_target'] > 8)], inplace=True, axis='index')\n",
    "print(len(forest_data))\n",
    "print(max(forest_data['mood_target']))\n",
    "print(min(forest_data['mood_target']))"
   ]
  },
  {
   "cell_type": "code",
   "execution_count": 9,
   "metadata": {},
   "outputs": [
    {
     "data": {
      "text/plain": [
       "<Axes: >"
      ]
     },
     "execution_count": 9,
     "metadata": {},
     "output_type": "execute_result"
    },
    {
     "data": {
      "image/png": "[encoded data removed]",
      "text/plain": [
       "<Figure size 640x480 with 1 Axes>"
      ]
     },
     "metadata": {},
     "output_type": "display_data"
    }
   ],
   "source": [
    "forest_data['sleep'].hist()"
   ]
  },
  {
   "cell_type": "code",
   "execution_count": 10,
   "metadata": {},
   "outputs": [],
   "source": [
    "# labels = ['vl', 'l', 'm', 'h', 'vh']\n",
    "# # build classes\n",
    "# for i, col in enumerate(forest_data.columns[2:len(vars)]):\n",
    "#     forest_data[col+'class'] = pd.cut(forest_data[col], 5, labels=labels)"
   ]
  },
  {
   "cell_type": "code",
   "execution_count": 11,
   "metadata": {
    "pycharm": {
     "name": "#%%\n"
    }
   },
   "outputs": [
    {
     "data": {
      "text/html": [
       "<div>\n",
       "<style scoped>\n",
       "    .dataframe tbody tr th:only-of-type {\n",
       "        vertical-align: middle;\n",
       "    }\n",
       "\n",
       "    .dataframe tbody tr th {\n",
       "        vertical-align: top;\n",
       "    }\n",
       "\n",
       "    .dataframe thead th {\n",
       "        text-align: right;\n",
       "    }\n",
       "</style>\n",
       "<table border=\"1\" class=\"dataframe\">\n",
       "  <thead>\n",
       "    <tr style=\"text-align: right;\">\n",
       "      <th></th>\n",
       "      <th>time</th>\n",
       "      <th>weekday</th>\n",
       "      <th>mood</th>\n",
       "      <th>circumplex.arousal</th>\n",
       "      <th>circumplex.valence</th>\n",
       "      <th>activity</th>\n",
       "      <th>screen</th>\n",
       "      <th>call</th>\n",
       "      <th>sms</th>\n",
       "      <th>appCat.builtin</th>\n",
       "      <th>...</th>\n",
       "      <th>appCat.other</th>\n",
       "      <th>appCat.social</th>\n",
       "      <th>appCat.travel</th>\n",
       "      <th>appCat.utilities</th>\n",
       "      <th>sleep</th>\n",
       "      <th>sleep_before</th>\n",
       "      <th>mood_2days</th>\n",
       "      <th>mood_yesterday</th>\n",
       "      <th>mood_target</th>\n",
       "      <th>target_bw</th>\n",
       "    </tr>\n",
       "  </thead>\n",
       "  <tbody>\n",
       "    <tr>\n",
       "      <th>0</th>\n",
       "      <td>2014-03-25</td>\n",
       "      <td>1</td>\n",
       "      <td>6.483333</td>\n",
       "      <td>0.674074</td>\n",
       "      <td>0.466667</td>\n",
       "      <td>0.544040</td>\n",
       "      <td>0.258174</td>\n",
       "      <td>0.300000</td>\n",
       "      <td>0.083333</td>\n",
       "      <td>0.084434</td>\n",
       "      <td>...</td>\n",
       "      <td>0.101140</td>\n",
       "      <td>0.347946</td>\n",
       "      <td>0.196692</td>\n",
       "      <td>0.154879</td>\n",
       "      <td>0.392335</td>\n",
       "      <td>0.529645</td>\n",
       "      <td>6.6</td>\n",
       "      <td>5.8</td>\n",
       "      <td>7</td>\n",
       "      <td>1.2</td>\n",
       "    </tr>\n",
       "    <tr>\n",
       "      <th>1</th>\n",
       "      <td>2014-03-26</td>\n",
       "      <td>2</td>\n",
       "      <td>6.333333</td>\n",
       "      <td>0.822222</td>\n",
       "      <td>0.383333</td>\n",
       "      <td>0.496246</td>\n",
       "      <td>0.255329</td>\n",
       "      <td>0.433333</td>\n",
       "      <td>0.083333</td>\n",
       "      <td>0.045470</td>\n",
       "      <td>...</td>\n",
       "      <td>0.055194</td>\n",
       "      <td>0.325006</td>\n",
       "      <td>0.094369</td>\n",
       "      <td>0.116291</td>\n",
       "      <td>0.486050</td>\n",
       "      <td>0.192946</td>\n",
       "      <td>5.8</td>\n",
       "      <td>7.0</td>\n",
       "      <td>6</td>\n",
       "      <td>-0.6</td>\n",
       "    </tr>\n",
       "    <tr>\n",
       "      <th>2</th>\n",
       "      <td>2014-03-27</td>\n",
       "      <td>3</td>\n",
       "      <td>6.466667</td>\n",
       "      <td>0.844444</td>\n",
       "      <td>0.383333</td>\n",
       "      <td>0.365867</td>\n",
       "      <td>0.396236</td>\n",
       "      <td>0.333333</td>\n",
       "      <td>0.083333</td>\n",
       "      <td>0.042015</td>\n",
       "      <td>...</td>\n",
       "      <td>0.069381</td>\n",
       "      <td>0.403589</td>\n",
       "      <td>0.086667</td>\n",
       "      <td>0.100905</td>\n",
       "      <td>0.407603</td>\n",
       "      <td>0.327224</td>\n",
       "      <td>7.0</td>\n",
       "      <td>6.4</td>\n",
       "      <td>7</td>\n",
       "      <td>0.6</td>\n",
       "    </tr>\n",
       "    <tr>\n",
       "      <th>3</th>\n",
       "      <td>2014-03-28</td>\n",
       "      <td>4</td>\n",
       "      <td>6.400000</td>\n",
       "      <td>0.785185</td>\n",
       "      <td>0.383333</td>\n",
       "      <td>0.510295</td>\n",
       "      <td>0.639396</td>\n",
       "      <td>0.333333</td>\n",
       "      <td>0.083333</td>\n",
       "      <td>0.041981</td>\n",
       "      <td>...</td>\n",
       "      <td>0.095778</td>\n",
       "      <td>0.643153</td>\n",
       "      <td>0.086667</td>\n",
       "      <td>0.153793</td>\n",
       "      <td>0.354383</td>\n",
       "      <td>0.48541</td>\n",
       "      <td>6.4</td>\n",
       "      <td>7.0</td>\n",
       "      <td>6</td>\n",
       "      <td>-0.6</td>\n",
       "    </tr>\n",
       "    <tr>\n",
       "      <th>4</th>\n",
       "      <td>2014-03-29</td>\n",
       "      <td>5</td>\n",
       "      <td>6.800000</td>\n",
       "      <td>0.666667</td>\n",
       "      <td>0.716667</td>\n",
       "      <td>0.651682</td>\n",
       "      <td>0.780672</td>\n",
       "      <td>0.066667</td>\n",
       "      <td>0.166667</td>\n",
       "      <td>0.054592</td>\n",
       "      <td>...</td>\n",
       "      <td>0.088225</td>\n",
       "      <td>0.542698</td>\n",
       "      <td>0.009768</td>\n",
       "      <td>0.149692</td>\n",
       "      <td>0.349939</td>\n",
       "      <td>0.262787</td>\n",
       "      <td>7.0</td>\n",
       "      <td>6.4</td>\n",
       "      <td>8</td>\n",
       "      <td>1.6</td>\n",
       "    </tr>\n",
       "  </tbody>\n",
       "</table>\n",
       "<p>5 rows × 22 columns</p>\n",
       "</div>"
      ],
      "text/plain": [
       "         time weekday      mood  circumplex.arousal  circumplex.valence  \\\n",
       "0  2014-03-25       1  6.483333            0.674074            0.466667   \n",
       "1  2014-03-26       2  6.333333            0.822222            0.383333   \n",
       "2  2014-03-27       3  6.466667            0.844444            0.383333   \n",
       "3  2014-03-28       4  6.400000            0.785185            0.383333   \n",
       "4  2014-03-29       5  6.800000            0.666667            0.716667   \n",
       "\n",
       "   activity    screen      call       sms  appCat.builtin  ...  appCat.other  \\\n",
       "0  0.544040  0.258174  0.300000  0.083333        0.084434  ...      0.101140   \n",
       "1  0.496246  0.255329  0.433333  0.083333        0.045470  ...      0.055194   \n",
       "2  0.365867  0.396236  0.333333  0.083333        0.042015  ...      0.069381   \n",
       "3  0.510295  0.639396  0.333333  0.083333        0.041981  ...      0.095778   \n",
       "4  0.651682  0.780672  0.066667  0.166667        0.054592  ...      0.088225   \n",
       "\n",
       "   appCat.social  appCat.travel  appCat.utilities     sleep  sleep_before  \\\n",
       "0       0.347946       0.196692          0.154879  0.392335      0.529645   \n",
       "1       0.325006       0.094369          0.116291  0.486050      0.192946   \n",
       "2       0.403589       0.086667          0.100905  0.407603      0.327224   \n",
       "3       0.643153       0.086667          0.153793  0.354383       0.48541   \n",
       "4       0.542698       0.009768          0.149692  0.349939      0.262787   \n",
       "\n",
       "   mood_2days mood_yesterday mood_target target_bw  \n",
       "0         6.6            5.8           7       1.2  \n",
       "1         5.8            7.0           6      -0.6  \n",
       "2         7.0            6.4           7       0.6  \n",
       "3         6.4            7.0           6      -0.6  \n",
       "4         7.0            6.4           8       1.6  \n",
       "\n",
       "[5 rows x 22 columns]"
      ]
     },
     "execution_count": 11,
     "metadata": {},
     "output_type": "execute_result"
    }
   ],
   "source": [
    "forest_data.head()"
   ]
  },
  {
   "cell_type": "code",
   "execution_count": 12,
   "metadata": {},
   "outputs": [],
   "source": [
    "# delete constant columns\n",
    "# forest_data = forest_data.loc[:, (forest_data != forest_data.iloc[0]).any()] \n",
    "# len(forest_data.columns)"
   ]
  },
  {
   "cell_type": "code",
   "execution_count": 13,
   "metadata": {},
   "outputs": [],
   "source": [
    "wood = ['weekday', 'mood',\n",
    "       'activity', 'screen', 'call', 'sleep_before', 'mood_yesterday']\n",
    "\n",
    "#X = forest_data.loc[:, wood].copy()\n",
    "X = forest_data.iloc[:,1:-2].copy()\n",
    "\n",
    "#labels = ['vl', 'l', 'ml', 'm', 'mh', 'h', 'vh']\n",
    "labels = ['vl', 'l', 'm', 'h', 'vh']\n",
    "#labels = ['l', 'm', 'h']\n",
    "#labels = ['three', 'four', 'five', 'six', 'seven', 'eight', 'nine']\n",
    "# y = pd.cut(forest_data['mood_target'], 5, labels=labels)\n",
    "# y = y.to_numpy()\n",
    "y = forest_data.loc[:, 'mood_target'].copy().astype(int)"
   ]
  },
  {
   "cell_type": "code",
   "execution_count": 14,
   "metadata": {},
   "outputs": [
    {
     "data": {
      "text/plain": [
       "(array([  0.,   0.,   0.,   0.,   0.,  53., 329., 548., 113.,   0.]),\n",
       " array([ 0.,  1.,  2.,  3.,  4.,  5.,  6.,  7.,  8.,  9., 10.]),\n",
       " <BarContainer object of 10 artists>)"
      ]
     },
     "execution_count": 14,
     "metadata": {},
     "output_type": "execute_result"
    },
    {
     "data": {
      "image/png": "[encoded data removed]",
      "text/plain": [
       "<Figure size 640x480 with 1 Axes>"
      ]
     },
     "metadata": {},
     "output_type": "display_data"
    }
   ],
   "source": [
    "bins = np.arange(0,11,1)\n",
    "plt.hist(y, bins=bins)"
   ]
  },
  {
   "cell_type": "code",
   "execution_count": 15,
   "metadata": {},
   "outputs": [
    {
     "data": {
      "text/plain": [
       "5"
      ]
     },
     "execution_count": 15,
     "metadata": {},
     "output_type": "execute_result"
    }
   ],
   "source": [
    "min(y)"
   ]
  },
  {
   "cell_type": "code",
   "execution_count": 16,
   "metadata": {},
   "outputs": [
    {
     "data": {
      "text/html": [
       "<div>\n",
       "<style scoped>\n",
       "    .dataframe tbody tr th:only-of-type {\n",
       "        vertical-align: middle;\n",
       "    }\n",
       "\n",
       "    .dataframe tbody tr th {\n",
       "        vertical-align: top;\n",
       "    }\n",
       "\n",
       "    .dataframe thead th {\n",
       "        text-align: right;\n",
       "    }\n",
       "</style>\n",
       "<table border=\"1\" class=\"dataframe\">\n",
       "  <thead>\n",
       "    <tr style=\"text-align: right;\">\n",
       "      <th></th>\n",
       "      <th>weekday</th>\n",
       "      <th>mood</th>\n",
       "      <th>circumplex.arousal</th>\n",
       "      <th>circumplex.valence</th>\n",
       "      <th>activity</th>\n",
       "      <th>screen</th>\n",
       "      <th>call</th>\n",
       "      <th>sms</th>\n",
       "      <th>appCat.builtin</th>\n",
       "      <th>appCat.communication</th>\n",
       "      <th>appCat.entertainment</th>\n",
       "      <th>appCat.other</th>\n",
       "      <th>appCat.social</th>\n",
       "      <th>appCat.travel</th>\n",
       "      <th>appCat.utilities</th>\n",
       "      <th>sleep</th>\n",
       "      <th>sleep_before</th>\n",
       "      <th>mood_2days</th>\n",
       "      <th>mood_yesterday</th>\n",
       "    </tr>\n",
       "  </thead>\n",
       "  <tbody>\n",
       "    <tr>\n",
       "      <th>0</th>\n",
       "      <td>1</td>\n",
       "      <td>6.483333</td>\n",
       "      <td>0.674074</td>\n",
       "      <td>0.466667</td>\n",
       "      <td>0.544040</td>\n",
       "      <td>0.258174</td>\n",
       "      <td>0.300000</td>\n",
       "      <td>0.083333</td>\n",
       "      <td>0.084434</td>\n",
       "      <td>0.321474</td>\n",
       "      <td>0.062003</td>\n",
       "      <td>0.101140</td>\n",
       "      <td>0.347946</td>\n",
       "      <td>0.196692</td>\n",
       "      <td>0.154879</td>\n",
       "      <td>0.392335</td>\n",
       "      <td>0.529645</td>\n",
       "      <td>6.6</td>\n",
       "      <td>5.8</td>\n",
       "    </tr>\n",
       "    <tr>\n",
       "      <th>1</th>\n",
       "      <td>2</td>\n",
       "      <td>6.333333</td>\n",
       "      <td>0.822222</td>\n",
       "      <td>0.383333</td>\n",
       "      <td>0.496246</td>\n",
       "      <td>0.255329</td>\n",
       "      <td>0.433333</td>\n",
       "      <td>0.083333</td>\n",
       "      <td>0.045470</td>\n",
       "      <td>0.387357</td>\n",
       "      <td>0.060346</td>\n",
       "      <td>0.055194</td>\n",
       "      <td>0.325006</td>\n",
       "      <td>0.094369</td>\n",
       "      <td>0.116291</td>\n",
       "      <td>0.486050</td>\n",
       "      <td>0.192946</td>\n",
       "      <td>5.8</td>\n",
       "      <td>7.0</td>\n",
       "    </tr>\n",
       "    <tr>\n",
       "      <th>2</th>\n",
       "      <td>3</td>\n",
       "      <td>6.466667</td>\n",
       "      <td>0.844444</td>\n",
       "      <td>0.383333</td>\n",
       "      <td>0.365867</td>\n",
       "      <td>0.396236</td>\n",
       "      <td>0.333333</td>\n",
       "      <td>0.083333</td>\n",
       "      <td>0.042015</td>\n",
       "      <td>0.473781</td>\n",
       "      <td>0.056256</td>\n",
       "      <td>0.069381</td>\n",
       "      <td>0.403589</td>\n",
       "      <td>0.086667</td>\n",
       "      <td>0.100905</td>\n",
       "      <td>0.407603</td>\n",
       "      <td>0.327224</td>\n",
       "      <td>7.0</td>\n",
       "      <td>6.4</td>\n",
       "    </tr>\n",
       "    <tr>\n",
       "      <th>3</th>\n",
       "      <td>4</td>\n",
       "      <td>6.400000</td>\n",
       "      <td>0.785185</td>\n",
       "      <td>0.383333</td>\n",
       "      <td>0.510295</td>\n",
       "      <td>0.639396</td>\n",
       "      <td>0.333333</td>\n",
       "      <td>0.083333</td>\n",
       "      <td>0.041981</td>\n",
       "      <td>0.688534</td>\n",
       "      <td>0.093124</td>\n",
       "      <td>0.095778</td>\n",
       "      <td>0.643153</td>\n",
       "      <td>0.086667</td>\n",
       "      <td>0.153793</td>\n",
       "      <td>0.354383</td>\n",
       "      <td>0.48541</td>\n",
       "      <td>6.4</td>\n",
       "      <td>7.0</td>\n",
       "    </tr>\n",
       "    <tr>\n",
       "      <th>4</th>\n",
       "      <td>5</td>\n",
       "      <td>6.800000</td>\n",
       "      <td>0.666667</td>\n",
       "      <td>0.716667</td>\n",
       "      <td>0.651682</td>\n",
       "      <td>0.780672</td>\n",
       "      <td>0.066667</td>\n",
       "      <td>0.166667</td>\n",
       "      <td>0.054592</td>\n",
       "      <td>0.716141</td>\n",
       "      <td>0.084985</td>\n",
       "      <td>0.088225</td>\n",
       "      <td>0.542698</td>\n",
       "      <td>0.009768</td>\n",
       "      <td>0.149692</td>\n",
       "      <td>0.349939</td>\n",
       "      <td>0.262787</td>\n",
       "      <td>7.0</td>\n",
       "      <td>6.4</td>\n",
       "    </tr>\n",
       "  </tbody>\n",
       "</table>\n",
       "</div>"
      ],
      "text/plain": [
       "  weekday      mood  circumplex.arousal  circumplex.valence  activity  \\\n",
       "0       1  6.483333            0.674074            0.466667  0.544040   \n",
       "1       2  6.333333            0.822222            0.383333  0.496246   \n",
       "2       3  6.466667            0.844444            0.383333  0.365867   \n",
       "3       4  6.400000            0.785185            0.383333  0.510295   \n",
       "4       5  6.800000            0.666667            0.716667  0.651682   \n",
       "\n",
       "     screen      call       sms  appCat.builtin  appCat.communication  \\\n",
       "0  0.258174  0.300000  0.083333        0.084434              0.321474   \n",
       "1  0.255329  0.433333  0.083333        0.045470              0.387357   \n",
       "2  0.396236  0.333333  0.083333        0.042015              0.473781   \n",
       "3  0.639396  0.333333  0.083333        0.041981              0.688534   \n",
       "4  0.780672  0.066667  0.166667        0.054592              0.716141   \n",
       "\n",
       "   appCat.entertainment  appCat.other  appCat.social  appCat.travel  \\\n",
       "0              0.062003      0.101140       0.347946       0.196692   \n",
       "1              0.060346      0.055194       0.325006       0.094369   \n",
       "2              0.056256      0.069381       0.403589       0.086667   \n",
       "3              0.093124      0.095778       0.643153       0.086667   \n",
       "4              0.084985      0.088225       0.542698       0.009768   \n",
       "\n",
       "   appCat.utilities     sleep sleep_before mood_2days mood_yesterday  \n",
       "0          0.154879  0.392335     0.529645        6.6            5.8  \n",
       "1          0.116291  0.486050     0.192946        5.8            7.0  \n",
       "2          0.100905  0.407603     0.327224        7.0            6.4  \n",
       "3          0.153793  0.354383      0.48541        6.4            7.0  \n",
       "4          0.149692  0.349939     0.262787        7.0            6.4  "
      ]
     },
     "execution_count": 16,
     "metadata": {},
     "output_type": "execute_result"
    }
   ],
   "source": [
    "X.head()"
   ]
  },
  {
   "cell_type": "code",
   "execution_count": 17,
   "metadata": {},
   "outputs": [],
   "source": [
    "X_train, X_test, y_train, y_test = train_test_split(X, y, test_size=0.2)"
   ]
  },
  {
   "cell_type": "code",
   "execution_count": 18,
   "metadata": {},
   "outputs": [
    {
     "data": {
      "text/html": [
       "<style>#sk-container-id-1 {color: black;background-color: white;}#sk-container-id-1 pre{padding: 0;}#sk-container-id-1 div.sk-toggleable {background-color: white;}#sk-container-id-1 label.sk-toggleable__label {cursor: pointer;display: block;width: 100%;margin-bottom: 0;padding: 0.3em;box-sizing: border-box;text-align: center;}#sk-container-id-1 label.sk-toggleable__label-arrow:before {content: \"▸\";float: left;margin-right: 0.25em;color: #696969;}#sk-container-id-1 label.sk-toggleable__label-arrow:hover:before {color: black;}#sk-container-id-1 div.sk-estimator:hover label.sk-toggleable__label-arrow:before {color: black;}#sk-container-id-1 div.sk-toggleable__content {max-height: 0;max-width: 0;overflow: hidden;text-align: left;background-color: #f0f8ff;}#sk-container-id-1 div.sk-toggleable__content pre {margin: 0.2em;color: black;border-radius: 0.25em;background-color: #f0f8ff;}#sk-container-id-1 input.sk-toggleable__control:checked~div.sk-toggleable__content {max-height: 200px;max-width: 100%;overflow: auto;}#sk-container-id-1 input.sk-toggleable__control:checked~label.sk-toggleable__label-arrow:before {content: \"▾\";}#sk-container-id-1 div.sk-estimator input.sk-toggleable__control:checked~label.sk-toggleable__label {background-color: #d4ebff;}#sk-container-id-1 div.sk-label input.sk-toggleable__control:checked~label.sk-toggleable__label {background-color: #d4ebff;}#sk-container-id-1 input.sk-hidden--visually {border: 0;clip: rect(1px 1px 1px 1px);clip: rect(1px, 1px, 1px, 1px);height: 1px;margin: -1px;overflow: hidden;padding: 0;position: absolute;width: 1px;}#sk-container-id-1 div.sk-estimator {font-family: monospace;background-color: #f0f8ff;border: 1px dotted black;border-radius: 0.25em;box-sizing: border-box;margin-bottom: 0.5em;}#sk-container-id-1 div.sk-estimator:hover {background-color: #d4ebff;}#sk-container-id-1 div.sk-parallel-item::after {content: \"\";width: 100%;border-bottom: 1px solid gray;flex-grow: 1;}#sk-container-id-1 div.sk-label:hover label.sk-toggleable__label {background-color: #d4ebff;}#sk-container-id-1 div.sk-serial::before {content: \"\";position: absolute;border-left: 1px solid gray;box-sizing: border-box;top: 0;bottom: 0;left: 50%;z-index: 0;}#sk-container-id-1 div.sk-serial {display: flex;flex-direction: column;align-items: center;background-color: white;padding-right: 0.2em;padding-left: 0.2em;position: relative;}#sk-container-id-1 div.sk-item {position: relative;z-index: 1;}#sk-container-id-1 div.sk-parallel {display: flex;align-items: stretch;justify-content: center;background-color: white;position: relative;}#sk-container-id-1 div.sk-item::before, #sk-container-id-1 div.sk-parallel-item::before {content: \"\";position: absolute;border-left: 1px solid gray;box-sizing: border-box;top: 0;bottom: 0;left: 50%;z-index: -1;}#sk-container-id-1 div.sk-parallel-item {display: flex;flex-direction: column;z-index: 1;position: relative;background-color: white;}#sk-container-id-1 div.sk-parallel-item:first-child::after {align-self: flex-end;width: 50%;}#sk-container-id-1 div.sk-parallel-item:last-child::after {align-self: flex-start;width: 50%;}#sk-container-id-1 div.sk-parallel-item:only-child::after {width: 0;}#sk-container-id-1 div.sk-dashed-wrapped {border: 1px dashed gray;margin: 0 0.4em 0.5em 0.4em;box-sizing: border-box;padding-bottom: 0.4em;background-color: white;}#sk-container-id-1 div.sk-label label {font-family: monospace;font-weight: bold;display: inline-block;line-height: 1.2em;}#sk-container-id-1 div.sk-label-container {text-align: center;}#sk-container-id-1 div.sk-container {/* jupyter's `normalize.less` sets `[hidden] { display: none; }` but bootstrap.min.css set `[hidden] { display: none !important; }` so we also need the `!important` here to be able to override the default hidden behavior on the sphinx rendered scikit-learn.org. See: https://github.com/scikit-learn/scikit-learn/issues/21755 */display: inline-block !important;position: relative;}#sk-container-id-1 div.sk-text-repr-fallback {display: none;}</style><div id=\"sk-container-id-1\" class=\"sk-top-container\"><div class=\"sk-text-repr-fallback\"><pre>RandomizedSearchCV(estimator=RandomForestClassifier(n_jobs=-1), n_iter=100,\n",
       "                   param_distributions={&#x27;max_depth&#x27;: &lt;scipy.stats._distn_infrastructure.rv_discrete_frozen object at 0x14721b0d0&gt;,\n",
       "                                        &#x27;n_estimators&#x27;: &lt;scipy.stats._distn_infrastructure.rv_discrete_frozen object at 0x146daf710&gt;})</pre><b>In a Jupyter environment, please rerun this cell to show the HTML representation or trust the notebook. <br />On GitHub, the HTML representation is unable to render, please try loading this page with nbviewer.org.</b></div><div class=\"sk-container\" hidden><div class=\"sk-item sk-dashed-wrapped\"><div class=\"sk-label-container\"><div class=\"sk-label sk-toggleable\"><input class=\"sk-toggleable__control sk-hidden--visually\" id=\"sk-estimator-id-1\" type=\"checkbox\" ><label for=\"sk-estimator-id-1\" class=\"sk-toggleable__label sk-toggleable__label-arrow\">RandomizedSearchCV</label><div class=\"sk-toggleable__content\"><pre>RandomizedSearchCV(estimator=RandomForestClassifier(n_jobs=-1), n_iter=100,\n",
       "                   param_distributions={&#x27;max_depth&#x27;: &lt;scipy.stats._distn_infrastructure.rv_discrete_frozen object at 0x14721b0d0&gt;,\n",
       "                                        &#x27;n_estimators&#x27;: &lt;scipy.stats._distn_infrastructure.rv_discrete_frozen object at 0x146daf710&gt;})</pre></div></div></div><div class=\"sk-parallel\"><div class=\"sk-parallel-item\"><div class=\"sk-item\"><div class=\"sk-label-container\"><div class=\"sk-label sk-toggleable\"><input class=\"sk-toggleable__control sk-hidden--visually\" id=\"sk-estimator-id-2\" type=\"checkbox\" ><label for=\"sk-estimator-id-2\" class=\"sk-toggleable__label sk-toggleable__label-arrow\">estimator: RandomForestClassifier</label><div class=\"sk-toggleable__content\"><pre>RandomForestClassifier(n_jobs=-1)</pre></div></div></div><div class=\"sk-serial\"><div class=\"sk-item\"><div class=\"sk-estimator sk-toggleable\"><input class=\"sk-toggleable__control sk-hidden--visually\" id=\"sk-estimator-id-3\" type=\"checkbox\" ><label for=\"sk-estimator-id-3\" class=\"sk-toggleable__label sk-toggleable__label-arrow\">RandomForestClassifier</label><div class=\"sk-toggleable__content\"><pre>RandomForestClassifier(n_jobs=-1)</pre></div></div></div></div></div></div></div></div></div></div>"
      ],
      "text/plain": [
       "RandomizedSearchCV(estimator=RandomForestClassifier(n_jobs=-1), n_iter=100,\n",
       "                   param_distributions={'max_depth': <scipy.stats._distn_infrastructure.rv_discrete_frozen object at 0x14721b0d0>,\n",
       "                                        'n_estimators': <scipy.stats._distn_infrastructure.rv_discrete_frozen object at 0x146daf710>})"
      ]
     },
     "execution_count": 18,
     "metadata": {},
     "output_type": "execute_result"
    }
   ],
   "source": [
    "# Hyperparameter tuning\n",
    "param_dist = {'n_estimators': randint(10,100),\n",
    "              'max_depth': randint(1,15)}\n",
    "\n",
    "# Create a random forest classifier\n",
    "rf = RandomForestClassifier(n_jobs = -1)\n",
    "\n",
    "# Use random search to find the best hyperparameters\n",
    "rand_search = RandomizedSearchCV(rf, \n",
    "                                 param_distributions = param_dist, \n",
    "                                 n_iter=100)\n",
    "\n",
    "# Fit the random search object to the data\n",
    "rand_search.fit(X_train, y_train)"
   ]
  },
  {
   "cell_type": "code",
   "execution_count": 19,
   "metadata": {},
   "outputs": [
    {
     "name": "stdout",
     "output_type": "stream",
     "text": [
      "Best hyperparameters: {'max_depth': 5, 'n_estimators': 92}\n"
     ]
    }
   ],
   "source": [
    "best_rf = rand_search.best_estimator_\n",
    "print('Best hyperparameters:',  rand_search.best_params_)"
   ]
  },
  {
   "cell_type": "code",
   "execution_count": 20,
   "metadata": {},
   "outputs": [],
   "source": [
    "#rf = RandomForestClassifier(max_depth = 5, n_estimators = 50, n_jobs = -1, class_weight='balanced_subsample')#, criterion='absolute_error')\n",
    "rf = best_rf"
   ]
  },
  {
   "cell_type": "code",
   "execution_count": 21,
   "metadata": {},
   "outputs": [],
   "source": [
    "rf = rf.fit(X_train, y_train)"
   ]
  },
  {
   "cell_type": "code",
   "execution_count": 22,
   "metadata": {},
   "outputs": [],
   "source": [
    "y_pred = rf.predict(X_test)\n",
    "y_train_pred = rf.predict(X_train)"
   ]
  },
  {
   "cell_type": "code",
   "execution_count": 23,
   "metadata": {},
   "outputs": [
    {
     "data": {
      "text/plain": [
       "<sklearn.metrics._plot.confusion_matrix.ConfusionMatrixDisplay at 0x1472a0850>"
      ]
     },
     "execution_count": 23,
     "metadata": {},
     "output_type": "execute_result"
    },
    {
     "data": {
      "image/png": "[encoded data removed]",
      "text/plain": [
       "<Figure size 640x480 with 2 Axes>"
      ]
     },
     "metadata": {},
     "output_type": "display_data"
    }
   ],
   "source": [
    "cm = confusion_matrix(y_test, y_pred, labels=rf.classes_)\n",
    "disp = ConfusionMatrixDisplay(cm, display_labels=rf.classes_)\n",
    "disp.plot()"
   ]
  },
  {
   "cell_type": "code",
   "execution_count": 24,
   "metadata": {},
   "outputs": [
    {
     "name": "stdout",
     "output_type": "stream",
     "text": [
      "              precision    recall  f1-score   support\n",
      "\n",
      "           5       0.00      0.00      0.00        17\n",
      "           6       0.39      0.31      0.35        58\n",
      "           7       0.58      0.87      0.70       109\n",
      "           8       0.00      0.00      0.00        25\n",
      "\n",
      "    accuracy                           0.54       209\n",
      "   macro avg       0.24      0.30      0.26       209\n",
      "weighted avg       0.41      0.54      0.46       209\n",
      "\n"
     ]
    },
    {
     "name": "stderr",
     "output_type": "stream",
     "text": [
      "/Users/nik/opt/miniconda3/envs/DMT/lib/python3.11/site-packages/sklearn/metrics/_classification.py:1344: UndefinedMetricWarning: Precision and F-score are ill-defined and being set to 0.0 in labels with no predicted samples. Use `zero_division` parameter to control this behavior.\n",
      "  _warn_prf(average, modifier, msg_start, len(result))\n",
      "/Users/nik/opt/miniconda3/envs/DMT/lib/python3.11/site-packages/sklearn/metrics/_classification.py:1344: UndefinedMetricWarning: Precision and F-score are ill-defined and being set to 0.0 in labels with no predicted samples. Use `zero_division` parameter to control this behavior.\n",
      "  _warn_prf(average, modifier, msg_start, len(result))\n",
      "/Users/nik/opt/miniconda3/envs/DMT/lib/python3.11/site-packages/sklearn/metrics/_classification.py:1344: UndefinedMetricWarning: Precision and F-score are ill-defined and being set to 0.0 in labels with no predicted samples. Use `zero_division` parameter to control this behavior.\n",
      "  _warn_prf(average, modifier, msg_start, len(result))\n"
     ]
    }
   ],
   "source": [
    "print(classification_report(y_test, y_pred))"
   ]
  },
  {
   "cell_type": "code",
   "execution_count": 25,
   "metadata": {},
   "outputs": [
    {
     "data": {
      "image/png": "[encoded data removed]",
      "text/plain": [
       "<Figure size 640x480 with 1 Axes>"
      ]
     },
     "metadata": {},
     "output_type": "display_data"
    }
   ],
   "source": [
    "feature_importances = pd.DataFrame(rf.feature_importances_,\n",
    "                                   index = X_train.columns,\n",
    "                                   columns=['importance']).sort_values('importance',ascending=False)\n",
    "\n",
    "fig = plt.figure()\n",
    "plt.barh(feature_importances.index,feature_importances.importance)\n",
    "\n",
    "plt.show()\n",
    "#fig.savefig('rf_importance.pdf')"
   ]
  },
  {
   "cell_type": "code",
   "execution_count": 26,
   "metadata": {},
   "outputs": [],
   "source": [
    "rf.class_weight = 'balanced_subsample'\n",
    "rf = rf.fit(X_train, y_train)\n",
    "y_pred = rf.predict(X_test)\n",
    "y_train_pred = rf.predict(X_train)"
   ]
  },
  {
   "cell_type": "code",
   "execution_count": 27,
   "metadata": {},
   "outputs": [
    {
     "data": {
      "text/plain": [
       "<sklearn.metrics._plot.confusion_matrix.ConfusionMatrixDisplay at 0x1474d8710>"
      ]
     },
     "execution_count": 27,
     "metadata": {},
     "output_type": "execute_result"
    },
    {
     "data": {
      "image/png": "[encoded data removed]",
      "text/plain": [
       "<Figure size 640x480 with 2 Axes>"
      ]
     },
     "metadata": {},
     "output_type": "display_data"
    }
   ],
   "source": [
    "cm = confusion_matrix(y_test, y_pred, labels=rf.classes_)\n",
    "disp = ConfusionMatrixDisplay(cm, display_labels=rf.classes_)\n",
    "disp.plot()"
   ]
  },
  {
   "cell_type": "code",
   "execution_count": 28,
   "metadata": {},
   "outputs": [
    {
     "name": "stdout",
     "output_type": "stream",
     "text": [
      "              precision    recall  f1-score   support\n",
      "\n",
      "           5       0.44      0.24      0.31        17\n",
      "           6       0.43      0.47      0.45        58\n",
      "           7       0.59      0.60      0.59       109\n",
      "           8       0.27      0.28      0.27        25\n",
      "\n",
      "    accuracy                           0.49       209\n",
      "   macro avg       0.43      0.39      0.40       209\n",
      "weighted avg       0.49      0.49      0.49       209\n",
      "\n"
     ]
    }
   ],
   "source": [
    "print(classification_report(y_test, y_pred))"
   ]
  },
  {
   "cell_type": "code",
   "execution_count": 29,
   "metadata": {},
   "outputs": [
    {
     "data": {
      "image/png": "[encoded data removed]",
      "text/plain": [
       "<Figure size 640x480 with 1 Axes>"
      ]
     },
     "metadata": {},
     "output_type": "display_data"
    }
   ],
   "source": [
    "feature_importances = pd.DataFrame(rf.feature_importances_,\n",
    "                                   index = X_train.columns,\n",
    "                                   columns=['importance']).sort_values('importance',ascending=False)\n",
    "\n",
    "fig = plt.figure()\n",
    "plt.barh(feature_importances.index,feature_importances.importance)\n",
    "\n",
    "plt.show()"
   ]
  },
  {
   "cell_type": "code",
   "execution_count": 30,
   "metadata": {},
   "outputs": [],
   "source": [
    "from sklearn.feature_selection import RFE\n",
    "from sklearn.pipeline import Pipeline\n",
    "from sklearn.model_selection import cross_val_score\n",
    "from sklearn.model_selection import RepeatedStratifiedKFold"
   ]
  },
  {
   "cell_type": "code",
   "execution_count": 31,
   "metadata": {},
   "outputs": [],
   "source": [
    "X_train, X_test, y_train, y_test = train_test_split(X, y, test_size=0.2)\n",
    "rf = RandomForestClassifier(max_depth = 7, n_estimators = 50, n_jobs = -1, class_weight='balanced_subsample')\n",
    "rfe = RFE(estimator=rf, n_features_to_select=10)\n",
    "pipeline = Pipeline(steps=[('s',rfe),('m',rf)])\n",
    "\n",
    "cv = RepeatedStratifiedKFold(n_splits=10, n_repeats=3, random_state=1)\n",
    "n_scores = cross_val_score(pipeline, X_train, y_train, scoring='accuracy', cv=cv, n_jobs=-1, error_score='raise')\n",
    "\n",
    "pipeline.fit(X_train, y_train)\n",
    "\n",
    "y_pred = pipeline.predict(X_test)\n",
    "y_train_pred = pipeline.predict(X_train)"
   ]
  },
  {
   "cell_type": "code",
   "execution_count": 32,
   "metadata": {},
   "outputs": [
    {
     "name": "stdout",
     "output_type": "stream",
     "text": [
      "Accuracy: 0.548 (0.053)\n"
     ]
    }
   ],
   "source": [
    "print('Accuracy: %.3f (%.3f)' % (np.mean(n_scores), np.std(n_scores)))"
   ]
  },
  {
   "cell_type": "code",
   "execution_count": 33,
   "metadata": {},
   "outputs": [
    {
     "data": {
      "text/plain": [
       "<sklearn.metrics._plot.confusion_matrix.ConfusionMatrixDisplay at 0x16230e810>"
      ]
     },
     "execution_count": 33,
     "metadata": {},
     "output_type": "execute_result"
    },
    {
     "data": {
      "image/png": "[encoded data removed]",
      "text/plain": [
       "<Figure size 640x480 with 2 Axes>"
      ]
     },
     "metadata": {},
     "output_type": "display_data"
    }
   ],
   "source": [
    "cm = confusion_matrix(y_test, y_pred, labels=rf.classes_)\n",
    "disp = ConfusionMatrixDisplay(cm, display_labels=rf.classes_)\n",
    "disp.plot()"
   ]
  },
  {
   "cell_type": "code",
   "execution_count": 34,
   "metadata": {},
   "outputs": [
    {
     "name": "stdout",
     "output_type": "stream",
     "text": [
      "              precision    recall  f1-score   support\n",
      "\n",
      "           5       0.11      0.09      0.10        11\n",
      "           6       0.43      0.46      0.44        70\n",
      "           7       0.58      0.61      0.59       103\n",
      "           8       0.41      0.28      0.33        25\n",
      "\n",
      "    accuracy                           0.49       209\n",
      "   macro avg       0.38      0.36      0.37       209\n",
      "weighted avg       0.48      0.49      0.49       209\n",
      "\n"
     ]
    }
   ],
   "source": [
    "print(classification_report(y_test, y_pred))"
   ]
  },
  {
   "cell_type": "code",
   "execution_count": 36,
   "metadata": {},
   "outputs": [
    {
     "ename": "ValueError",
     "evalue": "Shape of passed values is (10, 1), indices imply (19, 1)",
     "output_type": "error",
     "traceback": [
      "\u001b[0;31m---------------------------------------------------------------------------\u001b[0m",
      "\u001b[0;31mValueError\u001b[0m                                Traceback (most recent call last)",
      "Cell \u001b[0;32mIn[36], line 1\u001b[0m\n\u001b[0;32m----> 1\u001b[0m feature_importances \u001b[39m=\u001b[39m pd\u001b[39m.\u001b[39;49mDataFrame(rf\u001b[39m.\u001b[39;49mfeature_importances_,\n\u001b[1;32m      2\u001b[0m                                    index \u001b[39m=\u001b[39;49m X_train\u001b[39m.\u001b[39;49mcolumns,\n\u001b[1;32m      3\u001b[0m                                    columns\u001b[39m=\u001b[39;49m[\u001b[39m'\u001b[39;49m\u001b[39mimportance\u001b[39;49m\u001b[39m'\u001b[39;49m])\u001b[39m.\u001b[39msort_values(\u001b[39m'\u001b[39m\u001b[39mimportance\u001b[39m\u001b[39m'\u001b[39m,ascending\u001b[39m=\u001b[39m\u001b[39mFalse\u001b[39;00m)\n\u001b[1;32m      5\u001b[0m fig \u001b[39m=\u001b[39m plt\u001b[39m.\u001b[39mfigure()\n\u001b[1;32m      6\u001b[0m plt\u001b[39m.\u001b[39mbarh(feature_importances\u001b[39m.\u001b[39mindex,feature_importances\u001b[39m.\u001b[39mimportance)\n",
      "File \u001b[0;32m~/opt/miniconda3/envs/DMT/lib/python3.11/site-packages/pandas/core/frame.py:722\u001b[0m, in \u001b[0;36mDataFrame.__init__\u001b[0;34m(self, data, index, columns, dtype, copy)\u001b[0m\n\u001b[1;32m    712\u001b[0m         mgr \u001b[39m=\u001b[39m dict_to_mgr(\n\u001b[1;32m    713\u001b[0m             \u001b[39m# error: Item \"ndarray\" of \"Union[ndarray, Series, Index]\" has no\u001b[39;00m\n\u001b[1;32m    714\u001b[0m             \u001b[39m# attribute \"name\"\u001b[39;00m\n\u001b[0;32m   (...)\u001b[0m\n\u001b[1;32m    719\u001b[0m             typ\u001b[39m=\u001b[39mmanager,\n\u001b[1;32m    720\u001b[0m         )\n\u001b[1;32m    721\u001b[0m     \u001b[39melse\u001b[39;00m:\n\u001b[0;32m--> 722\u001b[0m         mgr \u001b[39m=\u001b[39m ndarray_to_mgr(\n\u001b[1;32m    723\u001b[0m             data,\n\u001b[1;32m    724\u001b[0m             index,\n\u001b[1;32m    725\u001b[0m             columns,\n\u001b[1;32m    726\u001b[0m             dtype\u001b[39m=\u001b[39;49mdtype,\n\u001b[1;32m    727\u001b[0m             copy\u001b[39m=\u001b[39;49mcopy,\n\u001b[1;32m    728\u001b[0m             typ\u001b[39m=\u001b[39;49mmanager,\n\u001b[1;32m    729\u001b[0m         )\n\u001b[1;32m    731\u001b[0m \u001b[39m# For data is list-like, or Iterable (will consume into list)\u001b[39;00m\n\u001b[1;32m    732\u001b[0m \u001b[39melif\u001b[39;00m is_list_like(data):\n",
      "File \u001b[0;32m~/opt/miniconda3/envs/DMT/lib/python3.11/site-packages/pandas/core/internals/construction.py:349\u001b[0m, in \u001b[0;36mndarray_to_mgr\u001b[0;34m(values, index, columns, dtype, copy, typ)\u001b[0m\n\u001b[1;32m    344\u001b[0m \u001b[39m# _prep_ndarraylike ensures that values.ndim == 2 at this point\u001b[39;00m\n\u001b[1;32m    345\u001b[0m index, columns \u001b[39m=\u001b[39m _get_axes(\n\u001b[1;32m    346\u001b[0m     values\u001b[39m.\u001b[39mshape[\u001b[39m0\u001b[39m], values\u001b[39m.\u001b[39mshape[\u001b[39m1\u001b[39m], index\u001b[39m=\u001b[39mindex, columns\u001b[39m=\u001b[39mcolumns\n\u001b[1;32m    347\u001b[0m )\n\u001b[0;32m--> 349\u001b[0m _check_values_indices_shape_match(values, index, columns)\n\u001b[1;32m    351\u001b[0m \u001b[39mif\u001b[39;00m typ \u001b[39m==\u001b[39m \u001b[39m\"\u001b[39m\u001b[39marray\u001b[39m\u001b[39m\"\u001b[39m:\n\u001b[1;32m    353\u001b[0m     \u001b[39mif\u001b[39;00m \u001b[39missubclass\u001b[39m(values\u001b[39m.\u001b[39mdtype\u001b[39m.\u001b[39mtype, \u001b[39mstr\u001b[39m):\n",
      "File \u001b[0;32m~/opt/miniconda3/envs/DMT/lib/python3.11/site-packages/pandas/core/internals/construction.py:420\u001b[0m, in \u001b[0;36m_check_values_indices_shape_match\u001b[0;34m(values, index, columns)\u001b[0m\n\u001b[1;32m    418\u001b[0m passed \u001b[39m=\u001b[39m values\u001b[39m.\u001b[39mshape\n\u001b[1;32m    419\u001b[0m implied \u001b[39m=\u001b[39m (\u001b[39mlen\u001b[39m(index), \u001b[39mlen\u001b[39m(columns))\n\u001b[0;32m--> 420\u001b[0m \u001b[39mraise\u001b[39;00m \u001b[39mValueError\u001b[39;00m(\u001b[39mf\u001b[39m\u001b[39m\"\u001b[39m\u001b[39mShape of passed values is \u001b[39m\u001b[39m{\u001b[39;00mpassed\u001b[39m}\u001b[39;00m\u001b[39m, indices imply \u001b[39m\u001b[39m{\u001b[39;00mimplied\u001b[39m}\u001b[39;00m\u001b[39m\"\u001b[39m)\n",
      "\u001b[0;31mValueError\u001b[0m: Shape of passed values is (10, 1), indices imply (19, 1)"
     ]
    }
   ],
   "source": [
    "feature_importances = pd.DataFrame(rf.feature_importances_,\n",
    "                                   index = X_train.columns,\n",
    "                                   columns=['importance']).sort_values('importance',ascending=False)\n",
    "\n",
    "fig = plt.figure()\n",
    "plt.barh(feature_importances.index,feature_importances.importance)\n",
    "\n",
    "plt.show()"
   ]
  },
  {
   "cell_type": "code",
   "execution_count": null,
   "metadata": {},
   "outputs": [],
   "source": []
  }
 ],
 "metadata": {
  "kernelspec": {
   "display_name": "DMT",
   "language": "python",
   "name": "python3"
  },
  "language_info": {
   "codemirror_mode": {
    "name": "ipython",
    "version": 3
   },
   "file_extension": ".py",
   "mimetype": "text/x-python",
   "name": "python",
   "nbconvert_exporter": "python",
   "pygments_lexer": "ipython3",
   "version": "3.11.2"
  },
  "orig_nbformat": 4
 },
 "nbformat": 4,
 "nbformat_minor": 2
}
