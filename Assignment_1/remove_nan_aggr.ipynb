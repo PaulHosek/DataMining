{
 "cells": [
  {
   "cell_type": "markdown",
   "source": [
    "#### Remove NaN values and interpolate\n",
    "- if beginning we set to 0 and if makes sense with feature\n",
    "- if between we interpolate and if makes sense\n",
    "- if whole column nan we set all to 0"
   ],
   "metadata": {
    "collapsed": false,
    "pycharm": {
     "name": "#%% md\n"
    }
   }
  },
  {
   "cell_type": "code",
   "execution_count": 44,
   "metadata": {
    "collapsed": true,
    "pycharm": {
     "name": "#%%\n"
    }
   },
   "outputs": [],
   "source": [
    "import matplotlib as mpl\n",
    "import pandas as pd\n",
    "import os\n",
    "mpl.rcParams['figure.figsize'] = (8, 6)\n",
    "mpl.rcParams['axes.grid'] = False"
   ]
  },
  {
   "cell_type": "code",
   "execution_count": 45,
   "outputs": [
    {
     "data": {
      "text/plain": "    weekday      mood  circumplex.arousal  circumplex.valence  activity  \\\n0         4  6.250000            0.000000            0.250000  0.240971   \n1         5  6.600000            0.600000            0.750000  0.227151   \n2         6  6.600000            0.200000            0.400000  0.114042   \n3         0  5.800000            1.000000            0.000000  0.197505   \n4         1  7.000000            0.750000            0.750000  0.108581   \n..      ...       ...                 ...                 ...       ...   \n38        1  6.000000           -0.800000            0.200000  0.042570   \n39        2  8.400000            0.600000            1.400000  0.194939   \n40        3  6.666667           -1.666667            0.666667  0.067023   \n41        4  7.000000           -0.600000            0.000000  0.202326   \n42        5  6.000000           -2.000000           -1.000000  0.008403   \n\n          screen  call  sms  appCat.builtin  appCat.communication  ...  \\\n0   15091.126000   6.0  0.0        2706.775              6107.310  ...   \n1    6376.119999   3.0  1.0         913.582              4882.987  ...   \n2    4258.870001   0.0  0.0        1138.127              3497.339  ...   \n3   14915.900001  10.0  0.0         967.040              8482.401  ...   \n4   15055.802999   0.0  1.0         759.339              7998.608  ...   \n..           ...   ...  ...             ...                   ...  ...   \n38  12699.559000   1.0  2.0         422.086              1735.202  ...   \n39  12953.625999  10.0  1.0        2726.064              1972.690  ...   \n40   5735.908000   2.0  0.0         311.093               715.744  ...   \n41   6203.046000   7.0  1.0        2651.988              1537.881  ...   \n42   3687.178999   0.0  0.0         660.224               225.487  ...   \n\n    appCat.game  appCat.office  appCat.other  appCat.social  appCat.travel  \\\n0           0.0         62.281       228.715       4009.135        915.445   \n1           0.0        109.925        97.125        439.632         37.305   \n2           0.0          0.000        52.658        367.596          0.000   \n3           0.0          3.010        87.738       3691.595        419.805   \n4           0.0          0.000       140.656       1527.405          0.000   \n..          ...            ...           ...            ...            ...   \n38          0.0          0.000       133.572       1861.658          0.000   \n39          0.0        357.909       536.937       3769.875          0.000   \n40          0.0          0.000        24.298       3660.437          0.000   \n41          0.0          0.000        57.545       1337.595       1053.587   \n42          0.0          0.000        10.121       1835.872          0.000   \n\n    appCat.unknown  appCat.utilities  appCat.weather  subject_id  days  \n0            0.000           317.139             0.0           1     0  \n1            0.000           117.621             0.0           1     1  \n2            0.000             0.000             0.0           1     2  \n3            0.000           208.818             0.0           1     3  \n4          235.223            74.431             0.0           1     4  \n..             ...               ...             ...         ...   ...  \n38           0.000            56.173             0.0          33    41  \n39           0.000            30.666             0.0          33    42  \n40           0.000             0.000             0.0          33    43  \n41           8.072           227.999             0.0          33    44  \n42           0.000             8.025             0.0          33    45  \n\n[1169 rows x 22 columns]",
      "text/html": "<div>\n<style scoped>\n    .dataframe tbody tr th:only-of-type {\n        vertical-align: middle;\n    }\n\n    .dataframe tbody tr th {\n        vertical-align: top;\n    }\n\n    .dataframe thead th {\n        text-align: right;\n    }\n</style>\n<table border=\"1\" class=\"dataframe\">\n  <thead>\n    <tr style=\"text-align: right;\">\n      <th></th>\n      <th>weekday</th>\n      <th>mood</th>\n      <th>circumplex.arousal</th>\n      <th>circumplex.valence</th>\n      <th>activity</th>\n      <th>screen</th>\n      <th>call</th>\n      <th>sms</th>\n      <th>appCat.builtin</th>\n      <th>appCat.communication</th>\n      <th>...</th>\n      <th>appCat.game</th>\n      <th>appCat.office</th>\n      <th>appCat.other</th>\n      <th>appCat.social</th>\n      <th>appCat.travel</th>\n      <th>appCat.unknown</th>\n      <th>appCat.utilities</th>\n      <th>appCat.weather</th>\n      <th>subject_id</th>\n      <th>days</th>\n    </tr>\n  </thead>\n  <tbody>\n    <tr>\n      <th>0</th>\n      <td>4</td>\n      <td>6.250000</td>\n      <td>0.000000</td>\n      <td>0.250000</td>\n      <td>0.240971</td>\n      <td>15091.126000</td>\n      <td>6.0</td>\n      <td>0.0</td>\n      <td>2706.775</td>\n      <td>6107.310</td>\n      <td>...</td>\n      <td>0.0</td>\n      <td>62.281</td>\n      <td>228.715</td>\n      <td>4009.135</td>\n      <td>915.445</td>\n      <td>0.000</td>\n      <td>317.139</td>\n      <td>0.0</td>\n      <td>1</td>\n      <td>0</td>\n    </tr>\n    <tr>\n      <th>1</th>\n      <td>5</td>\n      <td>6.600000</td>\n      <td>0.600000</td>\n      <td>0.750000</td>\n      <td>0.227151</td>\n      <td>6376.119999</td>\n      <td>3.0</td>\n      <td>1.0</td>\n      <td>913.582</td>\n      <td>4882.987</td>\n      <td>...</td>\n      <td>0.0</td>\n      <td>109.925</td>\n      <td>97.125</td>\n      <td>439.632</td>\n      <td>37.305</td>\n      <td>0.000</td>\n      <td>117.621</td>\n      <td>0.0</td>\n      <td>1</td>\n      <td>1</td>\n    </tr>\n    <tr>\n      <th>2</th>\n      <td>6</td>\n      <td>6.600000</td>\n      <td>0.200000</td>\n      <td>0.400000</td>\n      <td>0.114042</td>\n      <td>4258.870001</td>\n      <td>0.0</td>\n      <td>0.0</td>\n      <td>1138.127</td>\n      <td>3497.339</td>\n      <td>...</td>\n      <td>0.0</td>\n      <td>0.000</td>\n      <td>52.658</td>\n      <td>367.596</td>\n      <td>0.000</td>\n      <td>0.000</td>\n      <td>0.000</td>\n      <td>0.0</td>\n      <td>1</td>\n      <td>2</td>\n    </tr>\n    <tr>\n      <th>3</th>\n      <td>0</td>\n      <td>5.800000</td>\n      <td>1.000000</td>\n      <td>0.000000</td>\n      <td>0.197505</td>\n      <td>14915.900001</td>\n      <td>10.0</td>\n      <td>0.0</td>\n      <td>967.040</td>\n      <td>8482.401</td>\n      <td>...</td>\n      <td>0.0</td>\n      <td>3.010</td>\n      <td>87.738</td>\n      <td>3691.595</td>\n      <td>419.805</td>\n      <td>0.000</td>\n      <td>208.818</td>\n      <td>0.0</td>\n      <td>1</td>\n      <td>3</td>\n    </tr>\n    <tr>\n      <th>4</th>\n      <td>1</td>\n      <td>7.000000</td>\n      <td>0.750000</td>\n      <td>0.750000</td>\n      <td>0.108581</td>\n      <td>15055.802999</td>\n      <td>0.0</td>\n      <td>1.0</td>\n      <td>759.339</td>\n      <td>7998.608</td>\n      <td>...</td>\n      <td>0.0</td>\n      <td>0.000</td>\n      <td>140.656</td>\n      <td>1527.405</td>\n      <td>0.000</td>\n      <td>235.223</td>\n      <td>74.431</td>\n      <td>0.0</td>\n      <td>1</td>\n      <td>4</td>\n    </tr>\n    <tr>\n      <th>...</th>\n      <td>...</td>\n      <td>...</td>\n      <td>...</td>\n      <td>...</td>\n      <td>...</td>\n      <td>...</td>\n      <td>...</td>\n      <td>...</td>\n      <td>...</td>\n      <td>...</td>\n      <td>...</td>\n      <td>...</td>\n      <td>...</td>\n      <td>...</td>\n      <td>...</td>\n      <td>...</td>\n      <td>...</td>\n      <td>...</td>\n      <td>...</td>\n      <td>...</td>\n      <td>...</td>\n    </tr>\n    <tr>\n      <th>38</th>\n      <td>1</td>\n      <td>6.000000</td>\n      <td>-0.800000</td>\n      <td>0.200000</td>\n      <td>0.042570</td>\n      <td>12699.559000</td>\n      <td>1.0</td>\n      <td>2.0</td>\n      <td>422.086</td>\n      <td>1735.202</td>\n      <td>...</td>\n      <td>0.0</td>\n      <td>0.000</td>\n      <td>133.572</td>\n      <td>1861.658</td>\n      <td>0.000</td>\n      <td>0.000</td>\n      <td>56.173</td>\n      <td>0.0</td>\n      <td>33</td>\n      <td>41</td>\n    </tr>\n    <tr>\n      <th>39</th>\n      <td>2</td>\n      <td>8.400000</td>\n      <td>0.600000</td>\n      <td>1.400000</td>\n      <td>0.194939</td>\n      <td>12953.625999</td>\n      <td>10.0</td>\n      <td>1.0</td>\n      <td>2726.064</td>\n      <td>1972.690</td>\n      <td>...</td>\n      <td>0.0</td>\n      <td>357.909</td>\n      <td>536.937</td>\n      <td>3769.875</td>\n      <td>0.000</td>\n      <td>0.000</td>\n      <td>30.666</td>\n      <td>0.0</td>\n      <td>33</td>\n      <td>42</td>\n    </tr>\n    <tr>\n      <th>40</th>\n      <td>3</td>\n      <td>6.666667</td>\n      <td>-1.666667</td>\n      <td>0.666667</td>\n      <td>0.067023</td>\n      <td>5735.908000</td>\n      <td>2.0</td>\n      <td>0.0</td>\n      <td>311.093</td>\n      <td>715.744</td>\n      <td>...</td>\n      <td>0.0</td>\n      <td>0.000</td>\n      <td>24.298</td>\n      <td>3660.437</td>\n      <td>0.000</td>\n      <td>0.000</td>\n      <td>0.000</td>\n      <td>0.0</td>\n      <td>33</td>\n      <td>43</td>\n    </tr>\n    <tr>\n      <th>41</th>\n      <td>4</td>\n      <td>7.000000</td>\n      <td>-0.600000</td>\n      <td>0.000000</td>\n      <td>0.202326</td>\n      <td>6203.046000</td>\n      <td>7.0</td>\n      <td>1.0</td>\n      <td>2651.988</td>\n      <td>1537.881</td>\n      <td>...</td>\n      <td>0.0</td>\n      <td>0.000</td>\n      <td>57.545</td>\n      <td>1337.595</td>\n      <td>1053.587</td>\n      <td>8.072</td>\n      <td>227.999</td>\n      <td>0.0</td>\n      <td>33</td>\n      <td>44</td>\n    </tr>\n    <tr>\n      <th>42</th>\n      <td>5</td>\n      <td>6.000000</td>\n      <td>-2.000000</td>\n      <td>-1.000000</td>\n      <td>0.008403</td>\n      <td>3687.178999</td>\n      <td>0.0</td>\n      <td>0.0</td>\n      <td>660.224</td>\n      <td>225.487</td>\n      <td>...</td>\n      <td>0.0</td>\n      <td>0.000</td>\n      <td>10.121</td>\n      <td>1835.872</td>\n      <td>0.000</td>\n      <td>0.000</td>\n      <td>8.025</td>\n      <td>0.0</td>\n      <td>33</td>\n      <td>45</td>\n    </tr>\n  </tbody>\n</table>\n<p>1169 rows × 22 columns</p>\n</div>"
     },
     "metadata": {},
     "output_type": "display_data"
    }
   ],
   "source": [
    "data_list = []\n",
    "for filename in sorted(os.listdir('data/aggregated_individual_data/')):\n",
    "    with open('data/aggregated_individual_data/'+filename, 'r') as f: # open in readonly mode\n",
    "        df = pd.read_csv(f, index_col='time', parse_dates=[\"time\"])\n",
    "        df.drop('Unnamed: 0', inplace=True, axis = 1)\n",
    "        df.interpolate(method=\"time\", inplace=True)\n",
    "        df.reset_index(inplace=True)\n",
    "        df[\"subject_id\"] = int(filename[5:7])\n",
    "        df['days'] = (df['time'] - df['time'].min()).dt.days.astype(int)\n",
    "        df.drop([\"time\"], inplace=True,axis=1)\n",
    "        # weather app is nan if not used\n",
    "        # activity is nan if no sports\n",
    "        df[\"appCat.weather\"].fillna(0, inplace=True)\n",
    "        df[\"activity\"].fillna(0, inplace=True)\n",
    "\n",
    "        data_list.append(df)\n",
    "\n",
    "data = pd.concat(data_list)\n",
    "display(data)"
   ],
   "metadata": {
    "collapsed": false,
    "pycharm": {
     "name": "#%%\n"
    }
   }
  },
  {
   "cell_type": "code",
   "execution_count": 47,
   "outputs": [],
   "source": [
    "data.to_csv(\"data/all_data_aggr_nonan.csv\")"
   ],
   "metadata": {
    "collapsed": false,
    "pycharm": {
     "name": "#%%\n"
    }
   }
  },
  {
   "cell_type": "code",
   "execution_count": null,
   "outputs": [],
   "source": [],
   "metadata": {
    "collapsed": false,
    "pycharm": {
     "name": "#%%\n"
    }
   }
  }
 ],
 "metadata": {
  "kernelspec": {
   "display_name": "Python 3",
   "language": "python",
   "name": "python3"
  },
  "language_info": {
   "codemirror_mode": {
    "name": "ipython",
    "version": 2
   },
   "file_extension": ".py",
   "mimetype": "text/x-python",
   "name": "python",
   "nbconvert_exporter": "python",
   "pygments_lexer": "ipython2",
   "version": "2.7.6"
  }
 },
 "nbformat": 4,
 "nbformat_minor": 0
}