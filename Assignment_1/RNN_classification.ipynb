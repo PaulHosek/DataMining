{
 "cells": [
  {
   "cell_type": "code",
   "execution_count": 15,
   "outputs": [
    {
     "name": "stderr",
     "output_type": "stream",
     "text": [
      "2023-04-16 10:28:11.343218: I tensorflow/core/platform/cpu_feature_guard.cc:193] This TensorFlow binary is optimized with oneAPI Deep Neural Network Library (oneDNN) to use the following CPU instructions in performance-critical operations:  SSE4.1 SSE4.2 AVX AVX2 FMA\n",
      "To enable them in other operations, rebuild TensorFlow with the appropriate compiler flags.\n"
     ]
    }
   ],
   "source": [
    "import matplotlib as mpl\n",
    "import matplotlib.pyplot as plt\n",
    "import numpy as np\n",
    "import pandas as pd\n",
    "import tensorflow as tf\n",
    "from tensorflow.keras.utils import timeseries_dataset_from_array\n",
    "import matplotlib.pyplot as plt\n",
    "import seaborn as sns\n",
    "from MultiSeriesWindowsGenerator import MultiSeriesWindowsGenerator\n",
    "import IPython.display"
   ],
   "metadata": {
    "collapsed": false,
    "pycharm": {
     "name": "#%%\n"
    }
   }
  },
  {
   "cell_type": "code",
   "execution_count": 16,
   "outputs": [],
   "source": [
    "pd.set_option(\"display.max_row\", 200)"
   ],
   "metadata": {
    "collapsed": false,
    "pycharm": {
     "name": "#%%\n"
    }
   }
  },
  {
   "cell_type": "code",
   "execution_count": 17,
   "outputs": [],
   "source": [
    "df = pd.read_csv(\"data/all_data_aggr_nonan.csv\", index_col=0)"
   ],
   "metadata": {
    "collapsed": false,
    "pycharm": {
     "name": "#%%\n"
    }
   }
  },
  {
   "cell_type": "code",
   "execution_count": 18,
   "outputs": [],
   "source": [
    "df.mood = df.mood.round(0)"
   ],
   "metadata": {
    "collapsed": false,
    "pycharm": {
     "name": "#%%\n"
    }
   }
  },
  {
   "cell_type": "code",
   "execution_count": 20,
   "outputs": [],
   "source": [
    "LABELS = ['mood']\n",
    "REGRESSORS = ['weekday', 'circumplex.arousal', 'circumplex.valence',\n",
    "              'activity', 'screen', 'call', 'sms', 'appCat.builtin',\n",
    "              'appCat.communication', 'appCat.entertainment', 'appCat.finance',\n",
    "              'appCat.game', 'appCat.office', 'appCat.other', 'appCat.social',\n",
    "              'appCat.travel', 'appCat.unknown', 'appCat.utilities', 'appCat.weather']\n",
    "\n",
    "DATE = 'days'  # always correct\n",
    "IN_STEPS = 7  # use 7 days\n",
    "OUT_STEPS = 1  # to predict 1 day in the future\n",
    "GROUPBY = ['subject_id']\n",
    "BATCH_SIZE = 8"
   ],
   "metadata": {
    "collapsed": false,
    "pycharm": {
     "name": "#%%\n"
    }
   }
  },
  {
   "cell_type": "code",
   "execution_count": 21,
   "outputs": [
    {
     "name": "stderr",
     "output_type": "stream",
     "text": [
      "2023-04-16 10:28:20.089151: I tensorflow/core/platform/cpu_feature_guard.cc:193] This TensorFlow binary is optimized with oneAPI Deep Neural Network Library (oneDNN) to use the following CPU instructions in performance-critical operations:  SSE4.1 SSE4.2 AVX AVX2 FMA\n",
      "To enable them in other operations, rebuild TensorFlow with the appropriate compiler flags.\n"
     ]
    }
   ],
   "source": [
    "n = len(df)\n",
    "train_series = df.groupby(GROUPBY, as_index=False, group_keys=False).apply(\n",
    "    lambda x: x.iloc[:int(len(x) * 0.7)]).reset_index(drop=True)\n",
    "val_series = df.groupby(GROUPBY, as_index=False, group_keys=False).apply(\n",
    "    lambda x: x.iloc[int(len(x) * 0.7):int(len(x) * 0.9)]).reset_index(drop=True)\n",
    "test_series = df.groupby(GROUPBY, as_index=False, group_keys=False).apply(\n",
    "    lambda x: x.iloc[int(len(x) * 0.9):]).reset_index(drop=True)\n",
    "\n",
    "test_window = MultiSeriesWindowsGenerator(\n",
    "    input_width=IN_STEPS, label_width=OUT_STEPS, shift=1, batch_size=BATCH_SIZE, GROUPBY=GROUPBY,\n",
    "    label_columns=LABELS, regressor_columns=REGRESSORS, DATE=DATE, LABELS=LABELS)\n",
    "\n",
    "test_window.update_datasets(train_series, val_series, test_series)"
   ],
   "metadata": {
    "collapsed": false,
    "pycharm": {
     "name": "#%%\n"
    }
   }
  },
  {
   "cell_type": "code",
   "execution_count": 22,
   "outputs": [],
   "source": [
    "a, b = test_window.example\n"
   ],
   "metadata": {
    "collapsed": false,
    "pycharm": {
     "name": "#%%\n"
    }
   }
  },
  {
   "cell_type": "code",
   "execution_count": 23,
   "outputs": [],
   "source": [
    "lstm_model_classifier = tf.keras.models.Sequential([\n",
    "    tf.keras.layers.LSTM(64, return_sequences=True),\n",
    "    tf.keras.layers.Dropout(0.2),\n",
    "    tf.keras.layers.LSTM(64, return_sequences=False),\n",
    "    tf.keras.layers.Dropout(0.2),\n",
    "    tf.keras.layers.Dense(units=11, activation='softmax')\n",
    "])\n",
    "\n",
    "MAX_EPOCHS = 5"
   ],
   "metadata": {
    "collapsed": false,
    "pycharm": {
     "name": "#%%\n"
    }
   }
  },
  {
   "cell_type": "code",
   "execution_count": 45,
   "outputs": [],
   "source": [
    "def compile_and_fit_classifier(model, window, patience=2):\n",
    "    early_stopping = tf.keras.callbacks.EarlyStopping(monitor='val_loss',\n",
    "                                                      patience=patience,\n",
    "                                                      mode='min')\n",
    "\n",
    "    # model.compile(loss=tf.keras.losses.MeanSquaredError(),\n",
    "    #               optimizer=tf.keras.optimizers.Adam(learning_rate=0.001, clipnorm=1),\n",
    "    #               metrics=[tf.keras.metrics.MeanAbsoluteError()])\n",
    "    model.compile(loss=tf.keras.losses.SparseCategoricalCrossentropy(),\n",
    "              optimizer=tf.keras.optimizers.Adam(learning_rate=0.001, clipnorm=1),\n",
    "              metrics=[tf.keras.metrics.SparseCategoricalAccuracy()])\n",
    "\n",
    "\n",
    "    history = model.fit(window.train, epochs=MAX_EPOCHS,\n",
    "                        validation_data=window.val,\n",
    "                        callbacks=[early_stopping])\n",
    "    return history"
   ],
   "metadata": {
    "collapsed": false,
    "pycharm": {
     "name": "#%%\n"
    }
   }
  },
  {
   "cell_type": "code",
   "execution_count": 46,
   "outputs": [
    {
     "name": "stdout",
     "output_type": "stream",
     "text": [
      "Epoch 1/5\n",
      "105/105 [==============================] - 20s 70ms/step - loss: 0.8796 - sparse_categorical_accuracy: 0.6535 - mean_squared_error: 35.8915 - mean_absolute_error: 5.1283 - val_loss: 1.4782 - val_sparse_categorical_accuracy: 0.6243 - val_mean_squared_error: 18.1460 - val_mean_absolute_error: 2.6558\n",
      "Epoch 2/5\n",
      "105/105 [==============================] - 6s 42ms/step - loss: 0.8402 - sparse_categorical_accuracy: 0.6762 - mean_squared_error: 35.8249 - mean_absolute_error: 5.1185 - val_loss: 1.4955 - val_sparse_categorical_accuracy: 0.6367 - val_mean_squared_error: 18.1438 - val_mean_absolute_error: 2.6555\n",
      "Epoch 3/5\n",
      "105/105 [==============================] - 4s 26ms/step - loss: 0.8444 - sparse_categorical_accuracy: 0.6691 - mean_squared_error: 35.8628 - mean_absolute_error: 5.1261 - val_loss: 1.5195 - val_sparse_categorical_accuracy: 0.6226 - val_mean_squared_error: 18.1306 - val_mean_absolute_error: 2.6538\n",
      "71/71 [==============================] - 3s 5ms/step\n",
      "68/68 [==============================] - 2s 5ms/step\n"
     ]
    }
   ],
   "source": [
    "history = compile_and_fit_classifier(lstm_model_classifier, test_window)\n",
    "val_performance = {}\n",
    "performance = {}\n",
    "\n",
    "probs = lstm_model_classifier.predict(test_window.val)\n",
    "preds = probs.argmax(axis=-1)\n",
    "val_performance['LSTM'] = lstm_model_classifier.evaluate(test_window.val, verbose=0)\n",
    "\n",
    "probs = lstm_model_classifier.predict(test_window.test)\n",
    "preds = probs.argmax(axis=-1)\n",
    "performance['LSTM'] = lstm_model_classifier.evaluate(test_window.test, verbose=0)"
   ],
   "metadata": {
    "collapsed": false,
    "pycharm": {
     "name": "#%%\n"
    }
   }
  },
  {
   "cell_type": "code",
   "execution_count": 26,
   "outputs": [
    {
     "name": "stdout",
     "output_type": "stream",
     "text": [
      "The accuracy on the test set is: 0.7704\n"
     ]
    }
   ],
   "source": [
    "print(\"The accuracy on the test set is:\",round(performance[\"LSTM\"][1], 4))"
   ],
   "metadata": {
    "collapsed": false,
    "pycharm": {
     "name": "#%%\n"
    }
   }
  },
  {
   "cell_type": "markdown",
   "source": [
    "Construct CI for performance"
   ],
   "metadata": {
    "collapsed": false,
    "pycharm": {
     "name": "#%% md\n"
    }
   }
  },
  {
   "cell_type": "code",
   "execution_count": 47,
   "outputs": [
    {
     "data": {
      "text/plain": "{'LSTM': [1.2193348407745361,\n  0.7314814925193787,\n  10.892372131347656,\n  1.5919122695922852]}"
     },
     "execution_count": 47,
     "metadata": {},
     "output_type": "execute_result"
    }
   ],
   "source": [
    "performance"
   ],
   "metadata": {
    "collapsed": false,
    "pycharm": {
     "name": "#%%\n"
    }
   }
  },
  {
   "cell_type": "code",
   "execution_count": 48,
   "outputs": [
    {
     "name": "stdout",
     "output_type": "stream",
     "text": [
      "Epoch 1/5\n",
      "105/105 [==============================] - 19s 105ms/step - loss: 0.8683 - sparse_categorical_accuracy: 0.6440 - mean_squared_error: 35.8378 - mean_absolute_error: 5.1220 - val_loss: 1.5203 - val_sparse_categorical_accuracy: 0.6314 - val_mean_squared_error: 18.1556 - val_mean_absolute_error: 2.6572\n",
      "Epoch 2/5\n",
      "105/105 [==============================] - 6s 41ms/step - loss: 0.8644 - sparse_categorical_accuracy: 0.6619 - mean_squared_error: 35.8288 - mean_absolute_error: 5.1213 - val_loss: 1.5077 - val_sparse_categorical_accuracy: 0.6296 - val_mean_squared_error: 18.1470 - val_mean_absolute_error: 2.6558\n",
      "Epoch 3/5\n",
      "105/105 [==============================] - 5s 34ms/step - loss: 0.8036 - sparse_categorical_accuracy: 0.6834 - mean_squared_error: 35.8731 - mean_absolute_error: 5.1268 - val_loss: 1.4956 - val_sparse_categorical_accuracy: 0.6349 - val_mean_squared_error: 18.1275 - val_mean_absolute_error: 2.6535\n",
      "Epoch 4/5\n",
      "105/105 [==============================] - 5s 31ms/step - loss: 0.8468 - sparse_categorical_accuracy: 0.6786 - mean_squared_error: 35.9593 - mean_absolute_error: 5.1353 - val_loss: 1.5214 - val_sparse_categorical_accuracy: 0.6296 - val_mean_squared_error: 18.1199 - val_mean_absolute_error: 2.6521\n",
      "Epoch 5/5\n",
      "105/105 [==============================] - 5s 29ms/step - loss: 0.8516 - sparse_categorical_accuracy: 0.6655 - mean_squared_error: 35.8467 - mean_absolute_error: 5.1227 - val_loss: 1.4936 - val_sparse_categorical_accuracy: 0.6349 - val_mean_squared_error: 18.1312 - val_mean_absolute_error: 2.6538\n",
      "68/68 [==============================] - 5s 13ms/step\n",
      "Epoch 1/5\n",
      "105/105 [==============================] - 14s 53ms/step - loss: 0.8754 - sparse_categorical_accuracy: 0.6547 - mean_squared_error: 35.8310 - mean_absolute_error: 5.1213 - val_loss: 1.5193 - val_sparse_categorical_accuracy: 0.6437 - val_mean_squared_error: 18.1687 - val_mean_absolute_error: 2.6589\n",
      "Epoch 2/5\n",
      "105/105 [==============================] - 3s 25ms/step - loss: 0.8237 - sparse_categorical_accuracy: 0.6810 - mean_squared_error: 35.8388 - mean_absolute_error: 5.1220 - val_loss: 1.5693 - val_sparse_categorical_accuracy: 0.6243 - val_mean_squared_error: 18.1476 - val_mean_absolute_error: 2.6558\n",
      "Epoch 3/5\n",
      "105/105 [==============================] - 3s 24ms/step - loss: 0.8147 - sparse_categorical_accuracy: 0.6870 - mean_squared_error: 35.8717 - mean_absolute_error: 5.1268 - val_loss: 1.5836 - val_sparse_categorical_accuracy: 0.6367 - val_mean_squared_error: 18.1495 - val_mean_absolute_error: 2.6567\n",
      "68/68 [==============================] - 4s 5ms/step\n",
      "Epoch 1/5\n",
      "105/105 [==============================] - 12s 58ms/step - loss: 0.8263 - sparse_categorical_accuracy: 0.6703 - mean_squared_error: 35.8533 - mean_absolute_error: 5.1254 - val_loss: 1.5641 - val_sparse_categorical_accuracy: 0.6226 - val_mean_squared_error: 18.1445 - val_mean_absolute_error: 2.6555\n",
      "Epoch 2/5\n",
      "105/105 [==============================] - 4s 32ms/step - loss: 0.8234 - sparse_categorical_accuracy: 0.6691 - mean_squared_error: 35.8585 - mean_absolute_error: 5.1234 - val_loss: 1.5541 - val_sparse_categorical_accuracy: 0.6349 - val_mean_squared_error: 18.1513 - val_mean_absolute_error: 2.6560\n",
      "Epoch 3/5\n",
      "105/105 [==============================] - 3s 24ms/step - loss: 0.8126 - sparse_categorical_accuracy: 0.6798 - mean_squared_error: 35.7907 - mean_absolute_error: 5.1157 - val_loss: 1.5996 - val_sparse_categorical_accuracy: 0.6314 - val_mean_squared_error: 18.1410 - val_mean_absolute_error: 2.6552\n",
      "Epoch 4/5\n",
      "105/105 [==============================] - 4s 29ms/step - loss: 0.8142 - sparse_categorical_accuracy: 0.6834 - mean_squared_error: 35.8847 - mean_absolute_error: 5.1276 - val_loss: 1.5634 - val_sparse_categorical_accuracy: 0.6279 - val_mean_squared_error: 18.1223 - val_mean_absolute_error: 2.6523\n",
      "68/68 [==============================] - 5s 7ms/step\n",
      "Epoch 1/5\n",
      "105/105 [==============================] - 9s 36ms/step - loss: 0.8276 - sparse_categorical_accuracy: 0.6714 - mean_squared_error: 35.7350 - mean_absolute_error: 5.1074 - val_loss: 1.5687 - val_sparse_categorical_accuracy: 0.6296 - val_mean_squared_error: 18.1204 - val_mean_absolute_error: 2.6521\n",
      "Epoch 2/5\n",
      "105/105 [==============================] - 3s 23ms/step - loss: 0.7949 - sparse_categorical_accuracy: 0.6918 - mean_squared_error: 35.8398 - mean_absolute_error: 5.1220 - val_loss: 1.5592 - val_sparse_categorical_accuracy: 0.6332 - val_mean_squared_error: 18.1406 - val_mean_absolute_error: 2.6553\n",
      "Epoch 3/5\n",
      "105/105 [==============================] - 4s 26ms/step - loss: 0.8052 - sparse_categorical_accuracy: 0.6774 - mean_squared_error: 35.8769 - mean_absolute_error: 5.1268 - val_loss: 1.5765 - val_sparse_categorical_accuracy: 0.6279 - val_mean_squared_error: 18.1167 - val_mean_absolute_error: 2.6518\n",
      "Epoch 4/5\n",
      "105/105 [==============================] - 7s 59ms/step - loss: 0.7868 - sparse_categorical_accuracy: 0.6774 - mean_squared_error: 35.9397 - mean_absolute_error: 5.1339 - val_loss: 1.5774 - val_sparse_categorical_accuracy: 0.6226 - val_mean_squared_error: 18.1110 - val_mean_absolute_error: 2.6506\n",
      "68/68 [==============================] - 3s 13ms/step\n",
      "Epoch 1/5\n",
      "105/105 [==============================] - 8s 34ms/step - loss: 0.7963 - sparse_categorical_accuracy: 0.6810 - mean_squared_error: 35.9161 - mean_absolute_error: 5.1317 - val_loss: 1.5914 - val_sparse_categorical_accuracy: 0.6314 - val_mean_squared_error: 18.1367 - val_mean_absolute_error: 2.6540\n",
      "Epoch 2/5\n",
      "105/105 [==============================] - 3s 20ms/step - loss: 0.7857 - sparse_categorical_accuracy: 0.6989 - mean_squared_error: 35.9206 - mean_absolute_error: 5.1324 - val_loss: 1.5933 - val_sparse_categorical_accuracy: 0.6208 - val_mean_squared_error: 18.1312 - val_mean_absolute_error: 2.6538\n",
      "Epoch 3/5\n",
      "105/105 [==============================] - 3s 18ms/step - loss: 0.8046 - sparse_categorical_accuracy: 0.6726 - mean_squared_error: 35.9002 - mean_absolute_error: 5.1310 - val_loss: 1.6251 - val_sparse_categorical_accuracy: 0.6296 - val_mean_squared_error: 18.1290 - val_mean_absolute_error: 2.6535\n",
      "68/68 [==============================] - 2s 4ms/step\n",
      "Epoch 1/5\n",
      "105/105 [==============================] - 8s 32ms/step - loss: 0.8171 - sparse_categorical_accuracy: 0.6714 - mean_squared_error: 35.8294 - mean_absolute_error: 5.1213 - val_loss: 1.6169 - val_sparse_categorical_accuracy: 0.6190 - val_mean_squared_error: 18.1556 - val_mean_absolute_error: 2.6563\n",
      "Epoch 2/5\n",
      "105/105 [==============================] - 3s 19ms/step - loss: 0.7855 - sparse_categorical_accuracy: 0.6965 - mean_squared_error: 35.8592 - mean_absolute_error: 5.1234 - val_loss: 1.6804 - val_sparse_categorical_accuracy: 0.6173 - val_mean_squared_error: 18.1235 - val_mean_absolute_error: 2.6523\n",
      "Epoch 3/5\n",
      "105/105 [==============================] - 3s 19ms/step - loss: 0.7760 - sparse_categorical_accuracy: 0.7025 - mean_squared_error: 35.8097 - mean_absolute_error: 5.1211 - val_loss: 1.6220 - val_sparse_categorical_accuracy: 0.6279 - val_mean_squared_error: 18.1327 - val_mean_absolute_error: 2.6538\n",
      "68/68 [==============================] - 2s 3ms/step\n",
      "Epoch 1/5\n",
      "105/105 [==============================] - 9s 40ms/step - loss: 0.7863 - sparse_categorical_accuracy: 0.6930 - mean_squared_error: 35.7626 - mean_absolute_error: 5.1115 - val_loss: 1.6710 - val_sparse_categorical_accuracy: 0.6314 - val_mean_squared_error: 18.1487 - val_mean_absolute_error: 2.6558\n",
      "Epoch 2/5\n",
      "105/105 [==============================] - 3s 18ms/step - loss: 0.7854 - sparse_categorical_accuracy: 0.6870 - mean_squared_error: 35.8564 - mean_absolute_error: 5.1254 - val_loss: 1.6601 - val_sparse_categorical_accuracy: 0.6243 - val_mean_squared_error: 18.1421 - val_mean_absolute_error: 2.6552\n",
      "Epoch 3/5\n",
      "105/105 [==============================] - 3s 19ms/step - loss: 0.7687 - sparse_categorical_accuracy: 0.6858 - mean_squared_error: 35.9046 - mean_absolute_error: 5.1290 - val_loss: 1.6079 - val_sparse_categorical_accuracy: 0.6349 - val_mean_squared_error: 18.1355 - val_mean_absolute_error: 2.6540\n",
      "Epoch 4/5\n",
      "105/105 [==============================] - 3s 27ms/step - loss: 0.8016 - sparse_categorical_accuracy: 0.6786 - mean_squared_error: 35.9100 - mean_absolute_error: 5.1317 - val_loss: 1.7038 - val_sparse_categorical_accuracy: 0.6208 - val_mean_squared_error: 18.1118 - val_mean_absolute_error: 2.6506\n",
      "Epoch 5/5\n",
      "105/105 [==============================] - 3s 19ms/step - loss: 0.7662 - sparse_categorical_accuracy: 0.7037 - mean_squared_error: 35.8650 - mean_absolute_error: 5.1261 - val_loss: 1.6346 - val_sparse_categorical_accuracy: 0.6120 - val_mean_squared_error: 18.1209 - val_mean_absolute_error: 2.6521\n",
      "68/68 [==============================] - 2s 4ms/step\n",
      "Epoch 1/5\n",
      "105/105 [==============================] - 8s 31ms/step - loss: 0.8026 - sparse_categorical_accuracy: 0.7013 - mean_squared_error: 35.8416 - mean_absolute_error: 5.1220 - val_loss: 1.6226 - val_sparse_categorical_accuracy: 0.6243 - val_mean_squared_error: 18.1554 - val_mean_absolute_error: 2.6570\n",
      "Epoch 2/5\n",
      "105/105 [==============================] - 3s 18ms/step - loss: 0.7568 - sparse_categorical_accuracy: 0.6941 - mean_squared_error: 35.8417 - mean_absolute_error: 5.1220 - val_loss: 1.6074 - val_sparse_categorical_accuracy: 0.6261 - val_mean_squared_error: 18.1368 - val_mean_absolute_error: 2.6540\n",
      "Epoch 3/5\n",
      "105/105 [==============================] - 3s 18ms/step - loss: 0.7617 - sparse_categorical_accuracy: 0.7049 - mean_squared_error: 35.8770 - mean_absolute_error: 5.1268 - val_loss: 1.5927 - val_sparse_categorical_accuracy: 0.6173 - val_mean_squared_error: 18.1322 - val_mean_absolute_error: 2.6538\n",
      "Epoch 4/5\n",
      "105/105 [==============================] - 3s 18ms/step - loss: 0.7546 - sparse_categorical_accuracy: 0.7133 - mean_squared_error: 35.7971 - mean_absolute_error: 5.1164 - val_loss: 1.6966 - val_sparse_categorical_accuracy: 0.6155 - val_mean_squared_error: 18.1280 - val_mean_absolute_error: 2.6526\n",
      "Epoch 5/5\n",
      "105/105 [==============================] - 3s 18ms/step - loss: 0.7677 - sparse_categorical_accuracy: 0.6941 - mean_squared_error: 35.8210 - mean_absolute_error: 5.1205 - val_loss: 1.6572 - val_sparse_categorical_accuracy: 0.6155 - val_mean_squared_error: 18.1295 - val_mean_absolute_error: 2.6535\n",
      "68/68 [==============================] - 2s 3ms/step\n",
      "Epoch 1/5\n",
      "105/105 [==============================] - 8s 31ms/step - loss: 0.7480 - sparse_categorical_accuracy: 0.7192 - mean_squared_error: 35.8872 - mean_absolute_error: 5.1296 - val_loss: 1.6352 - val_sparse_categorical_accuracy: 0.6173 - val_mean_squared_error: 18.1722 - val_mean_absolute_error: 2.6592\n",
      "Epoch 2/5\n",
      "105/105 [==============================] - 3s 25ms/step - loss: 0.7243 - sparse_categorical_accuracy: 0.7121 - mean_squared_error: 35.8780 - mean_absolute_error: 5.1268 - val_loss: 1.7309 - val_sparse_categorical_accuracy: 0.6138 - val_mean_squared_error: 18.1252 - val_mean_absolute_error: 2.6523\n",
      "Epoch 3/5\n",
      "105/105 [==============================] - 3s 21ms/step - loss: 0.7795 - sparse_categorical_accuracy: 0.6822 - mean_squared_error: 35.8527 - mean_absolute_error: 5.1227 - val_loss: 1.6359 - val_sparse_categorical_accuracy: 0.6138 - val_mean_squared_error: 18.1202 - val_mean_absolute_error: 2.6521\n",
      "68/68 [==============================] - 2s 4ms/step\n",
      "Epoch 1/5\n",
      "105/105 [==============================] - 9s 36ms/step - loss: 0.7820 - sparse_categorical_accuracy: 0.6858 - mean_squared_error: 35.8669 - mean_absolute_error: 5.1261 - val_loss: 1.6343 - val_sparse_categorical_accuracy: 0.6120 - val_mean_squared_error: 18.1789 - val_mean_absolute_error: 2.6604\n",
      "Epoch 2/5\n",
      "105/105 [==============================] - 3s 19ms/step - loss: 0.7814 - sparse_categorical_accuracy: 0.6953 - mean_squared_error: 35.8519 - mean_absolute_error: 5.1227 - val_loss: 1.6006 - val_sparse_categorical_accuracy: 0.6243 - val_mean_squared_error: 18.1302 - val_mean_absolute_error: 2.6535\n",
      "Epoch 3/5\n",
      "105/105 [==============================] - 3s 19ms/step - loss: 0.7710 - sparse_categorical_accuracy: 0.7013 - mean_squared_error: 35.8310 - mean_absolute_error: 5.1213 - val_loss: 1.5579 - val_sparse_categorical_accuracy: 0.6120 - val_mean_squared_error: 18.1287 - val_mean_absolute_error: 2.6535\n",
      "Epoch 4/5\n",
      "105/105 [==============================] - 3s 19ms/step - loss: 0.7353 - sparse_categorical_accuracy: 0.7133 - mean_squared_error: 35.9285 - mean_absolute_error: 5.1304 - val_loss: 1.5357 - val_sparse_categorical_accuracy: 0.6138 - val_mean_squared_error: 18.1596 - val_mean_absolute_error: 2.6575\n",
      "Epoch 5/5\n",
      "105/105 [==============================] - 3s 19ms/step - loss: 0.7778 - sparse_categorical_accuracy: 0.6822 - mean_squared_error: 35.7718 - mean_absolute_error: 5.1122 - val_loss: 1.5722 - val_sparse_categorical_accuracy: 0.6190 - val_mean_squared_error: 18.1502 - val_mean_absolute_error: 2.6567\n",
      "68/68 [==============================] - 2s 4ms/step\n"
     ]
    }
   ],
   "source": [
    "n_simulations = 10\n",
    "performances = np.empty((n_simulations,2))\n",
    "for i in range(n_simulations):\n",
    "    history = compile_and_fit_classifier(lstm_model_classifier, test_window)\n",
    "    probs = lstm_model_classifier.predict(test_window.test)\n",
    "    preds = probs.argmax(axis=-1)\n",
    "    performances[i,:] = lstm_model_classifier.evaluate(test_window.test, verbose=0)"
   ],
   "metadata": {
    "collapsed": false,
    "pycharm": {
     "name": "#%%\n"
    }
   }
  },
  {
   "cell_type": "code",
   "execution_count": 49,
   "outputs": [],
   "source": [
    "accuracies = performances[:,1]"
   ],
   "metadata": {
    "collapsed": false,
    "pycharm": {
     "name": "#%%\n"
    }
   }
  }
 ],
 "metadata": {
  "kernelspec": {
   "display_name": "Python 3",
   "language": "python",
   "name": "python3"
  },
  "language_info": {
   "codemirror_mode": {
    "name": "ipython",
    "version": 2
   },
   "file_extension": ".py",
   "mimetype": "text/x-python",
   "name": "python",
   "nbconvert_exporter": "python",
   "pygments_lexer": "ipython2",
   "version": "2.7.6"
  }
 },
 "nbformat": 4,
 "nbformat_minor": 0
}