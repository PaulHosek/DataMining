{
 "cells": [
  {
   "cell_type": "code",
   "execution_count": 1,
   "metadata": {
    "pycharm": {
     "name": "#%%\n"
    }
   },
   "outputs": [],
   "source": [
    "import os\n",
    "import pandas as pd\n",
    "import numpy as np\n",
    "from tqdm import tqdm\n",
    "import matplotlib.pyplot as plt\n",
    "import dask\n",
    "from scipy.stats import randint\n",
    "from sklearn.ensemble import RandomForestClassifier\n",
    "from sklearn.ensemble import RandomForestRegressor\n",
    "from sklearn.model_selection import RandomizedSearchCV, train_test_split\n",
    "from sklearn.metrics import accuracy_score, confusion_matrix, precision_score, recall_score, ConfusionMatrixDisplay, classification_report\n",
    "from sklearn.feature_selection import RFE\n",
    "from sklearn.pipeline import Pipeline\n",
    "from sklearn.model_selection import cross_val_score, RepeatedStratifiedKFold\n",
    "from sklearn.metrics import mean_squared_error"
   ]
  },
  {
   "attachments": {},
   "cell_type": "markdown",
   "metadata": {
    "pycharm": {
     "name": "#%% md\n"
    }
   },
   "source": [
    "## Read and aggregate data"
   ]
  },
  {
   "cell_type": "code",
   "execution_count": 2,
   "metadata": {
    "pycharm": {
     "name": "#%%\n"
    }
   },
   "outputs": [],
   "source": [
    "# read daily data\n",
    "processed_dfs = []\n",
    "for filename in sorted(os.listdir('data/aggregated_individual_data/')):\n",
    "    with open('data/aggregated_individual_data/'+filename, 'r') as f: # open in readonly mode\n",
    "        df = pd.read_csv(f)\n",
    "        df.drop('Unnamed: 0', inplace=True, axis = 1)\n",
    "        processed_dfs.append(df)"
   ]
  },
  {
   "cell_type": "code",
   "execution_count": 3,
   "metadata": {
    "pycharm": {
     "name": "#%%\n"
    }
   },
   "outputs": [],
   "source": [
    "# aggregate the data\n",
    "vars = ['time', 'weekday', 'mood', 'circumplex.arousal', 'circumplex.valence',\n",
    "       'activity', 'screen', 'call', 'sms', 'appCat.builtin',\n",
    "       'appCat.communication', 'appCat.entertainment', 'appCat.finance',\n",
    "       'appCat.game', 'appCat.office', 'appCat.other', 'appCat.social',\n",
    "       'appCat.travel', 'appCat.unknown', 'appCat.utilities', 'appCat.weather', 'sleep', 'sleep_before', 'mood_yesterday', 'mood_target', 'target_bw' ]\n",
    "\n",
    "forest_data = pd.DataFrame(columns = vars)\n",
    "\n",
    "n_days = 5\n",
    "\n",
    "for i, df_org in enumerate(processed_dfs):\n",
    "    df = df_org.copy()\n",
    "\n",
    "    # scale the data for each individual\n",
    "    for j, col in enumerate(vars[3:len(df.columns)]):\n",
    "        # min max scaling\n",
    "        df[col] = (df[col]-df[col].min())/(df[col].max() - df[col].min())\n",
    "        #df[col] = (df[col]-df[col].mean())\n",
    "        df[col] = df[col].fillna(0)\n",
    "    \n",
    "    # average the data and add data for the previous day / that doesn't need to be averaged\n",
    "    for j in range(len(df)-n_days-1):\n",
    "        means = pd.DataFrame(df.iloc[j:j+n_days, 2:len(df.columns)].mean())\n",
    "        forest_data = pd.concat([forest_data, means.transpose()], ignore_index=True)\n",
    "        # add time\n",
    "        forest_data.iloc[-1, 0] = df['time'].iloc[j+n_days+1]\n",
    "        # add weekday\n",
    "        forest_data.iloc[-1, 1] = df['weekday'].iloc[j+n_days+1]\n",
    "        # add sleep of night before\n",
    "        forest_data.iloc[-1, -4] = df['sleep'].iloc[j+n_days+1]\n",
    "        # add mood of current day\n",
    "        forest_data.iloc[-1, -3] = df['mood'].iloc[j+n_days]\n",
    "        # add target mood\n",
    "        forest_data.iloc[-1, -2] = df['mood'].iloc[j+n_days+1]\n",
    "\n",
    "\n",
    "# delete columns with too many nan or 0 values\n",
    "for col in forest_data.columns:\n",
    "    if (sum(forest_data[col] == 0)/len(forest_data[col])) > 0.5:\n",
    "        forest_data = forest_data.drop(col, axis = 1)\n",
    "\n",
    "# calculate if the mood was better or worse the day before\n",
    "forest_data['target_bw'] = forest_data['mood_target'] - forest_data['mood_yesterday']"
   ]
  },
  {
   "cell_type": "code",
   "execution_count": 4,
   "metadata": {
    "pycharm": {
     "name": "#%%\n"
    }
   },
   "outputs": [
    {
     "data": {
      "text/html": [
       "<div>\n",
       "<style scoped>\n",
       "    .dataframe tbody tr th:only-of-type {\n",
       "        vertical-align: middle;\n",
       "    }\n",
       "\n",
       "    .dataframe tbody tr th {\n",
       "        vertical-align: top;\n",
       "    }\n",
       "\n",
       "    .dataframe thead th {\n",
       "        text-align: right;\n",
       "    }\n",
       "</style>\n",
       "<table border=\"1\" class=\"dataframe\">\n",
       "  <thead>\n",
       "    <tr style=\"text-align: right;\">\n",
       "      <th></th>\n",
       "      <th>time</th>\n",
       "      <th>weekday</th>\n",
       "      <th>mood</th>\n",
       "      <th>circumplex.arousal</th>\n",
       "      <th>circumplex.valence</th>\n",
       "      <th>activity</th>\n",
       "      <th>screen</th>\n",
       "      <th>call</th>\n",
       "      <th>sms</th>\n",
       "      <th>appCat.builtin</th>\n",
       "      <th>...</th>\n",
       "      <th>appCat.entertainment</th>\n",
       "      <th>appCat.other</th>\n",
       "      <th>appCat.social</th>\n",
       "      <th>appCat.travel</th>\n",
       "      <th>appCat.utilities</th>\n",
       "      <th>sleep</th>\n",
       "      <th>sleep_before</th>\n",
       "      <th>mood_yesterday</th>\n",
       "      <th>mood_target</th>\n",
       "      <th>target_bw</th>\n",
       "    </tr>\n",
       "  </thead>\n",
       "  <tbody>\n",
       "    <tr>\n",
       "      <th>0</th>\n",
       "      <td>2014-03-27</td>\n",
       "      <td>3</td>\n",
       "      <td>6.45</td>\n",
       "      <td>0.782222</td>\n",
       "      <td>0.43</td>\n",
       "      <td>0.489925</td>\n",
       "      <td>0.383056</td>\n",
       "      <td>0.38</td>\n",
       "      <td>0.10</td>\n",
       "      <td>0.065004</td>\n",
       "      <td>...</td>\n",
       "      <td>0.068468</td>\n",
       "      <td>0.096459</td>\n",
       "      <td>0.434987</td>\n",
       "      <td>0.170016</td>\n",
       "      <td>0.153470</td>\n",
       "      <td>0.409441</td>\n",
       "      <td>0.327224</td>\n",
       "      <td>6.4</td>\n",
       "      <td>7.0</td>\n",
       "      <td>0.6</td>\n",
       "    </tr>\n",
       "    <tr>\n",
       "      <th>1</th>\n",
       "      <td>2014-03-28</td>\n",
       "      <td>4</td>\n",
       "      <td>6.48</td>\n",
       "      <td>0.764444</td>\n",
       "      <td>0.46</td>\n",
       "      <td>0.492840</td>\n",
       "      <td>0.423441</td>\n",
       "      <td>0.26</td>\n",
       "      <td>0.10</td>\n",
       "      <td>0.043903</td>\n",
       "      <td>...</td>\n",
       "      <td>0.060816</td>\n",
       "      <td>0.077870</td>\n",
       "      <td>0.420881</td>\n",
       "      <td>0.056621</td>\n",
       "      <td>0.117417</td>\n",
       "      <td>0.436149</td>\n",
       "      <td>0.48541</td>\n",
       "      <td>7.0</td>\n",
       "      <td>6.4</td>\n",
       "      <td>-0.6</td>\n",
       "    </tr>\n",
       "    <tr>\n",
       "      <th>2</th>\n",
       "      <td>2014-03-29</td>\n",
       "      <td>5</td>\n",
       "      <td>6.56</td>\n",
       "      <td>0.728889</td>\n",
       "      <td>0.51</td>\n",
       "      <td>0.558113</td>\n",
       "      <td>0.591388</td>\n",
       "      <td>0.24</td>\n",
       "      <td>0.10</td>\n",
       "      <td>0.052188</td>\n",
       "      <td>...</td>\n",
       "      <td>0.084745</td>\n",
       "      <td>0.071502</td>\n",
       "      <td>0.501566</td>\n",
       "      <td>0.057861</td>\n",
       "      <td>0.134449</td>\n",
       "      <td>0.348596</td>\n",
       "      <td>0.262787</td>\n",
       "      <td>6.4</td>\n",
       "      <td>8.0</td>\n",
       "      <td>1.6</td>\n",
       "    </tr>\n",
       "    <tr>\n",
       "      <th>3</th>\n",
       "      <td>2014-03-30</td>\n",
       "      <td>6</td>\n",
       "      <td>6.52</td>\n",
       "      <td>0.657778</td>\n",
       "      <td>0.51</td>\n",
       "      <td>0.537830</td>\n",
       "      <td>0.598358</td>\n",
       "      <td>0.34</td>\n",
       "      <td>0.10</td>\n",
       "      <td>0.170968</td>\n",
       "      <td>...</td>\n",
       "      <td>0.110122</td>\n",
       "      <td>0.104798</td>\n",
       "      <td>0.507858</td>\n",
       "      <td>0.198205</td>\n",
       "      <td>0.202164</td>\n",
       "      <td>0.375157</td>\n",
       "      <td>0.670593</td>\n",
       "      <td>8.0</td>\n",
       "      <td>7.5</td>\n",
       "      <td>-0.5</td>\n",
       "    </tr>\n",
       "    <tr>\n",
       "      <th>4</th>\n",
       "      <td>2014-03-31</td>\n",
       "      <td>0</td>\n",
       "      <td>6.96</td>\n",
       "      <td>0.551111</td>\n",
       "      <td>0.71</td>\n",
       "      <td>0.505415</td>\n",
       "      <td>0.508903</td>\n",
       "      <td>0.22</td>\n",
       "      <td>0.15</td>\n",
       "      <td>0.165192</td>\n",
       "      <td>...</td>\n",
       "      <td>0.120416</td>\n",
       "      <td>0.120220</td>\n",
       "      <td>0.368342</td>\n",
       "      <td>0.152699</td>\n",
       "      <td>0.257994</td>\n",
       "      <td>0.359603</td>\n",
       "      <td>0.150961</td>\n",
       "      <td>7.5</td>\n",
       "      <td>7.2</td>\n",
       "      <td>-0.3</td>\n",
       "    </tr>\n",
       "  </tbody>\n",
       "</table>\n",
       "<p>5 rows × 21 columns</p>\n",
       "</div>"
      ],
      "text/plain": [
       "         time weekday  mood  circumplex.arousal  circumplex.valence  activity  \\\n",
       "0  2014-03-27       3  6.45            0.782222                0.43  0.489925   \n",
       "1  2014-03-28       4  6.48            0.764444                0.46  0.492840   \n",
       "2  2014-03-29       5  6.56            0.728889                0.51  0.558113   \n",
       "3  2014-03-30       6  6.52            0.657778                0.51  0.537830   \n",
       "4  2014-03-31       0  6.96            0.551111                0.71  0.505415   \n",
       "\n",
       "     screen  call   sms  appCat.builtin  ...  appCat.entertainment  \\\n",
       "0  0.383056  0.38  0.10        0.065004  ...              0.068468   \n",
       "1  0.423441  0.26  0.10        0.043903  ...              0.060816   \n",
       "2  0.591388  0.24  0.10        0.052188  ...              0.084745   \n",
       "3  0.598358  0.34  0.10        0.170968  ...              0.110122   \n",
       "4  0.508903  0.22  0.15        0.165192  ...              0.120416   \n",
       "\n",
       "   appCat.other  appCat.social  appCat.travel  appCat.utilities     sleep  \\\n",
       "0      0.096459       0.434987       0.170016          0.153470  0.409441   \n",
       "1      0.077870       0.420881       0.056621          0.117417  0.436149   \n",
       "2      0.071502       0.501566       0.057861          0.134449  0.348596   \n",
       "3      0.104798       0.507858       0.198205          0.202164  0.375157   \n",
       "4      0.120220       0.368342       0.152699          0.257994  0.359603   \n",
       "\n",
       "   sleep_before mood_yesterday mood_target target_bw  \n",
       "0      0.327224            6.4         7.0       0.6  \n",
       "1       0.48541            7.0         6.4      -0.6  \n",
       "2      0.262787            6.4         8.0       1.6  \n",
       "3      0.670593            8.0         7.5      -0.5  \n",
       "4      0.150961            7.5         7.2      -0.3  \n",
       "\n",
       "[5 rows x 21 columns]"
      ]
     },
     "execution_count": 4,
     "metadata": {},
     "output_type": "execute_result"
    }
   ],
   "source": [
    "forest_data.head()"
   ]
  },
  {
   "attachments": {},
   "cell_type": "markdown",
   "metadata": {
    "pycharm": {
     "name": "#%% md\n"
    }
   },
   "source": [
    "## Random Forrest classifier"
   ]
  },
  {
   "cell_type": "code",
   "execution_count": 5,
   "metadata": {
    "pycharm": {
     "name": "#%%\n"
    }
   },
   "outputs": [],
   "source": [
    "# get the dataset for prediction\n",
    "X = forest_data.iloc[:,1:-2].copy()\n",
    "# get target variable as int for classification\n",
    "y = forest_data.loc[:, 'mood_target'].copy()"
   ]
  },
  {
   "cell_type": "code",
   "execution_count": 6,
   "metadata": {
    "pycharm": {
     "name": "#%%\n"
    }
   },
   "outputs": [],
   "source": [
    "# split into train and test data\n",
    "X_train, X_test, y_train, y_test = train_test_split(X, y, test_size=0.1)\n",
    "y_train_cl = y_train.astype(int)\n",
    "y_test_cl = y_test.astype(int)"
   ]
  },
  {
   "attachments": {},
   "cell_type": "markdown",
   "metadata": {
    "pycharm": {
     "name": "#%% md\n"
    }
   },
   "source": [
    "### Hyper parameter tuning\n",
    "Best values were n_estimators = 483 and max_depth = 5. Thus we choose n_estimators = 500 and max_depth = 5."
   ]
  },
  {
   "cell_type": "code",
   "execution_count": 7,
   "metadata": {
    "pycharm": {
     "name": "#%%\n"
    }
   },
   "outputs": [],
   "source": [
    "# # Hyperparameter tuning\n",
    "# param_dist = {'n_estimators': randint(10,500),\n",
    "#               'max_depth': randint(1,15)}\n",
    "\n",
    "# # Create a random forest classifier\n",
    "# rf = RandomForestClassifier(n_jobs = -1)\n",
    "\n",
    "# # Use random search to find the best hyperparameters\n",
    "# rand_search = RandomizedSearchCV(rf, \n",
    "#                                  param_distributions = param_dist, \n",
    "#                                  n_iter=200)\n",
    "\n",
    "# # Fit the random search object to the data\n",
    "# rand_search.fit(X_train, y_train_cl)"
   ]
  },
  {
   "cell_type": "code",
   "execution_count": 8,
   "metadata": {
    "pycharm": {
     "name": "#%%\n"
    }
   },
   "outputs": [],
   "source": [
    "# rf_best = rand_search.best_estimator_\n",
    "# print('Best hyperparameters:',  rand_search.best_params_)"
   ]
  },
  {
   "attachments": {},
   "cell_type": "markdown",
   "metadata": {
    "pycharm": {
     "name": "#%% md\n"
    }
   },
   "source": [
    "### Unbalanced classes"
   ]
  },
  {
   "cell_type": "code",
   "execution_count": 9,
   "metadata": {
    "pycharm": {
     "name": "#%%\n"
    }
   },
   "outputs": [],
   "source": [
    "rf = RandomForestClassifier(n_estimators = 500, max_depth = 5,n_jobs = -1)\n",
    "\n",
    "# fit the best rf\n",
    "rf = rf.fit(X_train, y_train_cl)\n",
    "y_pred_cl = rf.predict(X_test)\n",
    "y_train_cl_pred = rf.predict(X_train)"
   ]
  },
  {
   "cell_type": "code",
   "execution_count": 10,
   "metadata": {
    "pycharm": {
     "name": "#%%\n"
    }
   },
   "outputs": [],
   "source": [
    "# confusion matrix and feature importance\n",
    "cm_test = confusion_matrix(y_test_cl, y_pred_cl, labels=rf.classes_)\n",
    "disp = ConfusionMatrixDisplay(cm_test, display_labels=rf.classes_)\n",
    "\n",
    "feature_importances = pd.DataFrame(rf.feature_importances_,\n",
    "                                   index = X_train.columns,\n",
    "                                   columns=['importance']).sort_values('importance',ascending=False)"
   ]
  },
  {
   "attachments": {},
   "cell_type": "markdown",
   "metadata": {
    "pycharm": {
     "name": "#%% md\n"
    }
   },
   "source": [
    "### Balanced classes"
   ]
  },
  {
   "cell_type": "code",
   "execution_count": 11,
   "metadata": {
    "pycharm": {
     "name": "#%%\n"
    }
   },
   "outputs": [],
   "source": [
    "rf_balanced = rf\n",
    "rf_balanced.class_weight = 'balanced_subsample'\n",
    "rf_balanced = rf_balanced.fit(X_train, y_train_cl)\n",
    "y_pred_balanced = rf_balanced.predict(X_test)"
   ]
  },
  {
   "cell_type": "code",
   "execution_count": 12,
   "metadata": {
    "pycharm": {
     "name": "#%%\n"
    }
   },
   "outputs": [],
   "source": [
    "# confusion matrix\n",
    "cm_balanced = confusion_matrix(y_test_cl, y_pred_balanced, labels=rf.classes_)\n",
    "disp_balanced = ConfusionMatrixDisplay(cm_balanced, display_labels=rf.classes_)"
   ]
  },
  {
   "attachments": {},
   "cell_type": "markdown",
   "metadata": {
    "pycharm": {
     "name": "#%% md\n"
    }
   },
   "source": [
    "### Reducing features"
   ]
  },
  {
   "cell_type": "code",
   "execution_count": 13,
   "metadata": {
    "pycharm": {
     "name": "#%%\n"
    }
   },
   "outputs": [
    {
     "name": "stderr",
     "output_type": "stream",
     "text": [
      "/Users/nik/opt/miniconda3/envs/DMT/lib/python3.11/site-packages/sklearn/model_selection/_split.py:700: UserWarning: The least populated class in y has only 1 members, which is less than n_splits=10.\n",
      "  warnings.warn(\n",
      "/Users/nik/opt/miniconda3/envs/DMT/lib/python3.11/site-packages/sklearn/model_selection/_split.py:700: UserWarning: The least populated class in y has only 1 members, which is less than n_splits=10.\n",
      "  warnings.warn(\n",
      "/Users/nik/opt/miniconda3/envs/DMT/lib/python3.11/site-packages/sklearn/model_selection/_split.py:700: UserWarning: The least populated class in y has only 1 members, which is less than n_splits=10.\n",
      "  warnings.warn(\n",
      "/Users/nik/opt/miniconda3/envs/DMT/lib/python3.11/site-packages/sklearn/model_selection/_split.py:700: UserWarning: The least populated class in y has only 1 members, which is less than n_splits=10.\n",
      "  warnings.warn(\n",
      "/Users/nik/opt/miniconda3/envs/DMT/lib/python3.11/site-packages/sklearn/model_selection/_split.py:700: UserWarning: The least populated class in y has only 1 members, which is less than n_splits=10.\n",
      "  warnings.warn(\n"
     ]
    }
   ],
   "source": [
    "rf.class_weight = None\n",
    "\n",
    "rfe = RFE(estimator=rf, n_features_to_select=3)\n",
    "pipeline = Pipeline(steps=[('s',rfe),('m',rf)])\n",
    "\n",
    "cv = RepeatedStratifiedKFold(n_splits=10, n_repeats=5)\n",
    "n_scores = cross_val_score(pipeline, X_train, y_train_cl, scoring='accuracy', cv=cv, n_jobs=-1, error_score='raise')\n",
    "\n",
    "pipeline.fit(X_train, y_train_cl)\n",
    "\n",
    "# get reduced feature set\n",
    "features = pipeline[:-1].get_feature_names_out()\n",
    "\n",
    "y_pred_reduced = pipeline.predict(X_test)\n",
    "y_train_pred_reduced = pipeline.predict(X_train)"
   ]
  },
  {
   "cell_type": "code",
   "execution_count": 14,
   "metadata": {
    "pycharm": {
     "name": "#%%\n"
    }
   },
   "outputs": [],
   "source": [
    "# confusion matrix and feature importance\n",
    "cm_reduced = confusion_matrix(y_test_cl, y_pred_reduced, labels=rf.classes_)\n",
    "disp_reduced = ConfusionMatrixDisplay(cm_reduced, display_labels=rf.classes_)\n",
    "\n",
    "feature_importances_red = pd.DataFrame(rf_balanced.feature_importances_,\n",
    "                                   index = features,\n",
    "                                   columns=['importance']).sort_values('importance',ascending=False)"
   ]
  },
  {
   "attachments": {},
   "cell_type": "markdown",
   "metadata": {
    "pycharm": {
     "name": "#%% md\n"
    }
   },
   "source": [
    "### Plotting the results"
   ]
  },
  {
   "cell_type": "code",
   "execution_count": 15,
   "metadata": {
    "pycharm": {
     "name": "#%%\n"
    }
   },
   "outputs": [
    {
     "data": {
      "image/png": "[encoded data removed]",
      "text/plain": [
       "<Figure size 640x480 with 2 Axes>"
      ]
     },
     "metadata": {},
     "output_type": "display_data"
    }
   ],
   "source": [
    "fig, (ax1, ax2) = plt.subplots(1, 2, sharey=True)\n",
    "ax1.barh(feature_importances.index,feature_importances.importance)\n",
    "ax2.barh(feature_importances_red.index,feature_importances_red.importance)\n",
    "\n",
    "ax1.set_title('a) all features')\n",
    "ax2.set_title('b) reduced to 3 features')\n",
    "ax1.set_xlabel('importance')\n",
    "ax2.set_xlabel('importance')\n",
    "\n",
    "plt.tight_layout()\n",
    "\n",
    "plt.savefig('figures/feature_importance.png', dpi = 300)"
   ]
  },
  {
   "cell_type": "code",
   "execution_count": 16,
   "metadata": {
    "pycharm": {
     "name": "#%%\n"
    }
   },
   "outputs": [],
   "source": [
    "# comparison\n",
    "cm_comp = confusion_matrix(y_test_cl, X_test['mood_yesterday'].astype(int), labels=rf.classes_)\n",
    "disp_comp = ConfusionMatrixDisplay(cm_comp, display_labels=rf.classes_)\n"
   ]
  },
  {
   "cell_type": "code",
   "execution_count": 18,
   "metadata": {
    "pycharm": {
     "name": "#%%\n"
    }
   },
   "outputs": [
    {
     "data": {
      "image/png": "[encoded data removed]",
      "text/plain": [
       "<Figure size 800x400 with 4 Axes>"
      ]
     },
     "metadata": {},
     "output_type": "display_data"
    }
   ],
   "source": [
    "fig, (ax1, ax2, ax3, ax4) = plt.subplots(1, 4)\n",
    "fig.set_size_inches(8,4)\n",
    "disp.plot(ax=ax1)\n",
    "disp.im_.colorbar.remove()\n",
    "disp_balanced.plot(ax=ax2)\n",
    "disp_balanced.im_.colorbar.remove()\n",
    "disp_reduced.plot(ax=ax3)\n",
    "disp_reduced.im_.colorbar.remove()\n",
    "disp_comp.plot(ax=ax4)\n",
    "disp_comp.im_.colorbar.remove()\n",
    "\n",
    "ax1.set_title('a) unbalanced')\n",
    "ax2.set_title('b) balanced')\n",
    "ax3.set_title('c) reduced')\n",
    "ax4.set_title('d) baseline')\n",
    "\n",
    "plt.tight_layout()\n",
    "\n",
    "plt.savefig('figures/confusion.png', dpi = 300)"
   ]
  },
  {
   "attachments": {},
   "cell_type": "markdown",
   "metadata": {
    "pycharm": {
     "name": "#%% md\n"
    }
   },
   "source": [
    "## Random Forest Regressor"
   ]
  },
  {
   "cell_type": "code",
   "execution_count": 19,
   "metadata": {
    "pycharm": {
     "name": "#%%\n"
    }
   },
   "outputs": [],
   "source": [
    "# using the same hyper parameters\n",
    "rf_reg = RandomForestRegressor(max_depth = 5, n_estimators = 500, n_jobs = -1)"
   ]
  },
  {
   "cell_type": "code",
   "execution_count": 21,
   "metadata": {
    "pycharm": {
     "name": "#%%\n"
    }
   },
   "outputs": [
    {
     "name": "stdout",
     "output_type": "stream",
     "text": [
      "MSE test: 0.3727966837759931\n",
      "MSE train: 0.2611044049054087\n",
      "MSE comp: 0.5223081683168316\n"
     ]
    }
   ],
   "source": [
    "rf_reg = rf_reg.fit(X_train, y_train)\n",
    "y_pred_reg = rf_reg.predict(X_test)\n",
    "y_train_pred_reg = rf_reg.predict(X_train)\n",
    "\n",
    "MSE_test = mean_squared_error(y_test,y_pred_reg)\n",
    "MSE_train = mean_squared_error(y_train,y_train_pred_reg)\n",
    "MSE_comp = mean_squared_error(y_test, X_test['mood_yesterday'])\n",
    "print('MSE test:', MSE_test)\n",
    "print('MSE train:',MSE_train)\n",
    "print('MSE comp:',MSE_comp)"
   ]
  },
  {
   "cell_type": "code",
   "execution_count": 22,
   "metadata": {
    "pycharm": {
     "name": "#%%\n"
    }
   },
   "outputs": [
    {
     "data": {
      "image/png": "[encoded data removed]",
      "text/plain": [
       "<Figure size 640x480 with 1 Axes>"
      ]
     },
     "metadata": {},
     "output_type": "display_data"
    }
   ],
   "source": [
    "# plott against test and baseline\n",
    "test_arr = y_test.to_numpy()\n",
    "p = test_arr.argsort()\n",
    "test_arr = test_arr[p]\n",
    "pred_arr = y_pred_reg[p]\n",
    "comp_arr = X_test['mood_yesterday'].to_numpy()[p]\n",
    "\n",
    "plt.plot(comp_arr, label = 'baseline', alpha = 0.5, color = 'C2')\n",
    "plt.plot(test_arr, label = 'test data')\n",
    "plt.plot(pred_arr, label = 'RF prediction')\n",
    "\n",
    "\n",
    "\n",
    "\n",
    "\n",
    "plt.ylabel('mood')\n",
    "plt.xlabel('test data points')\n",
    "plt.legend()\n",
    "plt.savefig('figures/rf_numerical.png', dpi = 300)"
   ]
  },
  {
   "attachments": {},
   "cell_type": "markdown",
   "metadata": {
    "pycharm": {
     "name": "#%% md\n"
    }
   },
   "source": [
    "## Average performance of the RF"
   ]
  },
  {
   "cell_type": "code",
   "execution_count": 29,
   "metadata": {
    "pycharm": {
     "name": "#%%\n"
    }
   },
   "outputs": [
    {
     "name": "stderr",
     "output_type": "stream",
     "text": [
      "100%|██████████| 30/30 [00:12<00:00,  2.40it/s]"
     ]
    },
    {
     "name": "stdout",
     "output_type": "stream",
     "text": [
      "0.40951179172023894\n",
      "0.05880362478562617\n"
     ]
    },
    {
     "name": "stderr",
     "output_type": "stream",
     "text": [
      "\n"
     ]
    }
   ],
   "source": [
    "# determine the average performance of the regressor\n",
    "n = 30\n",
    "MSEs = []\n",
    "MSEs_base = []\n",
    "for i in tqdm(range(n)):\n",
    "    X_train, X_test, y_train, y_test = train_test_split(X, y, test_size=0.1)\n",
    "    rf_reg = rf_reg.fit(X_train, y_train)\n",
    "    y_pred_reg = rf_reg.predict(X_test)\n",
    "    MSEs.append(mean_squared_error(y_test,y_pred_reg))\n",
    "\n",
    "    # base\n",
    "    MSEs_base.append(mean_squared_error(y_test, X_test['mood_yesterday']))\n",
    "\n",
    "print(np.mean(MSEs))\n",
    "print(np.std(MSEs))\n"
   ]
  },
  {
   "cell_type": "code",
   "execution_count": 30,
   "metadata": {
    "pycharm": {
     "name": "#%%\n"
    }
   },
   "outputs": [
    {
     "name": "stdout",
     "output_type": "stream",
     "text": [
      "MSE reg 0.40951179172023894\n",
      "MSE std reg 0.05880362478562617\n",
      "MSE base 0.5744600522552256\n",
      "MSE std base 0.09150158460901303\n"
     ]
    }
   ],
   "source": [
    "print('MSE reg', np.mean(MSEs))\n",
    "print('MSE std reg', np.std(MSEs))\n",
    "print('MSE base', np.mean(MSEs_base))\n",
    "print('MSE std base', np.std(MSEs_base))"
   ]
  },
  {
   "cell_type": "code",
   "execution_count": 27,
   "metadata": {
    "pycharm": {
     "name": "#%%\n"
    }
   },
   "outputs": [
    {
     "name": "stderr",
     "output_type": "stream",
     "text": [
      "100%|██████████| 30/30 [00:37<00:00,  1.26s/it]\n"
     ]
    }
   ],
   "source": [
    "# determine average accuracy of the classifier\n",
    "n = 30\n",
    "acc_unbal = []\n",
    "acc_bal = []\n",
    "acc_red = []\n",
    "acc_base = []\n",
    "rf = RandomForestClassifier(n_estimators = 500, max_depth = 5,n_jobs = -1)\n",
    "for i in tqdm(range(n)):\n",
    "    X_train, X_test, y_train, y_test = train_test_split(X, y, test_size=0.1)\n",
    "    y_train_cl = y_train.astype(int)\n",
    "    y_test_cl = y_test.astype(int)\n",
    "\n",
    "    # unbalanced\n",
    "    rf = rf.fit(X_train, y_train_cl)\n",
    "    y_pred_cl = rf.predict(X_test)\n",
    "    y_train_cl_pred = rf.predict(X_train)\n",
    "    acc_unbal.append(accuracy_score(y_test_cl, y_pred_cl))\n",
    "\n",
    "    # balanced\n",
    "    rf_balanced = rf\n",
    "    rf_balanced.class_weight = 'balanced_subsample'\n",
    "    rf_balanced = rf_balanced.fit(X_train, y_train_cl)\n",
    "    y_pred_balanced = rf_balanced.predict(X_test)\n",
    "    acc_bal.append(accuracy_score(y_test_cl, y_pred_balanced))\n",
    "\n",
    "    # reduced\n",
    "    rf.class_weight = None\n",
    "    rf = rf.fit(X_train[features], y_train_cl)\n",
    "    y_pred_red = rf.predict(X_test[features])\n",
    "    acc_red.append(accuracy_score(y_test_cl, y_pred_red))\n",
    "\n",
    "    # baseline\n",
    "    acc_base.append(accuracy_score(y_test_cl, X_test['mood_yesterday'].astype(int)))\n",
    "\n",
    "    # balanced"
   ]
  },
  {
   "cell_type": "code",
   "execution_count": 28,
   "metadata": {
    "pycharm": {
     "name": "#%%\n"
    }
   },
   "outputs": [
    {
     "name": "stdout",
     "output_type": "stream",
     "text": [
      "mean unbal. 0.5844884488448846\n",
      "std unbal. 0.04647375646975378\n",
      "mean bal. 0.48415841584158414\n",
      "std bal. 0.040124467329498176\n",
      "mean red. 0.5871287128712871\n",
      "std red. 0.04680072798285155\n",
      "mean base 0.5105610561056106\n",
      "std base 0.038404555292625736\n"
     ]
    }
   ],
   "source": [
    "print('mean unbal.',np.mean(acc_unbal))\n",
    "print('std unbal.',np.std(acc_unbal))\n",
    "print('mean bal.',np.mean(acc_bal))\n",
    "print('std bal.',np.std(acc_bal))\n",
    "print('mean red.',np.mean(acc_red))\n",
    "print('std red.',np.std(acc_red))\n",
    "print('mean base',np.mean(acc_base))\n",
    "print('std base',np.std(acc_base))"
   ]
  },
  {
   "cell_type": "code",
   "execution_count": null,
   "metadata": {
    "pycharm": {
     "name": "#%%\n"
    }
   },
   "outputs": [],
   "source": []
  }
 ],
 "metadata": {
  "kernelspec": {
   "display_name": "DMT",
   "language": "python",
   "name": "python3"
  },
  "language_info": {
   "codemirror_mode": {
    "name": "ipython",
    "version": 3
   },
   "file_extension": ".py",
   "mimetype": "text/x-python",
   "name": "python",
   "nbconvert_exporter": "python",
   "pygments_lexer": "ipython3",
   "version": "3.11.2"
  },
  "orig_nbformat": 4
 },
 "nbformat": 4,
 "nbformat_minor": 2
}