{
 "cells": [
  {
   "cell_type": "code",
   "execution_count": 133,
   "metadata": {
    "collapsed": true,
    "ExecuteTime": {
     "start_time": "2023-04-14T16:06:35.706064Z",
     "end_time": "2023-04-14T16:06:35.710222Z"
    }
   },
   "outputs": [],
   "source": [
    "import pandas as pd"
   ]
  },
  {
   "cell_type": "code",
   "execution_count": 135,
   "outputs": [
    {
     "name": "stderr",
     "output_type": "stream",
     "text": [
      "/var/folders/vp/zbwx9wvd2x97x4_sp43ssbr40000gn/T/ipykernel_75657/2066285706.py:24: FutureWarning: In future versions `DataFrame.to_latex` is expected to utilise the base implementation of `Styler.to_latex` for formatting and rendering. The arguments signature may therefore change. It is recommended instead to use `DataFrame.style.to_latex` which also contains additional functionality.\n",
      "  dflatex = df.to_latex()\n"
     ]
    }
   ],
   "source": [
    "# import data\n",
    "raw_data = pd.read_csv('data/dataset_mood_smartphone.csv', index_col=0)\n",
    "\n",
    "# make empty lists\n",
    "cat_names = []\n",
    "variables = []\n",
    "\n",
    "# for every variable get count mean, std, min , median and max\n",
    "for var in raw_data['variable'].unique():\n",
    "    vardescr = raw_data['value'].loc[raw_data['variable'] == var].describe()\n",
    "    variables.append(vardescr)\n",
    "    cat_names.append(var)\n",
    "\n",
    "# put all the data for all the variables in a dataframe and give proper index names\n",
    "df = pd.DataFrame(variables, index=cat_names)\n",
    "# get rid of the 25% and 75% information\n",
    "df = df.drop(['25%', '75%'], axis = 1)\n",
    "df = df.rename(columns={df.columns[4]: 'median'})\n",
    "#round everything up to two decimals, except for count which should be an integer\n",
    "df= df.round(2)\n",
    "df['count'] = df['count'].astype(int)\n",
    "\n",
    "#put dataframe to latex code\n",
    "dflatex = df.to_latex()\n",
    "\n",
    "# put the latex code into a text file for easier export\n",
    "filename = \"distributionlatex.txt\"\n",
    "\n",
    "# Open the file in write mode\n",
    "with open(filename, \"w\") as f:\n",
    "    # Write the output to the file\n",
    "    f.write(dflatex)\n",
    "\n",
    "\n"
   ],
   "metadata": {
    "collapsed": false,
    "ExecuteTime": {
     "start_time": "2023-04-14T16:10:34.529776Z",
     "end_time": "2023-04-14T16:10:35.530539Z"
    }
   }
  },
  {
   "cell_type": "code",
   "execution_count": null,
   "outputs": [],
   "source": [],
   "metadata": {
    "collapsed": false
   }
  }
 ],
 "metadata": {
  "kernelspec": {
   "display_name": "Python 3",
   "language": "python",
   "name": "python3"
  },
  "language_info": {
   "codemirror_mode": {
    "name": "ipython",
    "version": 2
   },
   "file_extension": ".py",
   "mimetype": "text/x-python",
   "name": "python",
   "nbconvert_exporter": "python",
   "pygments_lexer": "ipython2",
   "version": "2.7.6"
  }
 },
 "nbformat": 4,
 "nbformat_minor": 0
}
