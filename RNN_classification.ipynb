{
 "cells": [
  {
   "cell_type": "code",
   "execution_count": 38,
   "outputs": [],
   "source": [
    "import matplotlib as mpl\n",
    "import matplotlib.pyplot as plt\n",
    "import numpy as np\n",
    "import pandas as pd\n",
    "import tensorflow as tf\n",
    "from tensorflow.keras.utils import timeseries_dataset_from_array\n",
    "import matplotlib.pyplot as plt\n",
    "import seaborn as sns\n",
    "from MultiSeriesWindowsGenerator import MultiSeriesWindowsGenerator\n",
    "import IPython.display"
   ],
   "metadata": {
    "collapsed": false,
    "pycharm": {
     "name": "#%%\n"
    }
   }
  },
  {
   "cell_type": "code",
   "execution_count": 39,
   "outputs": [],
   "source": [
    "pd.set_option(\"display.max_row\", 200)"
   ],
   "metadata": {
    "collapsed": false,
    "pycharm": {
     "name": "#%%\n"
    }
   }
  },
  {
   "cell_type": "code",
   "execution_count": 40,
   "outputs": [],
   "source": [
    "df = pd.read_csv(\"data/all_data_aggr_nonan.csv\", index_col=0)"
   ],
   "metadata": {
    "collapsed": false,
    "pycharm": {
     "name": "#%%\n"
    }
   }
  },
  {
   "cell_type": "code",
   "execution_count": 41,
   "outputs": [],
   "source": [
    "LABELS = ['mood']\n",
    "REGRESSORS = ['weekday', 'circumplex.arousal', 'circumplex.valence',\n",
    "              'activity', 'screen', 'call', 'sms', 'appCat.builtin',\n",
    "              'appCat.communication', 'appCat.entertainment', 'appCat.finance',\n",
    "              'appCat.game', 'appCat.office', 'appCat.other', 'appCat.social',\n",
    "              'appCat.travel', 'appCat.unknown', 'appCat.utilities', 'appCat.weather']\n",
    "\n",
    "DATE = 'days'  # always correct\n",
    "IN_STEPS = 20  # use 7 days\n",
    "OUT_STEPS = 1  # to predict 1 day in the future\n",
    "GROUPBY = ['subject_id']\n",
    "BATCH_SIZE = 8"
   ],
   "metadata": {
    "collapsed": false,
    "pycharm": {
     "name": "#%%\n"
    }
   }
  },
  {
   "cell_type": "code",
   "execution_count": 42,
   "outputs": [],
   "source": [
    "n = len(df)\n",
    "train_series = df.groupby(GROUPBY, as_index=False, group_keys=False).apply(\n",
    "    lambda x: x.iloc[:int(len(x) * 0.7)]).reset_index(drop=True)\n",
    "val_series = df.groupby(GROUPBY, as_index=False, group_keys=False).apply(\n",
    "    lambda x: x.iloc[int(len(x) * 0.7):int(len(x) * 0.9)]).reset_index(drop=True)\n",
    "test_series = df.groupby(GROUPBY, as_index=False, group_keys=False).apply(\n",
    "    lambda x: x.iloc[int(len(x) * 0.9):]).reset_index(drop=True)\n",
    "\n",
    "test_window = MultiSeriesWindowsGenerator(\n",
    "    input_width=IN_STEPS, label_width=OUT_STEPS, shift=1, batch_size=BATCH_SIZE, GROUPBY=GROUPBY,\n",
    "    label_columns=LABELS, regressor_columns=REGRESSORS, DATE=DATE, LABELS=LABELS)\n",
    "\n",
    "test_window.update_datasets(train_series, val_series, test_series, norm=False)"
   ],
   "metadata": {
    "collapsed": false,
    "pycharm": {
     "name": "#%%\n"
    }
   }
  },
  {
   "cell_type": "code",
   "execution_count": 43,
   "outputs": [],
   "source": [
    "a, b = test_window.example\n"
   ],
   "metadata": {
    "collapsed": false,
    "pycharm": {
     "name": "#%%\n"
    }
   }
  },
  {
   "cell_type": "code",
   "execution_count": 44,
   "outputs": [],
   "source": [
    "lstm_model_classifier = tf.keras.models.Sequential([\n",
    "    tf.keras.layers.LSTM(64, return_sequences=True),\n",
    "    tf.keras.layers.Dropout(0.2),\n",
    "    tf.keras.layers.LSTM(64, return_sequences=False),\n",
    "    tf.keras.layers.Dropout(0.2),\n",
    "    tf.keras.layers.Dense(units=10, activation='softmax')\n",
    "])\n",
    "\n",
    "MAX_EPOCHS = 5"
   ],
   "metadata": {
    "collapsed": false,
    "pycharm": {
     "name": "#%%\n"
    }
   }
  },
  {
   "cell_type": "code",
   "execution_count": 45,
   "outputs": [],
   "source": [
    "def compile_and_fit_classifier(model, window, patience=2):\n",
    "    early_stopping = tf.keras.callbacks.EarlyStopping(monitor='val_loss',\n",
    "                                                      patience=patience,\n",
    "                                                      mode='min')\n",
    "\n",
    "    # model.compile(loss=tf.keras.losses.MeanSquaredError(),\n",
    "    #               optimizer=tf.keras.optimizers.Adam(learning_rate=0.001, clipnorm=1),\n",
    "    #               metrics=[tf.keras.metrics.MeanAbsoluteError()])\n",
    "    model.compile(loss=tf.keras.losses.SparseCategoricalCrossentropy(),\n",
    "              optimizer=tf.keras.optimizers.Adam(learning_rate=0.001, clipnorm=1),\n",
    "              metrics=[tf.keras.metrics.SparseCategoricalAccuracy()])\n",
    "\n",
    "\n",
    "    history = model.fit(window.train, epochs=MAX_EPOCHS,\n",
    "                        validation_data=window.val,\n",
    "                        callbacks=[early_stopping])\n",
    "    return history"
   ],
   "metadata": {
    "collapsed": false,
    "pycharm": {
     "name": "#%%\n"
    }
   }
  },
  {
   "cell_type": "code",
   "execution_count": 46,
   "outputs": [
    {
     "name": "stdout",
     "output_type": "stream",
     "text": [
      "Epoch 1/5\n",
      "61/61 [==============================] - 12s 65ms/step - loss: 1.3312 - sparse_categorical_accuracy: 0.4300 - val_loss: 0.4369 - val_sparse_categorical_accuracy: 0.8056\n",
      "Epoch 2/5\n",
      "61/61 [==============================] - 3s 35ms/step - loss: 0.9807 - sparse_categorical_accuracy: 0.4362 - val_loss: 0.4140 - val_sparse_categorical_accuracy: 0.8056\n",
      "Epoch 3/5\n",
      "61/61 [==============================] - 3s 42ms/step - loss: 0.9197 - sparse_categorical_accuracy: 0.4588 - val_loss: 0.4227 - val_sparse_categorical_accuracy: 0.7963\n",
      "Epoch 4/5\n",
      "61/61 [==============================] - 8s 96ms/step - loss: 0.9102 - sparse_categorical_accuracy: 0.4362 - val_loss: 0.4221 - val_sparse_categorical_accuracy: 0.8009\n",
      "27/27 [==============================] - 3s 11ms/step\n",
      "24/24 [==============================] - 2s 15ms/step\n"
     ]
    }
   ],
   "source": [
    "history = compile_and_fit_classifier(lstm_model_classifier, test_window)\n",
    "val_performance = {}\n",
    "performance = {}\n",
    "\n",
    "probs = lstm_model_classifier.predict(test_window.val)\n",
    "preds = probs.argmax(axis=-1)\n",
    "val_performance['LSTM'] = lstm_model_classifier.evaluate(test_window.val, verbose=0)\n",
    "\n",
    "probs = lstm_model_classifier.predict(test_window.test)\n",
    "preds = probs.argmax(axis=-1)\n",
    "performance['LSTM'] = lstm_model_classifier.evaluate(test_window.test, verbose=0)"
   ],
   "metadata": {
    "collapsed": false,
    "pycharm": {
     "name": "#%%\n"
    }
   }
  },
  {
   "cell_type": "code",
   "execution_count": null,
   "outputs": [],
   "source": [
    "test_window.plot(lstm_model_classifier, single=True, max_subplots=10)"
   ],
   "metadata": {
    "collapsed": false,
    "pycharm": {
     "name": "#%%\n",
     "is_executing": true
    }
   }
  },
  {
   "cell_type": "code",
   "execution_count": null,
   "outputs": [],
   "source": [
    "a, b = test_window.example\n",
    "lstm_model_classifier(a)"
   ],
   "metadata": {
    "collapsed": false,
    "pycharm": {
     "name": "#%%\n",
     "is_executing": true
    }
   }
  },
  {
   "cell_type": "code",
   "execution_count": null,
   "outputs": [],
   "source": [],
   "metadata": {
    "collapsed": false,
    "pycharm": {
     "name": "#%%\n",
     "is_executing": true
    }
   }
  }
 ],
 "metadata": {
  "kernelspec": {
   "display_name": "Python 3",
   "language": "python",
   "name": "python3"
  },
  "language_info": {
   "codemirror_mode": {
    "name": "ipython",
    "version": 2
   },
   "file_extension": ".py",
   "mimetype": "text/x-python",
   "name": "python",
   "nbconvert_exporter": "python",
   "pygments_lexer": "ipython2",
   "version": "2.7.6"
  }
 },
 "nbformat": 4,
 "nbformat_minor": 0
}