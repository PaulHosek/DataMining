{
 "cells": [
  {
   "cell_type": "code",
   "execution_count": 15,
   "outputs": [
    {
     "name": "stderr",
     "output_type": "stream",
     "text": [
      "2023-04-16 10:28:11.343218: I tensorflow/core/platform/cpu_feature_guard.cc:193] This TensorFlow binary is optimized with oneAPI Deep Neural Network Library (oneDNN) to use the following CPU instructions in performance-critical operations:  SSE4.1 SSE4.2 AVX AVX2 FMA\n",
      "To enable them in other operations, rebuild TensorFlow with the appropriate compiler flags.\n"
     ]
    }
   ],
   "source": [
    "import matplotlib as mpl\n",
    "import matplotlib.pyplot as plt\n",
    "import numpy as np\n",
    "import pandas as pd\n",
    "import tensorflow as tf\n",
    "from tensorflow.keras.utils import timeseries_dataset_from_array\n",
    "import matplotlib.pyplot as plt\n",
    "import seaborn as sns\n",
    "from MultiSeriesWindowsGenerator import MultiSeriesWindowsGenerator\n",
    "import IPython.display"
   ],
   "metadata": {
    "collapsed": false,
    "pycharm": {
     "name": "#%%\n"
    }
   }
  },
  {
   "cell_type": "code",
   "execution_count": 16,
   "outputs": [],
   "source": [
    "pd.set_option(\"display.max_row\", 200)"
   ],
   "metadata": {
    "collapsed": false,
    "pycharm": {
     "name": "#%%\n"
    }
   }
  },
  {
   "cell_type": "code",
   "execution_count": 17,
   "outputs": [],
   "source": [
    "df = pd.read_csv(\"data/all_data_aggr_nonan.csv\", index_col=0)"
   ],
   "metadata": {
    "collapsed": false,
    "pycharm": {
     "name": "#%%\n"
    }
   }
  },
  {
   "cell_type": "code",
   "execution_count": 18,
   "outputs": [],
   "source": [
    "df.mood = df.mood.round(0)"
   ],
   "metadata": {
    "collapsed": false,
    "pycharm": {
     "name": "#%%\n"
    }
   }
  },
  {
   "cell_type": "code",
   "execution_count": 20,
   "outputs": [],
   "source": [
    "LABELS = ['mood']\n",
    "REGRESSORS = ['weekday', 'circumplex.arousal', 'circumplex.valence',\n",
    "              'activity', 'screen', 'call', 'sms', 'appCat.builtin',\n",
    "              'appCat.communication', 'appCat.entertainment', 'appCat.finance',\n",
    "              'appCat.game', 'appCat.office', 'appCat.other', 'appCat.social',\n",
    "              'appCat.travel', 'appCat.unknown', 'appCat.utilities', 'appCat.weather']\n",
    "\n",
    "DATE = 'days'  # always correct\n",
    "IN_STEPS = 7  # use 7 days\n",
    "OUT_STEPS = 1  # to predict 1 day in the future\n",
    "GROUPBY = ['subject_id']\n",
    "BATCH_SIZE = 8"
   ],
   "metadata": {
    "collapsed": false,
    "pycharm": {
     "name": "#%%\n"
    }
   }
  },
  {
   "cell_type": "code",
   "execution_count": 21,
   "outputs": [
    {
     "name": "stderr",
     "output_type": "stream",
     "text": [
      "2023-04-16 10:28:20.089151: I tensorflow/core/platform/cpu_feature_guard.cc:193] This TensorFlow binary is optimized with oneAPI Deep Neural Network Library (oneDNN) to use the following CPU instructions in performance-critical operations:  SSE4.1 SSE4.2 AVX AVX2 FMA\n",
      "To enable them in other operations, rebuild TensorFlow with the appropriate compiler flags.\n"
     ]
    }
   ],
   "source": [
    "n = len(df)\n",
    "train_series = df.groupby(GROUPBY, as_index=False, group_keys=False).apply(\n",
    "    lambda x: x.iloc[:int(len(x) * 0.7)]).reset_index(drop=True)\n",
    "val_series = df.groupby(GROUPBY, as_index=False, group_keys=False).apply(\n",
    "    lambda x: x.iloc[int(len(x) * 0.7):int(len(x) * 0.9)]).reset_index(drop=True)\n",
    "test_series = df.groupby(GROUPBY, as_index=False, group_keys=False).apply(\n",
    "    lambda x: x.iloc[int(len(x) * 0.9):]).reset_index(drop=True)\n",
    "\n",
    "test_window = MultiSeriesWindowsGenerator(\n",
    "    input_width=IN_STEPS, label_width=OUT_STEPS, shift=1, batch_size=BATCH_SIZE, GROUPBY=GROUPBY,\n",
    "    label_columns=LABELS, regressor_columns=REGRESSORS, DATE=DATE, LABELS=LABELS)\n",
    "\n",
    "test_window.update_datasets(train_series, val_series, test_series)"
   ],
   "metadata": {
    "collapsed": false,
    "pycharm": {
     "name": "#%%\n"
    }
   }
  },
  {
   "cell_type": "code",
   "execution_count": 22,
   "outputs": [],
   "source": [
    "a, b = test_window.example\n"
   ],
   "metadata": {
    "collapsed": false,
    "pycharm": {
     "name": "#%%\n"
    }
   }
  },
  {
   "cell_type": "code",
   "execution_count": 23,
   "outputs": [],
   "source": [
    "lstm_model_classifier = tf.keras.models.Sequential([\n",
    "    tf.keras.layers.LSTM(64, return_sequences=True),\n",
    "    tf.keras.layers.Dropout(0.2),\n",
    "    tf.keras.layers.LSTM(64, return_sequences=False),\n",
    "    tf.keras.layers.Dropout(0.2),\n",
    "    tf.keras.layers.Dense(units=11, activation='softmax')\n",
    "])\n",
    "\n",
    "MAX_EPOCHS = 5"
   ],
   "metadata": {
    "collapsed": false,
    "pycharm": {
     "name": "#%%\n"
    }
   }
  },
  {
   "cell_type": "code",
   "execution_count": 24,
   "outputs": [],
   "source": [
    "def compile_and_fit_classifier(model, window, patience=2):\n",
    "    early_stopping = tf.keras.callbacks.EarlyStopping(monitor='val_loss',\n",
    "                                                      patience=patience,\n",
    "                                                      mode='min')\n",
    "\n",
    "    # model.compile(loss=tf.keras.losses.MeanSquaredError(),\n",
    "    #               optimizer=tf.keras.optimizers.Adam(learning_rate=0.001, clipnorm=1),\n",
    "    #               metrics=[tf.keras.metrics.MeanAbsoluteError()])\n",
    "    model.compile(loss=tf.keras.losses.SparseCategoricalCrossentropy(),\n",
    "              optimizer=tf.keras.optimizers.Adam(learning_rate=0.001, clipnorm=1),\n",
    "              metrics=[tf.keras.metrics.SparseCategoricalAccuracy(), tf.keras.losses.MeanSquaredError(),tf.keras.losses.MeanAbsoluteError()])\n",
    "\n",
    "\n",
    "    history = model.fit(window.train, epochs=MAX_EPOCHS,\n",
    "                        validation_data=window.val,\n",
    "                        callbacks=[early_stopping])\n",
    "    return history"
   ],
   "metadata": {
    "collapsed": false,
    "pycharm": {
     "name": "#%%\n"
    }
   }
  },
  {
   "cell_type": "code",
   "execution_count": 25,
   "outputs": [
    {
     "name": "stdout",
     "output_type": "stream",
     "text": [
      "Epoch 1/5\n",
      "105/105 [==============================] - 10s 41ms/step - loss: 1.4873 - sparse_categorical_accuracy: 0.4767 - val_loss: 1.0059 - val_sparse_categorical_accuracy: 0.6526\n",
      "Epoch 2/5\n",
      "105/105 [==============================] - 3s 22ms/step - loss: 1.1647 - sparse_categorical_accuracy: 0.5520 - val_loss: 0.9589 - val_sparse_categorical_accuracy: 0.6825\n",
      "Epoch 3/5\n",
      "105/105 [==============================] - 3s 24ms/step - loss: 1.1335 - sparse_categorical_accuracy: 0.5544 - val_loss: 1.0035 - val_sparse_categorical_accuracy: 0.6702\n",
      "Epoch 4/5\n",
      "105/105 [==============================] - 3s 22ms/step - loss: 1.1378 - sparse_categorical_accuracy: 0.5460 - val_loss: 0.9534 - val_sparse_categorical_accuracy: 0.6878\n",
      "Epoch 5/5\n",
      "105/105 [==============================] - 3s 25ms/step - loss: 1.1187 - sparse_categorical_accuracy: 0.5711 - val_loss: 0.9820 - val_sparse_categorical_accuracy: 0.6861\n",
      "71/71 [==============================] - 3s 5ms/step\n",
      "68/68 [==============================] - 2s 12ms/step\n"
     ]
    }
   ],
   "source": [
    "history = compile_and_fit_classifier(lstm_model_classifier, test_window)\n",
    "val_performance = {}\n",
    "performance = {}\n",
    "\n",
    "probs = lstm_model_classifier.predict(test_window.val)\n",
    "preds = probs.argmax(axis=-1)\n",
    "val_performance['LSTM'] = lstm_model_classifier.evaluate(test_window.val, verbose=0)\n",
    "\n",
    "probs = lstm_model_classifier.predict(test_window.test)\n",
    "preds = probs.argmax(axis=-1)\n",
    "performance['LSTM'] = lstm_model_classifier.evaluate(test_window.test, verbose=0)"
   ],
   "metadata": {
    "collapsed": false,
    "pycharm": {
     "name": "#%%\n"
    }
   }
  },
  {
   "cell_type": "code",
   "execution_count": 26,
   "outputs": [
    {
     "name": "stdout",
     "output_type": "stream",
     "text": [
      "The accuracy on the test set is: 0.7704\n"
     ]
    }
   ],
   "source": [
    "print(\"The accuracy on the test set is:\",round(performance[\"LSTM\"][1], 4))"
   ],
   "metadata": {
    "collapsed": false,
    "pycharm": {
     "name": "#%%\n"
    }
   }
  },
  {
   "cell_type": "markdown",
   "source": [
    "Construct CI for performance"
   ],
   "metadata": {
    "collapsed": false,
    "pycharm": {
     "name": "#%% md\n"
    }
   }
  },
  {
   "cell_type": "code",
   "execution_count": 43,
   "outputs": [
    {
     "name": "stdout",
     "output_type": "stream",
     "text": [
      "Epoch 1/5\n",
      "105/105 [==============================] - 9s 35ms/step - loss: 1.0375 - sparse_categorical_accuracy: 0.5914 - val_loss: 1.1762 - val_sparse_categorical_accuracy: 0.6561\n",
      "Epoch 2/5\n",
      "105/105 [==============================] - 3s 21ms/step - loss: 1.0273 - sparse_categorical_accuracy: 0.5974 - val_loss: 1.1862 - val_sparse_categorical_accuracy: 0.6561\n",
      "Epoch 3/5\n",
      "105/105 [==============================] - 3s 22ms/step - loss: 1.0135 - sparse_categorical_accuracy: 0.6033 - val_loss: 1.2284 - val_sparse_categorical_accuracy: 0.6455\n",
      "68/68 [==============================] - 4s 4ms/step\n",
      "[1.0010699033737183, 0.7462962865829468]\n",
      "Epoch 1/5\n",
      "105/105 [==============================] - 9s 46ms/step - loss: 1.0179 - sparse_categorical_accuracy: 0.5938 - val_loss: 1.2111 - val_sparse_categorical_accuracy: 0.6420\n",
      "Epoch 2/5\n",
      "105/105 [==============================] - 3s 21ms/step - loss: 1.0118 - sparse_categorical_accuracy: 0.5938 - val_loss: 1.2283 - val_sparse_categorical_accuracy: 0.6437\n",
      "Epoch 3/5\n",
      "105/105 [==============================] - 3s 25ms/step - loss: 0.9882 - sparse_categorical_accuracy: 0.6117 - val_loss: 1.2295 - val_sparse_categorical_accuracy: 0.6508\n",
      "68/68 [==============================] - 4s 4ms/step\n",
      "[1.009655475616455, 0.7444444298744202]\n",
      "Epoch 1/5\n",
      "105/105 [==============================] - 11s 52ms/step - loss: 1.0199 - sparse_categorical_accuracy: 0.5986 - val_loss: 1.1850 - val_sparse_categorical_accuracy: 0.6420\n",
      "Epoch 2/5\n",
      "105/105 [==============================] - 4s 32ms/step - loss: 0.9970 - sparse_categorical_accuracy: 0.5938 - val_loss: 1.1716 - val_sparse_categorical_accuracy: 0.6455\n",
      "Epoch 3/5\n",
      "105/105 [==============================] - 3s 21ms/step - loss: 0.9893 - sparse_categorical_accuracy: 0.6225 - val_loss: 1.2335 - val_sparse_categorical_accuracy: 0.6526\n",
      "Epoch 4/5\n",
      "105/105 [==============================] - 3s 20ms/step - loss: 0.9734 - sparse_categorical_accuracy: 0.6213 - val_loss: 1.2565 - val_sparse_categorical_accuracy: 0.6437\n",
      "68/68 [==============================] - 2s 4ms/step\n",
      "[1.0373154878616333, 0.7425925731658936]\n",
      "Epoch 1/5\n",
      "105/105 [==============================] - 8s 34ms/step - loss: 0.9918 - sparse_categorical_accuracy: 0.6177 - val_loss: 1.3089 - val_sparse_categorical_accuracy: 0.6473\n",
      "Epoch 2/5\n",
      "105/105 [==============================] - 3s 21ms/step - loss: 0.9904 - sparse_categorical_accuracy: 0.6105 - val_loss: 1.2435 - val_sparse_categorical_accuracy: 0.6543\n",
      "Epoch 3/5\n",
      "105/105 [==============================] - 4s 30ms/step - loss: 0.9735 - sparse_categorical_accuracy: 0.6141 - val_loss: 1.2021 - val_sparse_categorical_accuracy: 0.6508\n",
      "Epoch 4/5\n",
      "105/105 [==============================] - 4s 25ms/step - loss: 0.9893 - sparse_categorical_accuracy: 0.6153 - val_loss: 1.1819 - val_sparse_categorical_accuracy: 0.6455\n",
      "Epoch 5/5\n",
      "105/105 [==============================] - 9s 73ms/step - loss: 0.9742 - sparse_categorical_accuracy: 0.6177 - val_loss: 1.2132 - val_sparse_categorical_accuracy: 0.6455\n",
      "68/68 [==============================] - 3s 3ms/step\n",
      "[1.0144188404083252, 0.7407407164573669]\n",
      "Epoch 1/5\n",
      "105/105 [==============================] - 11s 43ms/step - loss: 0.9703 - sparse_categorical_accuracy: 0.6153 - val_loss: 1.2339 - val_sparse_categorical_accuracy: 0.6473\n",
      "Epoch 2/5\n",
      "105/105 [==============================] - 3s 23ms/step - loss: 0.9647 - sparse_categorical_accuracy: 0.6189 - val_loss: 1.2534 - val_sparse_categorical_accuracy: 0.6420\n",
      "Epoch 3/5\n",
      "105/105 [==============================] - 4s 22ms/step - loss: 0.9841 - sparse_categorical_accuracy: 0.6081 - val_loss: 1.2325 - val_sparse_categorical_accuracy: 0.6384\n",
      "Epoch 4/5\n",
      "105/105 [==============================] - 3s 26ms/step - loss: 0.9770 - sparse_categorical_accuracy: 0.6141 - val_loss: 1.2235 - val_sparse_categorical_accuracy: 0.6420\n",
      "Epoch 5/5\n",
      "105/105 [==============================] - 4s 30ms/step - loss: 0.9585 - sparse_categorical_accuracy: 0.6260 - val_loss: 1.2275 - val_sparse_categorical_accuracy: 0.6384\n",
      "68/68 [==============================] - 2s 4ms/step\n",
      "[0.986910879611969, 0.7462962865829468]\n",
      "Epoch 1/5\n",
      "105/105 [==============================] - 8s 36ms/step - loss: 0.9573 - sparse_categorical_accuracy: 0.6260 - val_loss: 1.2358 - val_sparse_categorical_accuracy: 0.6367\n",
      "Epoch 2/5\n",
      "105/105 [==============================] - 4s 31ms/step - loss: 0.9530 - sparse_categorical_accuracy: 0.6225 - val_loss: 1.2963 - val_sparse_categorical_accuracy: 0.6332\n",
      "Epoch 3/5\n",
      "105/105 [==============================] - 6s 31ms/step - loss: 0.9167 - sparse_categorical_accuracy: 0.6356 - val_loss: 1.3235 - val_sparse_categorical_accuracy: 0.6349\n",
      "68/68 [==============================] - 3s 4ms/step\n",
      "[1.0532596111297607, 0.729629635810852]\n",
      "Epoch 1/5\n",
      "105/105 [==============================] - 9s 36ms/step - loss: 0.9424 - sparse_categorical_accuracy: 0.6213 - val_loss: 1.3462 - val_sparse_categorical_accuracy: 0.6279\n",
      "Epoch 2/5\n",
      "105/105 [==============================] - 3s 21ms/step - loss: 0.9156 - sparse_categorical_accuracy: 0.6308 - val_loss: 1.3675 - val_sparse_categorical_accuracy: 0.6208\n",
      "Epoch 3/5\n",
      "105/105 [==============================] - 3s 20ms/step - loss: 0.9211 - sparse_categorical_accuracy: 0.6284 - val_loss: 1.3580 - val_sparse_categorical_accuracy: 0.6349\n",
      "68/68 [==============================] - 2s 4ms/step\n",
      "[1.1142174005508423, 0.7370370626449585]\n",
      "Epoch 1/5\n",
      "105/105 [==============================] - 10s 41ms/step - loss: 0.9218 - sparse_categorical_accuracy: 0.6320 - val_loss: 1.3630 - val_sparse_categorical_accuracy: 0.6367\n",
      "Epoch 2/5\n",
      "105/105 [==============================] - 3s 23ms/step - loss: 0.9124 - sparse_categorical_accuracy: 0.6428 - val_loss: 1.4220 - val_sparse_categorical_accuracy: 0.6296\n",
      "Epoch 3/5\n",
      "105/105 [==============================] - 4s 31ms/step - loss: 0.9371 - sparse_categorical_accuracy: 0.6320 - val_loss: 1.3521 - val_sparse_categorical_accuracy: 0.6243\n",
      "Epoch 4/5\n",
      "105/105 [==============================] - 3s 24ms/step - loss: 0.8873 - sparse_categorical_accuracy: 0.6440 - val_loss: 1.3772 - val_sparse_categorical_accuracy: 0.6437\n",
      "Epoch 5/5\n",
      "105/105 [==============================] - 7s 36ms/step - loss: 0.8793 - sparse_categorical_accuracy: 0.6499 - val_loss: 1.4107 - val_sparse_categorical_accuracy: 0.6226\n",
      "68/68 [==============================] - 3s 6ms/step\n",
      "[1.1462810039520264, 0.7314814925193787]\n",
      "Epoch 1/5\n",
      "105/105 [==============================] - 11s 45ms/step - loss: 0.8998 - sparse_categorical_accuracy: 0.6332 - val_loss: 1.3617 - val_sparse_categorical_accuracy: 0.6420\n",
      "Epoch 2/5\n",
      "105/105 [==============================] - 3s 21ms/step - loss: 0.8675 - sparse_categorical_accuracy: 0.6404 - val_loss: 1.4104 - val_sparse_categorical_accuracy: 0.6349\n",
      "Epoch 3/5\n",
      "105/105 [==============================] - 3s 19ms/step - loss: 0.8825 - sparse_categorical_accuracy: 0.6499 - val_loss: 1.4493 - val_sparse_categorical_accuracy: 0.6173\n",
      "68/68 [==============================] - 2s 4ms/step\n",
      "[1.1943678855895996, 0.7277777791023254]\n",
      "Epoch 1/5\n",
      "105/105 [==============================] - 8s 39ms/step - loss: 0.8648 - sparse_categorical_accuracy: 0.6380 - val_loss: 1.4120 - val_sparse_categorical_accuracy: 0.6243\n",
      "Epoch 2/5\n",
      "105/105 [==============================] - 5s 41ms/step - loss: 0.8270 - sparse_categorical_accuracy: 0.6762 - val_loss: 1.4390 - val_sparse_categorical_accuracy: 0.6208\n",
      "Epoch 3/5\n",
      "105/105 [==============================] - 6s 42ms/step - loss: 0.8564 - sparse_categorical_accuracy: 0.6487 - val_loss: 1.4302 - val_sparse_categorical_accuracy: 0.6314\n",
      "68/68 [==============================] - 3s 5ms/step\n",
      "[1.1534501314163208, 0.7314814925193787]\n"
     ]
    }
   ],
   "source": [
    "n_simulations = 10\n",
    "accuracies = np.empty(n_simulations)\n",
    "for i in range(n_simulations):\n",
    "    history = compile_and_fit_classifier(lstm_model_classifier, test_window)\n",
    "    probs = lstm_model_classifier.predict(test_window.test)\n",
    "    preds = probs.argmax(axis=-1)\n",
    "    print(lstm_model_classifier.evaluate(test_window.test, verbose=0))\n",
    "    accuracies[i]= lstm_model_classifier.evaluate(test_window.test, verbose=0)[1]"
   ],
   "metadata": {
    "collapsed": false,
    "pycharm": {
     "name": "#%%\n"
    }
   }
  },
  {
   "cell_type": "code",
   "execution_count": 44,
   "outputs": [
    {
     "data": {
      "text/plain": "array([0.74629629, 0.74444443, 0.74259257, 0.74074072, 0.74629629,\n       0.72962964, 0.73703706, 0.73148149, 0.72777778, 0.73148149])"
     },
     "execution_count": 44,
     "metadata": {},
     "output_type": "execute_result"
    }
   ],
   "source": [
    "accuracies"
   ],
   "metadata": {
    "collapsed": false,
    "pycharm": {
     "name": "#%%\n"
    }
   }
  },
  {
   "cell_type": "code",
   "execution_count": null,
   "outputs": [],
   "source": [],
   "metadata": {
    "collapsed": false,
    "pycharm": {
     "name": "#%%\n"
    }
   }
  }
 ],
 "metadata": {
  "kernelspec": {
   "display_name": "Python 3",
   "language": "python",
   "name": "python3"
  },
  "language_info": {
   "codemirror_mode": {
    "name": "ipython",
    "version": 2
   },
   "file_extension": ".py",
   "mimetype": "text/x-python",
   "name": "python",
   "nbconvert_exporter": "python",
   "pygments_lexer": "ipython2",
   "version": "2.7.6"
  }
 },
 "nbformat": 4,
 "nbformat_minor": 0
}