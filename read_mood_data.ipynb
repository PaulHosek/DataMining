{
 "cells": [
  {
   "cell_type": "code",
   "execution_count": 13,
   "metadata": {
    "pycharm": {
     "name": "#%%\n"
    }
   },
   "outputs": [],
   "source": [
    "import pandas as pd\n",
    "import numpy as np\n",
    "from tqdm import tqdm\n",
    "import matplotlib.pyplot as plt\n",
    "from IPython.display import clear_output\n",
    "import datetime as dt\n",
    "\n",
    "from preprocessing import aggregate_individual_data_per_reading, aggregate_per_day_from_measurement"
   ]
  },
  {
   "cell_type": "code",
   "execution_count": 14,
   "metadata": {
    "pycharm": {
     "name": "#%%\n"
    }
   },
   "outputs": [],
   "source": [
    "# read data\n",
    "raw_data = pd.read_csv('data/dataset_mood_smartphone.csv')"
   ]
  },
  {
   "cell_type": "code",
   "execution_count": 15,
   "metadata": {
    "pycharm": {
     "name": "#%%\n"
    }
   },
   "outputs": [
    {
     "data": {
      "text/html": [
       "<div>\n",
       "<style scoped>\n",
       "    .dataframe tbody tr th:only-of-type {\n",
       "        vertical-align: middle;\n",
       "    }\n",
       "\n",
       "    .dataframe tbody tr th {\n",
       "        vertical-align: top;\n",
       "    }\n",
       "\n",
       "    .dataframe thead th {\n",
       "        text-align: right;\n",
       "    }\n",
       "</style>\n",
       "<table border=\"1\" class=\"dataframe\">\n",
       "  <thead>\n",
       "    <tr style=\"text-align: right;\">\n",
       "      <th></th>\n",
       "      <th>id</th>\n",
       "      <th>time</th>\n",
       "      <th>variable</th>\n",
       "      <th>value</th>\n",
       "    </tr>\n",
       "  </thead>\n",
       "  <tbody>\n",
       "    <tr>\n",
       "      <th>0</th>\n",
       "      <td>AS14.01</td>\n",
       "      <td>2014-02-26 13:00:00.000</td>\n",
       "      <td>mood</td>\n",
       "      <td>6.0</td>\n",
       "    </tr>\n",
       "    <tr>\n",
       "      <th>1</th>\n",
       "      <td>AS14.01</td>\n",
       "      <td>2014-02-26 15:00:00.000</td>\n",
       "      <td>mood</td>\n",
       "      <td>6.0</td>\n",
       "    </tr>\n",
       "    <tr>\n",
       "      <th>2</th>\n",
       "      <td>AS14.01</td>\n",
       "      <td>2014-02-26 18:00:00.000</td>\n",
       "      <td>mood</td>\n",
       "      <td>6.0</td>\n",
       "    </tr>\n",
       "    <tr>\n",
       "      <th>3</th>\n",
       "      <td>AS14.01</td>\n",
       "      <td>2014-02-26 21:00:00.000</td>\n",
       "      <td>mood</td>\n",
       "      <td>7.0</td>\n",
       "    </tr>\n",
       "    <tr>\n",
       "      <th>4</th>\n",
       "      <td>AS14.01</td>\n",
       "      <td>2014-02-27 09:00:00.000</td>\n",
       "      <td>mood</td>\n",
       "      <td>6.0</td>\n",
       "    </tr>\n",
       "  </tbody>\n",
       "</table>\n",
       "</div>"
      ],
      "text/plain": [
       "        id                     time variable  value\n",
       "0  AS14.01  2014-02-26 13:00:00.000     mood    6.0\n",
       "1  AS14.01  2014-02-26 15:00:00.000     mood    6.0\n",
       "2  AS14.01  2014-02-26 18:00:00.000     mood    6.0\n",
       "3  AS14.01  2014-02-26 21:00:00.000     mood    7.0\n",
       "4  AS14.01  2014-02-27 09:00:00.000     mood    6.0"
      ]
     },
     "execution_count": 15,
     "metadata": {},
     "output_type": "execute_result"
    }
   ],
   "source": [
    "raw_data.drop('Unnamed: 0', inplace=True, axis=1)\n",
    "raw_data.head()"
   ]
  },
  {
   "cell_type": "code",
   "execution_count": 16,
   "metadata": {
    "pycharm": {
     "name": "#%%\n"
    }
   },
   "outputs": [],
   "source": [
    "raw_data['time'] = pd.to_datetime(raw_data['time'])"
   ]
  },
  {
   "cell_type": "code",
   "execution_count": 17,
   "metadata": {
    "pycharm": {
     "name": "#%%\n"
    }
   },
   "outputs": [],
   "source": [
    "# delete lonely values followed by long gap at the start of series\n",
    "raw_data.drop(raw_data.loc[(raw_data.id == 'AS14.01') & (raw_data.time.dt.date == dt.date(2014, 2, 26))].index, inplace= True)\n",
    "raw_data.drop(raw_data.loc[(raw_data.id == 'AS14.01') & (raw_data.time.dt.date == dt.date(2014, 2, 27))].index, inplace= True)\n",
    "raw_data.drop(raw_data.loc[(raw_data.id == 'AS14.12') & (raw_data.time.dt.date == dt.date(2014, 3, 15))].index, inplace= True)\n",
    "raw_data.dropna(inplace=True)"
   ]
  },
  {
   "cell_type": "code",
   "execution_count": 18,
   "metadata": {
    "pycharm": {
     "name": "#%%\n"
    }
   },
   "outputs": [],
   "source": [
    "# cast id to integers\n",
    "ids = raw_data['id'].unique()"
   ]
  },
  {
   "attachments": {},
   "cell_type": "markdown",
   "metadata": {
    "pycharm": {
     "name": "#%% md\n"
    }
   },
   "source": [
    "### aggregate per measurement and day"
   ]
  },
  {
   "cell_type": "code",
   "execution_count": null,
   "metadata": {
    "pycharm": {
     "name": "#%%\n"
    }
   },
   "outputs": [],
   "source": [
    "# specify variables to average\n",
    "to_average = np.array(['mood', 'circumplex.arousal', 'circumplex.valence', 'activity'])\n",
    "processed_dfs_measure = []\n",
    "processed_dfs_day = []\n",
    "\n",
    "for i in tqdm(ids):\n",
    "    raw_df = raw_data.loc[raw_data['id'] == i].copy()\n",
    "    processed_df = aggregate_individual_data_per_reading(raw_df, to_average)\n",
    "    processed_dfs_measure.append(processed_df)\n",
    "    #processed_df.to_csv('data/aggregated_individual_data_per_measurement/'+str(i)+'_aggregated_per_measurement.csv')\n",
    "\n",
    "    processed_df = aggregate_per_day_from_measurement(processed_df, to_average)\n",
    "    processed_dfs_day.append(processed_df)\n",
    "    #processed_df.to_csv('data/aggregated_individual_data/'+str(i)+'_aggregated_per_day.csv')\n",
    "    clear_output()"
   ]
  },
  {
   "cell_type": "code",
   "execution_count": null,
   "metadata": {
    "pycharm": {
     "name": "#%%\n"
    }
   },
   "outputs": [],
   "source": []
  }
 ],
 "metadata": {
  "kernelspec": {
   "display_name": "IntroCLS",
   "language": "python",
   "name": "python3"
  },
  "language_info": {
   "codemirror_mode": {
    "name": "ipython",
    "version": 3
   },
   "file_extension": ".py",
   "mimetype": "text/x-python",
   "name": "python",
   "nbconvert_exporter": "python",
   "pygments_lexer": "ipython3",
   "version": "3.11.2"
  },
  "orig_nbformat": 4,
  "vscode": {
   "interpreter": {
    "hash": "29a296737adad241676316a190c62d1d03c98f7c55f74200432452830af23483"
   }
  }
 },
 "nbformat": 4,
 "nbformat_minor": 2
}