{
 "cells": [
  {
   "cell_type": "markdown",
   "source": [
    "#### Remove NaN values and interpolate\n",
    "- if beginning we set to 0 and if makes sense with feature\n",
    "- if between we interpolate and if makes sense\n",
    "- if whole column nan we set all to 0"
   ],
   "metadata": {
    "collapsed": false,
    "pycharm": {
     "name": "#%% md\n"
    }
   }
  },
  {
   "cell_type": "code",
   "execution_count": 2,
   "metadata": {
    "collapsed": true,
    "pycharm": {
     "name": "#%%\n"
    }
   },
   "outputs": [],
   "source": [
    "import matplotlib as mpl\n",
    "import pandas as pd\n",
    "import os\n",
    "mpl.rcParams['figure.figsize'] = (8, 6)\n",
    "mpl.rcParams['axes.grid'] = False"
   ]
  },
  {
   "cell_type": "code",
   "execution_count": 41,
   "outputs": [
    {
     "name": "stdout",
     "output_type": "stream",
     "text": [
      "    weekday      mood  circumplex.arousal  circumplex.valence  activity  \\\n",
      "0         4  6.250000            0.000000            0.250000  0.240971   \n",
      "1         5  6.600000            0.600000            0.750000  0.227151   \n",
      "2         6  6.600000            0.200000            0.400000  0.114042   \n",
      "3         0  5.800000            1.000000            0.000000  0.197505   \n",
      "4         1  7.000000            0.750000            0.750000  0.108581   \n",
      "..      ...       ...                 ...                 ...       ...   \n",
      "38        1  6.000000           -0.800000            0.200000  0.042570   \n",
      "39        2  8.400000            0.600000            1.400000  0.194939   \n",
      "40        3  6.666667           -1.666667            0.666667  0.067023   \n",
      "41        4  7.000000           -0.600000            0.000000  0.202326   \n",
      "42        5  6.000000           -2.000000           -1.000000  0.008403   \n",
      "\n",
      "          screen  call  sms  appCat.builtin  appCat.communication  ...  \\\n",
      "0   15091.126000   6.0  0.0        2706.775              6107.310  ...   \n",
      "1    6376.119999   3.0  1.0         913.582              4882.987  ...   \n",
      "2    4258.870001   0.0  0.0        1138.127              3497.339  ...   \n",
      "3   14915.900001  10.0  0.0         967.040              8482.401  ...   \n",
      "4   15055.802999   0.0  1.0         759.339              7998.608  ...   \n",
      "..           ...   ...  ...             ...                   ...  ...   \n",
      "38  12699.559000   1.0  2.0         422.086              1735.202  ...   \n",
      "39  12953.625999  10.0  1.0        2726.064              1972.690  ...   \n",
      "40   5735.908000   2.0  0.0         311.093               715.744  ...   \n",
      "41   6203.046000   7.0  1.0        2651.988              1537.881  ...   \n",
      "42   3687.178999   0.0  0.0         660.224               225.487  ...   \n",
      "\n",
      "    appCat.game  appCat.office  appCat.other  appCat.social  appCat.travel  \\\n",
      "0           0.0         62.281       228.715       4009.135        915.445   \n",
      "1           0.0        109.925        97.125        439.632         37.305   \n",
      "2           0.0          0.000        52.658        367.596          0.000   \n",
      "3           0.0          3.010        87.738       3691.595        419.805   \n",
      "4           0.0          0.000       140.656       1527.405          0.000   \n",
      "..          ...            ...           ...            ...            ...   \n",
      "38          0.0          0.000       133.572       1861.658          0.000   \n",
      "39          0.0        357.909       536.937       3769.875          0.000   \n",
      "40          0.0          0.000        24.298       3660.437          0.000   \n",
      "41          0.0          0.000        57.545       1337.595       1053.587   \n",
      "42          0.0          0.000        10.121       1835.872          0.000   \n",
      "\n",
      "    appCat.unknown  appCat.utilities  appCat.weather  subject_id  days  \n",
      "0            0.000           317.139             0.0           1     0  \n",
      "1            0.000           117.621             0.0           1     1  \n",
      "2            0.000             0.000             0.0           1     2  \n",
      "3            0.000           208.818             0.0           1     3  \n",
      "4          235.223            74.431             0.0           1     4  \n",
      "..             ...               ...             ...         ...   ...  \n",
      "38           0.000            56.173             0.0          33    41  \n",
      "39           0.000            30.666             0.0          33    42  \n",
      "40           0.000             0.000             0.0          33    43  \n",
      "41           8.072           227.999             0.0          33    44  \n",
      "42           0.000             8.025             0.0          33    45  \n",
      "\n",
      "[1169 rows x 22 columns]\n"
     ]
    }
   ],
   "source": [
    "data_list = []\n",
    "for filename in sorted(os.listdir('data/aggregated_individual_data/')):\n",
    "    with open('data/aggregated_individual_data/'+filename, 'r') as f: # open in readonly mode\n",
    "        df = pd.read_csv(f, index_col='time', parse_dates=[\"time\"])\n",
    "        df.drop('Unnamed: 0', inplace=True, axis = 1)\n",
    "        df.interpolate(method=\"time\", inplace=True)\n",
    "        df.reset_index(inplace=True)\n",
    "        df[\"subject_id\"] = int(filename[5:7])\n",
    "        df['days'] = (df['time'] - df['time'].min()).dt.days.astype(int)\n",
    "        df.drop([\"time\"], inplace=True,axis=1)\n",
    "        # weather app is nan if not used\n",
    "        # activity is nan if no sports\n",
    "        df[\"appCat.weather\"].fillna(0, inplace=True)\n",
    "        df[\"activity\"].fillna(0, inplace=True)\n",
    "\n",
    "        data_list.append(df)\n",
    "\n",
    "data = pd.concat(data_list)\n",
    "print(data)"
   ],
   "metadata": {
    "collapsed": false,
    "pycharm": {
     "name": "#%%\n"
    }
   }
  },
  {
   "cell_type": "code",
   "execution_count": 43,
   "outputs": [],
   "source": [
    "df.to_csv(\"data/all_data_aggr_nonan.csv\")"
   ],
   "metadata": {
    "collapsed": false,
    "pycharm": {
     "name": "#%%\n"
    }
   }
  }
 ],
 "metadata": {
  "kernelspec": {
   "display_name": "Python 3",
   "language": "python",
   "name": "python3"
  },
  "language_info": {
   "codemirror_mode": {
    "name": "ipython",
    "version": 2
   },
   "file_extension": ".py",
   "mimetype": "text/x-python",
   "name": "python",
   "nbconvert_exporter": "python",
   "pygments_lexer": "ipython2",
   "version": "2.7.6"
  }
 },
 "nbformat": 4,
 "nbformat_minor": 0
}