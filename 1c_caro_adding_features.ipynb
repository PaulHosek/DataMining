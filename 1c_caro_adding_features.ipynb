{
 "cells": [
  {
   "cell_type": "code",
   "execution_count": 2,
   "metadata": {
    "collapsed": true,
    "ExecuteTime": {
     "start_time": "2023-04-07T15:05:17.084016Z",
     "end_time": "2023-04-07T15:05:17.107253Z"
    }
   },
   "outputs": [],
   "source": [
    "import pandas as pd\n",
    "import numpy as np\n",
    "import matplotlib.pyplot as plt"
   ]
  },
  {
   "cell_type": "code",
   "execution_count": 24,
   "outputs": [],
   "source": [
    "df = pd.read_csv('data/dataset_mood_smartphone.csv', index_col=0)"
   ],
   "metadata": {
    "collapsed": false,
    "ExecuteTime": {
     "start_time": "2023-04-07T15:26:54.434212Z",
     "end_time": "2023-04-07T15:26:55.219861Z"
    }
   }
  },
  {
   "cell_type": "code",
   "execution_count": 36,
   "outputs": [
    {
     "name": "stdout",
     "output_type": "stream",
     "text": [
      "             id                     time              variable  value\n",
      "1       AS14.01  2014-02-26 13:00:00.000                  mood    6.0\n",
      "2       AS14.01  2014-02-26 15:00:00.000                  mood    6.0\n",
      "3       AS14.01  2014-02-26 18:00:00.000                  mood    6.0\n",
      "5       AS14.01  2014-02-27 09:00:00.000                  mood    6.0\n",
      "6       AS14.01  2014-02-27 12:00:00.000                  mood    6.0\n",
      "...         ...                      ...                   ...    ...\n",
      "5638    AS14.33  2014-05-30 13:00:00.000                  mood    6.0\n",
      "5640    AS14.33  2014-05-30 20:00:00.000                  mood    6.0\n",
      "49775   AS14.02  2014-04-11 22:19:56.220                screen    6.0\n",
      "92457   AS14.19  2014-04-27 14:00:24.756                screen    6.0\n",
      "296974  AS14.08  2014-03-26 15:38:49.503  appCat.communication    6.0\n",
      "\n",
      "[1012 rows x 4 columns]\n",
      "id                          AS14.01\n",
      "time        2014-02-26 18:00:00.000\n",
      "variable                       mood\n",
      "value                           6.0\n",
      "Name: 3, dtype: object\n"
     ]
    }
   ],
   "source": [
    "print(df[df['value']==6])\n",
    "print(df.iloc[2,:])"
   ],
   "metadata": {
    "collapsed": false,
    "ExecuteTime": {
     "start_time": "2023-04-07T15:29:27.684041Z",
     "end_time": "2023-04-07T15:29:27.722166Z"
    }
   }
  },
  {
   "cell_type": "code",
   "execution_count": 23,
   "outputs": [
    {
     "name": "stdout",
     "output_type": "stream",
     "text": [
      "   Unnamed: 0       id                     time variable  value\n",
      "0           1  AS14.01  2014-02-26 13:00:00.000     mood    6.0\n",
      "1           2  AS14.01  2014-02-26 15:00:00.000     mood    6.0\n"
     ]
    }
   ],
   "source": [
    "print(df[0:2])"
   ],
   "metadata": {
    "collapsed": false,
    "ExecuteTime": {
     "start_time": "2023-04-07T15:26:03.581048Z",
     "end_time": "2023-04-07T15:26:03.592840Z"
    }
   }
  },
  {
   "cell_type": "code",
   "execution_count": null,
   "outputs": [],
   "source": [],
   "metadata": {
    "collapsed": false
   }
  }
 ],
 "metadata": {
  "kernelspec": {
   "display_name": "Python 3",
   "language": "python",
   "name": "python3"
  },
  "language_info": {
   "codemirror_mode": {
    "name": "ipython",
    "version": 2
   },
   "file_extension": ".py",
   "mimetype": "text/x-python",
   "name": "python",
   "nbconvert_exporter": "python",
   "pygments_lexer": "ipython2",
   "version": "2.7.6"
  }
 },
 "nbformat": 4,
 "nbformat_minor": 0
}
