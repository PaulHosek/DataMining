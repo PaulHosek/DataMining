{
 "cells": [
  {
   "cell_type": "code",
   "execution_count": 124,
   "metadata": {
    "collapsed": true,
    "pycharm": {
     "name": "#%%\n"
    }
   },
   "outputs": [],
   "source": [
    "import dask.dataframe as dd\n",
    "import pandas as pd\n",
    "import matplotlib.pyplot as plt\n",
    "# import hvplot.dask\n",
    "import numpy as np\n",
    "import dask.array as da\n",
    "import pickle\n",
    "import seaborn as sns"
   ]
  },
  {
   "cell_type": "markdown",
   "source": [
    "Additional features\n",
    "\n",
    "- base rate booking -> # booked / # found\n",
    "- best hotel for location\n",
    "- aggregate competitor information\n",
    "  - better or equal vs. worse\n",
    "  - drop non-percentage difference\n",
    "- expected position\n",
    "- reduce children to binary flag?\n",
    "\n",
    "- do factor analysis?\n",
    "\n",
    "\n",
    "###### stuff that were important features for others\n",
    "\n",
    " 09 : hotel's historical price - current price\n",
    "data[\"ump\"] = exp(prop_log_historical_price) - price_usd\n",
    "12 :\n",
    "data[\"score2ma\"] = prop_location_score2 * srch_query_affinity_score\n",
    " 13 :\n",
    "data[\"score1d2\"] = (prop_location_score2 + 0.0001)/(prop_location_score1 + 0.0001)\n",
    "\n",
    "data[\"fee_per_person\"] = (price_usd * srch_room_count)/(srch_adults_count + srch_children_count)\n",
    "\n",
    "- categorical to one-hot encoding"
   ],
   "metadata": {
    "collapsed": false,
    "pycharm": {
     "name": "#%% md\n"
    }
   }
  },
  {
   "cell_type": "code",
   "execution_count": 125,
   "outputs": [],
   "source": [
    "df = pd.read_csv(\"data/training_set_VU_DM.csv\")"
   ],
   "metadata": {
    "collapsed": false,
    "pycharm": {
     "name": "#%%\n"
    }
   }
  },
  {
   "cell_type": "code",
   "execution_count": 126,
   "outputs": [],
   "source": [
    "# 1. Base rate booking column\n",
    "grouped_hotels = df.groupby(\"prop_id\").sum(numeric_only=True)\n",
    "temp = pd.DataFrame()\n",
    "temp[\"prob_clickbook\"] = grouped_hotels[\"booking_bool\"]/ grouped_hotels[\"click_bool\"]\n",
    "temp.fillna(0,inplace=True)\n",
    "temp =temp.reset_index()\n",
    "df = df.merge(temp, on=\"prop_id\")\n",
    "del temp"
   ],
   "metadata": {
    "collapsed": false,
    "pycharm": {
     "name": "#%%\n"
    }
   }
  },
  {
   "cell_type": "code",
   "execution_count": 127,
   "outputs": [
    {
     "name": "stderr",
     "output_type": "stream",
     "text": [
      "/var/folders/z9/j9843dsj2t5dsl2bv81xcwww0000gn/T/ipykernel_30801/3161763591.py:4: SettingWithCopyWarning: \n",
      "A value is trying to be set on a copy of a slice from a DataFrame.\n",
      "Try using .loc[row_indexer,col_indexer] = value instead\n",
      "\n",
      "See the caveats in the documentation: https://pandas.pydata.org/pandas-docs/stable/user_guide/indexing.html#returning-a-view-versus-a-copy\n",
      "  temp[\"total_score\"] = temp.loc[:,\"prop_starrating\"] + temp.loc[:,\"prop_review_score\"]\n",
      "/var/folders/z9/j9843dsj2t5dsl2bv81xcwww0000gn/T/ipykernel_30801/3161763591.py:5: SettingWithCopyWarning: \n",
      "A value is trying to be set on a copy of a slice from a DataFrame.\n",
      "Try using .loc[row_indexer,col_indexer] = value instead\n",
      "\n",
      "See the caveats in the documentation: https://pandas.pydata.org/pandas-docs/stable/user_guide/indexing.html#returning-a-view-versus-a-copy\n",
      "  temp[\"country_pct_rank\"] = temp.groupby(\"prop_country_id\")[\"total_score\"].rank(method=\"dense\", ascending=True,pct=True)\n"
     ]
    }
   ],
   "source": [
    "# 2. Percentile rank of hotel in its country\n",
    "grouped_hotels = df.groupby([\"prop_id\",\"prop_country_id\"]).mean(numeric_only=True).reset_index()\n",
    "temp = grouped_hotels[[\"prop_starrating\", \"prop_review_score\",\"prop_id\",\"prop_country_id\"]]\n",
    "temp[\"total_score\"] = temp.loc[:,\"prop_starrating\"] + temp.loc[:,\"prop_review_score\"]\n",
    "temp[\"country_pct_rank\"] = temp.groupby(\"prop_country_id\")[\"total_score\"].rank(method=\"dense\", ascending=True,pct=True)\n",
    "temp = temp[[\"prop_id\",\"country_pct_rank\"]]\n",
    "df = df.merge(temp, on=\"prop_id\")\n",
    "del temp"
   ],
   "metadata": {
    "collapsed": false,
    "pycharm": {
     "name": "#%%\n"
    }
   }
  },
  {
   "cell_type": "code",
   "execution_count": 128,
   "outputs": [],
   "source": [
    "def flatten(l):\n",
    "    return [item for sublist in l for item in sublist]"
   ],
   "metadata": {
    "collapsed": false,
    "pycharm": {
     "name": "#%%\n"
    }
   }
  },
  {
   "cell_type": "code",
   "execution_count": 129,
   "outputs": [],
   "source": [
    "# 3.1 Aggregate competitors: Is there a same or better competitor?\n",
    "# 3.2 Competitor pressure: average competitor score\n",
    "\n",
    "# a. predict rate_cols using rate_pec_columns\n",
    "inv_cols = [f\"comp{i}_inv\" for i in np.arange(1,9)]\n",
    "\n",
    "rate_cols = [f\"comp{i}_rate\" for i in np.arange(1,9)]\n",
    "rate_pec_cols = [f\"comp{i}_rate_percent_diff\" for i in np.arange(1,9)]\n",
    "temp = df[rate_cols + rate_pec_cols]\n",
    "# temp = df[flatten([rate_cols,inv_cols,rate_pec_cols])]\n",
    "temp\n",
    "def interpolate_rate(data_frame, col):\n",
    "    data_frame.set_index('wind_speed', inplace=True)\n",
    "\n",
    "    data_frame.interpolate(method='index', inplace=True)\n",
    "\n",
    "    data_frame.reset_index(inplace=True)\n",
    "\n",
    "# b."
   ],
   "metadata": {
    "collapsed": false,
    "pycharm": {
     "name": "#%%\n"
    }
   }
  },
  {
   "cell_type": "code",
   "execution_count": 130,
   "outputs": [
    {
     "data": {
      "text/plain": "         comp1_rate  comp2_rate  comp3_rate  comp4_rate  comp5_rate  \\\n0               NaN         0.0         0.0         NaN         0.0   \n1               NaN         0.0         0.0         NaN         NaN   \n2               NaN         0.0         0.0         NaN         NaN   \n3               NaN         0.0         0.0         NaN         NaN   \n4               NaN         0.0         0.0         NaN         NaN   \n...             ...         ...         ...         ...         ...   \n4958342         NaN         NaN         NaN         NaN         NaN   \n4958343         NaN         NaN         NaN         NaN         0.0   \n4958344         NaN         NaN         NaN         NaN         0.0   \n4958345         NaN         NaN         NaN         NaN        -1.0   \n4958346         NaN         NaN         NaN         NaN         0.0   \n\n         comp6_rate  comp7_rate  comp8_rate  comp1_inv  comp2_inv  ...  \\\n0               NaN         NaN         0.0        NaN        0.0  ...   \n1               NaN         NaN         0.0        NaN        0.0  ...   \n2               NaN         NaN         0.0        NaN        0.0  ...   \n3               NaN         NaN         NaN        NaN        0.0  ...   \n4               NaN         NaN        -1.0        NaN        0.0  ...   \n...             ...         ...         ...        ...        ...  ...   \n4958342         NaN         NaN         NaN        NaN        NaN  ...   \n4958343         0.0         NaN         NaN        NaN        NaN  ...   \n4958344         NaN         NaN         NaN        NaN        NaN  ...   \n4958345         NaN         NaN         NaN        NaN        NaN  ...   \n4958346         NaN         NaN         NaN        NaN        NaN  ...   \n\n         comp7_inv  comp8_inv  comp1_rate_percent_diff  \\\n0              NaN        0.0                      NaN   \n1              NaN        0.0                      NaN   \n2              NaN        0.0                      NaN   \n3              NaN        NaN                      NaN   \n4              NaN        0.0                      NaN   \n...            ...        ...                      ...   \n4958342        NaN        NaN                      NaN   \n4958343        NaN        NaN                      NaN   \n4958344        NaN        NaN                      NaN   \n4958345        NaN        NaN                      NaN   \n4958346        NaN        NaN                      NaN   \n\n         comp2_rate_percent_diff  comp3_rate_percent_diff  \\\n0                            NaN                      NaN   \n1                            NaN                      NaN   \n2                            NaN                      NaN   \n3                            NaN                      NaN   \n4                            NaN                      NaN   \n...                          ...                      ...   \n4958342                      NaN                      NaN   \n4958343                      NaN                      NaN   \n4958344                      NaN                      NaN   \n4958345                      NaN                      NaN   \n4958346                      NaN                      NaN   \n\n         comp4_rate_percent_diff  comp5_rate_percent_diff  \\\n0                            NaN                      NaN   \n1                            NaN                      NaN   \n2                            NaN                      NaN   \n3                            NaN                      NaN   \n4                            NaN                      NaN   \n...                          ...                      ...   \n4958342                      NaN                      NaN   \n4958343                      NaN                      NaN   \n4958344                      NaN                      NaN   \n4958345                      NaN                     15.0   \n4958346                      NaN                      NaN   \n\n         comp6_rate_percent_diff  comp7_rate_percent_diff  \\\n0                            NaN                      NaN   \n1                            NaN                      NaN   \n2                            NaN                      NaN   \n3                            NaN                      NaN   \n4                            NaN                      NaN   \n...                          ...                      ...   \n4958342                      NaN                      NaN   \n4958343                      NaN                      NaN   \n4958344                      NaN                      NaN   \n4958345                      NaN                      NaN   \n4958346                      NaN                      NaN   \n\n         comp8_rate_percent_diff  \n0                            NaN  \n1                            NaN  \n2                            NaN  \n3                            NaN  \n4                            6.0  \n...                          ...  \n4958342                      NaN  \n4958343                      NaN  \n4958344                      NaN  \n4958345                      NaN  \n4958346                      NaN  \n\n[4958347 rows x 24 columns]",
      "text/html": "<div>\n<style scoped>\n    .dataframe tbody tr th:only-of-type {\n        vertical-align: middle;\n    }\n\n    .dataframe tbody tr th {\n        vertical-align: top;\n    }\n\n    .dataframe thead th {\n        text-align: right;\n    }\n</style>\n<table border=\"1\" class=\"dataframe\">\n  <thead>\n    <tr style=\"text-align: right;\">\n      <th></th>\n      <th>comp1_rate</th>\n      <th>comp2_rate</th>\n      <th>comp3_rate</th>\n      <th>comp4_rate</th>\n      <th>comp5_rate</th>\n      <th>comp6_rate</th>\n      <th>comp7_rate</th>\n      <th>comp8_rate</th>\n      <th>comp1_inv</th>\n      <th>comp2_inv</th>\n      <th>...</th>\n      <th>comp7_inv</th>\n      <th>comp8_inv</th>\n      <th>comp1_rate_percent_diff</th>\n      <th>comp2_rate_percent_diff</th>\n      <th>comp3_rate_percent_diff</th>\n      <th>comp4_rate_percent_diff</th>\n      <th>comp5_rate_percent_diff</th>\n      <th>comp6_rate_percent_diff</th>\n      <th>comp7_rate_percent_diff</th>\n      <th>comp8_rate_percent_diff</th>\n    </tr>\n  </thead>\n  <tbody>\n    <tr>\n      <th>0</th>\n      <td>NaN</td>\n      <td>0.0</td>\n      <td>0.0</td>\n      <td>NaN</td>\n      <td>0.0</td>\n      <td>NaN</td>\n      <td>NaN</td>\n      <td>0.0</td>\n      <td>NaN</td>\n      <td>0.0</td>\n      <td>...</td>\n      <td>NaN</td>\n      <td>0.0</td>\n      <td>NaN</td>\n      <td>NaN</td>\n      <td>NaN</td>\n      <td>NaN</td>\n      <td>NaN</td>\n      <td>NaN</td>\n      <td>NaN</td>\n      <td>NaN</td>\n    </tr>\n    <tr>\n      <th>1</th>\n      <td>NaN</td>\n      <td>0.0</td>\n      <td>0.0</td>\n      <td>NaN</td>\n      <td>NaN</td>\n      <td>NaN</td>\n      <td>NaN</td>\n      <td>0.0</td>\n      <td>NaN</td>\n      <td>0.0</td>\n      <td>...</td>\n      <td>NaN</td>\n      <td>0.0</td>\n      <td>NaN</td>\n      <td>NaN</td>\n      <td>NaN</td>\n      <td>NaN</td>\n      <td>NaN</td>\n      <td>NaN</td>\n      <td>NaN</td>\n      <td>NaN</td>\n    </tr>\n    <tr>\n      <th>2</th>\n      <td>NaN</td>\n      <td>0.0</td>\n      <td>0.0</td>\n      <td>NaN</td>\n      <td>NaN</td>\n      <td>NaN</td>\n      <td>NaN</td>\n      <td>0.0</td>\n      <td>NaN</td>\n      <td>0.0</td>\n      <td>...</td>\n      <td>NaN</td>\n      <td>0.0</td>\n      <td>NaN</td>\n      <td>NaN</td>\n      <td>NaN</td>\n      <td>NaN</td>\n      <td>NaN</td>\n      <td>NaN</td>\n      <td>NaN</td>\n      <td>NaN</td>\n    </tr>\n    <tr>\n      <th>3</th>\n      <td>NaN</td>\n      <td>0.0</td>\n      <td>0.0</td>\n      <td>NaN</td>\n      <td>NaN</td>\n      <td>NaN</td>\n      <td>NaN</td>\n      <td>NaN</td>\n      <td>NaN</td>\n      <td>0.0</td>\n      <td>...</td>\n      <td>NaN</td>\n      <td>NaN</td>\n      <td>NaN</td>\n      <td>NaN</td>\n      <td>NaN</td>\n      <td>NaN</td>\n      <td>NaN</td>\n      <td>NaN</td>\n      <td>NaN</td>\n      <td>NaN</td>\n    </tr>\n    <tr>\n      <th>4</th>\n      <td>NaN</td>\n      <td>0.0</td>\n      <td>0.0</td>\n      <td>NaN</td>\n      <td>NaN</td>\n      <td>NaN</td>\n      <td>NaN</td>\n      <td>-1.0</td>\n      <td>NaN</td>\n      <td>0.0</td>\n      <td>...</td>\n      <td>NaN</td>\n      <td>0.0</td>\n      <td>NaN</td>\n      <td>NaN</td>\n      <td>NaN</td>\n      <td>NaN</td>\n      <td>NaN</td>\n      <td>NaN</td>\n      <td>NaN</td>\n      <td>6.0</td>\n    </tr>\n    <tr>\n      <th>...</th>\n      <td>...</td>\n      <td>...</td>\n      <td>...</td>\n      <td>...</td>\n      <td>...</td>\n      <td>...</td>\n      <td>...</td>\n      <td>...</td>\n      <td>...</td>\n      <td>...</td>\n      <td>...</td>\n      <td>...</td>\n      <td>...</td>\n      <td>...</td>\n      <td>...</td>\n      <td>...</td>\n      <td>...</td>\n      <td>...</td>\n      <td>...</td>\n      <td>...</td>\n      <td>...</td>\n    </tr>\n    <tr>\n      <th>4958342</th>\n      <td>NaN</td>\n      <td>NaN</td>\n      <td>NaN</td>\n      <td>NaN</td>\n      <td>NaN</td>\n      <td>NaN</td>\n      <td>NaN</td>\n      <td>NaN</td>\n      <td>NaN</td>\n      <td>NaN</td>\n      <td>...</td>\n      <td>NaN</td>\n      <td>NaN</td>\n      <td>NaN</td>\n      <td>NaN</td>\n      <td>NaN</td>\n      <td>NaN</td>\n      <td>NaN</td>\n      <td>NaN</td>\n      <td>NaN</td>\n      <td>NaN</td>\n    </tr>\n    <tr>\n      <th>4958343</th>\n      <td>NaN</td>\n      <td>NaN</td>\n      <td>NaN</td>\n      <td>NaN</td>\n      <td>0.0</td>\n      <td>0.0</td>\n      <td>NaN</td>\n      <td>NaN</td>\n      <td>NaN</td>\n      <td>NaN</td>\n      <td>...</td>\n      <td>NaN</td>\n      <td>NaN</td>\n      <td>NaN</td>\n      <td>NaN</td>\n      <td>NaN</td>\n      <td>NaN</td>\n      <td>NaN</td>\n      <td>NaN</td>\n      <td>NaN</td>\n      <td>NaN</td>\n    </tr>\n    <tr>\n      <th>4958344</th>\n      <td>NaN</td>\n      <td>NaN</td>\n      <td>NaN</td>\n      <td>NaN</td>\n      <td>0.0</td>\n      <td>NaN</td>\n      <td>NaN</td>\n      <td>NaN</td>\n      <td>NaN</td>\n      <td>NaN</td>\n      <td>...</td>\n      <td>NaN</td>\n      <td>NaN</td>\n      <td>NaN</td>\n      <td>NaN</td>\n      <td>NaN</td>\n      <td>NaN</td>\n      <td>NaN</td>\n      <td>NaN</td>\n      <td>NaN</td>\n      <td>NaN</td>\n    </tr>\n    <tr>\n      <th>4958345</th>\n      <td>NaN</td>\n      <td>NaN</td>\n      <td>NaN</td>\n      <td>NaN</td>\n      <td>-1.0</td>\n      <td>NaN</td>\n      <td>NaN</td>\n      <td>NaN</td>\n      <td>NaN</td>\n      <td>NaN</td>\n      <td>...</td>\n      <td>NaN</td>\n      <td>NaN</td>\n      <td>NaN</td>\n      <td>NaN</td>\n      <td>NaN</td>\n      <td>NaN</td>\n      <td>15.0</td>\n      <td>NaN</td>\n      <td>NaN</td>\n      <td>NaN</td>\n    </tr>\n    <tr>\n      <th>4958346</th>\n      <td>NaN</td>\n      <td>NaN</td>\n      <td>NaN</td>\n      <td>NaN</td>\n      <td>0.0</td>\n      <td>NaN</td>\n      <td>NaN</td>\n      <td>NaN</td>\n      <td>NaN</td>\n      <td>NaN</td>\n      <td>...</td>\n      <td>NaN</td>\n      <td>NaN</td>\n      <td>NaN</td>\n      <td>NaN</td>\n      <td>NaN</td>\n      <td>NaN</td>\n      <td>NaN</td>\n      <td>NaN</td>\n      <td>NaN</td>\n      <td>NaN</td>\n    </tr>\n  </tbody>\n</table>\n<p>4958347 rows × 24 columns</p>\n</div>"
     },
     "execution_count": 130,
     "metadata": {},
     "output_type": "execute_result"
    }
   ],
   "source": [
    "temp"
   ],
   "metadata": {
    "collapsed": false,
    "pycharm": {
     "name": "#%%\n"
    }
   }
  },
  {
   "cell_type": "code",
   "execution_count": 131,
   "outputs": [],
   "source": [
    "# 4. Searchbook\n"
   ],
   "metadata": {
    "collapsed": false,
    "pycharm": {
     "name": "#%%\n"
    }
   }
  },
  {
   "cell_type": "code",
   "execution_count": 132,
   "outputs": [
    {
     "data": {
      "text/plain": "   srch_id            date_time  site_id  visitor_location_country_id  \\\n0        1  2013-04-04 08:32:15       12                          187   \n1      498  2012-12-23 11:32:22       32                          220   \n2      896  2013-05-09 22:14:57        5                            2   \n3     1495  2013-04-24 02:24:02        5                          219   \n4     2052  2013-01-11 08:10:27        5                          219   \n\n   visitor_hist_starrating  visitor_hist_adr_usd  prop_country_id  prop_id  \\\n0                      NaN                   NaN              219      893   \n1                      NaN                   NaN              219      893   \n2                      NaN                   NaN              219      893   \n3                      NaN                   NaN              219      893   \n4                      NaN                   NaN              219      893   \n\n   prop_starrating  prop_review_score  ...  comp7_inv  \\\n0                3                3.5  ...        NaN   \n1                3                3.5  ...        NaN   \n2                3                3.5  ...        NaN   \n3                3                3.5  ...        NaN   \n4                3                3.5  ...        NaN   \n\n   comp7_rate_percent_diff  comp8_rate  comp8_inv  comp8_rate_percent_diff  \\\n0                      NaN         0.0        0.0                      NaN   \n1                      NaN         0.0        0.0                      NaN   \n2                      NaN         0.0        0.0                      NaN   \n3                      NaN         NaN        NaN                      NaN   \n4                      NaN        -1.0        0.0                      6.0   \n\n   click_bool  gross_bookings_usd  booking_bool  prob_clickbook  \\\n0           0                 NaN             0           0.625   \n1           0                 NaN             0           0.625   \n2           0                 NaN             0           0.625   \n3           0                 NaN             0           0.625   \n4           0                 NaN             0           0.625   \n\n   country_pct_rank  \n0              0.65  \n1              0.65  \n2              0.65  \n3              0.65  \n4              0.65  \n\n[5 rows x 56 columns]",
      "text/html": "<div>\n<style scoped>\n    .dataframe tbody tr th:only-of-type {\n        vertical-align: middle;\n    }\n\n    .dataframe tbody tr th {\n        vertical-align: top;\n    }\n\n    .dataframe thead th {\n        text-align: right;\n    }\n</style>\n<table border=\"1\" class=\"dataframe\">\n  <thead>\n    <tr style=\"text-align: right;\">\n      <th></th>\n      <th>srch_id</th>\n      <th>date_time</th>\n      <th>site_id</th>\n      <th>visitor_location_country_id</th>\n      <th>visitor_hist_starrating</th>\n      <th>visitor_hist_adr_usd</th>\n      <th>prop_country_id</th>\n      <th>prop_id</th>\n      <th>prop_starrating</th>\n      <th>prop_review_score</th>\n      <th>...</th>\n      <th>comp7_inv</th>\n      <th>comp7_rate_percent_diff</th>\n      <th>comp8_rate</th>\n      <th>comp8_inv</th>\n      <th>comp8_rate_percent_diff</th>\n      <th>click_bool</th>\n      <th>gross_bookings_usd</th>\n      <th>booking_bool</th>\n      <th>prob_clickbook</th>\n      <th>country_pct_rank</th>\n    </tr>\n  </thead>\n  <tbody>\n    <tr>\n      <th>0</th>\n      <td>1</td>\n      <td>2013-04-04 08:32:15</td>\n      <td>12</td>\n      <td>187</td>\n      <td>NaN</td>\n      <td>NaN</td>\n      <td>219</td>\n      <td>893</td>\n      <td>3</td>\n      <td>3.5</td>\n      <td>...</td>\n      <td>NaN</td>\n      <td>NaN</td>\n      <td>0.0</td>\n      <td>0.0</td>\n      <td>NaN</td>\n      <td>0</td>\n      <td>NaN</td>\n      <td>0</td>\n      <td>0.625</td>\n      <td>0.65</td>\n    </tr>\n    <tr>\n      <th>1</th>\n      <td>498</td>\n      <td>2012-12-23 11:32:22</td>\n      <td>32</td>\n      <td>220</td>\n      <td>NaN</td>\n      <td>NaN</td>\n      <td>219</td>\n      <td>893</td>\n      <td>3</td>\n      <td>3.5</td>\n      <td>...</td>\n      <td>NaN</td>\n      <td>NaN</td>\n      <td>0.0</td>\n      <td>0.0</td>\n      <td>NaN</td>\n      <td>0</td>\n      <td>NaN</td>\n      <td>0</td>\n      <td>0.625</td>\n      <td>0.65</td>\n    </tr>\n    <tr>\n      <th>2</th>\n      <td>896</td>\n      <td>2013-05-09 22:14:57</td>\n      <td>5</td>\n      <td>2</td>\n      <td>NaN</td>\n      <td>NaN</td>\n      <td>219</td>\n      <td>893</td>\n      <td>3</td>\n      <td>3.5</td>\n      <td>...</td>\n      <td>NaN</td>\n      <td>NaN</td>\n      <td>0.0</td>\n      <td>0.0</td>\n      <td>NaN</td>\n      <td>0</td>\n      <td>NaN</td>\n      <td>0</td>\n      <td>0.625</td>\n      <td>0.65</td>\n    </tr>\n    <tr>\n      <th>3</th>\n      <td>1495</td>\n      <td>2013-04-24 02:24:02</td>\n      <td>5</td>\n      <td>219</td>\n      <td>NaN</td>\n      <td>NaN</td>\n      <td>219</td>\n      <td>893</td>\n      <td>3</td>\n      <td>3.5</td>\n      <td>...</td>\n      <td>NaN</td>\n      <td>NaN</td>\n      <td>NaN</td>\n      <td>NaN</td>\n      <td>NaN</td>\n      <td>0</td>\n      <td>NaN</td>\n      <td>0</td>\n      <td>0.625</td>\n      <td>0.65</td>\n    </tr>\n    <tr>\n      <th>4</th>\n      <td>2052</td>\n      <td>2013-01-11 08:10:27</td>\n      <td>5</td>\n      <td>219</td>\n      <td>NaN</td>\n      <td>NaN</td>\n      <td>219</td>\n      <td>893</td>\n      <td>3</td>\n      <td>3.5</td>\n      <td>...</td>\n      <td>NaN</td>\n      <td>NaN</td>\n      <td>-1.0</td>\n      <td>0.0</td>\n      <td>6.0</td>\n      <td>0</td>\n      <td>NaN</td>\n      <td>0</td>\n      <td>0.625</td>\n      <td>0.65</td>\n    </tr>\n  </tbody>\n</table>\n<p>5 rows × 56 columns</p>\n</div>"
     },
     "execution_count": 132,
     "metadata": {},
     "output_type": "execute_result"
    }
   ],
   "source": [
    "df.head()"
   ],
   "metadata": {
    "collapsed": false,
    "pycharm": {
     "name": "#%%\n"
    }
   }
  },
  {
   "cell_type": "code",
   "execution_count": 133,
   "outputs": [
    {
     "ename": "KeyError",
     "evalue": "'prop_country_id'",
     "output_type": "error",
     "traceback": [
      "\u001B[0;31m---------------------------------------------------------------------------\u001B[0m",
      "\u001B[0;31mKeyError\u001B[0m                                  Traceback (most recent call last)",
      "File \u001B[0;32m~/opt/anaconda3/envs/DataMining/lib/python3.10/site-packages/pandas/core/indexes/base.py:3802\u001B[0m, in \u001B[0;36mIndex.get_loc\u001B[0;34m(self, key, method, tolerance)\u001B[0m\n\u001B[1;32m   3801\u001B[0m \u001B[38;5;28;01mtry\u001B[39;00m:\n\u001B[0;32m-> 3802\u001B[0m     \u001B[38;5;28;01mreturn\u001B[39;00m \u001B[38;5;28;43mself\u001B[39;49m\u001B[38;5;241;43m.\u001B[39;49m\u001B[43m_engine\u001B[49m\u001B[38;5;241;43m.\u001B[39;49m\u001B[43mget_loc\u001B[49m\u001B[43m(\u001B[49m\u001B[43mcasted_key\u001B[49m\u001B[43m)\u001B[49m\n\u001B[1;32m   3803\u001B[0m \u001B[38;5;28;01mexcept\u001B[39;00m \u001B[38;5;167;01mKeyError\u001B[39;00m \u001B[38;5;28;01mas\u001B[39;00m err:\n",
      "File \u001B[0;32m~/opt/anaconda3/envs/DataMining/lib/python3.10/site-packages/pandas/_libs/index.pyx:138\u001B[0m, in \u001B[0;36mpandas._libs.index.IndexEngine.get_loc\u001B[0;34m()\u001B[0m\n",
      "File \u001B[0;32m~/opt/anaconda3/envs/DataMining/lib/python3.10/site-packages/pandas/_libs/index.pyx:165\u001B[0m, in \u001B[0;36mpandas._libs.index.IndexEngine.get_loc\u001B[0;34m()\u001B[0m\n",
      "File \u001B[0;32mpandas/_libs/hashtable_class_helper.pxi:5745\u001B[0m, in \u001B[0;36mpandas._libs.hashtable.PyObjectHashTable.get_item\u001B[0;34m()\u001B[0m\n",
      "File \u001B[0;32mpandas/_libs/hashtable_class_helper.pxi:5753\u001B[0m, in \u001B[0;36mpandas._libs.hashtable.PyObjectHashTable.get_item\u001B[0;34m()\u001B[0m\n",
      "\u001B[0;31mKeyError\u001B[0m: 'prop_country_id'",
      "\nThe above exception was the direct cause of the following exception:\n",
      "\u001B[0;31mKeyError\u001B[0m                                  Traceback (most recent call last)",
      "Cell \u001B[0;32mIn[133], line 1\u001B[0m\n\u001B[0;32m----> 1\u001B[0m temp[\u001B[43mtemp\u001B[49m\u001B[43m[\u001B[49m\u001B[38;5;124;43m\"\u001B[39;49m\u001B[38;5;124;43mprop_country_id\u001B[39;49m\u001B[38;5;124;43m\"\u001B[39;49m\u001B[43m]\u001B[49m\u001B[38;5;241m==\u001B[39m\u001B[38;5;241m1\u001B[39m][[\u001B[38;5;124m\"\u001B[39m\u001B[38;5;124mrank\u001B[39m\u001B[38;5;124m\"\u001B[39m,\u001B[38;5;124m\"\u001B[39m\u001B[38;5;124mtotal_score\u001B[39m\u001B[38;5;124m\"\u001B[39m]]\n",
      "File \u001B[0;32m~/opt/anaconda3/envs/DataMining/lib/python3.10/site-packages/pandas/core/frame.py:3807\u001B[0m, in \u001B[0;36mDataFrame.__getitem__\u001B[0;34m(self, key)\u001B[0m\n\u001B[1;32m   3805\u001B[0m \u001B[38;5;28;01mif\u001B[39;00m \u001B[38;5;28mself\u001B[39m\u001B[38;5;241m.\u001B[39mcolumns\u001B[38;5;241m.\u001B[39mnlevels \u001B[38;5;241m>\u001B[39m \u001B[38;5;241m1\u001B[39m:\n\u001B[1;32m   3806\u001B[0m     \u001B[38;5;28;01mreturn\u001B[39;00m \u001B[38;5;28mself\u001B[39m\u001B[38;5;241m.\u001B[39m_getitem_multilevel(key)\n\u001B[0;32m-> 3807\u001B[0m indexer \u001B[38;5;241m=\u001B[39m \u001B[38;5;28;43mself\u001B[39;49m\u001B[38;5;241;43m.\u001B[39;49m\u001B[43mcolumns\u001B[49m\u001B[38;5;241;43m.\u001B[39;49m\u001B[43mget_loc\u001B[49m\u001B[43m(\u001B[49m\u001B[43mkey\u001B[49m\u001B[43m)\u001B[49m\n\u001B[1;32m   3808\u001B[0m \u001B[38;5;28;01mif\u001B[39;00m is_integer(indexer):\n\u001B[1;32m   3809\u001B[0m     indexer \u001B[38;5;241m=\u001B[39m [indexer]\n",
      "File \u001B[0;32m~/opt/anaconda3/envs/DataMining/lib/python3.10/site-packages/pandas/core/indexes/base.py:3804\u001B[0m, in \u001B[0;36mIndex.get_loc\u001B[0;34m(self, key, method, tolerance)\u001B[0m\n\u001B[1;32m   3802\u001B[0m     \u001B[38;5;28;01mreturn\u001B[39;00m \u001B[38;5;28mself\u001B[39m\u001B[38;5;241m.\u001B[39m_engine\u001B[38;5;241m.\u001B[39mget_loc(casted_key)\n\u001B[1;32m   3803\u001B[0m \u001B[38;5;28;01mexcept\u001B[39;00m \u001B[38;5;167;01mKeyError\u001B[39;00m \u001B[38;5;28;01mas\u001B[39;00m err:\n\u001B[0;32m-> 3804\u001B[0m     \u001B[38;5;28;01mraise\u001B[39;00m \u001B[38;5;167;01mKeyError\u001B[39;00m(key) \u001B[38;5;28;01mfrom\u001B[39;00m \u001B[38;5;21;01merr\u001B[39;00m\n\u001B[1;32m   3805\u001B[0m \u001B[38;5;28;01mexcept\u001B[39;00m \u001B[38;5;167;01mTypeError\u001B[39;00m:\n\u001B[1;32m   3806\u001B[0m     \u001B[38;5;66;03m# If we have a listlike key, _check_indexing_error will raise\u001B[39;00m\n\u001B[1;32m   3807\u001B[0m     \u001B[38;5;66;03m#  InvalidIndexError. Otherwise we fall through and re-raise\u001B[39;00m\n\u001B[1;32m   3808\u001B[0m     \u001B[38;5;66;03m#  the TypeError.\u001B[39;00m\n\u001B[1;32m   3809\u001B[0m     \u001B[38;5;28mself\u001B[39m\u001B[38;5;241m.\u001B[39m_check_indexing_error(key)\n",
      "\u001B[0;31mKeyError\u001B[0m: 'prop_country_id'"
     ]
    }
   ],
   "source": [
    "temp[temp[\"prop_country_id\"]==1][[\"rank\",\"total_score\"]]"
   ],
   "metadata": {
    "collapsed": false,
    "pycharm": {
     "name": "#%%\n"
    }
   }
  },
  {
   "cell_type": "code",
   "execution_count": null,
   "outputs": [],
   "source": [
    "temp.groupby(\"prop_country_id\").rank()"
   ],
   "metadata": {
    "collapsed": false,
    "pycharm": {
     "name": "#%%\n"
    }
   }
  },
  {
   "cell_type": "code",
   "execution_count": null,
   "outputs": [],
   "source": [
    "grouped_countries = temp.groupby(\"prop_country_id\")a"
   ],
   "metadata": {
    "collapsed": false,
    "pycharm": {
     "name": "#%%\n"
    }
   }
  },
  {
   "cell_type": "code",
   "execution_count": null,
   "outputs": [],
   "source": [
    "grouped_countries = temp.groupby(\"prop_country_id\")\n",
    "temp[\"rank\"] = grouped_countries[\"total_score\"].rank(ascending=False)\n",
    "\n",
    "# Step 3: Sort the DataFrame by \"prop_id\" and \"prop_country_id\" and reset the index\n",
    "temp = temp.sort_values(by=[\"total_score\"]).reset_index()\n",
    "temp"
   ],
   "metadata": {
    "collapsed": false,
    "pycharm": {
     "name": "#%%\n"
    }
   }
  },
  {
   "cell_type": "code",
   "execution_count": null,
   "outputs": [],
   "source": [
    "temp[temp[\"prop_country_id\"]==219]"
   ],
   "metadata": {
    "collapsed": false,
    "pycharm": {
     "name": "#%%\n"
    }
   }
  },
  {
   "cell_type": "code",
   "execution_count": null,
   "outputs": [],
   "source": [],
   "metadata": {
    "collapsed": false,
    "pycharm": {
     "name": "#%%\n"
    }
   }
  }
 ],
 "metadata": {
  "kernelspec": {
   "display_name": "Python 3",
   "language": "python",
   "name": "python3"
  },
  "language_info": {
   "codemirror_mode": {
    "name": "ipython",
    "version": 2
   },
   "file_extension": ".py",
   "mimetype": "text/x-python",
   "name": "python",
   "nbconvert_exporter": "python",
   "pygments_lexer": "ipython2",
   "version": "2.7.6"
  }
 },
 "nbformat": 4,
 "nbformat_minor": 0
}