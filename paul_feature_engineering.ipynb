{
 "cells": [
  {
   "cell_type": "code",
   "execution_count": null,
   "outputs": [],
   "source": [
    "import dask.dataframe as dd\n",
    "import pandas as pd\n",
    "import matplotlib.pyplot as plt\n",
    "# import hvplot.dask\n",
    "import numpy as np\n",
    "import dask.array as da\n",
    "import pickle\n",
    "import seaborn as sns\n",
    "from sklearn.preprocessing import LabelEncoder"
   ],
   "metadata": {
    "collapsed": false,
    "pycharm": {
     "name": "#%%\n"
    }
   }
  },
  {
   "cell_type": "code",
   "execution_count": null,
   "outputs": [],
   "source": [
    "pd.set_option('display.max_columns', None)\n",
    "pd.set_option('display.max_rows', 200)"
   ],
   "metadata": {
    "collapsed": false,
    "pycharm": {
     "name": "#%%\n"
    }
   }
  },
  {
   "cell_type": "code",
   "execution_count": null,
   "outputs": [],
   "source": [
    "df = pd.read_csv(\"data/training_set_VU_DM.csv\")"
   ],
   "metadata": {
    "collapsed": false,
    "pycharm": {
     "name": "#%%\n"
    }
   }
  },
  {
   "cell_type": "code",
   "execution_count": null,
   "outputs": [],
   "source": [
    "# 1. Probability if click then book for hotel, if search then click and if search then book\n",
    "\n",
    "grouped_hotels = df.groupby(\"prop_id\").sum(numeric_only=True)\n",
    "nr_hotel_found = df[\"prop_id\"].value_counts()\n",
    "temp = pd.DataFrame()\n",
    "temp[\"prob_clickbook\"] = grouped_hotels[\"booking_bool\"]/ grouped_hotels[\"click_bool\"]\n",
    "temp[\"prob_searchbook\"] = grouped_hotels[\"booking_bool\"]/nr_hotel_found\n",
    "temp[\"prob_searchclick\"] = grouped_hotels[\"click_bool\"]/nr_hotel_found\n",
    "\n",
    "temp.fillna(0,inplace=True)\n",
    "temp =temp.reset_index()\n",
    "df = df.merge(temp, on=\"prop_id\")\n",
    "del temp"
   ],
   "metadata": {
    "collapsed": false,
    "pycharm": {
     "name": "#%%\n"
    }
   }
  },
  {
   "cell_type": "code",
   "execution_count": null,
   "outputs": [],
   "source": [
    "# 2. Percentile rank of hotel in its country\n",
    "\n",
    "grouped_hotels = df.groupby([\"prop_id\",\"prop_country_id\"]).mean(numeric_only=True).reset_index()\n",
    "temp = grouped_hotels[[\"prop_starrating\", \"prop_review_score\",\"prop_id\",\"prop_country_id\"]].copy()\n",
    "temp[\"total_score\"] = temp.loc[:,\"prop_starrating\"] + temp.loc[:,\"prop_review_score\"]\n",
    "temp[\"country_pct_rank\"] = temp.groupby(\"prop_country_id\")[\"total_score\"].rank(method=\"dense\",\n",
    "                                                                               ascending=True,pct=True)\n",
    "temp = temp[[\"prop_id\",\"country_pct_rank\"]]\n",
    "df = df.merge(temp, on=\"prop_id\")\n",
    "del temp"
   ],
   "metadata": {
    "collapsed": false,
    "pycharm": {
     "name": "#%%\n"
    }
   }
  },
  {
   "cell_type": "code",
   "execution_count": null,
   "outputs": [],
   "source": [
    "# 3. Competitors: mean competitor avail/ rate + if there is a better competitor columns.\n",
    "\n",
    "\n",
    "def competitor_cols(temp:pd.DataFrame, col_names:list,rate_or_avail:str):\n",
    "    \"\"\"\n",
    "    Compute 2 columns for rate and availability. Boolean column if there exists\n",
    "    a competitor with a better rate and mean competitor values.\n",
    "    \"\"\"\n",
    "    temp_rate = temp[col_names].copy()\n",
    "    temp_rate_binary = temp_rate.applymap(lambda x: 1 if not pd.isna(x) and x >= 0 else 0)\n",
    "    temp_rate_binary.loc[:, f\"comp_mean_{rate_or_avail}\"] = temp_rate.mean(axis=1)\n",
    "    temp_rate_binary[f\"comp_better_{rate_or_avail}\"] = temp_rate_binary.any(axis=1).astype(int) #\n",
    "    temp_rate_binary.drop(columns=col_names,inplace=True)\n",
    "    return temp_rate_binary\n",
    "\n",
    "inv_cols = [f\"comp{i}_inv\" for i in np.arange(1,9)]\n",
    "rate_cols = [f\"comp{i}_rate\" for i in np.arange(1,9)]\n",
    "rate_perc_cols = [f\"comp{i}_rate_percent_diff\" for i in np.arange(1,9)]\n",
    "\n",
    "temp = df.groupby(\"prop_id\").mean(numeric_only=True)\n",
    "rate_res = competitor_cols(temp, rate_cols, \"rate\")\n",
    "inv_res = competitor_cols(temp, inv_cols, \"inv\")\n",
    "temp = pd.concat([rate_res, inv_res]) # only new columns\n",
    "df = df.merge(temp, on=\"prop_id\")"
   ],
   "metadata": {
    "collapsed": false,
    "pycharm": {
     "name": "#%%\n"
    }
   }
  },
  {
   "cell_type": "code",
   "execution_count": null,
   "outputs": [],
   "source": [
    "# drop original competitor columns\n",
    "df.drop(columns=rate_cols+inv_cols+rate_perc_cols, inplace=True)"
   ],
   "metadata": {
    "collapsed": false,
    "pycharm": {
     "name": "#%%\n"
    }
   }
  },
  {
   "cell_type": "code",
   "execution_count": null,
   "outputs": [],
   "source": [
    "# 5. Price change in percentile, no NaN so don't need to average\n",
    "temp = pd.DataFrame()\n",
    "old_price = np.exp(df[\"prop_log_historical_price\"])\n",
    "df[\"price_change\"] = (df[\"price_usd\"] - old_price) / old_price\n"
   ],
   "metadata": {
    "collapsed": false,
    "pycharm": {
     "name": "#%%\n"
    }
   }
  },
  {
   "cell_type": "code",
   "execution_count": null,
   "outputs": [],
   "source": [
    "# 6. Desirability_score as function of location and affinity score\n",
    "\n",
    "# Compute the desirability score as a weighted average of the four measures\n",
    "desirability_score = df[\"srch_query_affinity_score\"] *  (df[\"prop_location_score1\"] + df[\"prop_location_score2\"])\n",
    "desirability_score.fillna(desirability_score.mean(), inplace=True)\n",
    "df[\"desirability_score\"] = desirability_score\n"
   ],
   "metadata": {
    "collapsed": false,
    "pycharm": {
     "name": "#%%\n"
    }
   }
  },
  {
   "cell_type": "code",
   "execution_count": null,
   "outputs": [],
   "source": [
    "# 7. Date time to percentile of the day\n",
    "df[\"date_time\"] = pd.to_datetime(df[\"date_time\"])\n",
    "df['percentile_of_day'] = (df['date_time'].dt.hour * 3600 + df['date_time'].dt.minute * 60 + df['date_time'].dt.second) / 86400\n",
    "df.drop(columns=[\"date_time\"], inplace=True)\n"
   ],
   "metadata": {
    "collapsed": false,
    "pycharm": {
     "name": "#%%\n"
    }
   }
  },
  {
   "cell_type": "code",
   "execution_count": null,
   "outputs": [],
   "source": [
    "# encode categorical labels\n",
    "\n",
    "cat_cols = [\"prop_id\",\"srch_destination_id\", \"prop_country_id\", \"visitor_location_country_id\", \"site_id\"]\n",
    "encoder = LabelEncoder()\n",
    "\n",
    "for col in cat_cols:\n",
    "    df[col] = encoder.fit_transform(df[col])"
   ],
   "metadata": {
    "collapsed": false,
    "pycharm": {
     "name": "#%%\n"
    }
   }
  },
  {
   "cell_type": "code",
   "execution_count": null,
   "outputs": [],
   "source": [],
   "metadata": {
    "collapsed": false,
    "pycharm": {
     "name": "#%%\n"
    }
   }
  }
 ],
 "metadata": {
  "kernelspec": {
   "display_name": "Python 3 (ipykernel)",
   "language": "python",
   "name": "python3"
  },
  "language_info": {
   "codemirror_mode": {
    "name": "ipython",
    "version": 3
   },
   "file_extension": ".py",
   "mimetype": "text/x-python",
   "name": "python",
   "nbconvert_exporter": "python",
   "pygments_lexer": "ipython3",
   "version": "3.10.10"
  }
 },
 "nbformat": 4,
 "nbformat_minor": 1
}