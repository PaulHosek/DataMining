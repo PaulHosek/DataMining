{
 "cells": [
  {
   "cell_type": "code",
   "execution_count": 28,
   "metadata": {
    "pycharm": {
     "name": "#%%\n"
    }
   },
   "outputs": [],
   "source": [
    "import dask.dataframe as dd\n",
    "import pandas as pd\n",
    "import matplotlib.pyplot as plt\n",
    "# import hvplot.dask\n",
    "import numpy as np\n",
    "import dask.array as da\n",
    "import pickle\n",
    "import seaborn as sns\n",
    "from sklearn.preprocessing import LabelEncoder"
   ]
  },
  {
   "cell_type": "code",
   "execution_count": 29,
   "metadata": {
    "pycharm": {
     "name": "#%%\n"
    }
   },
   "outputs": [],
   "source": [
    "pd.set_option('display.max_columns', None)\n",
    "pd.set_option('display.max_rows', 200)"
   ]
  },
  {
   "cell_type": "code",
   "execution_count": 30,
   "outputs": [],
   "source": [
    "# df = pd.read_csv(\"data/training_set_VU_DM.csv\")\n",
    "df = pd.read_csv(\"data/train_train.csv\")"
   ],
   "metadata": {
    "collapsed": false,
    "pycharm": {
     "name": "#%%\n"
    }
   }
  },
  {
   "cell_type": "code",
   "execution_count": 31,
   "outputs": [
    {
     "data": {
      "text/plain": "4711724"
     },
     "execution_count": 31,
     "metadata": {},
     "output_type": "execute_result"
    }
   ],
   "source": [
    "original_len = len(df)\n",
    "original_len"
   ],
   "metadata": {
    "collapsed": false,
    "pycharm": {
     "name": "#%%\n"
    }
   }
  },
  {
   "cell_type": "code",
   "execution_count": 32,
   "outputs": [],
   "source": [
    "# 1. Probability if click then book for hotel, if search then click and if search then book\n",
    "def click_book_df(df):\n",
    "    grouped_hotels = df.groupby(\"prop_id\").sum(numeric_only=True)\n",
    "    nr_hotel_found = df[\"prop_id\"].value_counts()\n",
    "    temp = pd.DataFrame()\n",
    "    temp[\"prob_clickbook\"] = grouped_hotels[\"booking_bool\"]/ grouped_hotels[\"click_bool\"]\n",
    "    temp[\"prob_searchbook\"] = grouped_hotels[\"booking_bool\"]/nr_hotel_found\n",
    "    temp[\"prob_searchclick\"] = grouped_hotels[\"click_bool\"]/nr_hotel_found\n",
    "    temp.fillna(0,inplace=True)\n",
    "    temp =temp.reset_index()\n",
    "    return temp\n",
    "\n",
    "temp = click_book_df(df)\n",
    "df = df.merge(temp, on=\"prop_id\")\n",
    "del temp"
   ],
   "metadata": {
    "collapsed": false,
    "pycharm": {
     "name": "#%%\n"
    }
   }
  },
  {
   "cell_type": "code",
   "execution_count": 33,
   "outputs": [],
   "source": [
    "# 2. Percentile rank of hotel in its country\n",
    "def hotel_country_rank_df(df):\n",
    "    grouped_hotels = df.groupby([\"prop_id\",\"prop_country_id\"]).mean(numeric_only=True).reset_index()\n",
    "    temp = grouped_hotels[[\"prop_starrating\", \"prop_review_score\",\"prop_id\",\"prop_country_id\"]].copy()\n",
    "    temp[\"total_score\"] = temp.loc[:,\"prop_starrating\"] + temp.loc[:,\"prop_review_score\"]\n",
    "    temp[\"country_pct_rank\"] = temp.groupby(\"prop_country_id\")[\"total_score\"].rank(method=\"dense\",\n",
    "                                                                               ascending=True,pct=True)\n",
    "    temp = temp[[\"prop_id\",\"country_pct_rank\"]]\n",
    "    return temp\n",
    "\n",
    "temp = hotel_country_rank_df(df)\n",
    "df = df.merge(temp, on=\"prop_id\")\n",
    "del temp"
   ],
   "metadata": {
    "collapsed": false,
    "pycharm": {
     "name": "#%%\n"
    }
   }
  },
  {
   "cell_type": "code",
   "execution_count": 34,
   "outputs": [],
   "source": [
    "# 3. Competitors: mean competitor avail/ rate + if there is a better competitor columns.\n",
    "\n",
    "\n",
    "def competitor_cols(temp:pd.DataFrame, col_names:list,rate_or_avail:str):\n",
    "    \"\"\"\n",
    "    Compute 2 columns for rate and availability. Boolean column if there exists\n",
    "    a competitor with a better rate and mean competitor values.\n",
    "    \"\"\"\n",
    "    temp_rate = temp[col_names].copy()\n",
    "    temp_rate_binary = temp_rate.applymap(lambda x: 1 if not pd.isna(x) and x >= 0 else 0)\n",
    "    temp_rate_binary.loc[:, f\"comp_mean_{rate_or_avail}\"] = temp_rate.mean(axis=1)\n",
    "    temp_rate_binary[f\"comp_better_{rate_or_avail}\"] = temp_rate_binary.any(axis=1).astype(int) #\n",
    "    temp_rate_binary.drop(columns=col_names,inplace=True)\n",
    "    return temp_rate_binary\n",
    "\n",
    "def competitor_df(df):\n",
    "    inv_cols = [f\"comp{i}_inv\" for i in np.arange(1,9)]\n",
    "    rate_cols = [f\"comp{i}_rate\" for i in np.arange(1,9)]\n",
    "    rate_perc_cols = [f\"comp{i}_rate_percent_diff\" for i in np.arange(1,9)]\n",
    "    \n",
    "    temp = df.groupby(\"prop_id\").mean(numeric_only=True)\n",
    "    rate_res = competitor_cols(temp, rate_cols, \"rate\")\n",
    "    inv_res = competitor_cols(temp, inv_cols, \"inv\")\n",
    "    temp = pd.concat([rate_res, inv_res],axis=1) # only new columns\n",
    "    return temp\n",
    "\n",
    "temp = competitor_df(df)\n",
    "df = df.merge(temp, on=\"prop_id\")# df = \n",
    "\n",
    "del temp\n",
    "\n",
    "# drop original competitor columns\n",
    "inv_cols = [f\"comp{i}_inv\" for i in np.arange(1,9)]\n",
    "rate_cols = [f\"comp{i}_rate\" for i in np.arange(1,9)]\n",
    "rate_perc_cols = [f\"comp{i}_rate_percent_diff\" for i in np.arange(1,9)]\n",
    "\n",
    "# df.drop(columns=rate_cols+inv_cols+rate_perc_cols, inplace=True)"
   ],
   "metadata": {
    "collapsed": false,
    "pycharm": {
     "name": "#%%\n"
    }
   }
  },
  {
   "cell_type": "code",
   "execution_count": 35,
   "outputs": [],
   "source": [
    "# 5. Price change in percentile, no NaN so don't need to average\n",
    "def price_change_col(df):\n",
    "    old_price = np.exp(df[\"prop_log_historical_price\"])\n",
    "    return (df[\"price_usd\"] - old_price) / old_price\n",
    "    \n",
    "df[\"price_change\"] = price_change_col(df)\n"
   ],
   "metadata": {
    "collapsed": false,
    "pycharm": {
     "name": "#%%\n"
    }
   }
  },
  {
   "cell_type": "code",
   "execution_count": 36,
   "outputs": [],
   "source": [
    "# 6. Desirability_score as function of location and affinity score\n",
    "\n",
    "# Compute the desirability score as a weighted average of the four measures\n",
    "def desirability_col(df):\n",
    "    desirability_score = np.exp(df[\"srch_query_affinity_score\"]) *  (df[\"prop_location_score1\"] + df[\"prop_location_score2\"])\n",
    "    desirability_score.fillna(desirability_score.mean(), inplace=True)\n",
    "    return desirability_score\n",
    "\n",
    "df[\"desirability_score\"] = desirability_col(df)"
   ],
   "metadata": {
    "collapsed": false,
    "pycharm": {
     "name": "#%%\n"
    }
   }
  },
  {
   "cell_type": "code",
   "execution_count": 37,
   "outputs": [],
   "source": [
    "# 7. Date time to percentile of the day\n",
    "\n",
    "def percent_day_col(df):\n",
    "    df[\"date_time\"] = pd.to_datetime(df[\"date_time\"])\n",
    "    return (df['date_time'].dt.hour * 3600 + df['date_time'].dt.minute * 60 + df['date_time'].dt.second) / 86400\n",
    "\n",
    "def month_col(df):\n",
    "    df[\"date_time\"] = pd.to_datetime(df[\"date_time\"])\n",
    "    return df[\"date_time\"].dt.month\n",
    "\n",
    "def weekend_bool_col(df):\n",
    "    df[\"date_time\"] = pd.to_datetime(df[\"date_time\"])\n",
    "    return df[\"date_time\"].dt.day_of_week\n",
    "\n",
    "df['percentile_of_day'] = percent_day_col(df)\n",
    "df['month'] = month_col(df)\n",
    "df['day_of_week'] = weekend_bool_col(df)\n",
    "# df.drop(columns=[\"date_time\"], inplace=True)"
   ],
   "metadata": {
    "collapsed": false,
    "pycharm": {
     "name": "#%%\n"
    }
   }
  },
  {
   "cell_type": "code",
   "execution_count": 38,
   "outputs": [
    {
     "data": {
      "text/plain": "         Unnamed: 0  srch_id           date_time  site_id  \\\n0                 0        1 2013-04-04 08:32:15       12   \n1              6938      498 2012-12-23 11:32:22       32   \n2             12605      896 2013-05-09 22:14:57        5   \n3             21958     1495 2013-04-24 02:24:02        5   \n4             30512     2052 2013-01-11 08:10:27        5   \n...             ...      ...                 ...      ...   \n4711719     4957427   332713 2013-04-15 20:51:59       12   \n4711720     4957430   332713 2013-04-15 20:51:59       12   \n4711721     4957806   332740 2013-02-18 12:17:59       12   \n4711722     4957807   332740 2013-02-18 12:17:59       12   \n4711723     4957821   332740 2013-02-18 12:17:59       12   \n\n         visitor_location_country_id  visitor_hist_starrating  \\\n0                                187                      NaN   \n1                                220                      NaN   \n2                                  2                      NaN   \n3                                219                      NaN   \n4                                219                      NaN   \n...                              ...                      ...   \n4711719                           99                      NaN   \n4711720                           99                      NaN   \n4711721                           99                      NaN   \n4711722                           99                      NaN   \n4711723                           99                      NaN   \n\n         visitor_hist_adr_usd  prop_country_id  prop_id  prop_starrating  \\\n0                         NaN              219      893                3   \n1                         NaN              219      893                3   \n2                         NaN              219      893                3   \n3                         NaN              219      893                3   \n4                         NaN              219      893                3   \n...                       ...              ...      ...              ...   \n4711719                   NaN               99   103277                3   \n4711720                   NaN               99   135856                4   \n4711721                   NaN               99     1668                1   \n4711722                   NaN               99     2284                0   \n4711723                   NaN               99    87173                3   \n\n         prop_review_score  prop_brand_bool  prop_location_score1  \\\n0                      3.5                1                  2.83   \n1                      3.5                1                  2.83   \n2                      3.5                1                  2.83   \n3                      3.5                1                  2.83   \n4                      3.5                1                  2.83   \n...                    ...              ...                   ...   \n4711719                5.0                0                  0.69   \n4711720                3.5                0                  2.30   \n4711721                3.5                1                  0.00   \n4711722                0.0                0                  0.00   \n4711723                4.0                1                  2.08   \n\n         prop_location_score2  prop_log_historical_price  position  price_usd  \\\n0                      0.0438                       4.95        27     104.77   \n1                      0.0950                       4.96        28      88.37   \n2                      0.0438                       4.98        24     126.00   \n3                      0.0438                       4.98        28     139.00   \n4                      0.0438                       4.96        29     109.00   \n...                       ...                        ...       ...        ...   \n4711719                0.0242                       4.85         2     165.54   \n4711720                0.1415                       5.38         1     155.11   \n4711721                0.0000                       4.05         1      65.42   \n4711722                   NaN                       4.82        19      44.06   \n4711723                   NaN                       4.45        25     122.83   \n\n         promotion_flag  srch_destination_id  srch_length_of_stay  \\\n0                     0                23246                    1   \n1                     0                25964                    1   \n2                     0                23246                    1   \n3                     0                23246                    1   \n4                     0                23246                    1   \n...                 ...                  ...                  ...   \n4711719               0                18778                    2   \n4711720               0                18778                    2   \n4711721               0                21461                    4   \n4711722               0                21461                    4   \n4711723               0                21461                    4   \n\n         srch_booking_window  srch_adults_count  srch_children_count  \\\n0                          0                  4                    0   \n1                          0                  1                    0   \n2                         16                  1                    0   \n3                         40                  1                    0   \n4                          0                  2                    0   \n...                      ...                ...                  ...   \n4711719                    4                  2                    0   \n4711720                    4                  2                    0   \n4711721                    0                  1                    0   \n4711722                    0                  1                    0   \n4711723                    0                  1                    0   \n\n         srch_room_count  srch_saturday_night_bool  srch_query_affinity_score  \\\n0                      1                         1                        NaN   \n1                      1                         0                        NaN   \n2                      1                         1                        NaN   \n3                      1                         0                        NaN   \n4                      1                         1                        NaN   \n...                  ...                       ...                        ...   \n4711719                1                         1                        NaN   \n4711720                1                         1                        NaN   \n4711721                1                         0                        NaN   \n4711722                1                         0                        NaN   \n4711723                1                         0                        NaN   \n\n         orig_destination_distance  random_bool  comp1_rate  comp1_inv  \\\n0                              NaN            1         NaN        NaN   \n1                          7500.57            0         NaN        NaN   \n2                              NaN            0         NaN        NaN   \n3                              NaN            0         NaN        NaN   \n4                            77.22            0         NaN        NaN   \n...                            ...          ...         ...        ...   \n4711719                        NaN            1         NaN        NaN   \n4711720                        NaN            1         NaN        NaN   \n4711721                        NaN            0         NaN        NaN   \n4711722                        NaN            0         NaN        NaN   \n4711723                        NaN            0         NaN        NaN   \n\n         comp1_rate_percent_diff  comp2_rate  comp2_inv  \\\n0                            NaN         0.0        0.0   \n1                            NaN         0.0        0.0   \n2                            NaN         0.0        0.0   \n3                            NaN         0.0        0.0   \n4                            NaN         0.0        0.0   \n...                          ...         ...        ...   \n4711719                      NaN         NaN        NaN   \n4711720                      NaN         NaN        NaN   \n4711721                      NaN         NaN        NaN   \n4711722                      NaN         NaN        NaN   \n4711723                      NaN         NaN        NaN   \n\n         comp2_rate_percent_diff  comp3_rate  comp3_inv  \\\n0                            NaN         0.0        0.0   \n1                            NaN         0.0        0.0   \n2                            NaN         0.0        0.0   \n3                            NaN         0.0        0.0   \n4                            NaN         0.0        0.0   \n...                          ...         ...        ...   \n4711719                      NaN         NaN        NaN   \n4711720                      NaN         NaN        NaN   \n4711721                      NaN         NaN        NaN   \n4711722                      NaN         NaN        NaN   \n4711723                      NaN         NaN        NaN   \n\n         comp3_rate_percent_diff  comp4_rate  comp4_inv  \\\n0                            NaN         NaN        NaN   \n1                            NaN         NaN        NaN   \n2                            NaN         NaN        NaN   \n3                            NaN         NaN        NaN   \n4                            NaN         NaN        NaN   \n...                          ...         ...        ...   \n4711719                      NaN         NaN        NaN   \n4711720                      NaN         NaN        NaN   \n4711721                      NaN         NaN        NaN   \n4711722                      NaN         NaN        NaN   \n4711723                      NaN         NaN        NaN   \n\n         comp4_rate_percent_diff  comp5_rate  comp5_inv  \\\n0                            NaN         0.0        0.0   \n1                            NaN         NaN        NaN   \n2                            NaN         NaN        NaN   \n3                            NaN         NaN        NaN   \n4                            NaN         NaN        NaN   \n...                          ...         ...        ...   \n4711719                      NaN         0.0        0.0   \n4711720                      NaN         0.0        0.0   \n4711721                      NaN         0.0        0.0   \n4711722                      NaN        -1.0        0.0   \n4711723                      NaN         0.0        0.0   \n\n         comp5_rate_percent_diff  comp6_rate  comp6_inv  \\\n0                            NaN         NaN        NaN   \n1                            NaN         NaN        NaN   \n2                            NaN         NaN        NaN   \n3                            NaN         NaN        NaN   \n4                            NaN         NaN        NaN   \n...                          ...         ...        ...   \n4711719                      NaN         0.0        0.0   \n4711720                      NaN         NaN        NaN   \n4711721                      NaN         NaN        NaN   \n4711722                     15.0         NaN        NaN   \n4711723                      NaN         NaN        NaN   \n\n         comp6_rate_percent_diff  comp7_rate  comp7_inv  \\\n0                            NaN         NaN        NaN   \n1                            NaN         NaN        NaN   \n2                            NaN         NaN        NaN   \n3                            NaN         NaN        NaN   \n4                            NaN         NaN        NaN   \n...                          ...         ...        ...   \n4711719                      NaN         NaN        NaN   \n4711720                      NaN         NaN        NaN   \n4711721                      NaN         NaN        NaN   \n4711722                      NaN         NaN        NaN   \n4711723                      NaN         NaN        NaN   \n\n         comp7_rate_percent_diff  comp8_rate  comp8_inv  \\\n0                            NaN         0.0        0.0   \n1                            NaN         0.0        0.0   \n2                            NaN         0.0        0.0   \n3                            NaN         NaN        NaN   \n4                            NaN        -1.0        0.0   \n...                          ...         ...        ...   \n4711719                      NaN         NaN        NaN   \n4711720                      NaN         NaN        NaN   \n4711721                      NaN         NaN        NaN   \n4711722                      NaN         NaN        NaN   \n4711723                      NaN         NaN        NaN   \n\n         comp8_rate_percent_diff  click_bool  gross_bookings_usd  \\\n0                            NaN           0                 NaN   \n1                            NaN           0                 NaN   \n2                            NaN           0                 NaN   \n3                            NaN           0                 NaN   \n4                            6.0           0                 NaN   \n...                          ...         ...                 ...   \n4711719                      NaN           0                 NaN   \n4711720                      NaN           0                 NaN   \n4711721                      NaN           1              261.68   \n4711722                      NaN           0                 NaN   \n4711723                      NaN           0                 NaN   \n\n         booking_bool  prob_clickbook  prob_searchbook  prob_searchclick  \\\n0                   0           0.625         0.017212          0.027539   \n1                   0           0.625         0.017212          0.027539   \n2                   0           0.625         0.017212          0.027539   \n3                   0           0.625         0.017212          0.027539   \n4                   0           0.625         0.017212          0.027539   \n...               ...             ...              ...               ...   \n4711719             0           0.000         0.000000          0.000000   \n4711720             0           0.000         0.000000          0.000000   \n4711721             1           1.000         1.000000          1.000000   \n4711722             0           0.000         0.000000          0.000000   \n4711723             0           0.000         0.000000          0.000000   \n\n         country_pct_rank  comp_mean_rate  comp_better_rate  comp_mean_inv  \\\n0                    0.65       -0.012095                 1      -0.009482   \n1                    0.65       -0.012095                 1      -0.009482   \n2                    0.65       -0.012095                 1      -0.009482   \n3                    0.65       -0.012095                 1      -0.009482   \n4                    0.65       -0.012095                 1      -0.009482   \n...                   ...             ...               ...            ...   \n4711719              0.80        0.000000                 1       0.000000   \n4711720              0.75        0.000000                 1       0.000000   \n4711721              0.45        0.000000                 1       0.000000   \n4711722              0.05       -1.000000                 1       0.000000   \n4711723              0.70        0.000000                 1       0.000000   \n\n         comp_better_inv  price_change  desirability_score  percentile_of_day  \\\n0                      1     -0.257871            0.001458           0.355729   \n1                      1     -0.380268            0.001458           0.480810   \n2                      1     -0.133868            0.001458           0.927049   \n3                      1     -0.044505            0.001458           0.100023   \n4                      1     -0.235591            0.001458           0.340590   \n...                  ...           ...                 ...                ...   \n4711719                1      0.295910            0.001458           0.869433   \n4711720                1     -0.285281            0.001458           0.869433   \n4711721                1      0.139772            0.001458           0.512488   \n4711722                1     -0.644577            0.001458           0.512488   \n4711723                1      0.434478            0.001458           0.512488   \n\n         month  day_of_week  \n0            4            3  \n1           12            6  \n2            5            3  \n3            4            2  \n4            1            4  \n...        ...          ...  \n4711719      4            0  \n4711720      4            0  \n4711721      2            0  \n4711722      2            0  \n4711723      2            0  \n\n[4711724 rows x 68 columns]",
      "text/html": "<div>\n<style scoped>\n    .dataframe tbody tr th:only-of-type {\n        vertical-align: middle;\n    }\n\n    .dataframe tbody tr th {\n        vertical-align: top;\n    }\n\n    .dataframe thead th {\n        text-align: right;\n    }\n</style>\n<table border=\"1\" class=\"dataframe\">\n  <thead>\n    <tr style=\"text-align: right;\">\n      <th></th>\n      <th>Unnamed: 0</th>\n      <th>srch_id</th>\n      <th>date_time</th>\n      <th>site_id</th>\n      <th>visitor_location_country_id</th>\n      <th>visitor_hist_starrating</th>\n      <th>visitor_hist_adr_usd</th>\n      <th>prop_country_id</th>\n      <th>prop_id</th>\n      <th>prop_starrating</th>\n      <th>prop_review_score</th>\n      <th>prop_brand_bool</th>\n      <th>prop_location_score1</th>\n      <th>prop_location_score2</th>\n      <th>prop_log_historical_price</th>\n      <th>position</th>\n      <th>price_usd</th>\n      <th>promotion_flag</th>\n      <th>srch_destination_id</th>\n      <th>srch_length_of_stay</th>\n      <th>srch_booking_window</th>\n      <th>srch_adults_count</th>\n      <th>srch_children_count</th>\n      <th>srch_room_count</th>\n      <th>srch_saturday_night_bool</th>\n      <th>srch_query_affinity_score</th>\n      <th>orig_destination_distance</th>\n      <th>random_bool</th>\n      <th>comp1_rate</th>\n      <th>comp1_inv</th>\n      <th>comp1_rate_percent_diff</th>\n      <th>comp2_rate</th>\n      <th>comp2_inv</th>\n      <th>comp2_rate_percent_diff</th>\n      <th>comp3_rate</th>\n      <th>comp3_inv</th>\n      <th>comp3_rate_percent_diff</th>\n      <th>comp4_rate</th>\n      <th>comp4_inv</th>\n      <th>comp4_rate_percent_diff</th>\n      <th>comp5_rate</th>\n      <th>comp5_inv</th>\n      <th>comp5_rate_percent_diff</th>\n      <th>comp6_rate</th>\n      <th>comp6_inv</th>\n      <th>comp6_rate_percent_diff</th>\n      <th>comp7_rate</th>\n      <th>comp7_inv</th>\n      <th>comp7_rate_percent_diff</th>\n      <th>comp8_rate</th>\n      <th>comp8_inv</th>\n      <th>comp8_rate_percent_diff</th>\n      <th>click_bool</th>\n      <th>gross_bookings_usd</th>\n      <th>booking_bool</th>\n      <th>prob_clickbook</th>\n      <th>prob_searchbook</th>\n      <th>prob_searchclick</th>\n      <th>country_pct_rank</th>\n      <th>comp_mean_rate</th>\n      <th>comp_better_rate</th>\n      <th>comp_mean_inv</th>\n      <th>comp_better_inv</th>\n      <th>price_change</th>\n      <th>desirability_score</th>\n      <th>percentile_of_day</th>\n      <th>month</th>\n      <th>day_of_week</th>\n    </tr>\n  </thead>\n  <tbody>\n    <tr>\n      <th>0</th>\n      <td>0</td>\n      <td>1</td>\n      <td>2013-04-04 08:32:15</td>\n      <td>12</td>\n      <td>187</td>\n      <td>NaN</td>\n      <td>NaN</td>\n      <td>219</td>\n      <td>893</td>\n      <td>3</td>\n      <td>3.5</td>\n      <td>1</td>\n      <td>2.83</td>\n      <td>0.0438</td>\n      <td>4.95</td>\n      <td>27</td>\n      <td>104.77</td>\n      <td>0</td>\n      <td>23246</td>\n      <td>1</td>\n      <td>0</td>\n      <td>4</td>\n      <td>0</td>\n      <td>1</td>\n      <td>1</td>\n      <td>NaN</td>\n      <td>NaN</td>\n      <td>1</td>\n      <td>NaN</td>\n      <td>NaN</td>\n      <td>NaN</td>\n      <td>0.0</td>\n      <td>0.0</td>\n      <td>NaN</td>\n      <td>0.0</td>\n      <td>0.0</td>\n      <td>NaN</td>\n      <td>NaN</td>\n      <td>NaN</td>\n      <td>NaN</td>\n      <td>0.0</td>\n      <td>0.0</td>\n      <td>NaN</td>\n      <td>NaN</td>\n      <td>NaN</td>\n      <td>NaN</td>\n      <td>NaN</td>\n      <td>NaN</td>\n      <td>NaN</td>\n      <td>0.0</td>\n      <td>0.0</td>\n      <td>NaN</td>\n      <td>0</td>\n      <td>NaN</td>\n      <td>0</td>\n      <td>0.625</td>\n      <td>0.017212</td>\n      <td>0.027539</td>\n      <td>0.65</td>\n      <td>-0.012095</td>\n      <td>1</td>\n      <td>-0.009482</td>\n      <td>1</td>\n      <td>-0.257871</td>\n      <td>0.001458</td>\n      <td>0.355729</td>\n      <td>4</td>\n      <td>3</td>\n    </tr>\n    <tr>\n      <th>1</th>\n      <td>6938</td>\n      <td>498</td>\n      <td>2012-12-23 11:32:22</td>\n      <td>32</td>\n      <td>220</td>\n      <td>NaN</td>\n      <td>NaN</td>\n      <td>219</td>\n      <td>893</td>\n      <td>3</td>\n      <td>3.5</td>\n      <td>1</td>\n      <td>2.83</td>\n      <td>0.0950</td>\n      <td>4.96</td>\n      <td>28</td>\n      <td>88.37</td>\n      <td>0</td>\n      <td>25964</td>\n      <td>1</td>\n      <td>0</td>\n      <td>1</td>\n      <td>0</td>\n      <td>1</td>\n      <td>0</td>\n      <td>NaN</td>\n      <td>7500.57</td>\n      <td>0</td>\n      <td>NaN</td>\n      <td>NaN</td>\n      <td>NaN</td>\n      <td>0.0</td>\n      <td>0.0</td>\n      <td>NaN</td>\n      <td>0.0</td>\n      <td>0.0</td>\n      <td>NaN</td>\n      <td>NaN</td>\n      <td>NaN</td>\n      <td>NaN</td>\n      <td>NaN</td>\n      <td>NaN</td>\n      <td>NaN</td>\n      <td>NaN</td>\n      <td>NaN</td>\n      <td>NaN</td>\n      <td>NaN</td>\n      <td>NaN</td>\n      <td>NaN</td>\n      <td>0.0</td>\n      <td>0.0</td>\n      <td>NaN</td>\n      <td>0</td>\n      <td>NaN</td>\n      <td>0</td>\n      <td>0.625</td>\n      <td>0.017212</td>\n      <td>0.027539</td>\n      <td>0.65</td>\n      <td>-0.012095</td>\n      <td>1</td>\n      <td>-0.009482</td>\n      <td>1</td>\n      <td>-0.380268</td>\n      <td>0.001458</td>\n      <td>0.480810</td>\n      <td>12</td>\n      <td>6</td>\n    </tr>\n    <tr>\n      <th>2</th>\n      <td>12605</td>\n      <td>896</td>\n      <td>2013-05-09 22:14:57</td>\n      <td>5</td>\n      <td>2</td>\n      <td>NaN</td>\n      <td>NaN</td>\n      <td>219</td>\n      <td>893</td>\n      <td>3</td>\n      <td>3.5</td>\n      <td>1</td>\n      <td>2.83</td>\n      <td>0.0438</td>\n      <td>4.98</td>\n      <td>24</td>\n      <td>126.00</td>\n      <td>0</td>\n      <td>23246</td>\n      <td>1</td>\n      <td>16</td>\n      <td>1</td>\n      <td>0</td>\n      <td>1</td>\n      <td>1</td>\n      <td>NaN</td>\n      <td>NaN</td>\n      <td>0</td>\n      <td>NaN</td>\n      <td>NaN</td>\n      <td>NaN</td>\n      <td>0.0</td>\n      <td>0.0</td>\n      <td>NaN</td>\n      <td>0.0</td>\n      <td>0.0</td>\n      <td>NaN</td>\n      <td>NaN</td>\n      <td>NaN</td>\n      <td>NaN</td>\n      <td>NaN</td>\n      <td>NaN</td>\n      <td>NaN</td>\n      <td>NaN</td>\n      <td>NaN</td>\n      <td>NaN</td>\n      <td>NaN</td>\n      <td>NaN</td>\n      <td>NaN</td>\n      <td>0.0</td>\n      <td>0.0</td>\n      <td>NaN</td>\n      <td>0</td>\n      <td>NaN</td>\n      <td>0</td>\n      <td>0.625</td>\n      <td>0.017212</td>\n      <td>0.027539</td>\n      <td>0.65</td>\n      <td>-0.012095</td>\n      <td>1</td>\n      <td>-0.009482</td>\n      <td>1</td>\n      <td>-0.133868</td>\n      <td>0.001458</td>\n      <td>0.927049</td>\n      <td>5</td>\n      <td>3</td>\n    </tr>\n    <tr>\n      <th>3</th>\n      <td>21958</td>\n      <td>1495</td>\n      <td>2013-04-24 02:24:02</td>\n      <td>5</td>\n      <td>219</td>\n      <td>NaN</td>\n      <td>NaN</td>\n      <td>219</td>\n      <td>893</td>\n      <td>3</td>\n      <td>3.5</td>\n      <td>1</td>\n      <td>2.83</td>\n      <td>0.0438</td>\n      <td>4.98</td>\n      <td>28</td>\n      <td>139.00</td>\n      <td>0</td>\n      <td>23246</td>\n      <td>1</td>\n      <td>40</td>\n      <td>1</td>\n      <td>0</td>\n      <td>1</td>\n      <td>0</td>\n      <td>NaN</td>\n      <td>NaN</td>\n      <td>0</td>\n      <td>NaN</td>\n      <td>NaN</td>\n      <td>NaN</td>\n      <td>0.0</td>\n      <td>0.0</td>\n      <td>NaN</td>\n      <td>0.0</td>\n      <td>0.0</td>\n      <td>NaN</td>\n      <td>NaN</td>\n      <td>NaN</td>\n      <td>NaN</td>\n      <td>NaN</td>\n      <td>NaN</td>\n      <td>NaN</td>\n      <td>NaN</td>\n      <td>NaN</td>\n      <td>NaN</td>\n      <td>NaN</td>\n      <td>NaN</td>\n      <td>NaN</td>\n      <td>NaN</td>\n      <td>NaN</td>\n      <td>NaN</td>\n      <td>0</td>\n      <td>NaN</td>\n      <td>0</td>\n      <td>0.625</td>\n      <td>0.017212</td>\n      <td>0.027539</td>\n      <td>0.65</td>\n      <td>-0.012095</td>\n      <td>1</td>\n      <td>-0.009482</td>\n      <td>1</td>\n      <td>-0.044505</td>\n      <td>0.001458</td>\n      <td>0.100023</td>\n      <td>4</td>\n      <td>2</td>\n    </tr>\n    <tr>\n      <th>4</th>\n      <td>30512</td>\n      <td>2052</td>\n      <td>2013-01-11 08:10:27</td>\n      <td>5</td>\n      <td>219</td>\n      <td>NaN</td>\n      <td>NaN</td>\n      <td>219</td>\n      <td>893</td>\n      <td>3</td>\n      <td>3.5</td>\n      <td>1</td>\n      <td>2.83</td>\n      <td>0.0438</td>\n      <td>4.96</td>\n      <td>29</td>\n      <td>109.00</td>\n      <td>0</td>\n      <td>23246</td>\n      <td>1</td>\n      <td>0</td>\n      <td>2</td>\n      <td>0</td>\n      <td>1</td>\n      <td>1</td>\n      <td>NaN</td>\n      <td>77.22</td>\n      <td>0</td>\n      <td>NaN</td>\n      <td>NaN</td>\n      <td>NaN</td>\n      <td>0.0</td>\n      <td>0.0</td>\n      <td>NaN</td>\n      <td>0.0</td>\n      <td>0.0</td>\n      <td>NaN</td>\n      <td>NaN</td>\n      <td>NaN</td>\n      <td>NaN</td>\n      <td>NaN</td>\n      <td>NaN</td>\n      <td>NaN</td>\n      <td>NaN</td>\n      <td>NaN</td>\n      <td>NaN</td>\n      <td>NaN</td>\n      <td>NaN</td>\n      <td>NaN</td>\n      <td>-1.0</td>\n      <td>0.0</td>\n      <td>6.0</td>\n      <td>0</td>\n      <td>NaN</td>\n      <td>0</td>\n      <td>0.625</td>\n      <td>0.017212</td>\n      <td>0.027539</td>\n      <td>0.65</td>\n      <td>-0.012095</td>\n      <td>1</td>\n      <td>-0.009482</td>\n      <td>1</td>\n      <td>-0.235591</td>\n      <td>0.001458</td>\n      <td>0.340590</td>\n      <td>1</td>\n      <td>4</td>\n    </tr>\n    <tr>\n      <th>...</th>\n      <td>...</td>\n      <td>...</td>\n      <td>...</td>\n      <td>...</td>\n      <td>...</td>\n      <td>...</td>\n      <td>...</td>\n      <td>...</td>\n      <td>...</td>\n      <td>...</td>\n      <td>...</td>\n      <td>...</td>\n      <td>...</td>\n      <td>...</td>\n      <td>...</td>\n      <td>...</td>\n      <td>...</td>\n      <td>...</td>\n      <td>...</td>\n      <td>...</td>\n      <td>...</td>\n      <td>...</td>\n      <td>...</td>\n      <td>...</td>\n      <td>...</td>\n      <td>...</td>\n      <td>...</td>\n      <td>...</td>\n      <td>...</td>\n      <td>...</td>\n      <td>...</td>\n      <td>...</td>\n      <td>...</td>\n      <td>...</td>\n      <td>...</td>\n      <td>...</td>\n      <td>...</td>\n      <td>...</td>\n      <td>...</td>\n      <td>...</td>\n      <td>...</td>\n      <td>...</td>\n      <td>...</td>\n      <td>...</td>\n      <td>...</td>\n      <td>...</td>\n      <td>...</td>\n      <td>...</td>\n      <td>...</td>\n      <td>...</td>\n      <td>...</td>\n      <td>...</td>\n      <td>...</td>\n      <td>...</td>\n      <td>...</td>\n      <td>...</td>\n      <td>...</td>\n      <td>...</td>\n      <td>...</td>\n      <td>...</td>\n      <td>...</td>\n      <td>...</td>\n      <td>...</td>\n      <td>...</td>\n      <td>...</td>\n      <td>...</td>\n      <td>...</td>\n      <td>...</td>\n    </tr>\n    <tr>\n      <th>4711719</th>\n      <td>4957427</td>\n      <td>332713</td>\n      <td>2013-04-15 20:51:59</td>\n      <td>12</td>\n      <td>99</td>\n      <td>NaN</td>\n      <td>NaN</td>\n      <td>99</td>\n      <td>103277</td>\n      <td>3</td>\n      <td>5.0</td>\n      <td>0</td>\n      <td>0.69</td>\n      <td>0.0242</td>\n      <td>4.85</td>\n      <td>2</td>\n      <td>165.54</td>\n      <td>0</td>\n      <td>18778</td>\n      <td>2</td>\n      <td>4</td>\n      <td>2</td>\n      <td>0</td>\n      <td>1</td>\n      <td>1</td>\n      <td>NaN</td>\n      <td>NaN</td>\n      <td>1</td>\n      <td>NaN</td>\n      <td>NaN</td>\n      <td>NaN</td>\n      <td>NaN</td>\n      <td>NaN</td>\n      <td>NaN</td>\n      <td>NaN</td>\n      <td>NaN</td>\n      <td>NaN</td>\n      <td>NaN</td>\n      <td>NaN</td>\n      <td>NaN</td>\n      <td>0.0</td>\n      <td>0.0</td>\n      <td>NaN</td>\n      <td>0.0</td>\n      <td>0.0</td>\n      <td>NaN</td>\n      <td>NaN</td>\n      <td>NaN</td>\n      <td>NaN</td>\n      <td>NaN</td>\n      <td>NaN</td>\n      <td>NaN</td>\n      <td>0</td>\n      <td>NaN</td>\n      <td>0</td>\n      <td>0.000</td>\n      <td>0.000000</td>\n      <td>0.000000</td>\n      <td>0.80</td>\n      <td>0.000000</td>\n      <td>1</td>\n      <td>0.000000</td>\n      <td>1</td>\n      <td>0.295910</td>\n      <td>0.001458</td>\n      <td>0.869433</td>\n      <td>4</td>\n      <td>0</td>\n    </tr>\n    <tr>\n      <th>4711720</th>\n      <td>4957430</td>\n      <td>332713</td>\n      <td>2013-04-15 20:51:59</td>\n      <td>12</td>\n      <td>99</td>\n      <td>NaN</td>\n      <td>NaN</td>\n      <td>99</td>\n      <td>135856</td>\n      <td>4</td>\n      <td>3.5</td>\n      <td>0</td>\n      <td>2.30</td>\n      <td>0.1415</td>\n      <td>5.38</td>\n      <td>1</td>\n      <td>155.11</td>\n      <td>0</td>\n      <td>18778</td>\n      <td>2</td>\n      <td>4</td>\n      <td>2</td>\n      <td>0</td>\n      <td>1</td>\n      <td>1</td>\n      <td>NaN</td>\n      <td>NaN</td>\n      <td>1</td>\n      <td>NaN</td>\n      <td>NaN</td>\n      <td>NaN</td>\n      <td>NaN</td>\n      <td>NaN</td>\n      <td>NaN</td>\n      <td>NaN</td>\n      <td>NaN</td>\n      <td>NaN</td>\n      <td>NaN</td>\n      <td>NaN</td>\n      <td>NaN</td>\n      <td>0.0</td>\n      <td>0.0</td>\n      <td>NaN</td>\n      <td>NaN</td>\n      <td>NaN</td>\n      <td>NaN</td>\n      <td>NaN</td>\n      <td>NaN</td>\n      <td>NaN</td>\n      <td>NaN</td>\n      <td>NaN</td>\n      <td>NaN</td>\n      <td>0</td>\n      <td>NaN</td>\n      <td>0</td>\n      <td>0.000</td>\n      <td>0.000000</td>\n      <td>0.000000</td>\n      <td>0.75</td>\n      <td>0.000000</td>\n      <td>1</td>\n      <td>0.000000</td>\n      <td>1</td>\n      <td>-0.285281</td>\n      <td>0.001458</td>\n      <td>0.869433</td>\n      <td>4</td>\n      <td>0</td>\n    </tr>\n    <tr>\n      <th>4711721</th>\n      <td>4957806</td>\n      <td>332740</td>\n      <td>2013-02-18 12:17:59</td>\n      <td>12</td>\n      <td>99</td>\n      <td>NaN</td>\n      <td>NaN</td>\n      <td>99</td>\n      <td>1668</td>\n      <td>1</td>\n      <td>3.5</td>\n      <td>1</td>\n      <td>0.00</td>\n      <td>0.0000</td>\n      <td>4.05</td>\n      <td>1</td>\n      <td>65.42</td>\n      <td>0</td>\n      <td>21461</td>\n      <td>4</td>\n      <td>0</td>\n      <td>1</td>\n      <td>0</td>\n      <td>1</td>\n      <td>0</td>\n      <td>NaN</td>\n      <td>NaN</td>\n      <td>0</td>\n      <td>NaN</td>\n      <td>NaN</td>\n      <td>NaN</td>\n      <td>NaN</td>\n      <td>NaN</td>\n      <td>NaN</td>\n      <td>NaN</td>\n      <td>NaN</td>\n      <td>NaN</td>\n      <td>NaN</td>\n      <td>NaN</td>\n      <td>NaN</td>\n      <td>0.0</td>\n      <td>0.0</td>\n      <td>NaN</td>\n      <td>NaN</td>\n      <td>NaN</td>\n      <td>NaN</td>\n      <td>NaN</td>\n      <td>NaN</td>\n      <td>NaN</td>\n      <td>NaN</td>\n      <td>NaN</td>\n      <td>NaN</td>\n      <td>1</td>\n      <td>261.68</td>\n      <td>1</td>\n      <td>1.000</td>\n      <td>1.000000</td>\n      <td>1.000000</td>\n      <td>0.45</td>\n      <td>0.000000</td>\n      <td>1</td>\n      <td>0.000000</td>\n      <td>1</td>\n      <td>0.139772</td>\n      <td>0.001458</td>\n      <td>0.512488</td>\n      <td>2</td>\n      <td>0</td>\n    </tr>\n    <tr>\n      <th>4711722</th>\n      <td>4957807</td>\n      <td>332740</td>\n      <td>2013-02-18 12:17:59</td>\n      <td>12</td>\n      <td>99</td>\n      <td>NaN</td>\n      <td>NaN</td>\n      <td>99</td>\n      <td>2284</td>\n      <td>0</td>\n      <td>0.0</td>\n      <td>0</td>\n      <td>0.00</td>\n      <td>NaN</td>\n      <td>4.82</td>\n      <td>19</td>\n      <td>44.06</td>\n      <td>0</td>\n      <td>21461</td>\n      <td>4</td>\n      <td>0</td>\n      <td>1</td>\n      <td>0</td>\n      <td>1</td>\n      <td>0</td>\n      <td>NaN</td>\n      <td>NaN</td>\n      <td>0</td>\n      <td>NaN</td>\n      <td>NaN</td>\n      <td>NaN</td>\n      <td>NaN</td>\n      <td>NaN</td>\n      <td>NaN</td>\n      <td>NaN</td>\n      <td>NaN</td>\n      <td>NaN</td>\n      <td>NaN</td>\n      <td>NaN</td>\n      <td>NaN</td>\n      <td>-1.0</td>\n      <td>0.0</td>\n      <td>15.0</td>\n      <td>NaN</td>\n      <td>NaN</td>\n      <td>NaN</td>\n      <td>NaN</td>\n      <td>NaN</td>\n      <td>NaN</td>\n      <td>NaN</td>\n      <td>NaN</td>\n      <td>NaN</td>\n      <td>0</td>\n      <td>NaN</td>\n      <td>0</td>\n      <td>0.000</td>\n      <td>0.000000</td>\n      <td>0.000000</td>\n      <td>0.05</td>\n      <td>-1.000000</td>\n      <td>1</td>\n      <td>0.000000</td>\n      <td>1</td>\n      <td>-0.644577</td>\n      <td>0.001458</td>\n      <td>0.512488</td>\n      <td>2</td>\n      <td>0</td>\n    </tr>\n    <tr>\n      <th>4711723</th>\n      <td>4957821</td>\n      <td>332740</td>\n      <td>2013-02-18 12:17:59</td>\n      <td>12</td>\n      <td>99</td>\n      <td>NaN</td>\n      <td>NaN</td>\n      <td>99</td>\n      <td>87173</td>\n      <td>3</td>\n      <td>4.0</td>\n      <td>1</td>\n      <td>2.08</td>\n      <td>NaN</td>\n      <td>4.45</td>\n      <td>25</td>\n      <td>122.83</td>\n      <td>0</td>\n      <td>21461</td>\n      <td>4</td>\n      <td>0</td>\n      <td>1</td>\n      <td>0</td>\n      <td>1</td>\n      <td>0</td>\n      <td>NaN</td>\n      <td>NaN</td>\n      <td>0</td>\n      <td>NaN</td>\n      <td>NaN</td>\n      <td>NaN</td>\n      <td>NaN</td>\n      <td>NaN</td>\n      <td>NaN</td>\n      <td>NaN</td>\n      <td>NaN</td>\n      <td>NaN</td>\n      <td>NaN</td>\n      <td>NaN</td>\n      <td>NaN</td>\n      <td>0.0</td>\n      <td>0.0</td>\n      <td>NaN</td>\n      <td>NaN</td>\n      <td>NaN</td>\n      <td>NaN</td>\n      <td>NaN</td>\n      <td>NaN</td>\n      <td>NaN</td>\n      <td>NaN</td>\n      <td>NaN</td>\n      <td>NaN</td>\n      <td>0</td>\n      <td>NaN</td>\n      <td>0</td>\n      <td>0.000</td>\n      <td>0.000000</td>\n      <td>0.000000</td>\n      <td>0.70</td>\n      <td>0.000000</td>\n      <td>1</td>\n      <td>0.000000</td>\n      <td>1</td>\n      <td>0.434478</td>\n      <td>0.001458</td>\n      <td>0.512488</td>\n      <td>2</td>\n      <td>0</td>\n    </tr>\n  </tbody>\n</table>\n<p>4711724 rows × 68 columns</p>\n</div>"
     },
     "execution_count": 38,
     "metadata": {},
     "output_type": "execute_result"
    }
   ],
   "source": [
    "df"
   ],
   "metadata": {
    "collapsed": false,
    "pycharm": {
     "name": "#%%\n"
    }
   }
  },
  {
   "cell_type": "code",
   "execution_count": 39,
   "outputs": [],
   "source": [
    "def usa_col(df):\n",
    "    # Encode visitor/hotel from USA (approx. 50% of visitors)\n",
    "    # idx visitor  hotel  encoding\n",
    "    # 0     1     1        2\n",
    "    # 1     0     0        0\n",
    "    # 2     1     0        1\n",
    "    # 3     0     1       -1\n",
    "    visitor_us = (df[\"visitor_location_country_id\"] == 219).astype(int)\n",
    "    hotel_us = (df[\"prop_country_id\"] == 219).astype(int)\n",
    "    return np.where(visitor_us != hotel_us, visitor_us - hotel_us, hotel_us*2)\n",
    "\n",
    "df[\"within_us\"] =  usa_col(df)"
   ],
   "metadata": {
    "collapsed": false,
    "pycharm": {
     "name": "#%%\n"
    }
   }
  },
  {
   "cell_type": "markdown",
   "source": [],
   "metadata": {
    "collapsed": false,
    "pycharm": {
     "name": "#%% md\n"
    }
   }
  },
  {
   "cell_type": "code",
   "execution_count": 40,
   "outputs": [],
   "source": [
    "# df.to_csv(\"data/FE_training_set.csv\")\n",
    "df.to_csv(\"data/train_train_FE.csv\")"
   ],
   "metadata": {
    "collapsed": false,
    "pycharm": {
     "name": "#%%\n"
    }
   }
  },
  {
   "cell_type": "markdown",
   "source": [
    "## Test set\n",
    "\n",
    "- need to add expected click stuff here too, but using values from train set bc. dont have test set values"
   ],
   "metadata": {
    "collapsed": false,
    "pycharm": {
     "name": "#%% md\n"
    }
   }
  },
  {
   "cell_type": "code",
   "execution_count": 59,
   "outputs": [],
   "source": [
    "# df_test = pd.read_csv(\"data/test_set_VU_DM.csv\")\n",
    "df_test = pd.read_csv(\"data/train_test.csv\")"
   ],
   "metadata": {
    "collapsed": false,
    "pycharm": {
     "name": "#%%\n"
    }
   }
  },
  {
   "cell_type": "code",
   "execution_count": 60,
   "outputs": [
    {
     "data": {
      "text/plain": "246623"
     },
     "execution_count": 60,
     "metadata": {},
     "output_type": "execute_result"
    }
   ],
   "source": [
    "len_test_original = len(df_test)\n",
    "len_test_original"
   ],
   "metadata": {
    "collapsed": false,
    "pycharm": {
     "name": "#%%\n"
    }
   }
  },
  {
   "cell_type": "code",
   "execution_count": 61,
   "outputs": [],
   "source": [
    "df_train = df.copy(deep=True)"
   ],
   "metadata": {
    "collapsed": false,
    "pycharm": {
     "name": "#%%\n"
    }
   }
  },
  {
   "cell_type": "markdown",
   "source": [
    "#### Copy click, search, booking columns to test dataset\n",
    "Dataset with len(unique hotels that are in both).\n",
    "\n",
    "With only the new columns to copy them to the test data for the matching hotels."
   ],
   "metadata": {
    "collapsed": false,
    "pycharm": {
     "name": "#%% md\n"
    }
   }
  },
  {
   "cell_type": "code",
   "execution_count": 62,
   "outputs": [],
   "source": [
    "test_props = df_test[\"prop_id\"].unique()\n",
    "train_props = df_train[\"prop_id\"].unique() \n",
    "\n",
    "# training dataset, but only the properties that are in the test set too\n",
    "train_df_intersect = df_train[df_train[\"prop_id\"].isin(np.intersect1d(test_props,train_props))]  \n",
    "\n",
    "# select the columns we added before\n",
    "clicks_train = train_df_intersect[[\"prop_id\",\"prob_clickbook\",\"prob_searchbook\",\n",
    "                                      \"prob_searchclick\",\"country_pct_rank\"]]\n",
    "\n",
    "# reduce the nr of rows to unique entries\n",
    "clicks_train= clicks_train.groupby(\"prop_id\").mean() \n",
    "clicks_train[\"in_train\"] = 1 # bool column if was already in training set\n",
    "clicks_train.reset_index(inplace=True)"
   ],
   "metadata": {
    "collapsed": false,
    "pycharm": {
     "name": "#%%\n"
    }
   }
  },
  {
   "cell_type": "code",
   "execution_count": 63,
   "outputs": [],
   "source": [
    "df_test = df_test.merge(clicks_train, on=\"prop_id\",how=\"left\") "
   ],
   "metadata": {
    "collapsed": false,
    "pycharm": {
     "name": "#%%\n"
    }
   }
  },
  {
   "cell_type": "code",
   "execution_count": 64,
   "outputs": [],
   "source": [
    "df_test[\"in_train\"].fillna(0, inplace=True) # if property not in training set, fill with 0"
   ],
   "metadata": {
    "collapsed": false,
    "pycharm": {
     "name": "#%%\n"
    }
   }
  },
  {
   "cell_type": "markdown",
   "source": [
    "##### Rank of the hotel must be computed using both the test and training set"
   ],
   "metadata": {
    "collapsed": false,
    "pycharm": {
     "name": "#%% md\n"
    }
   }
  },
  {
   "cell_type": "markdown",
   "source": [
    "#### All other features must be computed for all rows in the test set\n",
    "- compute hotel rank with whole test set, but only update hotels that are new"
   ],
   "metadata": {
    "collapsed": false,
    "pycharm": {
     "name": "#%% md\n"
    }
   }
  },
  {
   "cell_type": "code",
   "execution_count": 65,
   "outputs": [
    {
     "data": {
      "text/plain": "246623"
     },
     "execution_count": 65,
     "metadata": {},
     "output_type": "execute_result"
    }
   ],
   "source": [
    "# add ranking \n",
    "save = df_test.copy()\n",
    "len(save)"
   ],
   "metadata": {
    "collapsed": false,
    "pycharm": {
     "name": "#%%\n"
    }
   }
  },
  {
   "cell_type": "code",
   "execution_count": 66,
   "outputs": [],
   "source": [
    "df_test = save.copy()"
   ],
   "metadata": {
    "collapsed": false,
    "pycharm": {
     "name": "#%%\n"
    }
   }
  },
  {
   "cell_type": "code",
   "execution_count": 67,
   "outputs": [],
   "source": [
    "# apply ranking, filter out new hotels and appy only there\n",
    "temp = hotel_country_rank_df(df_test)\n",
    "hotels_not_in_train = df_test[df_test[\"in_train\"]==0][\"prop_id\"].unique()\n",
    "temp = temp[temp[\"prop_id\"].isin(hotels_not_in_train)]\n",
    "\n",
    "# fill nan values of the missing ranks_rank_x\",\"country_pct_rank_y\"], inplace=True)"
   ],
   "metadata": {
    "collapsed": false,
    "pycharm": {
     "name": "#%%\n"
    }
   }
  },
  {
   "cell_type": "code",
   "execution_count": 68,
   "outputs": [],
   "source": [
    "df_test = df_test.merge(temp,on=\"prop_id\",how=\"left\")"
   ],
   "metadata": {
    "collapsed": false,
    "pycharm": {
     "name": "#%%\n"
    }
   }
  },
  {
   "cell_type": "code",
   "execution_count": 69,
   "outputs": [],
   "source": [
    "#  for the new hotels with the values from the testranking\n",
    "df_test = df_test.merge(temp,on=\"prop_id\",how=\"left\")\n",
    "df_test[\"country_pct_rank\"] = df_test['country_pct_rank_x'].combine_first(df_test['country_pct_rank_y'])\n",
    "df_test.drop(columns=[\"country_pct_rank_x\",\"country_pct_rank_y\"],inplace=True)"
   ],
   "metadata": {
    "collapsed": false,
    "pycharm": {
     "name": "#%%\n"
    }
   }
  },
  {
   "cell_type": "code",
   "execution_count": 70,
   "outputs": [],
   "source": [
    "df_test = df_test.merge(competitor_df(df_test), on=\"prop_id\")"
   ],
   "metadata": {
    "collapsed": false,
    "pycharm": {
     "name": "#%%\n"
    }
   }
  },
  {
   "cell_type": "code",
   "execution_count": 71,
   "outputs": [],
   "source": [
    "df_test[\"price_change\"] = price_change_col(df_test)\n",
    "df_test[\"desirability_score\"] = desirability_col(df_test)\n",
    "df_test['percentile_of_day'] = percent_day_col(df_test)\n",
    "df_test['month'] = month_col(df_test)\n",
    "df_test['day_of_week'] = weekend_bool_col(df_test)\n",
    "df_test[\"within_us\"] =  usa_col(df_test)"
   ],
   "metadata": {
    "collapsed": false,
    "pycharm": {
     "name": "#%%\n"
    }
   }
  },
  {
   "cell_type": "code",
   "execution_count": 72,
   "outputs": [
    {
     "data": {
      "text/plain": "        Unnamed: 0  srch_id           date_time  site_id  \\\n0              371       39 2013-04-06 18:08:58        5   \n1           485026    32446 2013-03-05 13:19:18       14   \n2          1862780   125024 2013-06-29 14:50:06        5   \n3          3834846   257454 2013-04-27 20:16:05        5   \n4          4785936   321113 2013-06-08 08:33:16        5   \n...            ...      ...                 ...      ...   \n246618     4948667   332126 2012-11-01 07:25:28        5   \n246619     4948672   332126 2012-11-01 07:25:28        5   \n246620     4948675   332126 2012-11-01 07:25:28        5   \n246621     4956913   332668 2013-02-20 13:38:12        5   \n246622     4956921   332668 2013-02-20 13:38:12        5   \n\n        visitor_location_country_id  visitor_hist_starrating  \\\n0                               219                      NaN   \n1                               100                      NaN   \n2                               219                      NaN   \n3                               219                      NaN   \n4                               219                      NaN   \n...                             ...                      ...   \n246618                          219                      NaN   \n246619                          219                      NaN   \n246620                          219                      NaN   \n246621                          219                      NaN   \n246622                          219                      NaN   \n\n        visitor_hist_adr_usd  prop_country_id  prop_id  prop_starrating  \\\n0                        NaN              219     4426                3   \n1                        NaN              219     4426                3   \n2                        NaN              219     4426                3   \n3                        NaN              219     4426                3   \n4                        NaN              219     4426                3   \n...                      ...              ...      ...              ...   \n246618                   NaN              219    47322                0   \n246619                   NaN              219   100864                0   \n246620                   NaN              219   110271                0   \n246621                   NaN               27    32070                0   \n246622                   NaN               27    76218                0   \n\n        prop_review_score  prop_brand_bool  prop_location_score1  \\\n0                     4.0                1                  1.61   \n1                     4.0                1                  1.61   \n2                     4.0                1                  1.61   \n3                     4.0                1                  1.61   \n4                     4.0                1                  1.61   \n...                   ...              ...                   ...   \n246618                3.5                1                  2.64   \n246619                3.5                1                  2.64   \n246620                1.5                1                  1.61   \n246621                0.0                0                  3.50   \n246622                4.0                0                  3.53   \n\n        prop_location_score2  prop_log_historical_price  position  price_usd  \\\n0                        NaN                       4.66         9     135.00   \n1                     0.0415                       4.66        18      98.35   \n2                     0.0415                       0.00         4     120.00   \n3                     0.0415                       4.69         3     100.00   \n4                     0.5441                       0.00         1      90.00   \n...                      ...                        ...       ...        ...   \n246618                   NaN                       4.39        31      50.00   \n246619                   NaN                       4.25        30      43.00   \n246620                   NaN                       4.39        32      71.00   \n246621                0.0113                       6.21        24      74.00   \n246622                0.0108                       3.91        25      66.00   \n\n        promotion_flag  srch_destination_id  srch_length_of_stay  \\\n0                    0                24361                    1   \n1                    0                17747                    3   \n2                    0                17747                    1   \n3                    0                17747                    4   \n4                    0                 5352                    4   \n...                ...                  ...                  ...   \n246618               0                10080                    2   \n246619               0                10080                    2   \n246620               0                10080                    2   \n246621               0                18945                    6   \n246622               0                18945                    6   \n\n        srch_booking_window  srch_adults_count  srch_children_count  \\\n0                         7                  2                    2   \n1                        23                  2                    0   \n2                        14                  1                    0   \n3                        14                  2                    0   \n4                        25                  2                    0   \n...                     ...                ...                  ...   \n246618                    0                  2                    0   \n246619                    0                  2                    0   \n246620                    0                  2                    0   \n246621                  307                  2                    0   \n246622                  307                  2                    0   \n\n        srch_room_count  srch_saturday_night_bool  srch_query_affinity_score  \\\n0                     1                         1                        NaN   \n1                     1                         1                        NaN   \n2                     1                         1                        NaN   \n3                     1                         1                        NaN   \n4                     1                         0                        NaN   \n...                 ...                       ...                        ...   \n246618                1                         1                        NaN   \n246619                1                         1                        NaN   \n246620                1                         1                        NaN   \n246621                1                         0                        NaN   \n246622                1                         0                        NaN   \n\n        orig_destination_distance  random_bool  comp1_rate  comp1_inv  \\\n0                           43.34            0         NaN        NaN   \n1                         1520.03            0         NaN        NaN   \n2                          380.98            0         NaN        NaN   \n3                          413.83            1         NaN        NaN   \n4                             NaN            0         NaN        NaN   \n...                           ...          ...         ...        ...   \n246618                     313.11            0         NaN        NaN   \n246619                     313.10            0         NaN        NaN   \n246620                     311.58            0         NaN        NaN   \n246621                    1501.09            1         NaN        NaN   \n246622                    1501.04            1         NaN        NaN   \n\n        comp1_rate_percent_diff  comp2_rate  comp2_inv  \\\n0                           NaN         NaN        NaN   \n1                           NaN         NaN        NaN   \n2                           NaN         NaN        NaN   \n3                           NaN         NaN        NaN   \n4                           NaN         NaN        NaN   \n...                         ...         ...        ...   \n246618                      NaN         0.0        0.0   \n246619                      NaN         1.0        0.0   \n246620                      NaN         0.0        0.0   \n246621                      NaN         NaN        NaN   \n246622                      NaN         NaN        NaN   \n\n        comp2_rate_percent_diff  comp3_rate  comp3_inv  \\\n0                           NaN         NaN        NaN   \n1                           NaN         NaN        NaN   \n2                           NaN         NaN        NaN   \n3                           NaN         NaN        NaN   \n4                           NaN         NaN        NaN   \n...                         ...         ...        ...   \n246618                      NaN         NaN        NaN   \n246619                     11.0         NaN        NaN   \n246620                      NaN         NaN        NaN   \n246621                      NaN         NaN        NaN   \n246622                      NaN         NaN        NaN   \n\n        comp3_rate_percent_diff  comp4_rate  comp4_inv  \\\n0                           NaN         NaN        NaN   \n1                           NaN         NaN        NaN   \n2                           NaN         NaN        NaN   \n3                           NaN         NaN        NaN   \n4                           NaN         NaN        NaN   \n...                         ...         ...        ...   \n246618                      NaN         NaN        NaN   \n246619                      NaN         NaN        NaN   \n246620                      NaN         NaN        NaN   \n246621                      NaN         NaN        NaN   \n246622                      NaN         NaN        NaN   \n\n        comp4_rate_percent_diff  comp5_rate  comp5_inv  \\\n0                           NaN         0.0        0.0   \n1                           NaN         0.0        0.0   \n2                           NaN         NaN        NaN   \n3                           NaN         NaN        NaN   \n4                           NaN         0.0        0.0   \n...                         ...         ...        ...   \n246618                      NaN         NaN        NaN   \n246619                      NaN         NaN        NaN   \n246620                      NaN         1.0        0.0   \n246621                      NaN         NaN        NaN   \n246622                      NaN         NaN        NaN   \n\n        comp5_rate_percent_diff  comp6_rate  comp6_inv  \\\n0                           NaN         NaN        NaN   \n1                          12.0         NaN        NaN   \n2                           NaN         NaN        NaN   \n3                           NaN         NaN        NaN   \n4                           NaN         NaN        NaN   \n...                         ...         ...        ...   \n246618                      NaN         NaN        NaN   \n246619                      NaN         NaN        NaN   \n246620                     29.0         NaN        NaN   \n246621                      NaN         NaN        NaN   \n246622                      NaN         NaN        NaN   \n\n        comp6_rate_percent_diff  comp7_rate  comp7_inv  \\\n0                           NaN         NaN        NaN   \n1                           NaN         NaN        NaN   \n2                           NaN         NaN        NaN   \n3                           NaN         NaN        NaN   \n4                           NaN         NaN        NaN   \n...                         ...         ...        ...   \n246618                      NaN         NaN        NaN   \n246619                      NaN         NaN        NaN   \n246620                      NaN         NaN        NaN   \n246621                      NaN         NaN        NaN   \n246622                      NaN         NaN        NaN   \n\n        comp7_rate_percent_diff  comp8_rate  comp8_inv  \\\n0                           NaN         NaN        NaN   \n1                           NaN         0.0        0.0   \n2                           NaN         0.0        0.0   \n3                           NaN         NaN        NaN   \n4                           NaN         0.0        0.0   \n...                         ...         ...        ...   \n246618                      NaN         NaN        NaN   \n246619                      NaN         NaN        NaN   \n246620                      NaN         NaN        NaN   \n246621                      NaN         NaN        NaN   \n246622                      NaN         NaN        NaN   \n\n        comp8_rate_percent_diff  click_bool  gross_bookings_usd  booking_bool  \\\n0                           NaN           0                 NaN             0   \n1                           NaN           0                 NaN             0   \n2                           NaN           0                 NaN             0   \n3                           NaN           0                 NaN             0   \n4                           NaN           0                 NaN             0   \n...                         ...         ...                 ...           ...   \n246618                      NaN           0                 NaN             0   \n246619                      NaN           0                 NaN             0   \n246620                      NaN           0                 NaN             0   \n246621                      NaN           0                 NaN             0   \n246622                      NaN           0                 NaN             0   \n\n        prob_clickbook  prob_searchbook  prob_searchclick  in_train  \\\n0                  1.0         0.021505          0.021505       1.0   \n1                  1.0         0.021505          0.021505       1.0   \n2                  1.0         0.021505          0.021505       1.0   \n3                  1.0         0.021505          0.021505       1.0   \n4                  1.0         0.021505          0.021505       1.0   \n...                ...              ...               ...       ...   \n246618             1.0         0.083333          0.083333       1.0   \n246619             1.0         0.083333          0.083333       1.0   \n246620             0.0         0.000000          0.000000       1.0   \n246621             0.0         0.000000          0.000000       1.0   \n246622             0.0         0.000000          0.038462       1.0   \n\n        country_pct_rank  comp_mean_rate  comp_better_rate  comp_mean_inv  \\\n0               0.700000             0.0                 1            0.0   \n1               0.700000             0.0                 1            0.0   \n2               0.700000             0.0                 1            0.0   \n3               0.700000             0.0                 1            0.0   \n4               0.700000             0.0                 1            0.0   \n...                  ...             ...               ...            ...   \n246618          0.350000             0.0                 1            0.0   \n246619          0.350000             1.0                 1            0.0   \n246620          0.150000             0.5                 1            0.0   \n246621          0.071429             NaN                 0            NaN   \n246622          0.285714             NaN                 0            NaN   \n\n        comp_better_inv  price_change  desirability_score  percentile_of_day  \\\n0                     1      0.277972            0.001267           0.756227   \n1                     1     -0.068973            0.001267           0.555069   \n2                     1    119.000000            0.001267           0.618125   \n3                     1     -0.081331            0.001267           0.844502   \n4                     1     89.000000            0.001267           0.356435   \n...                 ...           ...                 ...                ...   \n246618                1     -0.379964            0.001267           0.309352   \n246619                1     -0.386638            0.001267           0.309352   \n246620                1     -0.119548            0.001267           0.309352   \n246621                0     -0.851316            0.001267           0.568194   \n246622                0      0.322673            0.001267           0.568194   \n\n        month  day_of_week  within_us  \n0           4            5          2  \n1           3            1         -1  \n2           6            5          2  \n3           4            5          2  \n4           6            5          2  \n...       ...          ...        ...  \n246618     11            3          2  \n246619     11            3          2  \n246620     11            3          2  \n246621      2            2          1  \n246622      2            2          1  \n\n[246623 rows x 70 columns]",
      "text/html": "<div>\n<style scoped>\n    .dataframe tbody tr th:only-of-type {\n        vertical-align: middle;\n    }\n\n    .dataframe tbody tr th {\n        vertical-align: top;\n    }\n\n    .dataframe thead th {\n        text-align: right;\n    }\n</style>\n<table border=\"1\" class=\"dataframe\">\n  <thead>\n    <tr style=\"text-align: right;\">\n      <th></th>\n      <th>Unnamed: 0</th>\n      <th>srch_id</th>\n      <th>date_time</th>\n      <th>site_id</th>\n      <th>visitor_location_country_id</th>\n      <th>visitor_hist_starrating</th>\n      <th>visitor_hist_adr_usd</th>\n      <th>prop_country_id</th>\n      <th>prop_id</th>\n      <th>prop_starrating</th>\n      <th>prop_review_score</th>\n      <th>prop_brand_bool</th>\n      <th>prop_location_score1</th>\n      <th>prop_location_score2</th>\n      <th>prop_log_historical_price</th>\n      <th>position</th>\n      <th>price_usd</th>\n      <th>promotion_flag</th>\n      <th>srch_destination_id</th>\n      <th>srch_length_of_stay</th>\n      <th>srch_booking_window</th>\n      <th>srch_adults_count</th>\n      <th>srch_children_count</th>\n      <th>srch_room_count</th>\n      <th>srch_saturday_night_bool</th>\n      <th>srch_query_affinity_score</th>\n      <th>orig_destination_distance</th>\n      <th>random_bool</th>\n      <th>comp1_rate</th>\n      <th>comp1_inv</th>\n      <th>comp1_rate_percent_diff</th>\n      <th>comp2_rate</th>\n      <th>comp2_inv</th>\n      <th>comp2_rate_percent_diff</th>\n      <th>comp3_rate</th>\n      <th>comp3_inv</th>\n      <th>comp3_rate_percent_diff</th>\n      <th>comp4_rate</th>\n      <th>comp4_inv</th>\n      <th>comp4_rate_percent_diff</th>\n      <th>comp5_rate</th>\n      <th>comp5_inv</th>\n      <th>comp5_rate_percent_diff</th>\n      <th>comp6_rate</th>\n      <th>comp6_inv</th>\n      <th>comp6_rate_percent_diff</th>\n      <th>comp7_rate</th>\n      <th>comp7_inv</th>\n      <th>comp7_rate_percent_diff</th>\n      <th>comp8_rate</th>\n      <th>comp8_inv</th>\n      <th>comp8_rate_percent_diff</th>\n      <th>click_bool</th>\n      <th>gross_bookings_usd</th>\n      <th>booking_bool</th>\n      <th>prob_clickbook</th>\n      <th>prob_searchbook</th>\n      <th>prob_searchclick</th>\n      <th>in_train</th>\n      <th>country_pct_rank</th>\n      <th>comp_mean_rate</th>\n      <th>comp_better_rate</th>\n      <th>comp_mean_inv</th>\n      <th>comp_better_inv</th>\n      <th>price_change</th>\n      <th>desirability_score</th>\n      <th>percentile_of_day</th>\n      <th>month</th>\n      <th>day_of_week</th>\n      <th>within_us</th>\n    </tr>\n  </thead>\n  <tbody>\n    <tr>\n      <th>0</th>\n      <td>371</td>\n      <td>39</td>\n      <td>2013-04-06 18:08:58</td>\n      <td>5</td>\n      <td>219</td>\n      <td>NaN</td>\n      <td>NaN</td>\n      <td>219</td>\n      <td>4426</td>\n      <td>3</td>\n      <td>4.0</td>\n      <td>1</td>\n      <td>1.61</td>\n      <td>NaN</td>\n      <td>4.66</td>\n      <td>9</td>\n      <td>135.00</td>\n      <td>0</td>\n      <td>24361</td>\n      <td>1</td>\n      <td>7</td>\n      <td>2</td>\n      <td>2</td>\n      <td>1</td>\n      <td>1</td>\n      <td>NaN</td>\n      <td>43.34</td>\n      <td>0</td>\n      <td>NaN</td>\n      <td>NaN</td>\n      <td>NaN</td>\n      <td>NaN</td>\n      <td>NaN</td>\n      <td>NaN</td>\n      <td>NaN</td>\n      <td>NaN</td>\n      <td>NaN</td>\n      <td>NaN</td>\n      <td>NaN</td>\n      <td>NaN</td>\n      <td>0.0</td>\n      <td>0.0</td>\n      <td>NaN</td>\n      <td>NaN</td>\n      <td>NaN</td>\n      <td>NaN</td>\n      <td>NaN</td>\n      <td>NaN</td>\n      <td>NaN</td>\n      <td>NaN</td>\n      <td>NaN</td>\n      <td>NaN</td>\n      <td>0</td>\n      <td>NaN</td>\n      <td>0</td>\n      <td>1.0</td>\n      <td>0.021505</td>\n      <td>0.021505</td>\n      <td>1.0</td>\n      <td>0.700000</td>\n      <td>0.0</td>\n      <td>1</td>\n      <td>0.0</td>\n      <td>1</td>\n      <td>0.277972</td>\n      <td>0.001267</td>\n      <td>0.756227</td>\n      <td>4</td>\n      <td>5</td>\n      <td>2</td>\n    </tr>\n    <tr>\n      <th>1</th>\n      <td>485026</td>\n      <td>32446</td>\n      <td>2013-03-05 13:19:18</td>\n      <td>14</td>\n      <td>100</td>\n      <td>NaN</td>\n      <td>NaN</td>\n      <td>219</td>\n      <td>4426</td>\n      <td>3</td>\n      <td>4.0</td>\n      <td>1</td>\n      <td>1.61</td>\n      <td>0.0415</td>\n      <td>4.66</td>\n      <td>18</td>\n      <td>98.35</td>\n      <td>0</td>\n      <td>17747</td>\n      <td>3</td>\n      <td>23</td>\n      <td>2</td>\n      <td>0</td>\n      <td>1</td>\n      <td>1</td>\n      <td>NaN</td>\n      <td>1520.03</td>\n      <td>0</td>\n      <td>NaN</td>\n      <td>NaN</td>\n      <td>NaN</td>\n      <td>NaN</td>\n      <td>NaN</td>\n      <td>NaN</td>\n      <td>NaN</td>\n      <td>NaN</td>\n      <td>NaN</td>\n      <td>NaN</td>\n      <td>NaN</td>\n      <td>NaN</td>\n      <td>0.0</td>\n      <td>0.0</td>\n      <td>12.0</td>\n      <td>NaN</td>\n      <td>NaN</td>\n      <td>NaN</td>\n      <td>NaN</td>\n      <td>NaN</td>\n      <td>NaN</td>\n      <td>0.0</td>\n      <td>0.0</td>\n      <td>NaN</td>\n      <td>0</td>\n      <td>NaN</td>\n      <td>0</td>\n      <td>1.0</td>\n      <td>0.021505</td>\n      <td>0.021505</td>\n      <td>1.0</td>\n      <td>0.700000</td>\n      <td>0.0</td>\n      <td>1</td>\n      <td>0.0</td>\n      <td>1</td>\n      <td>-0.068973</td>\n      <td>0.001267</td>\n      <td>0.555069</td>\n      <td>3</td>\n      <td>1</td>\n      <td>-1</td>\n    </tr>\n    <tr>\n      <th>2</th>\n      <td>1862780</td>\n      <td>125024</td>\n      <td>2013-06-29 14:50:06</td>\n      <td>5</td>\n      <td>219</td>\n      <td>NaN</td>\n      <td>NaN</td>\n      <td>219</td>\n      <td>4426</td>\n      <td>3</td>\n      <td>4.0</td>\n      <td>1</td>\n      <td>1.61</td>\n      <td>0.0415</td>\n      <td>0.00</td>\n      <td>4</td>\n      <td>120.00</td>\n      <td>0</td>\n      <td>17747</td>\n      <td>1</td>\n      <td>14</td>\n      <td>1</td>\n      <td>0</td>\n      <td>1</td>\n      <td>1</td>\n      <td>NaN</td>\n      <td>380.98</td>\n      <td>0</td>\n      <td>NaN</td>\n      <td>NaN</td>\n      <td>NaN</td>\n      <td>NaN</td>\n      <td>NaN</td>\n      <td>NaN</td>\n      <td>NaN</td>\n      <td>NaN</td>\n      <td>NaN</td>\n      <td>NaN</td>\n      <td>NaN</td>\n      <td>NaN</td>\n      <td>NaN</td>\n      <td>NaN</td>\n      <td>NaN</td>\n      <td>NaN</td>\n      <td>NaN</td>\n      <td>NaN</td>\n      <td>NaN</td>\n      <td>NaN</td>\n      <td>NaN</td>\n      <td>0.0</td>\n      <td>0.0</td>\n      <td>NaN</td>\n      <td>0</td>\n      <td>NaN</td>\n      <td>0</td>\n      <td>1.0</td>\n      <td>0.021505</td>\n      <td>0.021505</td>\n      <td>1.0</td>\n      <td>0.700000</td>\n      <td>0.0</td>\n      <td>1</td>\n      <td>0.0</td>\n      <td>1</td>\n      <td>119.000000</td>\n      <td>0.001267</td>\n      <td>0.618125</td>\n      <td>6</td>\n      <td>5</td>\n      <td>2</td>\n    </tr>\n    <tr>\n      <th>3</th>\n      <td>3834846</td>\n      <td>257454</td>\n      <td>2013-04-27 20:16:05</td>\n      <td>5</td>\n      <td>219</td>\n      <td>NaN</td>\n      <td>NaN</td>\n      <td>219</td>\n      <td>4426</td>\n      <td>3</td>\n      <td>4.0</td>\n      <td>1</td>\n      <td>1.61</td>\n      <td>0.0415</td>\n      <td>4.69</td>\n      <td>3</td>\n      <td>100.00</td>\n      <td>0</td>\n      <td>17747</td>\n      <td>4</td>\n      <td>14</td>\n      <td>2</td>\n      <td>0</td>\n      <td>1</td>\n      <td>1</td>\n      <td>NaN</td>\n      <td>413.83</td>\n      <td>1</td>\n      <td>NaN</td>\n      <td>NaN</td>\n      <td>NaN</td>\n      <td>NaN</td>\n      <td>NaN</td>\n      <td>NaN</td>\n      <td>NaN</td>\n      <td>NaN</td>\n      <td>NaN</td>\n      <td>NaN</td>\n      <td>NaN</td>\n      <td>NaN</td>\n      <td>NaN</td>\n      <td>NaN</td>\n      <td>NaN</td>\n      <td>NaN</td>\n      <td>NaN</td>\n      <td>NaN</td>\n      <td>NaN</td>\n      <td>NaN</td>\n      <td>NaN</td>\n      <td>NaN</td>\n      <td>NaN</td>\n      <td>NaN</td>\n      <td>0</td>\n      <td>NaN</td>\n      <td>0</td>\n      <td>1.0</td>\n      <td>0.021505</td>\n      <td>0.021505</td>\n      <td>1.0</td>\n      <td>0.700000</td>\n      <td>0.0</td>\n      <td>1</td>\n      <td>0.0</td>\n      <td>1</td>\n      <td>-0.081331</td>\n      <td>0.001267</td>\n      <td>0.844502</td>\n      <td>4</td>\n      <td>5</td>\n      <td>2</td>\n    </tr>\n    <tr>\n      <th>4</th>\n      <td>4785936</td>\n      <td>321113</td>\n      <td>2013-06-08 08:33:16</td>\n      <td>5</td>\n      <td>219</td>\n      <td>NaN</td>\n      <td>NaN</td>\n      <td>219</td>\n      <td>4426</td>\n      <td>3</td>\n      <td>4.0</td>\n      <td>1</td>\n      <td>1.61</td>\n      <td>0.5441</td>\n      <td>0.00</td>\n      <td>1</td>\n      <td>90.00</td>\n      <td>0</td>\n      <td>5352</td>\n      <td>4</td>\n      <td>25</td>\n      <td>2</td>\n      <td>0</td>\n      <td>1</td>\n      <td>0</td>\n      <td>NaN</td>\n      <td>NaN</td>\n      <td>0</td>\n      <td>NaN</td>\n      <td>NaN</td>\n      <td>NaN</td>\n      <td>NaN</td>\n      <td>NaN</td>\n      <td>NaN</td>\n      <td>NaN</td>\n      <td>NaN</td>\n      <td>NaN</td>\n      <td>NaN</td>\n      <td>NaN</td>\n      <td>NaN</td>\n      <td>0.0</td>\n      <td>0.0</td>\n      <td>NaN</td>\n      <td>NaN</td>\n      <td>NaN</td>\n      <td>NaN</td>\n      <td>NaN</td>\n      <td>NaN</td>\n      <td>NaN</td>\n      <td>0.0</td>\n      <td>0.0</td>\n      <td>NaN</td>\n      <td>0</td>\n      <td>NaN</td>\n      <td>0</td>\n      <td>1.0</td>\n      <td>0.021505</td>\n      <td>0.021505</td>\n      <td>1.0</td>\n      <td>0.700000</td>\n      <td>0.0</td>\n      <td>1</td>\n      <td>0.0</td>\n      <td>1</td>\n      <td>89.000000</td>\n      <td>0.001267</td>\n      <td>0.356435</td>\n      <td>6</td>\n      <td>5</td>\n      <td>2</td>\n    </tr>\n    <tr>\n      <th>...</th>\n      <td>...</td>\n      <td>...</td>\n      <td>...</td>\n      <td>...</td>\n      <td>...</td>\n      <td>...</td>\n      <td>...</td>\n      <td>...</td>\n      <td>...</td>\n      <td>...</td>\n      <td>...</td>\n      <td>...</td>\n      <td>...</td>\n      <td>...</td>\n      <td>...</td>\n      <td>...</td>\n      <td>...</td>\n      <td>...</td>\n      <td>...</td>\n      <td>...</td>\n      <td>...</td>\n      <td>...</td>\n      <td>...</td>\n      <td>...</td>\n      <td>...</td>\n      <td>...</td>\n      <td>...</td>\n      <td>...</td>\n      <td>...</td>\n      <td>...</td>\n      <td>...</td>\n      <td>...</td>\n      <td>...</td>\n      <td>...</td>\n      <td>...</td>\n      <td>...</td>\n      <td>...</td>\n      <td>...</td>\n      <td>...</td>\n      <td>...</td>\n      <td>...</td>\n      <td>...</td>\n      <td>...</td>\n      <td>...</td>\n      <td>...</td>\n      <td>...</td>\n      <td>...</td>\n      <td>...</td>\n      <td>...</td>\n      <td>...</td>\n      <td>...</td>\n      <td>...</td>\n      <td>...</td>\n      <td>...</td>\n      <td>...</td>\n      <td>...</td>\n      <td>...</td>\n      <td>...</td>\n      <td>...</td>\n      <td>...</td>\n      <td>...</td>\n      <td>...</td>\n      <td>...</td>\n      <td>...</td>\n      <td>...</td>\n      <td>...</td>\n      <td>...</td>\n      <td>...</td>\n      <td>...</td>\n      <td>...</td>\n    </tr>\n    <tr>\n      <th>246618</th>\n      <td>4948667</td>\n      <td>332126</td>\n      <td>2012-11-01 07:25:28</td>\n      <td>5</td>\n      <td>219</td>\n      <td>NaN</td>\n      <td>NaN</td>\n      <td>219</td>\n      <td>47322</td>\n      <td>0</td>\n      <td>3.5</td>\n      <td>1</td>\n      <td>2.64</td>\n      <td>NaN</td>\n      <td>4.39</td>\n      <td>31</td>\n      <td>50.00</td>\n      <td>0</td>\n      <td>10080</td>\n      <td>2</td>\n      <td>0</td>\n      <td>2</td>\n      <td>0</td>\n      <td>1</td>\n      <td>1</td>\n      <td>NaN</td>\n      <td>313.11</td>\n      <td>0</td>\n      <td>NaN</td>\n      <td>NaN</td>\n      <td>NaN</td>\n      <td>0.0</td>\n      <td>0.0</td>\n      <td>NaN</td>\n      <td>NaN</td>\n      <td>NaN</td>\n      <td>NaN</td>\n      <td>NaN</td>\n      <td>NaN</td>\n      <td>NaN</td>\n      <td>NaN</td>\n      <td>NaN</td>\n      <td>NaN</td>\n      <td>NaN</td>\n      <td>NaN</td>\n      <td>NaN</td>\n      <td>NaN</td>\n      <td>NaN</td>\n      <td>NaN</td>\n      <td>NaN</td>\n      <td>NaN</td>\n      <td>NaN</td>\n      <td>0</td>\n      <td>NaN</td>\n      <td>0</td>\n      <td>1.0</td>\n      <td>0.083333</td>\n      <td>0.083333</td>\n      <td>1.0</td>\n      <td>0.350000</td>\n      <td>0.0</td>\n      <td>1</td>\n      <td>0.0</td>\n      <td>1</td>\n      <td>-0.379964</td>\n      <td>0.001267</td>\n      <td>0.309352</td>\n      <td>11</td>\n      <td>3</td>\n      <td>2</td>\n    </tr>\n    <tr>\n      <th>246619</th>\n      <td>4948672</td>\n      <td>332126</td>\n      <td>2012-11-01 07:25:28</td>\n      <td>5</td>\n      <td>219</td>\n      <td>NaN</td>\n      <td>NaN</td>\n      <td>219</td>\n      <td>100864</td>\n      <td>0</td>\n      <td>3.5</td>\n      <td>1</td>\n      <td>2.64</td>\n      <td>NaN</td>\n      <td>4.25</td>\n      <td>30</td>\n      <td>43.00</td>\n      <td>0</td>\n      <td>10080</td>\n      <td>2</td>\n      <td>0</td>\n      <td>2</td>\n      <td>0</td>\n      <td>1</td>\n      <td>1</td>\n      <td>NaN</td>\n      <td>313.10</td>\n      <td>0</td>\n      <td>NaN</td>\n      <td>NaN</td>\n      <td>NaN</td>\n      <td>1.0</td>\n      <td>0.0</td>\n      <td>11.0</td>\n      <td>NaN</td>\n      <td>NaN</td>\n      <td>NaN</td>\n      <td>NaN</td>\n      <td>NaN</td>\n      <td>NaN</td>\n      <td>NaN</td>\n      <td>NaN</td>\n      <td>NaN</td>\n      <td>NaN</td>\n      <td>NaN</td>\n      <td>NaN</td>\n      <td>NaN</td>\n      <td>NaN</td>\n      <td>NaN</td>\n      <td>NaN</td>\n      <td>NaN</td>\n      <td>NaN</td>\n      <td>0</td>\n      <td>NaN</td>\n      <td>0</td>\n      <td>1.0</td>\n      <td>0.083333</td>\n      <td>0.083333</td>\n      <td>1.0</td>\n      <td>0.350000</td>\n      <td>1.0</td>\n      <td>1</td>\n      <td>0.0</td>\n      <td>1</td>\n      <td>-0.386638</td>\n      <td>0.001267</td>\n      <td>0.309352</td>\n      <td>11</td>\n      <td>3</td>\n      <td>2</td>\n    </tr>\n    <tr>\n      <th>246620</th>\n      <td>4948675</td>\n      <td>332126</td>\n      <td>2012-11-01 07:25:28</td>\n      <td>5</td>\n      <td>219</td>\n      <td>NaN</td>\n      <td>NaN</td>\n      <td>219</td>\n      <td>110271</td>\n      <td>0</td>\n      <td>1.5</td>\n      <td>1</td>\n      <td>1.61</td>\n      <td>NaN</td>\n      <td>4.39</td>\n      <td>32</td>\n      <td>71.00</td>\n      <td>0</td>\n      <td>10080</td>\n      <td>2</td>\n      <td>0</td>\n      <td>2</td>\n      <td>0</td>\n      <td>1</td>\n      <td>1</td>\n      <td>NaN</td>\n      <td>311.58</td>\n      <td>0</td>\n      <td>NaN</td>\n      <td>NaN</td>\n      <td>NaN</td>\n      <td>0.0</td>\n      <td>0.0</td>\n      <td>NaN</td>\n      <td>NaN</td>\n      <td>NaN</td>\n      <td>NaN</td>\n      <td>NaN</td>\n      <td>NaN</td>\n      <td>NaN</td>\n      <td>1.0</td>\n      <td>0.0</td>\n      <td>29.0</td>\n      <td>NaN</td>\n      <td>NaN</td>\n      <td>NaN</td>\n      <td>NaN</td>\n      <td>NaN</td>\n      <td>NaN</td>\n      <td>NaN</td>\n      <td>NaN</td>\n      <td>NaN</td>\n      <td>0</td>\n      <td>NaN</td>\n      <td>0</td>\n      <td>0.0</td>\n      <td>0.000000</td>\n      <td>0.000000</td>\n      <td>1.0</td>\n      <td>0.150000</td>\n      <td>0.5</td>\n      <td>1</td>\n      <td>0.0</td>\n      <td>1</td>\n      <td>-0.119548</td>\n      <td>0.001267</td>\n      <td>0.309352</td>\n      <td>11</td>\n      <td>3</td>\n      <td>2</td>\n    </tr>\n    <tr>\n      <th>246621</th>\n      <td>4956913</td>\n      <td>332668</td>\n      <td>2013-02-20 13:38:12</td>\n      <td>5</td>\n      <td>219</td>\n      <td>NaN</td>\n      <td>NaN</td>\n      <td>27</td>\n      <td>32070</td>\n      <td>0</td>\n      <td>0.0</td>\n      <td>0</td>\n      <td>3.50</td>\n      <td>0.0113</td>\n      <td>6.21</td>\n      <td>24</td>\n      <td>74.00</td>\n      <td>0</td>\n      <td>18945</td>\n      <td>6</td>\n      <td>307</td>\n      <td>2</td>\n      <td>0</td>\n      <td>1</td>\n      <td>0</td>\n      <td>NaN</td>\n      <td>1501.09</td>\n      <td>1</td>\n      <td>NaN</td>\n      <td>NaN</td>\n      <td>NaN</td>\n      <td>NaN</td>\n      <td>NaN</td>\n      <td>NaN</td>\n      <td>NaN</td>\n      <td>NaN</td>\n      <td>NaN</td>\n      <td>NaN</td>\n      <td>NaN</td>\n      <td>NaN</td>\n      <td>NaN</td>\n      <td>NaN</td>\n      <td>NaN</td>\n      <td>NaN</td>\n      <td>NaN</td>\n      <td>NaN</td>\n      <td>NaN</td>\n      <td>NaN</td>\n      <td>NaN</td>\n      <td>NaN</td>\n      <td>NaN</td>\n      <td>NaN</td>\n      <td>0</td>\n      <td>NaN</td>\n      <td>0</td>\n      <td>0.0</td>\n      <td>0.000000</td>\n      <td>0.000000</td>\n      <td>1.0</td>\n      <td>0.071429</td>\n      <td>NaN</td>\n      <td>0</td>\n      <td>NaN</td>\n      <td>0</td>\n      <td>-0.851316</td>\n      <td>0.001267</td>\n      <td>0.568194</td>\n      <td>2</td>\n      <td>2</td>\n      <td>1</td>\n    </tr>\n    <tr>\n      <th>246622</th>\n      <td>4956921</td>\n      <td>332668</td>\n      <td>2013-02-20 13:38:12</td>\n      <td>5</td>\n      <td>219</td>\n      <td>NaN</td>\n      <td>NaN</td>\n      <td>27</td>\n      <td>76218</td>\n      <td>0</td>\n      <td>4.0</td>\n      <td>0</td>\n      <td>3.53</td>\n      <td>0.0108</td>\n      <td>3.91</td>\n      <td>25</td>\n      <td>66.00</td>\n      <td>0</td>\n      <td>18945</td>\n      <td>6</td>\n      <td>307</td>\n      <td>2</td>\n      <td>0</td>\n      <td>1</td>\n      <td>0</td>\n      <td>NaN</td>\n      <td>1501.04</td>\n      <td>1</td>\n      <td>NaN</td>\n      <td>NaN</td>\n      <td>NaN</td>\n      <td>NaN</td>\n      <td>NaN</td>\n      <td>NaN</td>\n      <td>NaN</td>\n      <td>NaN</td>\n      <td>NaN</td>\n      <td>NaN</td>\n      <td>NaN</td>\n      <td>NaN</td>\n      <td>NaN</td>\n      <td>NaN</td>\n      <td>NaN</td>\n      <td>NaN</td>\n      <td>NaN</td>\n      <td>NaN</td>\n      <td>NaN</td>\n      <td>NaN</td>\n      <td>NaN</td>\n      <td>NaN</td>\n      <td>NaN</td>\n      <td>NaN</td>\n      <td>0</td>\n      <td>NaN</td>\n      <td>0</td>\n      <td>0.0</td>\n      <td>0.000000</td>\n      <td>0.038462</td>\n      <td>1.0</td>\n      <td>0.285714</td>\n      <td>NaN</td>\n      <td>0</td>\n      <td>NaN</td>\n      <td>0</td>\n      <td>0.322673</td>\n      <td>0.001267</td>\n      <td>0.568194</td>\n      <td>2</td>\n      <td>2</td>\n      <td>1</td>\n    </tr>\n  </tbody>\n</table>\n<p>246623 rows × 70 columns</p>\n</div>"
     },
     "execution_count": 72,
     "metadata": {},
     "output_type": "execute_result"
    }
   ],
   "source": [
    "df_test"
   ],
   "metadata": {
    "collapsed": false,
    "pycharm": {
     "name": "#%%\n"
    }
   }
  },
  {
   "cell_type": "code",
   "execution_count": 73,
   "outputs": [],
   "source": [
    "# df_test.drop(columns=rate_cols+inv_cols+rate_perc_cols+[\"date_time\"], inplace=True)"
   ],
   "metadata": {
    "collapsed": false,
    "pycharm": {
     "name": "#%%\n"
    }
   }
  },
  {
   "cell_type": "code",
   "execution_count": 74,
   "outputs": [
    {
     "data": {
      "text/plain": "-4712560"
     },
     "execution_count": 74,
     "metadata": {},
     "output_type": "execute_result"
    }
   ],
   "source": [
    "len(df_test) - 4959183"
   ],
   "metadata": {
    "collapsed": false,
    "pycharm": {
     "name": "#%%\n"
    }
   }
  },
  {
   "cell_type": "code",
   "execution_count": 75,
   "outputs": [
    {
     "data": {
      "text/plain": "array([], dtype=object)"
     },
     "execution_count": 75,
     "metadata": {},
     "output_type": "execute_result"
    }
   ],
   "source": [
    "# both datasets have all the added columns\n",
    "np.setdiff1d(df_train.columns, df_test.columns)"
   ],
   "metadata": {
    "collapsed": false,
    "pycharm": {
     "name": "#%%\n"
    }
   }
  },
  {
   "cell_type": "code",
   "execution_count": 76,
   "outputs": [],
   "source": [
    "# df_test.to_csv(\"data/FE_test_set.csv\")\n",
    "df_test.to_csv(\"data/train_test_FE.csv\")"
   ],
   "metadata": {
    "collapsed": false,
    "pycharm": {
     "name": "#%%\n"
    }
   }
  },
  {
   "cell_type": "code",
   "execution_count": 58,
   "metadata": {},
   "outputs": [],
   "source": []
  }
 ],
 "metadata": {
  "kernelspec": {
   "display_name": "Python 3 (ipykernel)",
   "language": "python",
   "name": "python3"
  },
  "language_info": {
   "codemirror_mode": {
    "name": "ipython",
    "version": 3
   },
   "file_extension": ".py",
   "mimetype": "text/x-python",
   "name": "python",
   "nbconvert_exporter": "python",
   "pygments_lexer": "ipython3",
   "version": "3.11.3"
  }
 },
 "nbformat": 4,
 "nbformat_minor": 1
}