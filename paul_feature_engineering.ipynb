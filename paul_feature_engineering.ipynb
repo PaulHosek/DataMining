{
 "cells": [
  {
   "cell_type": "code",
   "execution_count": 1,
   "metadata": {
    "collapsed": true,
    "pycharm": {
     "name": "#%%\n"
    }
   },
   "outputs": [],
   "source": [
    "import dask.dataframe as dd\n",
    "import pandas as pd\n",
    "import matplotlib.pyplot as plt\n",
    "# import hvplot.dask\n",
    "import numpy as np\n",
    "import dask.array as da\n",
    "import pickle\n",
    "import seaborn as sns"
   ]
  },
  {
   "cell_type": "markdown",
   "source": [
    "Additional features\n",
    "\n",
    "- base rate booking -> # booked / # found\n",
    "- best hotel for location\n",
    "- aggregate competitor information\n",
    "  - better or equal vs. worse\n",
    "  - drop non-percentage difference\n",
    "- expected position\n",
    "- reduce children to binary flag?\n",
    "\n",
    "- do factor analysis?\n",
    "\n",
    "\n",
    "###### stuff that were important features for others\n",
    "\n",
    " 09 : hotel's historical price - current price\n",
    "data[\"ump\"] = exp(prop_log_historical_price) - price_usd\n",
    "12 :\n",
    "data[\"score2ma\"] = prop_location_score2 * srch_query_affinity_score\n",
    " 13 :\n",
    "data[\"score1d2\"] = (prop_location_score2 + 0.0001)/(prop_location_score1 + 0.0001)\n",
    "\n",
    "data[\"fee_per_person\"] = (price_usd * srch_room_count)/(srch_adults_count + srch_children_count)\n",
    "\n",
    "- categorical to one-hot encoding"
   ],
   "metadata": {
    "collapsed": false,
    "pycharm": {
     "name": "#%% md\n"
    }
   }
  },
  {
   "cell_type": "code",
   "execution_count": 105,
   "outputs": [],
   "source": [
    "df = pd.read_csv(\"data/training_set_VU_DM.csv\")"
   ],
   "metadata": {
    "collapsed": false,
    "pycharm": {
     "name": "#%%\n"
    }
   }
  },
  {
   "cell_type": "code",
   "execution_count": 109,
   "outputs": [
    {
     "data": {
      "text/plain": "        prop_id  prob_clickbook\n0             1             0.0\n1             2             1.0\n2             3             1.0\n3             4             1.0\n4             5             0.0\n...         ...             ...\n129108   140817             0.0\n129109   140818             0.0\n129110   140819             0.0\n129111   140820             0.0\n129112   140821             1.0\n\n[129113 rows x 2 columns]",
      "text/html": "<div>\n<style scoped>\n    .dataframe tbody tr th:only-of-type {\n        vertical-align: middle;\n    }\n\n    .dataframe tbody tr th {\n        vertical-align: top;\n    }\n\n    .dataframe thead th {\n        text-align: right;\n    }\n</style>\n<table border=\"1\" class=\"dataframe\">\n  <thead>\n    <tr style=\"text-align: right;\">\n      <th></th>\n      <th>prop_id</th>\n      <th>prob_clickbook</th>\n    </tr>\n  </thead>\n  <tbody>\n    <tr>\n      <th>0</th>\n      <td>1</td>\n      <td>0.0</td>\n    </tr>\n    <tr>\n      <th>1</th>\n      <td>2</td>\n      <td>1.0</td>\n    </tr>\n    <tr>\n      <th>2</th>\n      <td>3</td>\n      <td>1.0</td>\n    </tr>\n    <tr>\n      <th>3</th>\n      <td>4</td>\n      <td>1.0</td>\n    </tr>\n    <tr>\n      <th>4</th>\n      <td>5</td>\n      <td>0.0</td>\n    </tr>\n    <tr>\n      <th>...</th>\n      <td>...</td>\n      <td>...</td>\n    </tr>\n    <tr>\n      <th>129108</th>\n      <td>140817</td>\n      <td>0.0</td>\n    </tr>\n    <tr>\n      <th>129109</th>\n      <td>140818</td>\n      <td>0.0</td>\n    </tr>\n    <tr>\n      <th>129110</th>\n      <td>140819</td>\n      <td>0.0</td>\n    </tr>\n    <tr>\n      <th>129111</th>\n      <td>140820</td>\n      <td>0.0</td>\n    </tr>\n    <tr>\n      <th>129112</th>\n      <td>140821</td>\n      <td>1.0</td>\n    </tr>\n  </tbody>\n</table>\n<p>129113 rows × 2 columns</p>\n</div>"
     },
     "execution_count": 109,
     "metadata": {},
     "output_type": "execute_result"
    }
   ],
   "source": [
    "# 1. Base rate booking column\n",
    "grouped_hotels = df.groupby(\"prop_id\").sum(numeric_only=True)\n",
    "temp = pd.DataFrame()\n",
    "temp[\"prob_clickbook\"] = grouped_hotels[\"booking_bool\"]/ grouped_hotels[\"click_bool\"]\n",
    "temp.fillna(0,inplace=True)\n",
    "temp =temp.reset_index()\n",
    "df = df.merge(temp, on=\"prop_id\")\n",
    "del temp"
   ],
   "metadata": {
    "collapsed": false,
    "pycharm": {
     "name": "#%%\n"
    }
   }
  },
  {
   "cell_type": "code",
   "execution_count": 117,
   "outputs": [
    {
     "name": "stderr",
     "output_type": "stream",
     "text": [
      "/var/folders/z9/j9843dsj2t5dsl2bv81xcwww0000gn/T/ipykernel_30801/574121879.py:4: SettingWithCopyWarning: \n",
      "A value is trying to be set on a copy of a slice from a DataFrame.\n",
      "Try using .loc[row_indexer,col_indexer] = value instead\n",
      "\n",
      "See the caveats in the documentation: https://pandas.pydata.org/pandas-docs/stable/user_guide/indexing.html#returning-a-view-versus-a-copy\n",
      "  temp[\"total_score\"] = temp.loc[:,\"prop_starrating\"] + temp.loc[:,\"prop_review_score\"]\n",
      "/var/folders/z9/j9843dsj2t5dsl2bv81xcwww0000gn/T/ipykernel_30801/574121879.py:5: SettingWithCopyWarning: \n",
      "A value is trying to be set on a copy of a slice from a DataFrame.\n",
      "Try using .loc[row_indexer,col_indexer] = value instead\n",
      "\n",
      "See the caveats in the documentation: https://pandas.pydata.org/pandas-docs/stable/user_guide/indexing.html#returning-a-view-versus-a-copy\n",
      "  temp[\"country_pct_rank\"] = temp.groupby(\"prop_country_id\")[\"total_score\"].rank(method=\"dense\", ascending=True,pct=True)\n"
     ]
    }
   ],
   "source": [
    "# 2. Percentile rank of hotel in its country\n",
    "grouped_hotels = df.groupby([\"prop_id\",\"prop_country_id\"]).mean(numeric_only=True).reset_index()\n",
    "temp = grouped_hotels[[\"prop_starrating\", \"prop_review_score\",\"prop_id\",\"prop_country_id\"]]\n",
    "temp[\"total_score\"] = temp.loc[:,\"prop_starrating\"] + temp.loc[:,\"prop_review_score\"]\n",
    "temp[\"country_pct_rank\"] = temp.groupby(\"prop_country_id\")[\"total_score\"].rank(method=\"dense\", ascending=True,pct=True)\n",
    "temp = temp[[\"prop_id\",\"country_pct_rank\"]]\n",
    "df = df.merge(temp, on=\"prop_id\")"
   ],
   "metadata": {
    "collapsed": false,
    "pycharm": {
     "name": "#%%\n"
    }
   }
  },
  {
   "cell_type": "code",
   "execution_count": 113,
   "outputs": [],
   "source": [],
   "metadata": {
    "collapsed": false,
    "pycharm": {
     "name": "#%%\n"
    }
   }
  },
  {
   "cell_type": "code",
   "execution_count": 115,
   "outputs": [],
   "source": [],
   "metadata": {
    "collapsed": false,
    "pycharm": {
     "name": "#%%\n"
    }
   }
  },
  {
   "cell_type": "code",
   "execution_count": 108,
   "outputs": [
    {
     "data": {
      "text/plain": "Index(['srch_id', 'date_time', 'site_id', 'visitor_location_country_id',\n       'visitor_hist_starrating', 'visitor_hist_adr_usd', 'prop_country_id',\n       'prop_id', 'prop_starrating', 'prop_review_score', 'prop_brand_bool',\n       'prop_location_score1', 'prop_location_score2',\n       'prop_log_historical_price', 'position', 'price_usd', 'promotion_flag',\n       'srch_destination_id', 'srch_length_of_stay', 'srch_booking_window',\n       'srch_adults_count', 'srch_children_count', 'srch_room_count',\n       'srch_saturday_night_bool', 'srch_query_affinity_score',\n       'orig_destination_distance', 'random_bool', 'comp1_rate', 'comp1_inv',\n       'comp1_rate_percent_diff', 'comp2_rate', 'comp2_inv',\n       'comp2_rate_percent_diff', 'comp3_rate', 'comp3_inv',\n       'comp3_rate_percent_diff', 'comp4_rate', 'comp4_inv',\n       'comp4_rate_percent_diff', 'comp5_rate', 'comp5_inv',\n       'comp5_rate_percent_diff', 'comp6_rate', 'comp6_inv',\n       'comp6_rate_percent_diff', 'comp7_rate', 'comp7_inv',\n       'comp7_rate_percent_diff', 'comp8_rate', 'comp8_inv',\n       'comp8_rate_percent_diff', 'click_bool', 'gross_bookings_usd',\n       'booking_bool', 'prob_clickbook'],\n      dtype='object')"
     },
     "execution_count": 108,
     "metadata": {},
     "output_type": "execute_result"
    }
   ],
   "source": [
    "df.columns"
   ],
   "metadata": {
    "collapsed": false,
    "pycharm": {
     "name": "#%%\n"
    }
   }
  },
  {
   "cell_type": "code",
   "execution_count": 116,
   "outputs": [
    {
     "data": {
      "text/plain": "         srch_id            date_time  site_id  visitor_location_country_id  \\\n0              1  2013-04-04 08:32:15       12                          187   \n1            498  2012-12-23 11:32:22       32                          220   \n2            896  2013-05-09 22:14:57        5                            2   \n3           1495  2013-04-24 02:24:02        5                          219   \n4           2052  2013-01-11 08:10:27        5                          219   \n...          ...                  ...      ...                          ...   \n4958342   332713  2013-04-15 20:51:59       12                           99   \n4958343   332713  2013-04-15 20:51:59       12                           99   \n4958344   332713  2013-04-15 20:51:59       12                           99   \n4958345   332740  2013-02-18 12:17:59       12                           99   \n4958346   332740  2013-02-18 12:17:59       12                           99   \n\n         visitor_hist_starrating  visitor_hist_adr_usd  prop_country_id  \\\n0                            NaN                   NaN              219   \n1                            NaN                   NaN              219   \n2                            NaN                   NaN              219   \n3                            NaN                   NaN              219   \n4                            NaN                   NaN              219   \n...                          ...                   ...              ...   \n4958342                      NaN                   NaN               99   \n4958343                      NaN                   NaN               99   \n4958344                      NaN                   NaN               99   \n4958345                      NaN                   NaN               99   \n4958346                      NaN                   NaN               99   \n\n         prop_id  prop_starrating  prop_review_score  ...  comp7_inv  \\\n0            893                3                3.5  ...        NaN   \n1            893                3                3.5  ...        NaN   \n2            893                3                3.5  ...        NaN   \n3            893                3                3.5  ...        NaN   \n4            893                3                3.5  ...        NaN   \n...          ...              ...                ...  ...        ...   \n4958342    93842                3                4.0  ...        NaN   \n4958343   103277                3                5.0  ...        NaN   \n4958344   135856                4                3.5  ...        NaN   \n4958345     2284                0                0.0  ...        NaN   \n4958346    87173                3                4.0  ...        NaN   \n\n         comp7_rate_percent_diff  comp8_rate  comp8_inv  \\\n0                            NaN         0.0        0.0   \n1                            NaN         0.0        0.0   \n2                            NaN         0.0        0.0   \n3                            NaN         NaN        NaN   \n4                            NaN        -1.0        0.0   \n...                          ...         ...        ...   \n4958342                      NaN         NaN        NaN   \n4958343                      NaN         NaN        NaN   \n4958344                      NaN         NaN        NaN   \n4958345                      NaN         NaN        NaN   \n4958346                      NaN         NaN        NaN   \n\n         comp8_rate_percent_diff  click_bool  gross_bookings_usd  \\\n0                            NaN           0                 NaN   \n1                            NaN           0                 NaN   \n2                            NaN           0                 NaN   \n3                            NaN           0                 NaN   \n4                            6.0           0                 NaN   \n...                          ...         ...                 ...   \n4958342                      NaN           0                 NaN   \n4958343                      NaN           0                 NaN   \n4958344                      NaN           0                 NaN   \n4958345                      NaN           0                 NaN   \n4958346                      NaN           0                 NaN   \n\n         booking_bool  prob_clickbook  country_pct_rank  \n0                   0           0.625              0.65  \n1                   0           0.625              0.65  \n2                   0           0.625              0.65  \n3                   0           0.625              0.65  \n4                   0           0.625              0.65  \n...               ...             ...               ...  \n4958342             0           0.000              0.70  \n4958343             0           0.000              0.80  \n4958344             0           0.000              0.75  \n4958345             0           0.000              0.05  \n4958346             0           0.000              0.70  \n\n[4958347 rows x 56 columns]",
      "text/html": "<div>\n<style scoped>\n    .dataframe tbody tr th:only-of-type {\n        vertical-align: middle;\n    }\n\n    .dataframe tbody tr th {\n        vertical-align: top;\n    }\n\n    .dataframe thead th {\n        text-align: right;\n    }\n</style>\n<table border=\"1\" class=\"dataframe\">\n  <thead>\n    <tr style=\"text-align: right;\">\n      <th></th>\n      <th>srch_id</th>\n      <th>date_time</th>\n      <th>site_id</th>\n      <th>visitor_location_country_id</th>\n      <th>visitor_hist_starrating</th>\n      <th>visitor_hist_adr_usd</th>\n      <th>prop_country_id</th>\n      <th>prop_id</th>\n      <th>prop_starrating</th>\n      <th>prop_review_score</th>\n      <th>...</th>\n      <th>comp7_inv</th>\n      <th>comp7_rate_percent_diff</th>\n      <th>comp8_rate</th>\n      <th>comp8_inv</th>\n      <th>comp8_rate_percent_diff</th>\n      <th>click_bool</th>\n      <th>gross_bookings_usd</th>\n      <th>booking_bool</th>\n      <th>prob_clickbook</th>\n      <th>country_pct_rank</th>\n    </tr>\n  </thead>\n  <tbody>\n    <tr>\n      <th>0</th>\n      <td>1</td>\n      <td>2013-04-04 08:32:15</td>\n      <td>12</td>\n      <td>187</td>\n      <td>NaN</td>\n      <td>NaN</td>\n      <td>219</td>\n      <td>893</td>\n      <td>3</td>\n      <td>3.5</td>\n      <td>...</td>\n      <td>NaN</td>\n      <td>NaN</td>\n      <td>0.0</td>\n      <td>0.0</td>\n      <td>NaN</td>\n      <td>0</td>\n      <td>NaN</td>\n      <td>0</td>\n      <td>0.625</td>\n      <td>0.65</td>\n    </tr>\n    <tr>\n      <th>1</th>\n      <td>498</td>\n      <td>2012-12-23 11:32:22</td>\n      <td>32</td>\n      <td>220</td>\n      <td>NaN</td>\n      <td>NaN</td>\n      <td>219</td>\n      <td>893</td>\n      <td>3</td>\n      <td>3.5</td>\n      <td>...</td>\n      <td>NaN</td>\n      <td>NaN</td>\n      <td>0.0</td>\n      <td>0.0</td>\n      <td>NaN</td>\n      <td>0</td>\n      <td>NaN</td>\n      <td>0</td>\n      <td>0.625</td>\n      <td>0.65</td>\n    </tr>\n    <tr>\n      <th>2</th>\n      <td>896</td>\n      <td>2013-05-09 22:14:57</td>\n      <td>5</td>\n      <td>2</td>\n      <td>NaN</td>\n      <td>NaN</td>\n      <td>219</td>\n      <td>893</td>\n      <td>3</td>\n      <td>3.5</td>\n      <td>...</td>\n      <td>NaN</td>\n      <td>NaN</td>\n      <td>0.0</td>\n      <td>0.0</td>\n      <td>NaN</td>\n      <td>0</td>\n      <td>NaN</td>\n      <td>0</td>\n      <td>0.625</td>\n      <td>0.65</td>\n    </tr>\n    <tr>\n      <th>3</th>\n      <td>1495</td>\n      <td>2013-04-24 02:24:02</td>\n      <td>5</td>\n      <td>219</td>\n      <td>NaN</td>\n      <td>NaN</td>\n      <td>219</td>\n      <td>893</td>\n      <td>3</td>\n      <td>3.5</td>\n      <td>...</td>\n      <td>NaN</td>\n      <td>NaN</td>\n      <td>NaN</td>\n      <td>NaN</td>\n      <td>NaN</td>\n      <td>0</td>\n      <td>NaN</td>\n      <td>0</td>\n      <td>0.625</td>\n      <td>0.65</td>\n    </tr>\n    <tr>\n      <th>4</th>\n      <td>2052</td>\n      <td>2013-01-11 08:10:27</td>\n      <td>5</td>\n      <td>219</td>\n      <td>NaN</td>\n      <td>NaN</td>\n      <td>219</td>\n      <td>893</td>\n      <td>3</td>\n      <td>3.5</td>\n      <td>...</td>\n      <td>NaN</td>\n      <td>NaN</td>\n      <td>-1.0</td>\n      <td>0.0</td>\n      <td>6.0</td>\n      <td>0</td>\n      <td>NaN</td>\n      <td>0</td>\n      <td>0.625</td>\n      <td>0.65</td>\n    </tr>\n    <tr>\n      <th>...</th>\n      <td>...</td>\n      <td>...</td>\n      <td>...</td>\n      <td>...</td>\n      <td>...</td>\n      <td>...</td>\n      <td>...</td>\n      <td>...</td>\n      <td>...</td>\n      <td>...</td>\n      <td>...</td>\n      <td>...</td>\n      <td>...</td>\n      <td>...</td>\n      <td>...</td>\n      <td>...</td>\n      <td>...</td>\n      <td>...</td>\n      <td>...</td>\n      <td>...</td>\n      <td>...</td>\n    </tr>\n    <tr>\n      <th>4958342</th>\n      <td>332713</td>\n      <td>2013-04-15 20:51:59</td>\n      <td>12</td>\n      <td>99</td>\n      <td>NaN</td>\n      <td>NaN</td>\n      <td>99</td>\n      <td>93842</td>\n      <td>3</td>\n      <td>4.0</td>\n      <td>...</td>\n      <td>NaN</td>\n      <td>NaN</td>\n      <td>NaN</td>\n      <td>NaN</td>\n      <td>NaN</td>\n      <td>0</td>\n      <td>NaN</td>\n      <td>0</td>\n      <td>0.000</td>\n      <td>0.70</td>\n    </tr>\n    <tr>\n      <th>4958343</th>\n      <td>332713</td>\n      <td>2013-04-15 20:51:59</td>\n      <td>12</td>\n      <td>99</td>\n      <td>NaN</td>\n      <td>NaN</td>\n      <td>99</td>\n      <td>103277</td>\n      <td>3</td>\n      <td>5.0</td>\n      <td>...</td>\n      <td>NaN</td>\n      <td>NaN</td>\n      <td>NaN</td>\n      <td>NaN</td>\n      <td>NaN</td>\n      <td>0</td>\n      <td>NaN</td>\n      <td>0</td>\n      <td>0.000</td>\n      <td>0.80</td>\n    </tr>\n    <tr>\n      <th>4958344</th>\n      <td>332713</td>\n      <td>2013-04-15 20:51:59</td>\n      <td>12</td>\n      <td>99</td>\n      <td>NaN</td>\n      <td>NaN</td>\n      <td>99</td>\n      <td>135856</td>\n      <td>4</td>\n      <td>3.5</td>\n      <td>...</td>\n      <td>NaN</td>\n      <td>NaN</td>\n      <td>NaN</td>\n      <td>NaN</td>\n      <td>NaN</td>\n      <td>0</td>\n      <td>NaN</td>\n      <td>0</td>\n      <td>0.000</td>\n      <td>0.75</td>\n    </tr>\n    <tr>\n      <th>4958345</th>\n      <td>332740</td>\n      <td>2013-02-18 12:17:59</td>\n      <td>12</td>\n      <td>99</td>\n      <td>NaN</td>\n      <td>NaN</td>\n      <td>99</td>\n      <td>2284</td>\n      <td>0</td>\n      <td>0.0</td>\n      <td>...</td>\n      <td>NaN</td>\n      <td>NaN</td>\n      <td>NaN</td>\n      <td>NaN</td>\n      <td>NaN</td>\n      <td>0</td>\n      <td>NaN</td>\n      <td>0</td>\n      <td>0.000</td>\n      <td>0.05</td>\n    </tr>\n    <tr>\n      <th>4958346</th>\n      <td>332740</td>\n      <td>2013-02-18 12:17:59</td>\n      <td>12</td>\n      <td>99</td>\n      <td>NaN</td>\n      <td>NaN</td>\n      <td>99</td>\n      <td>87173</td>\n      <td>3</td>\n      <td>4.0</td>\n      <td>...</td>\n      <td>NaN</td>\n      <td>NaN</td>\n      <td>NaN</td>\n      <td>NaN</td>\n      <td>NaN</td>\n      <td>0</td>\n      <td>NaN</td>\n      <td>0</td>\n      <td>0.000</td>\n      <td>0.70</td>\n    </tr>\n  </tbody>\n</table>\n<p>4958347 rows × 56 columns</p>\n</div>"
     },
     "execution_count": 116,
     "metadata": {},
     "output_type": "execute_result"
    }
   ],
   "source": [
    "df"
   ],
   "metadata": {
    "collapsed": false,
    "pycharm": {
     "name": "#%%\n"
    }
   }
  },
  {
   "cell_type": "code",
   "execution_count": 104,
   "outputs": [
    {
     "data": {
      "text/plain": "         rank  total_score\n21605   0.250          3.5\n36974   0.875          8.0\n38545   0.625          5.5\n49410   0.750          7.5\n57968   0.875          8.0\n66938   0.500          5.0\n79621   0.125          2.0\n80181   1.000          9.5\n103266  0.375          4.0\n112923  0.375          4.0\n117547  0.500          5.0",
      "text/html": "<div>\n<style scoped>\n    .dataframe tbody tr th:only-of-type {\n        vertical-align: middle;\n    }\n\n    .dataframe tbody tr th {\n        vertical-align: top;\n    }\n\n    .dataframe thead th {\n        text-align: right;\n    }\n</style>\n<table border=\"1\" class=\"dataframe\">\n  <thead>\n    <tr style=\"text-align: right;\">\n      <th></th>\n      <th>rank</th>\n      <th>total_score</th>\n    </tr>\n  </thead>\n  <tbody>\n    <tr>\n      <th>21605</th>\n      <td>0.250</td>\n      <td>3.5</td>\n    </tr>\n    <tr>\n      <th>36974</th>\n      <td>0.875</td>\n      <td>8.0</td>\n    </tr>\n    <tr>\n      <th>38545</th>\n      <td>0.625</td>\n      <td>5.5</td>\n    </tr>\n    <tr>\n      <th>49410</th>\n      <td>0.750</td>\n      <td>7.5</td>\n    </tr>\n    <tr>\n      <th>57968</th>\n      <td>0.875</td>\n      <td>8.0</td>\n    </tr>\n    <tr>\n      <th>66938</th>\n      <td>0.500</td>\n      <td>5.0</td>\n    </tr>\n    <tr>\n      <th>79621</th>\n      <td>0.125</td>\n      <td>2.0</td>\n    </tr>\n    <tr>\n      <th>80181</th>\n      <td>1.000</td>\n      <td>9.5</td>\n    </tr>\n    <tr>\n      <th>103266</th>\n      <td>0.375</td>\n      <td>4.0</td>\n    </tr>\n    <tr>\n      <th>112923</th>\n      <td>0.375</td>\n      <td>4.0</td>\n    </tr>\n    <tr>\n      <th>117547</th>\n      <td>0.500</td>\n      <td>5.0</td>\n    </tr>\n  </tbody>\n</table>\n</div>"
     },
     "execution_count": 104,
     "metadata": {},
     "output_type": "execute_result"
    }
   ],
   "source": [
    "temp[temp[\"prop_country_id\"]==1][[\"rank\",\"total_score\"]]"
   ],
   "metadata": {
    "collapsed": false,
    "pycharm": {
     "name": "#%%\n"
    }
   }
  },
  {
   "cell_type": "code",
   "execution_count": 88,
   "outputs": [
    {
     "data": {
      "text/plain": "        prop_starrating  prop_review_score  prop_id  total_score\n0               11337.0             1069.5      1.0       1366.0\n1                2624.0            20137.5      2.0       5124.0\n2               25800.0            12199.5      3.0      19435.5\n3                2600.0             2138.0      1.0       2575.5\n4                 846.5              849.5      1.0        286.5\n...                 ...                ...      ...          ...\n129108             72.0              280.0    701.0        250.5\n129109             69.0               30.5    170.0         29.5\n129110            360.0              503.0    799.0        510.0\n129111           4719.0              830.0   6063.0       1516.5\n129112          11252.0            12298.0  13274.0      12735.0\n\n[129113 rows x 4 columns]",
      "text/html": "<div>\n<style scoped>\n    .dataframe tbody tr th:only-of-type {\n        vertical-align: middle;\n    }\n\n    .dataframe tbody tr th {\n        vertical-align: top;\n    }\n\n    .dataframe thead th {\n        text-align: right;\n    }\n</style>\n<table border=\"1\" class=\"dataframe\">\n  <thead>\n    <tr style=\"text-align: right;\">\n      <th></th>\n      <th>prop_starrating</th>\n      <th>prop_review_score</th>\n      <th>prop_id</th>\n      <th>total_score</th>\n    </tr>\n  </thead>\n  <tbody>\n    <tr>\n      <th>0</th>\n      <td>11337.0</td>\n      <td>1069.5</td>\n      <td>1.0</td>\n      <td>1366.0</td>\n    </tr>\n    <tr>\n      <th>1</th>\n      <td>2624.0</td>\n      <td>20137.5</td>\n      <td>2.0</td>\n      <td>5124.0</td>\n    </tr>\n    <tr>\n      <th>2</th>\n      <td>25800.0</td>\n      <td>12199.5</td>\n      <td>3.0</td>\n      <td>19435.5</td>\n    </tr>\n    <tr>\n      <th>3</th>\n      <td>2600.0</td>\n      <td>2138.0</td>\n      <td>1.0</td>\n      <td>2575.5</td>\n    </tr>\n    <tr>\n      <th>4</th>\n      <td>846.5</td>\n      <td>849.5</td>\n      <td>1.0</td>\n      <td>286.5</td>\n    </tr>\n    <tr>\n      <th>...</th>\n      <td>...</td>\n      <td>...</td>\n      <td>...</td>\n      <td>...</td>\n    </tr>\n    <tr>\n      <th>129108</th>\n      <td>72.0</td>\n      <td>280.0</td>\n      <td>701.0</td>\n      <td>250.5</td>\n    </tr>\n    <tr>\n      <th>129109</th>\n      <td>69.0</td>\n      <td>30.5</td>\n      <td>170.0</td>\n      <td>29.5</td>\n    </tr>\n    <tr>\n      <th>129110</th>\n      <td>360.0</td>\n      <td>503.0</td>\n      <td>799.0</td>\n      <td>510.0</td>\n    </tr>\n    <tr>\n      <th>129111</th>\n      <td>4719.0</td>\n      <td>830.0</td>\n      <td>6063.0</td>\n      <td>1516.5</td>\n    </tr>\n    <tr>\n      <th>129112</th>\n      <td>11252.0</td>\n      <td>12298.0</td>\n      <td>13274.0</td>\n      <td>12735.0</td>\n    </tr>\n  </tbody>\n</table>\n<p>129113 rows × 4 columns</p>\n</div>"
     },
     "execution_count": 88,
     "metadata": {},
     "output_type": "execute_result"
    }
   ],
   "source": [
    "temp.groupby(\"prop_country_id\").rank()"
   ],
   "metadata": {
    "collapsed": false,
    "pycharm": {
     "name": "#%%\n"
    }
   }
  },
  {
   "cell_type": "code",
   "execution_count": null,
   "outputs": [],
   "source": [
    "grouped_countries = temp.groupby(\"prop_country_id\")a"
   ],
   "metadata": {
    "collapsed": false,
    "pycharm": {
     "name": "#%%\n"
    }
   }
  },
  {
   "cell_type": "code",
   "execution_count": 66,
   "outputs": [
    {
     "data": {
      "text/plain": "         index  prop_id  prop_country_id  prop_starrating  prop_review_score  \\\n0            0     9357                2              0.0                0.0   \n1         4081    91019              117              0.0                0.0   \n2         4080    90930              117              0.0                0.0   \n3         4079    90791              117              0.0                0.0   \n4         4078    90589              117              0.0                0.0   \n...        ...      ...              ...              ...                ...   \n129108  129108   106989              229              2.0                NaN   \n129109  129109   107366              229              3.0                NaN   \n129110  129110   108516              229              3.0                NaN   \n129111  129111   127265              229              3.0                NaN   \n129112  129112   131752              229              3.0                NaN   \n\n        total_score    rank  \n0               0.0   126.5  \n1               0.0  2799.0  \n2               0.0  2799.0  \n3               0.0  2799.0  \n4               0.0  2799.0  \n...             ...     ...  \n129108          NaN     NaN  \n129109          NaN     NaN  \n129110          NaN     NaN  \n129111          NaN     NaN  \n129112          NaN     NaN  \n\n[129113 rows x 7 columns]",
      "text/html": "<div>\n<style scoped>\n    .dataframe tbody tr th:only-of-type {\n        vertical-align: middle;\n    }\n\n    .dataframe tbody tr th {\n        vertical-align: top;\n    }\n\n    .dataframe thead th {\n        text-align: right;\n    }\n</style>\n<table border=\"1\" class=\"dataframe\">\n  <thead>\n    <tr style=\"text-align: right;\">\n      <th></th>\n      <th>index</th>\n      <th>prop_id</th>\n      <th>prop_country_id</th>\n      <th>prop_starrating</th>\n      <th>prop_review_score</th>\n      <th>total_score</th>\n      <th>rank</th>\n    </tr>\n  </thead>\n  <tbody>\n    <tr>\n      <th>0</th>\n      <td>0</td>\n      <td>9357</td>\n      <td>2</td>\n      <td>0.0</td>\n      <td>0.0</td>\n      <td>0.0</td>\n      <td>126.5</td>\n    </tr>\n    <tr>\n      <th>1</th>\n      <td>4081</td>\n      <td>91019</td>\n      <td>117</td>\n      <td>0.0</td>\n      <td>0.0</td>\n      <td>0.0</td>\n      <td>2799.0</td>\n    </tr>\n    <tr>\n      <th>2</th>\n      <td>4080</td>\n      <td>90930</td>\n      <td>117</td>\n      <td>0.0</td>\n      <td>0.0</td>\n      <td>0.0</td>\n      <td>2799.0</td>\n    </tr>\n    <tr>\n      <th>3</th>\n      <td>4079</td>\n      <td>90791</td>\n      <td>117</td>\n      <td>0.0</td>\n      <td>0.0</td>\n      <td>0.0</td>\n      <td>2799.0</td>\n    </tr>\n    <tr>\n      <th>4</th>\n      <td>4078</td>\n      <td>90589</td>\n      <td>117</td>\n      <td>0.0</td>\n      <td>0.0</td>\n      <td>0.0</td>\n      <td>2799.0</td>\n    </tr>\n    <tr>\n      <th>...</th>\n      <td>...</td>\n      <td>...</td>\n      <td>...</td>\n      <td>...</td>\n      <td>...</td>\n      <td>...</td>\n      <td>...</td>\n    </tr>\n    <tr>\n      <th>129108</th>\n      <td>129108</td>\n      <td>106989</td>\n      <td>229</td>\n      <td>2.0</td>\n      <td>NaN</td>\n      <td>NaN</td>\n      <td>NaN</td>\n    </tr>\n    <tr>\n      <th>129109</th>\n      <td>129109</td>\n      <td>107366</td>\n      <td>229</td>\n      <td>3.0</td>\n      <td>NaN</td>\n      <td>NaN</td>\n      <td>NaN</td>\n    </tr>\n    <tr>\n      <th>129110</th>\n      <td>129110</td>\n      <td>108516</td>\n      <td>229</td>\n      <td>3.0</td>\n      <td>NaN</td>\n      <td>NaN</td>\n      <td>NaN</td>\n    </tr>\n    <tr>\n      <th>129111</th>\n      <td>129111</td>\n      <td>127265</td>\n      <td>229</td>\n      <td>3.0</td>\n      <td>NaN</td>\n      <td>NaN</td>\n      <td>NaN</td>\n    </tr>\n    <tr>\n      <th>129112</th>\n      <td>129112</td>\n      <td>131752</td>\n      <td>229</td>\n      <td>3.0</td>\n      <td>NaN</td>\n      <td>NaN</td>\n      <td>NaN</td>\n    </tr>\n  </tbody>\n</table>\n<p>129113 rows × 7 columns</p>\n</div>"
     },
     "execution_count": 66,
     "metadata": {},
     "output_type": "execute_result"
    }
   ],
   "source": [
    "grouped_countries = temp.groupby(\"prop_country_id\")\n",
    "temp[\"rank\"] = grouped_countries[\"total_score\"].rank(ascending=False)\n",
    "\n",
    "# Step 3: Sort the DataFrame by \"prop_id\" and \"prop_country_id\" and reset the index\n",
    "temp = temp.sort_values(by=[\"total_score\"]).reset_index()\n",
    "temp"
   ],
   "metadata": {
    "collapsed": false,
    "pycharm": {
     "name": "#%%\n"
    }
   }
  },
  {
   "cell_type": "code",
   "execution_count": 69,
   "outputs": [
    {
     "data": {
      "text/plain": "         index  prop_id  prop_country_id  prop_starrating  prop_review_score  \\\n1530      5611    77956              219              0.0                0.0   \n1531      5610    77820              219              0.0                0.0   \n1532      5609    77630              219              0.0                0.0   \n1533      5608    77517              219              0.0                0.0   \n1534      5607    77462              219              0.0                0.0   \n...        ...      ...              ...              ...                ...   \n129022  129022   137610              219              0.0                NaN   \n129023  129023   139264              219              3.0                NaN   \n129024  129024   139496              219              0.0                NaN   \n129025  129025   140341              219              0.0                NaN   \n129026  129026   140441              219              3.0                NaN   \n\n        total_score     rank  \n1530            0.0  37707.5  \n1531            0.0  37707.5  \n1532            0.0  37707.5  \n1533            0.0  37707.5  \n1534            0.0  37707.5  \n...             ...      ...  \n129022          NaN      NaN  \n129023          NaN      NaN  \n129024          NaN      NaN  \n129025          NaN      NaN  \n129026          NaN      NaN  \n\n[38381 rows x 7 columns]",
      "text/html": "<div>\n<style scoped>\n    .dataframe tbody tr th:only-of-type {\n        vertical-align: middle;\n    }\n\n    .dataframe tbody tr th {\n        vertical-align: top;\n    }\n\n    .dataframe thead th {\n        text-align: right;\n    }\n</style>\n<table border=\"1\" class=\"dataframe\">\n  <thead>\n    <tr style=\"text-align: right;\">\n      <th></th>\n      <th>index</th>\n      <th>prop_id</th>\n      <th>prop_country_id</th>\n      <th>prop_starrating</th>\n      <th>prop_review_score</th>\n      <th>total_score</th>\n      <th>rank</th>\n    </tr>\n  </thead>\n  <tbody>\n    <tr>\n      <th>1530</th>\n      <td>5611</td>\n      <td>77956</td>\n      <td>219</td>\n      <td>0.0</td>\n      <td>0.0</td>\n      <td>0.0</td>\n      <td>37707.5</td>\n    </tr>\n    <tr>\n      <th>1531</th>\n      <td>5610</td>\n      <td>77820</td>\n      <td>219</td>\n      <td>0.0</td>\n      <td>0.0</td>\n      <td>0.0</td>\n      <td>37707.5</td>\n    </tr>\n    <tr>\n      <th>1532</th>\n      <td>5609</td>\n      <td>77630</td>\n      <td>219</td>\n      <td>0.0</td>\n      <td>0.0</td>\n      <td>0.0</td>\n      <td>37707.5</td>\n    </tr>\n    <tr>\n      <th>1533</th>\n      <td>5608</td>\n      <td>77517</td>\n      <td>219</td>\n      <td>0.0</td>\n      <td>0.0</td>\n      <td>0.0</td>\n      <td>37707.5</td>\n    </tr>\n    <tr>\n      <th>1534</th>\n      <td>5607</td>\n      <td>77462</td>\n      <td>219</td>\n      <td>0.0</td>\n      <td>0.0</td>\n      <td>0.0</td>\n      <td>37707.5</td>\n    </tr>\n    <tr>\n      <th>...</th>\n      <td>...</td>\n      <td>...</td>\n      <td>...</td>\n      <td>...</td>\n      <td>...</td>\n      <td>...</td>\n      <td>...</td>\n    </tr>\n    <tr>\n      <th>129022</th>\n      <td>129022</td>\n      <td>137610</td>\n      <td>219</td>\n      <td>0.0</td>\n      <td>NaN</td>\n      <td>NaN</td>\n      <td>NaN</td>\n    </tr>\n    <tr>\n      <th>129023</th>\n      <td>129023</td>\n      <td>139264</td>\n      <td>219</td>\n      <td>3.0</td>\n      <td>NaN</td>\n      <td>NaN</td>\n      <td>NaN</td>\n    </tr>\n    <tr>\n      <th>129024</th>\n      <td>129024</td>\n      <td>139496</td>\n      <td>219</td>\n      <td>0.0</td>\n      <td>NaN</td>\n      <td>NaN</td>\n      <td>NaN</td>\n    </tr>\n    <tr>\n      <th>129025</th>\n      <td>129025</td>\n      <td>140341</td>\n      <td>219</td>\n      <td>0.0</td>\n      <td>NaN</td>\n      <td>NaN</td>\n      <td>NaN</td>\n    </tr>\n    <tr>\n      <th>129026</th>\n      <td>129026</td>\n      <td>140441</td>\n      <td>219</td>\n      <td>3.0</td>\n      <td>NaN</td>\n      <td>NaN</td>\n      <td>NaN</td>\n    </tr>\n  </tbody>\n</table>\n<p>38381 rows × 7 columns</p>\n</div>"
     },
     "execution_count": 69,
     "metadata": {},
     "output_type": "execute_result"
    }
   ],
   "source": [
    "temp[temp[\"prop_country_id\"]==219]"
   ],
   "metadata": {
    "collapsed": false,
    "pycharm": {
     "name": "#%%\n"
    }
   }
  },
  {
   "cell_type": "code",
   "execution_count": null,
   "outputs": [],
   "source": [],
   "metadata": {
    "collapsed": false,
    "pycharm": {
     "name": "#%%\n"
    }
   }
  }
 ],
 "metadata": {
  "kernelspec": {
   "display_name": "Python 3",
   "language": "python",
   "name": "python3"
  },
  "language_info": {
   "codemirror_mode": {
    "name": "ipython",
    "version": 2
   },
   "file_extension": ".py",
   "mimetype": "text/x-python",
   "name": "python",
   "nbconvert_exporter": "python",
   "pygments_lexer": "ipython2",
   "version": "2.7.6"
  }
 },
 "nbformat": 4,
 "nbformat_minor": 0
}