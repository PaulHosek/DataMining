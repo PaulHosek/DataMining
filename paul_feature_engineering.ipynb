{
 "cells": [
  {
   "cell_type": "code",
   "execution_count": 4,
   "metadata": {
    "pycharm": {
     "name": "#%%\n"
    }
   },
   "outputs": [],
   "source": [
    "import dask.dataframe as dd\n",
    "import pandas as pd\n",
    "import matplotlib.pyplot as plt\n",
    "# import hvplot.dask\n",
    "import numpy as np\n",
    "import dask.array as da\n",
    "import pickle\n",
    "import seaborn as sns\n",
    "from sklearn.preprocessing import LabelEncoder"
   ]
  },
  {
   "cell_type": "code",
   "execution_count": 5,
   "metadata": {
    "pycharm": {
     "name": "#%%\n"
    }
   },
   "outputs": [],
   "source": [
    "pd.set_option('display.max_columns', None)\n",
    "pd.set_option('display.max_rows', 200)"
   ]
  },
  {
   "cell_type": "code",
   "execution_count": null,
   "outputs": [],
   "source": [
    "# df = pd.read_csv(\"data/training_set_VU_DM.csv\")\n",
    "df = pd.read_csv(\"data/train_train.csv\")\n",
    "df.drop('Unnamed: 0', axis = 1, inplace=True)"
   ],
   "metadata": {
    "collapsed": false,
    "pycharm": {
     "name": "#%%\n"
    }
   }
  },
  {
   "cell_type": "code",
   "execution_count": null,
   "outputs": [],
   "source": [
    "df"
   ],
   "metadata": {
    "collapsed": false,
    "pycharm": {
     "name": "#%%\n"
    }
   }
  },
  {
   "cell_type": "code",
   "execution_count": null,
   "outputs": [],
   "source": [
    "original_len = len(df)\n",
    "original_len"
   ],
   "metadata": {
    "collapsed": false,
    "pycharm": {
     "name": "#%%\n"
    }
   }
  },
  {
   "cell_type": "code",
   "execution_count": null,
   "outputs": [],
   "source": [
    "# 1. Probability if click then book for hotel, if search then click and if search then book\n",
    "def click_book_df(df):\n",
    "    grouped_hotels = df.groupby(\"prop_id\").sum(numeric_only=True)\n",
    "    nr_hotel_found = df[\"prop_id\"].value_counts()\n",
    "    temp = pd.DataFrame()\n",
    "    temp[\"prob_clickbook\"] = grouped_hotels[\"booking_bool\"]/ grouped_hotels[\"click_bool\"]\n",
    "    temp[\"prob_searchbook\"] = grouped_hotels[\"booking_bool\"]/nr_hotel_found\n",
    "    temp[\"prob_searchclick\"] = grouped_hotels[\"click_bool\"]/nr_hotel_found\n",
    "    temp.fillna(0,inplace=True)\n",
    "    temp =temp.reset_index()\n",
    "    return temp\n",
    "\n",
    "temp = click_book_df(df)\n",
    "df = df.merge(temp, on=\"prop_id\")\n",
    "del temp"
   ],
   "metadata": {
    "collapsed": false,
    "pycharm": {
     "name": "#%%\n"
    }
   }
  },
  {
   "cell_type": "code",
   "execution_count": null,
   "outputs": [],
   "source": [
    "df"
   ],
   "metadata": {
    "collapsed": false,
    "pycharm": {
     "name": "#%%\n"
    }
   }
  },
  {
   "cell_type": "code",
   "execution_count": null,
   "outputs": [],
   "source": [
    "# 2. Percentile rank of hotel in its country\n",
    "def hotel_country_rank_df(df):\n",
    "    grouped_hotels = df.groupby([\"prop_id\",\"prop_country_id\"]).mean(numeric_only=True).reset_index()\n",
    "    temp = grouped_hotels[[\"prop_starrating\", \"prop_review_score\",\"prop_id\",\"prop_country_id\"]].copy()\n",
    "    temp[\"total_score\"] = temp.loc[:,\"prop_starrating\"] + temp.loc[:,\"prop_review_score\"]\n",
    "    temp[\"country_pct_rank\"] = temp.groupby(\"prop_country_id\")[\"total_score\"].rank(method=\"dense\",\n",
    "                                                                               ascending=True,pct=True)\n",
    "    temp = temp[[\"prop_id\",\"country_pct_rank\"]]\n",
    "    return temp\n",
    "\n",
    "temp = hotel_country_rank_df(df)\n",
    "df = df.merge(temp, on=\"prop_id\")\n",
    "del temp"
   ],
   "metadata": {
    "collapsed": false,
    "pycharm": {
     "name": "#%%\n"
    }
   }
  },
  {
   "cell_type": "code",
   "execution_count": null,
   "outputs": [],
   "source": [
    "# 3. Competitors: mean competitor avail/ rate + if there is a better competitor columns.\n",
    "\n",
    "\n",
    "def competitor_cols(temp:pd.DataFrame, col_names:list,rate_or_avail:str):\n",
    "    \"\"\"\n",
    "    Compute 2 columns for rate and availability. Boolean column if there exists\n",
    "    a competitor with a better rate and mean competitor values.\n",
    "    \"\"\"\n",
    "    temp_rate = temp[col_names].copy()\n",
    "    temp_rate_binary = temp_rate.applymap(lambda x: 1 if not pd.isna(x) and x >= 0 else 0)\n",
    "    temp_rate_binary.loc[:, f\"comp_mean_{rate_or_avail}\"] = temp_rate.mean(axis=1)\n",
    "    temp_rate_binary[f\"comp_better_{rate_or_avail}\"] = temp_rate_binary.any(axis=1).astype(int) #\n",
    "    temp_rate_binary.drop(columns=col_names,inplace=True)\n",
    "    return temp_rate_binary\n",
    "\n",
    "def competitor_df(df):\n",
    "    inv_cols = [f\"comp{i}_inv\" for i in np.arange(1,9)]\n",
    "    rate_cols = [f\"comp{i}_rate\" for i in np.arange(1,9)]\n",
    "    rate_perc_cols = [f\"comp{i}_rate_percent_diff\" for i in np.arange(1,9)]\n",
    "    \n",
    "    temp = df.groupby(\"prop_id\").mean(numeric_only=True)\n",
    "    rate_res = competitor_cols(temp, rate_cols, \"rate\")\n",
    "    inv_res = competitor_cols(temp, inv_cols, \"inv\")\n",
    "    temp = pd.concat([rate_res, inv_res],axis=1) # only new columns\n",
    "    return temp\n",
    "\n",
    "temp = competitor_df(df)\n",
    "df = df.merge(temp, on=\"prop_id\")# df = \n",
    "\n",
    "del temp\n",
    "\n",
    "# drop original competitor columns\n",
    "inv_cols = [f\"comp{i}_inv\" for i in np.arange(1,9)]\n",
    "rate_cols = [f\"comp{i}_rate\" for i in np.arange(1,9)]\n",
    "rate_perc_cols = [f\"comp{i}_rate_percent_diff\" for i in np.arange(1,9)]\n",
    "\n",
    "# df.drop(columns=rate_cols+inv_cols+rate_perc_cols, inplace=True)"
   ],
   "metadata": {
    "collapsed": false,
    "pycharm": {
     "name": "#%%\n"
    }
   }
  },
  {
   "cell_type": "code",
   "execution_count": null,
   "outputs": [],
   "source": [
    "# 5. Price change in percentile, no NaN so don't need to average\n",
    "def price_change_col(df):\n",
    "    old_price = np.exp(df[\"prop_log_historical_price\"])\n",
    "    return (df[\"price_usd\"] - old_price) / old_price\n",
    "    \n",
    "df[\"price_change\"] = price_change_col(df)\n"
   ],
   "metadata": {
    "collapsed": false,
    "pycharm": {
     "name": "#%%\n"
    }
   }
  },
  {
   "cell_type": "code",
   "execution_count": null,
   "outputs": [],
   "source": [
    "# 6. Desirability_score as function of location and affinity score\n",
    "\n",
    "# Compute the desirability score as a weighted average of the four measures\n",
    "def desirability_col(df):\n",
    "    desirability_score = np.exp(df[\"srch_query_affinity_score\"]) *  (df[\"prop_location_score1\"] + df[\"prop_location_score2\"])\n",
    "    desirability_score.fillna(desirability_score.mean(), inplace=True)\n",
    "    return desirability_score\n",
    "\n",
    "df[\"desirability_score\"] = desirability_col(df)"
   ],
   "metadata": {
    "collapsed": false,
    "pycharm": {
     "name": "#%%\n"
    }
   }
  },
  {
   "cell_type": "code",
   "execution_count": null,
   "outputs": [],
   "source": [
    "# 7. Date time to percentile of the day\n",
    "\n",
    "def percent_day_col(df):\n",
    "    df[\"date_time\"] = pd.to_datetime(df[\"date_time\"])\n",
    "    return (df['date_time'].dt.hour * 3600 + df['date_time'].dt.minute * 60 + df['date_time'].dt.second) / 86400\n",
    "\n",
    "def month_col(df):\n",
    "    df[\"date_time\"] = pd.to_datetime(df[\"date_time\"])\n",
    "    return df[\"date_time\"].dt.month\n",
    "\n",
    "def weekend_bool_col(df):\n",
    "    df[\"date_time\"] = pd.to_datetime(df[\"date_time\"])\n",
    "    return df[\"date_time\"].dt.day_of_week\n",
    "\n",
    "df['percentile_of_day'] = percent_day_col(df)\n",
    "df['month'] = month_col(df)\n",
    "df['day_of_week'] = weekend_bool_col(df)\n",
    "# df.drop(columns=[\"date_time\"], inplace=True)"
   ],
   "metadata": {
    "collapsed": false,
    "pycharm": {
     "name": "#%%\n"
    }
   }
  },
  {
   "cell_type": "code",
   "execution_count": null,
   "outputs": [],
   "source": [
    "df"
   ],
   "metadata": {
    "collapsed": false,
    "pycharm": {
     "name": "#%%\n"
    }
   }
  },
  {
   "cell_type": "code",
   "execution_count": null,
   "outputs": [],
   "source": [
    "def usa_col(df):\n",
    "    # Encode visitor/hotel from USA (approx. 50% of visitors)\n",
    "    # idx visitor  hotel  encoding\n",
    "    # 0     1     1        2\n",
    "    # 1     0     0        0\n",
    "    # 2     1     0        1\n",
    "    # 3     0     1       -1\n",
    "    visitor_us = (df[\"visitor_location_country_id\"] == 219).astype(int)\n",
    "    hotel_us = (df[\"prop_country_id\"] == 219).astype(int)\n",
    "    return np.where(visitor_us != hotel_us, visitor_us - hotel_us, hotel_us*2)\n",
    "\n",
    "df[\"within_us\"] =  usa_col(df)"
   ],
   "metadata": {
    "collapsed": false,
    "pycharm": {
     "name": "#%%\n"
    }
   }
  },
  {
   "cell_type": "markdown",
   "source": [],
   "metadata": {
    "collapsed": false,
    "pycharm": {
     "name": "#%% md\n"
    }
   }
  },
  {
   "cell_type": "code",
   "execution_count": null,
   "outputs": [],
   "source": [
    "# df.to_csv(\"data/FE_training_set.csv\")\n",
    "df.to_csv(\"data/train_train_FE.csv\")"
   ],
   "metadata": {
    "collapsed": false,
    "pycharm": {
     "name": "#%%\n"
    }
   }
  },
  {
   "cell_type": "markdown",
   "source": [
    "## Test set\n",
    "\n",
    "- need to add expected click stuff here too, but using values from train set bc. dont have test set values"
   ],
   "metadata": {
    "collapsed": false,
    "pycharm": {
     "name": "#%% md\n"
    }
   }
  },
  {
   "cell_type": "code",
   "execution_count": null,
   "outputs": [],
   "source": [
    "df_test = pd.read_csv(\"data/test_set_VU_DM.csv\")\n",
    "# df_test = pd.read_csv(\"data/train_test.csv\")\n",
    "df_test.drop('Unnamed: 0', axis = 1,  inplace=True)"
   ],
   "metadata": {
    "collapsed": false,
    "pycharm": {
     "name": "#%%\n"
    }
   }
  },
  {
   "cell_type": "code",
   "execution_count": null,
   "outputs": [],
   "source": [
    "len_test_original = len(df_test)\n",
    "len_test_original"
   ],
   "metadata": {
    "collapsed": false,
    "pycharm": {
     "name": "#%%\n"
    }
   }
  },
  {
   "cell_type": "code",
   "execution_count": null,
   "outputs": [],
   "source": [
    "df_train = df.copy(deep=True)"
   ],
   "metadata": {
    "collapsed": false,
    "pycharm": {
     "name": "#%%\n"
    }
   }
  },
  {
   "cell_type": "markdown",
   "source": [
    "#### Copy click, search, booking columns to test dataset\n",
    "Dataset with len(unique hotels that are in both).\n",
    "\n",
    "With only the new columns to copy them to the test data for the matching hotels."
   ],
   "metadata": {
    "collapsed": false,
    "pycharm": {
     "name": "#%% md\n"
    }
   }
  },
  {
   "cell_type": "code",
   "execution_count": null,
   "outputs": [],
   "source": [
    "test_props = df_test[\"prop_id\"].unique()\n",
    "train_props = df_train[\"prop_id\"].unique() \n",
    "\n",
    "# training dataset, but only the properties that are in the test set too\n",
    "train_df_intersect = df_train[df_train[\"prop_id\"].isin(np.intersect1d(test_props,train_props))]  \n",
    "\n",
    "# select the columns we added before\n",
    "clicks_train = train_df_intersect[[\"prop_id\",\"prob_clickbook\",\"prob_searchbook\",\n",
    "                                      \"prob_searchclick\",\"country_pct_rank\"]]\n",
    "\n",
    "# reduce the nr of rows to unique entries\n",
    "clicks_train= clicks_train.groupby(\"prop_id\").mean() \n",
    "clicks_train[\"in_train\"] = 1 # bool column if was already in training set\n",
    "clicks_train.reset_index(inplace=True)"
   ],
   "metadata": {
    "collapsed": false,
    "pycharm": {
     "name": "#%%\n"
    }
   }
  },
  {
   "cell_type": "code",
   "execution_count": null,
   "outputs": [],
   "source": [
    "df_test = df_test.merge(clicks_train, on=\"prop_id\",how=\"left\") "
   ],
   "metadata": {
    "collapsed": false,
    "pycharm": {
     "name": "#%%\n"
    }
   }
  },
  {
   "cell_type": "code",
   "execution_count": null,
   "outputs": [],
   "source": [
    "df_test[\"in_train\"].fillna(0, inplace=True) # if property not in training set, fill with 0"
   ],
   "metadata": {
    "collapsed": false,
    "pycharm": {
     "name": "#%%\n"
    }
   }
  },
  {
   "cell_type": "markdown",
   "source": [
    "##### Rank of the hotel must be computed using both the test and training set"
   ],
   "metadata": {
    "collapsed": false,
    "pycharm": {
     "name": "#%% md\n"
    }
   }
  },
  {
   "cell_type": "markdown",
   "source": [
    "#### All other features must be computed for all rows in the test set\n",
    "- compute hotel rank with whole test set, but only update hotels that are new"
   ],
   "metadata": {
    "collapsed": false,
    "pycharm": {
     "name": "#%% md\n"
    }
   }
  },
  {
   "cell_type": "code",
   "execution_count": null,
   "outputs": [],
   "source": [
    "# add ranking \n",
    "save = df_test.copy()\n",
    "len(save)"
   ],
   "metadata": {
    "collapsed": false,
    "pycharm": {
     "name": "#%%\n"
    }
   }
  },
  {
   "cell_type": "code",
   "execution_count": null,
   "outputs": [],
   "source": [
    "df_test = save.copy()"
   ],
   "metadata": {
    "collapsed": false,
    "pycharm": {
     "name": "#%%\n"
    }
   }
  },
  {
   "cell_type": "code",
   "execution_count": null,
   "outputs": [],
   "source": [
    "# apply ranking, filter out new hotels and appy only there\n",
    "temp = hotel_country_rank_df(df_test)\n",
    "hotels_not_in_train = df_test[df_test[\"in_train\"]==0][\"prop_id\"].unique()\n",
    "temp = temp[temp[\"prop_id\"].isin(hotels_not_in_train)]\n",
    "\n",
    "# fill nan values of the missing ranks_rank_x\",\"country_pct_rank_y\"], inplace=True)"
   ],
   "metadata": {
    "collapsed": false,
    "pycharm": {
     "name": "#%%\n"
    }
   }
  },
  {
   "cell_type": "code",
   "execution_count": null,
   "outputs": [],
   "source": [
    "df_test = df_test.merge(temp,on=\"prop_id\",how=\"left\")"
   ],
   "metadata": {
    "collapsed": false,
    "pycharm": {
     "name": "#%%\n"
    }
   }
  },
  {
   "cell_type": "code",
   "execution_count": null,
   "outputs": [],
   "source": [
    "#  for the new hotels with the values from the testranking\n",
    "df_test = df_test.merge(temp,on=\"prop_id\",how=\"left\")\n",
    "df_test[\"country_pct_rank\"] = df_test['country_pct_rank_x'].combine_first(df_test['country_pct_rank_y'])\n",
    "df_test.drop(columns=[\"country_pct_rank_x\",\"country_pct_rank_y\"],inplace=True)"
   ],
   "metadata": {
    "collapsed": false,
    "pycharm": {
     "name": "#%%\n"
    }
   }
  },
  {
   "cell_type": "code",
   "execution_count": null,
   "outputs": [],
   "source": [
    "df_test = df_test.merge(competitor_df(df_test), on=\"prop_id\")"
   ],
   "metadata": {
    "collapsed": false,
    "pycharm": {
     "name": "#%%\n"
    }
   }
  },
  {
   "cell_type": "code",
   "execution_count": null,
   "outputs": [],
   "source": [
    "df_test[\"price_change\"] = price_change_col(df_test)\n",
    "df_test[\"desirability_score\"] = desirability_col(df_test)\n",
    "df_test['percentile_of_day'] = percent_day_col(df_test)\n",
    "df_test['month'] = month_col(df_test)\n",
    "df_test['day_of_week'] = weekend_bool_col(df_test)\n",
    "df_test[\"within_us\"] =  usa_col(df_test)"
   ],
   "metadata": {
    "collapsed": false,
    "pycharm": {
     "name": "#%%\n"
    }
   }
  },
  {
   "cell_type": "code",
   "execution_count": null,
   "outputs": [],
   "source": [
    "df_test"
   ],
   "metadata": {
    "collapsed": false,
    "pycharm": {
     "name": "#%%\n"
    }
   }
  },
  {
   "cell_type": "code",
   "execution_count": null,
   "outputs": [],
   "source": [
    "# df_test.drop(columns=rate_cols+inv_cols+rate_perc_cols+[\"date_time\"], inplace=True)"
   ],
   "metadata": {
    "collapsed": false,
    "pycharm": {
     "name": "#%%\n"
    }
   }
  },
  {
   "cell_type": "code",
   "execution_count": null,
   "outputs": [],
   "source": [
    "len(df_test) - 4959183"
   ],
   "metadata": {
    "collapsed": false,
    "pycharm": {
     "name": "#%%\n"
    }
   }
  },
  {
   "cell_type": "code",
   "execution_count": null,
   "outputs": [],
   "source": [
    "# both datasets have all the added columns\n",
    "np.setdiff1d(df_train.columns, df_test.columns)"
   ],
   "metadata": {
    "collapsed": false,
    "pycharm": {
     "name": "#%%\n"
    }
   }
  },
  {
   "cell_type": "code",
   "execution_count": null,
   "outputs": [],
   "source": [
    "df_test.to_csv(\"data/FE_test_set.csv\")\n",
    "# df_test.to_csv(\"data/train_test_FE.csv\")"
   ],
   "metadata": {
    "collapsed": false,
    "pycharm": {
     "name": "#%%\n"
    }
   }
  },
  {
   "cell_type": "code",
   "execution_count": 53,
   "metadata": {
    "collapsed": false,
    "pycharm": {
     "name": "#%%\n"
    }
   },
   "outputs": [
    {
     "data": {
      "text/plain": [
       "array(['booking_bool', 'click_bool', 'gross_bookings_usd', 'position'],\n",
       "      dtype=object)"
      ]
     },
     "execution_count": 53,
     "metadata": {},
     "output_type": "execute_result"
    }
   ],
   "source": [
    "# both datasets have all the added columns\n",
    "np.setdiff1d(df_train.columns, df_test.columns)"
   ]
  },
  {
   "cell_type": "code",
   "execution_count": 54,
   "metadata": {
    "collapsed": false,
    "pycharm": {
     "name": "#%%\n"
    }
   },
   "outputs": [],
   "source": [
    "df_test.to_csv(\"data/FE_test_set.csv\")\n",
    "# df_test.to_csv(\"data/train_test_FE.csv\")"
   ]
  },
  {
   "cell_type": "code",
   "execution_count": null,
   "metadata": {
    "pycharm": {
     "name": "#%%\n"
    }
   },
   "outputs": [],
   "source": []
  }
 ],
 "metadata": {
  "kernelspec": {
   "display_name": "Python 3 (ipykernel)",
   "language": "python",
   "name": "python3"
  },
  "language_info": {
   "codemirror_mode": {
    "name": "ipython",
    "version": 3
   },
   "file_extension": ".py",
   "mimetype": "text/x-python",
   "name": "python",
   "nbconvert_exporter": "python",
   "pygments_lexer": "ipython3",
   "version": "3.11.3"
  }
 },
 "nbformat": 4,
 "nbformat_minor": 1
}