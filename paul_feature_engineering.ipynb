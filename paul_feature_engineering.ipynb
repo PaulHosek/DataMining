{
 "cells": [
  {
   "cell_type": "code",
   "execution_count": 1,
   "metadata": {
    "pycharm": {
     "name": "#%%\n"
    }
   },
   "outputs": [],
   "source": [
    "import dask.dataframe as dd\n",
    "import pandas as pd\n",
    "import matplotlib.pyplot as plt\n",
    "# import hvplot.dask\n",
    "import numpy as np\n",
    "import dask.array as da\n",
    "import pickle\n",
    "import seaborn as sns\n",
    "from sklearn.preprocessing import LabelEncoder"
   ]
  },
  {
   "cell_type": "code",
   "execution_count": 2,
   "metadata": {
    "pycharm": {
     "name": "#%%\n"
    }
   },
   "outputs": [],
   "source": [
    "pd.set_option('display.max_columns', None)\n",
    "pd.set_option('display.max_rows', 200)"
   ]
  },
  {
   "cell_type": "code",
   "execution_count": 3,
   "outputs": [],
   "source": [
    "df = pd.read_csv(\"data/training_set_VU_DM.csv\")\n",
    "# df = pd.read_csv(\"data/train_train.csv\")"
   ],
   "metadata": {
    "collapsed": false,
    "pycharm": {
     "name": "#%%\n"
    }
   }
  },
  {
   "cell_type": "code",
   "execution_count": 4,
   "outputs": [
    {
     "data": {
      "text/plain": "4958347"
     },
     "execution_count": 4,
     "metadata": {},
     "output_type": "execute_result"
    }
   ],
   "source": [
    "original_len = len(df)\n",
    "original_len"
   ],
   "metadata": {
    "collapsed": false,
    "pycharm": {
     "name": "#%%\n"
    }
   }
  },
  {
   "cell_type": "code",
   "execution_count": 5,
   "outputs": [],
   "source": [
    "# 1. Probability if click then book for hotel, if search then click and if search then book\n",
    "def click_book_df(df):\n",
    "    grouped_hotels = df.groupby(\"prop_id\").sum(numeric_only=True)\n",
    "    nr_hotel_found = df[\"prop_id\"].value_counts()\n",
    "    temp = pd.DataFrame()\n",
    "    temp[\"prob_clickbook\"] = grouped_hotels[\"booking_bool\"]/ grouped_hotels[\"click_bool\"]\n",
    "    temp[\"prob_searchbook\"] = grouped_hotels[\"booking_bool\"]/nr_hotel_found\n",
    "    temp[\"prob_searchclick\"] = grouped_hotels[\"click_bool\"]/nr_hotel_found\n",
    "    temp.fillna(0,inplace=True)\n",
    "    temp =temp.reset_index()\n",
    "    return temp\n",
    "\n",
    "temp = click_book_df(df)\n",
    "df = df.merge(temp, on=\"prop_id\")\n",
    "del temp"
   ],
   "metadata": {
    "collapsed": false,
    "pycharm": {
     "name": "#%%\n"
    }
   }
  },
  {
   "cell_type": "code",
   "execution_count": 6,
   "outputs": [],
   "source": [
    "# 2. Percentile rank of hotel in its country\n",
    "def hotel_country_rank_df(df):\n",
    "    grouped_hotels = df.groupby([\"prop_id\",\"prop_country_id\"]).mean(numeric_only=True).reset_index()\n",
    "    temp = grouped_hotels[[\"prop_starrating\", \"prop_review_score\",\"prop_id\",\"prop_country_id\"]].copy()\n",
    "    temp[\"total_score\"] = temp.loc[:,\"prop_starrating\"] + temp.loc[:,\"prop_review_score\"]\n",
    "    temp[\"country_pct_rank\"] = temp.groupby(\"prop_country_id\")[\"total_score\"].rank(method=\"dense\",\n",
    "                                                                               ascending=True,pct=True)\n",
    "    temp = temp[[\"prop_id\",\"country_pct_rank\"]]\n",
    "    return temp\n",
    "\n",
    "temp = hotel_country_rank_df(df)\n",
    "df = df.merge(temp, on=\"prop_id\")\n",
    "del temp"
   ],
   "metadata": {
    "collapsed": false,
    "pycharm": {
     "name": "#%%\n"
    }
   }
  },
  {
   "cell_type": "code",
   "execution_count": 7,
   "outputs": [],
   "source": [
    "# 3. Competitors: mean competitor avail/ rate + if there is a better competitor columns.\n",
    "\n",
    "\n",
    "def competitor_cols(temp:pd.DataFrame, col_names:list,rate_or_avail:str):\n",
    "    \"\"\"\n",
    "    Compute 2 columns for rate and availability. Boolean column if there exists\n",
    "    a competitor with a better rate and mean competitor values.\n",
    "    \"\"\"\n",
    "    temp_rate = temp[col_names].copy()\n",
    "    temp_rate_binary = temp_rate.applymap(lambda x: 1 if not pd.isna(x) and x >= 0 else 0)\n",
    "    temp_rate_binary.loc[:, f\"comp_mean_{rate_or_avail}\"] = temp_rate.mean(axis=1)\n",
    "    temp_rate_binary[f\"comp_better_{rate_or_avail}\"] = temp_rate_binary.any(axis=1).astype(int) #\n",
    "    temp_rate_binary.drop(columns=col_names,inplace=True)\n",
    "    return temp_rate_binary\n",
    "\n",
    "def competitor_df(df):\n",
    "    inv_cols = [f\"comp{i}_inv\" for i in np.arange(1,9)]\n",
    "    rate_cols = [f\"comp{i}_rate\" for i in np.arange(1,9)]\n",
    "    rate_perc_cols = [f\"comp{i}_rate_percent_diff\" for i in np.arange(1,9)]\n",
    "    \n",
    "    temp = df.groupby(\"prop_id\").mean(numeric_only=True)\n",
    "    rate_res = competitor_cols(temp, rate_cols, \"rate\")\n",
    "    inv_res = competitor_cols(temp, inv_cols, \"inv\")\n",
    "    temp = pd.concat([rate_res, inv_res],axis=1) # only new columns\n",
    "    return temp\n",
    "\n",
    "temp = competitor_df(df)\n",
    "df = df.merge(temp, on=\"prop_id\")# df = \n",
    "\n",
    "del temp\n",
    "\n",
    "# drop original competitor columns\n",
    "inv_cols = [f\"comp{i}_inv\" for i in np.arange(1,9)]\n",
    "rate_cols = [f\"comp{i}_rate\" for i in np.arange(1,9)]\n",
    "rate_perc_cols = [f\"comp{i}_rate_percent_diff\" for i in np.arange(1,9)]\n",
    "\n",
    "# df.drop(columns=rate_cols+inv_cols+rate_perc_cols, inplace=True)"
   ],
   "metadata": {
    "collapsed": false,
    "pycharm": {
     "name": "#%%\n"
    }
   }
  },
  {
   "cell_type": "code",
   "execution_count": 8,
   "outputs": [],
   "source": [
    "# 5. Price change in percentile, no NaN so don't need to average\n",
    "def price_change_col(df):\n",
    "    old_price = np.exp(df[\"prop_log_historical_price\"])\n",
    "    return (df[\"price_usd\"] - old_price) / old_price\n",
    "    \n",
    "df[\"price_change\"] = price_change_col(df)\n"
   ],
   "metadata": {
    "collapsed": false,
    "pycharm": {
     "name": "#%%\n"
    }
   }
  },
  {
   "cell_type": "code",
   "execution_count": 9,
   "outputs": [],
   "source": [
    "# 6. Desirability_score as function of location and affinity score\n",
    "\n",
    "# Compute the desirability score as a weighted average of the four measures\n",
    "def desirability_col(df):\n",
    "    desirability_score = np.exp(df[\"srch_query_affinity_score\"]) *  (df[\"prop_location_score1\"] + df[\"prop_location_score2\"])\n",
    "    desirability_score.fillna(desirability_score.mean(), inplace=True)\n",
    "    return desirability_score\n",
    "\n",
    "df[\"desirability_score\"] = desirability_col(df)"
   ],
   "metadata": {
    "collapsed": false,
    "pycharm": {
     "name": "#%%\n"
    }
   }
  },
  {
   "cell_type": "code",
   "execution_count": 10,
   "outputs": [],
   "source": [
    "# 7. Date time to percentile of the day\n",
    "\n",
    "def percent_day_col(df):\n",
    "    df[\"date_time\"] = pd.to_datetime(df[\"date_time\"])\n",
    "    return (df['date_time'].dt.hour * 3600 + df['date_time'].dt.minute * 60 + df['date_time'].dt.second) / 86400\n",
    "\n",
    "def month_col(df):\n",
    "    df[\"date_time\"] = pd.to_datetime(df[\"date_time\"])\n",
    "    return df[\"date_time\"].dt.month\n",
    "\n",
    "def weekend_bool_col(df):\n",
    "    df[\"date_time\"] = pd.to_datetime(df[\"date_time\"])\n",
    "    return df[\"date_time\"].dt.day_of_week\n",
    "\n",
    "df['percentile_of_day'] = percent_day_col(df)\n",
    "df['month'] = month_col(df)\n",
    "df['day_of_week'] = weekend_bool_col(df)\n",
    "# df.drop(columns=[\"date_time\"], inplace=True)"
   ],
   "metadata": {
    "collapsed": false,
    "pycharm": {
     "name": "#%%\n"
    }
   }
  },
  {
   "cell_type": "code",
   "execution_count": 11,
   "outputs": [
    {
     "data": {
      "text/plain": "         srch_id           date_time  site_id  visitor_location_country_id  \\\n0              1 2013-04-04 08:32:15       12                          187   \n1            498 2012-12-23 11:32:22       32                          220   \n2            896 2013-05-09 22:14:57        5                            2   \n3           1495 2013-04-24 02:24:02        5                          219   \n4           2052 2013-01-11 08:10:27        5                          219   \n...          ...                 ...      ...                          ...   \n4958342   332713 2013-04-15 20:51:59       12                           99   \n4958343   332713 2013-04-15 20:51:59       12                           99   \n4958344   332713 2013-04-15 20:51:59       12                           99   \n4958345   332740 2013-02-18 12:17:59       12                           99   \n4958346   332740 2013-02-18 12:17:59       12                           99   \n\n         visitor_hist_starrating  visitor_hist_adr_usd  prop_country_id  \\\n0                            NaN                   NaN              219   \n1                            NaN                   NaN              219   \n2                            NaN                   NaN              219   \n3                            NaN                   NaN              219   \n4                            NaN                   NaN              219   \n...                          ...                   ...              ...   \n4958342                      NaN                   NaN               99   \n4958343                      NaN                   NaN               99   \n4958344                      NaN                   NaN               99   \n4958345                      NaN                   NaN               99   \n4958346                      NaN                   NaN               99   \n\n         prop_id  prop_starrating  prop_review_score  prop_brand_bool  \\\n0            893                3                3.5                1   \n1            893                3                3.5                1   \n2            893                3                3.5                1   \n3            893                3                3.5                1   \n4            893                3                3.5                1   \n...          ...              ...                ...              ...   \n4958342    93842                3                4.0                0   \n4958343   103277                3                5.0                0   \n4958344   135856                4                3.5                0   \n4958345     2284                0                0.0                0   \n4958346    87173                3                4.0                1   \n\n         prop_location_score1  prop_location_score2  \\\n0                        2.83                0.0438   \n1                        2.83                0.0950   \n2                        2.83                0.0438   \n3                        2.83                0.0438   \n4                        2.83                0.0438   \n...                       ...                   ...   \n4958342                  1.61                   NaN   \n4958343                  0.69                0.0242   \n4958344                  2.30                0.1415   \n4958345                  0.00                   NaN   \n4958346                  2.08                   NaN   \n\n         prop_log_historical_price  position  price_usd  promotion_flag  \\\n0                             4.95        27     104.77               0   \n1                             4.96        28      88.37               0   \n2                             4.98        24     126.00               0   \n3                             4.98        28     139.00               0   \n4                             4.96        29     109.00               0   \n...                            ...       ...        ...             ...   \n4958342                       4.83         8      93.85               0   \n4958343                       4.85         2     165.54               0   \n4958344                       5.38         1     155.11               0   \n4958345                       4.82        19      44.06               0   \n4958346                       4.45        25     122.83               0   \n\n         srch_destination_id  srch_length_of_stay  srch_booking_window  \\\n0                      23246                    1                    0   \n1                      25964                    1                    0   \n2                      23246                    1                   16   \n3                      23246                    1                   40   \n4                      23246                    1                    0   \n...                      ...                  ...                  ...   \n4958342                18778                    2                    4   \n4958343                18778                    2                    4   \n4958344                18778                    2                    4   \n4958345                21461                    4                    0   \n4958346                21461                    4                    0   \n\n         srch_adults_count  srch_children_count  srch_room_count  \\\n0                        4                    0                1   \n1                        1                    0                1   \n2                        1                    0                1   \n3                        1                    0                1   \n4                        2                    0                1   \n...                    ...                  ...              ...   \n4958342                  2                    0                1   \n4958343                  2                    0                1   \n4958344                  2                    0                1   \n4958345                  1                    0                1   \n4958346                  1                    0                1   \n\n         srch_saturday_night_bool  srch_query_affinity_score  \\\n0                               1                        NaN   \n1                               0                        NaN   \n2                               1                        NaN   \n3                               0                        NaN   \n4                               1                        NaN   \n...                           ...                        ...   \n4958342                         1                        NaN   \n4958343                         1                        NaN   \n4958344                         1                        NaN   \n4958345                         0                        NaN   \n4958346                         0                        NaN   \n\n         orig_destination_distance  random_bool  comp1_rate  comp1_inv  \\\n0                              NaN            1         NaN        NaN   \n1                          7500.57            0         NaN        NaN   \n2                              NaN            0         NaN        NaN   \n3                              NaN            0         NaN        NaN   \n4                            77.22            0         NaN        NaN   \n...                            ...          ...         ...        ...   \n4958342                        NaN            1         NaN        NaN   \n4958343                        NaN            1         NaN        NaN   \n4958344                        NaN            1         NaN        NaN   \n4958345                        NaN            0         NaN        NaN   \n4958346                        NaN            0         NaN        NaN   \n\n         comp1_rate_percent_diff  comp2_rate  comp2_inv  \\\n0                            NaN         0.0        0.0   \n1                            NaN         0.0        0.0   \n2                            NaN         0.0        0.0   \n3                            NaN         0.0        0.0   \n4                            NaN         0.0        0.0   \n...                          ...         ...        ...   \n4958342                      NaN         NaN        NaN   \n4958343                      NaN         NaN        NaN   \n4958344                      NaN         NaN        NaN   \n4958345                      NaN         NaN        NaN   \n4958346                      NaN         NaN        NaN   \n\n         comp2_rate_percent_diff  comp3_rate  comp3_inv  \\\n0                            NaN         0.0        0.0   \n1                            NaN         0.0        0.0   \n2                            NaN         0.0        0.0   \n3                            NaN         0.0        0.0   \n4                            NaN         0.0        0.0   \n...                          ...         ...        ...   \n4958342                      NaN         NaN        NaN   \n4958343                      NaN         NaN        NaN   \n4958344                      NaN         NaN        NaN   \n4958345                      NaN         NaN        NaN   \n4958346                      NaN         NaN        NaN   \n\n         comp3_rate_percent_diff  comp4_rate  comp4_inv  \\\n0                            NaN         NaN        NaN   \n1                            NaN         NaN        NaN   \n2                            NaN         NaN        NaN   \n3                            NaN         NaN        NaN   \n4                            NaN         NaN        NaN   \n...                          ...         ...        ...   \n4958342                      NaN         NaN        NaN   \n4958343                      NaN         NaN        NaN   \n4958344                      NaN         NaN        NaN   \n4958345                      NaN         NaN        NaN   \n4958346                      NaN         NaN        NaN   \n\n         comp4_rate_percent_diff  comp5_rate  comp5_inv  \\\n0                            NaN         0.0        0.0   \n1                            NaN         NaN        NaN   \n2                            NaN         NaN        NaN   \n3                            NaN         NaN        NaN   \n4                            NaN         NaN        NaN   \n...                          ...         ...        ...   \n4958342                      NaN         NaN       -1.0   \n4958343                      NaN         0.0        0.0   \n4958344                      NaN         0.0        0.0   \n4958345                      NaN        -1.0        0.0   \n4958346                      NaN         0.0        0.0   \n\n         comp5_rate_percent_diff  comp6_rate  comp6_inv  \\\n0                            NaN         NaN        NaN   \n1                            NaN         NaN        NaN   \n2                            NaN         NaN        NaN   \n3                            NaN         NaN        NaN   \n4                            NaN         NaN        NaN   \n...                          ...         ...        ...   \n4958342                      NaN         NaN        NaN   \n4958343                      NaN         0.0        0.0   \n4958344                      NaN         NaN        NaN   \n4958345                     15.0         NaN        NaN   \n4958346                      NaN         NaN        NaN   \n\n         comp6_rate_percent_diff  comp7_rate  comp7_inv  \\\n0                            NaN         NaN        NaN   \n1                            NaN         NaN        NaN   \n2                            NaN         NaN        NaN   \n3                            NaN         NaN        NaN   \n4                            NaN         NaN        NaN   \n...                          ...         ...        ...   \n4958342                      NaN         NaN        NaN   \n4958343                      NaN         NaN        NaN   \n4958344                      NaN         NaN        NaN   \n4958345                      NaN         NaN        NaN   \n4958346                      NaN         NaN        NaN   \n\n         comp7_rate_percent_diff  comp8_rate  comp8_inv  \\\n0                            NaN         0.0        0.0   \n1                            NaN         0.0        0.0   \n2                            NaN         0.0        0.0   \n3                            NaN         NaN        NaN   \n4                            NaN        -1.0        0.0   \n...                          ...         ...        ...   \n4958342                      NaN         NaN        NaN   \n4958343                      NaN         NaN        NaN   \n4958344                      NaN         NaN        NaN   \n4958345                      NaN         NaN        NaN   \n4958346                      NaN         NaN        NaN   \n\n         comp8_rate_percent_diff  click_bool  gross_bookings_usd  \\\n0                            NaN           0                 NaN   \n1                            NaN           0                 NaN   \n2                            NaN           0                 NaN   \n3                            NaN           0                 NaN   \n4                            6.0           0                 NaN   \n...                          ...         ...                 ...   \n4958342                      NaN           0                 NaN   \n4958343                      NaN           0                 NaN   \n4958344                      NaN           0                 NaN   \n4958345                      NaN           0                 NaN   \n4958346                      NaN           0                 NaN   \n\n         booking_bool  prob_clickbook  prob_searchbook  prob_searchclick  \\\n0                   0           0.625          0.01634          0.026144   \n1                   0           0.625          0.01634          0.026144   \n2                   0           0.625          0.01634          0.026144   \n3                   0           0.625          0.01634          0.026144   \n4                   0           0.625          0.01634          0.026144   \n...               ...             ...              ...               ...   \n4958342             0           0.000          0.00000          0.000000   \n4958343             0           0.000          0.00000          0.000000   \n4958344             0           0.000          0.00000          0.000000   \n4958345             0           0.000          0.00000          0.000000   \n4958346             0           0.000          0.00000          0.000000   \n\n         country_pct_rank  comp_mean_rate  comp_better_rate  comp_mean_inv  \\\n0                    0.65       -0.012522                 1      -0.009119   \n1                    0.65       -0.012522                 1      -0.009119   \n2                    0.65       -0.012522                 1      -0.009119   \n3                    0.65       -0.012522                 1      -0.009119   \n4                    0.65       -0.012522                 1      -0.009119   \n...                   ...             ...               ...            ...   \n4958342              0.70             NaN                 0      -1.000000   \n4958343              0.80        0.000000                 1       0.000000   \n4958344              0.75        0.000000                 1       0.000000   \n4958345              0.05       -1.000000                 1       0.000000   \n4958346              0.70        0.000000                 1       0.000000   \n\n         comp_better_inv  price_change  desirability_score  percentile_of_day  \\\n0                      1     -0.257871            0.001449           0.355729   \n1                      1     -0.380268            0.001449           0.480810   \n2                      1     -0.133868            0.001449           0.927049   \n3                      1     -0.044505            0.001449           0.100023   \n4                      1     -0.235591            0.001449           0.340590   \n...                  ...           ...                 ...                ...   \n4958342                1     -0.250465            0.001449           0.869433   \n4958343                1      0.295910            0.001449           0.869433   \n4958344                1     -0.285281            0.001449           0.869433   \n4958345                1     -0.644577            0.001449           0.512488   \n4958346                1      0.434478            0.001449           0.512488   \n\n         month  day_of_week  \n0            4            3  \n1           12            6  \n2            5            3  \n3            4            2  \n4            1            4  \n...        ...          ...  \n4958342      4            0  \n4958343      4            0  \n4958344      4            0  \n4958345      2            0  \n4958346      2            0  \n\n[4958347 rows x 67 columns]",
      "text/html": "<div>\n<style scoped>\n    .dataframe tbody tr th:only-of-type {\n        vertical-align: middle;\n    }\n\n    .dataframe tbody tr th {\n        vertical-align: top;\n    }\n\n    .dataframe thead th {\n        text-align: right;\n    }\n</style>\n<table border=\"1\" class=\"dataframe\">\n  <thead>\n    <tr style=\"text-align: right;\">\n      <th></th>\n      <th>srch_id</th>\n      <th>date_time</th>\n      <th>site_id</th>\n      <th>visitor_location_country_id</th>\n      <th>visitor_hist_starrating</th>\n      <th>visitor_hist_adr_usd</th>\n      <th>prop_country_id</th>\n      <th>prop_id</th>\n      <th>prop_starrating</th>\n      <th>prop_review_score</th>\n      <th>prop_brand_bool</th>\n      <th>prop_location_score1</th>\n      <th>prop_location_score2</th>\n      <th>prop_log_historical_price</th>\n      <th>position</th>\n      <th>price_usd</th>\n      <th>promotion_flag</th>\n      <th>srch_destination_id</th>\n      <th>srch_length_of_stay</th>\n      <th>srch_booking_window</th>\n      <th>srch_adults_count</th>\n      <th>srch_children_count</th>\n      <th>srch_room_count</th>\n      <th>srch_saturday_night_bool</th>\n      <th>srch_query_affinity_score</th>\n      <th>orig_destination_distance</th>\n      <th>random_bool</th>\n      <th>comp1_rate</th>\n      <th>comp1_inv</th>\n      <th>comp1_rate_percent_diff</th>\n      <th>comp2_rate</th>\n      <th>comp2_inv</th>\n      <th>comp2_rate_percent_diff</th>\n      <th>comp3_rate</th>\n      <th>comp3_inv</th>\n      <th>comp3_rate_percent_diff</th>\n      <th>comp4_rate</th>\n      <th>comp4_inv</th>\n      <th>comp4_rate_percent_diff</th>\n      <th>comp5_rate</th>\n      <th>comp5_inv</th>\n      <th>comp5_rate_percent_diff</th>\n      <th>comp6_rate</th>\n      <th>comp6_inv</th>\n      <th>comp6_rate_percent_diff</th>\n      <th>comp7_rate</th>\n      <th>comp7_inv</th>\n      <th>comp7_rate_percent_diff</th>\n      <th>comp8_rate</th>\n      <th>comp8_inv</th>\n      <th>comp8_rate_percent_diff</th>\n      <th>click_bool</th>\n      <th>gross_bookings_usd</th>\n      <th>booking_bool</th>\n      <th>prob_clickbook</th>\n      <th>prob_searchbook</th>\n      <th>prob_searchclick</th>\n      <th>country_pct_rank</th>\n      <th>comp_mean_rate</th>\n      <th>comp_better_rate</th>\n      <th>comp_mean_inv</th>\n      <th>comp_better_inv</th>\n      <th>price_change</th>\n      <th>desirability_score</th>\n      <th>percentile_of_day</th>\n      <th>month</th>\n      <th>day_of_week</th>\n    </tr>\n  </thead>\n  <tbody>\n    <tr>\n      <th>0</th>\n      <td>1</td>\n      <td>2013-04-04 08:32:15</td>\n      <td>12</td>\n      <td>187</td>\n      <td>NaN</td>\n      <td>NaN</td>\n      <td>219</td>\n      <td>893</td>\n      <td>3</td>\n      <td>3.5</td>\n      <td>1</td>\n      <td>2.83</td>\n      <td>0.0438</td>\n      <td>4.95</td>\n      <td>27</td>\n      <td>104.77</td>\n      <td>0</td>\n      <td>23246</td>\n      <td>1</td>\n      <td>0</td>\n      <td>4</td>\n      <td>0</td>\n      <td>1</td>\n      <td>1</td>\n      <td>NaN</td>\n      <td>NaN</td>\n      <td>1</td>\n      <td>NaN</td>\n      <td>NaN</td>\n      <td>NaN</td>\n      <td>0.0</td>\n      <td>0.0</td>\n      <td>NaN</td>\n      <td>0.0</td>\n      <td>0.0</td>\n      <td>NaN</td>\n      <td>NaN</td>\n      <td>NaN</td>\n      <td>NaN</td>\n      <td>0.0</td>\n      <td>0.0</td>\n      <td>NaN</td>\n      <td>NaN</td>\n      <td>NaN</td>\n      <td>NaN</td>\n      <td>NaN</td>\n      <td>NaN</td>\n      <td>NaN</td>\n      <td>0.0</td>\n      <td>0.0</td>\n      <td>NaN</td>\n      <td>0</td>\n      <td>NaN</td>\n      <td>0</td>\n      <td>0.625</td>\n      <td>0.01634</td>\n      <td>0.026144</td>\n      <td>0.65</td>\n      <td>-0.012522</td>\n      <td>1</td>\n      <td>-0.009119</td>\n      <td>1</td>\n      <td>-0.257871</td>\n      <td>0.001449</td>\n      <td>0.355729</td>\n      <td>4</td>\n      <td>3</td>\n    </tr>\n    <tr>\n      <th>1</th>\n      <td>498</td>\n      <td>2012-12-23 11:32:22</td>\n      <td>32</td>\n      <td>220</td>\n      <td>NaN</td>\n      <td>NaN</td>\n      <td>219</td>\n      <td>893</td>\n      <td>3</td>\n      <td>3.5</td>\n      <td>1</td>\n      <td>2.83</td>\n      <td>0.0950</td>\n      <td>4.96</td>\n      <td>28</td>\n      <td>88.37</td>\n      <td>0</td>\n      <td>25964</td>\n      <td>1</td>\n      <td>0</td>\n      <td>1</td>\n      <td>0</td>\n      <td>1</td>\n      <td>0</td>\n      <td>NaN</td>\n      <td>7500.57</td>\n      <td>0</td>\n      <td>NaN</td>\n      <td>NaN</td>\n      <td>NaN</td>\n      <td>0.0</td>\n      <td>0.0</td>\n      <td>NaN</td>\n      <td>0.0</td>\n      <td>0.0</td>\n      <td>NaN</td>\n      <td>NaN</td>\n      <td>NaN</td>\n      <td>NaN</td>\n      <td>NaN</td>\n      <td>NaN</td>\n      <td>NaN</td>\n      <td>NaN</td>\n      <td>NaN</td>\n      <td>NaN</td>\n      <td>NaN</td>\n      <td>NaN</td>\n      <td>NaN</td>\n      <td>0.0</td>\n      <td>0.0</td>\n      <td>NaN</td>\n      <td>0</td>\n      <td>NaN</td>\n      <td>0</td>\n      <td>0.625</td>\n      <td>0.01634</td>\n      <td>0.026144</td>\n      <td>0.65</td>\n      <td>-0.012522</td>\n      <td>1</td>\n      <td>-0.009119</td>\n      <td>1</td>\n      <td>-0.380268</td>\n      <td>0.001449</td>\n      <td>0.480810</td>\n      <td>12</td>\n      <td>6</td>\n    </tr>\n    <tr>\n      <th>2</th>\n      <td>896</td>\n      <td>2013-05-09 22:14:57</td>\n      <td>5</td>\n      <td>2</td>\n      <td>NaN</td>\n      <td>NaN</td>\n      <td>219</td>\n      <td>893</td>\n      <td>3</td>\n      <td>3.5</td>\n      <td>1</td>\n      <td>2.83</td>\n      <td>0.0438</td>\n      <td>4.98</td>\n      <td>24</td>\n      <td>126.00</td>\n      <td>0</td>\n      <td>23246</td>\n      <td>1</td>\n      <td>16</td>\n      <td>1</td>\n      <td>0</td>\n      <td>1</td>\n      <td>1</td>\n      <td>NaN</td>\n      <td>NaN</td>\n      <td>0</td>\n      <td>NaN</td>\n      <td>NaN</td>\n      <td>NaN</td>\n      <td>0.0</td>\n      <td>0.0</td>\n      <td>NaN</td>\n      <td>0.0</td>\n      <td>0.0</td>\n      <td>NaN</td>\n      <td>NaN</td>\n      <td>NaN</td>\n      <td>NaN</td>\n      <td>NaN</td>\n      <td>NaN</td>\n      <td>NaN</td>\n      <td>NaN</td>\n      <td>NaN</td>\n      <td>NaN</td>\n      <td>NaN</td>\n      <td>NaN</td>\n      <td>NaN</td>\n      <td>0.0</td>\n      <td>0.0</td>\n      <td>NaN</td>\n      <td>0</td>\n      <td>NaN</td>\n      <td>0</td>\n      <td>0.625</td>\n      <td>0.01634</td>\n      <td>0.026144</td>\n      <td>0.65</td>\n      <td>-0.012522</td>\n      <td>1</td>\n      <td>-0.009119</td>\n      <td>1</td>\n      <td>-0.133868</td>\n      <td>0.001449</td>\n      <td>0.927049</td>\n      <td>5</td>\n      <td>3</td>\n    </tr>\n    <tr>\n      <th>3</th>\n      <td>1495</td>\n      <td>2013-04-24 02:24:02</td>\n      <td>5</td>\n      <td>219</td>\n      <td>NaN</td>\n      <td>NaN</td>\n      <td>219</td>\n      <td>893</td>\n      <td>3</td>\n      <td>3.5</td>\n      <td>1</td>\n      <td>2.83</td>\n      <td>0.0438</td>\n      <td>4.98</td>\n      <td>28</td>\n      <td>139.00</td>\n      <td>0</td>\n      <td>23246</td>\n      <td>1</td>\n      <td>40</td>\n      <td>1</td>\n      <td>0</td>\n      <td>1</td>\n      <td>0</td>\n      <td>NaN</td>\n      <td>NaN</td>\n      <td>0</td>\n      <td>NaN</td>\n      <td>NaN</td>\n      <td>NaN</td>\n      <td>0.0</td>\n      <td>0.0</td>\n      <td>NaN</td>\n      <td>0.0</td>\n      <td>0.0</td>\n      <td>NaN</td>\n      <td>NaN</td>\n      <td>NaN</td>\n      <td>NaN</td>\n      <td>NaN</td>\n      <td>NaN</td>\n      <td>NaN</td>\n      <td>NaN</td>\n      <td>NaN</td>\n      <td>NaN</td>\n      <td>NaN</td>\n      <td>NaN</td>\n      <td>NaN</td>\n      <td>NaN</td>\n      <td>NaN</td>\n      <td>NaN</td>\n      <td>0</td>\n      <td>NaN</td>\n      <td>0</td>\n      <td>0.625</td>\n      <td>0.01634</td>\n      <td>0.026144</td>\n      <td>0.65</td>\n      <td>-0.012522</td>\n      <td>1</td>\n      <td>-0.009119</td>\n      <td>1</td>\n      <td>-0.044505</td>\n      <td>0.001449</td>\n      <td>0.100023</td>\n      <td>4</td>\n      <td>2</td>\n    </tr>\n    <tr>\n      <th>4</th>\n      <td>2052</td>\n      <td>2013-01-11 08:10:27</td>\n      <td>5</td>\n      <td>219</td>\n      <td>NaN</td>\n      <td>NaN</td>\n      <td>219</td>\n      <td>893</td>\n      <td>3</td>\n      <td>3.5</td>\n      <td>1</td>\n      <td>2.83</td>\n      <td>0.0438</td>\n      <td>4.96</td>\n      <td>29</td>\n      <td>109.00</td>\n      <td>0</td>\n      <td>23246</td>\n      <td>1</td>\n      <td>0</td>\n      <td>2</td>\n      <td>0</td>\n      <td>1</td>\n      <td>1</td>\n      <td>NaN</td>\n      <td>77.22</td>\n      <td>0</td>\n      <td>NaN</td>\n      <td>NaN</td>\n      <td>NaN</td>\n      <td>0.0</td>\n      <td>0.0</td>\n      <td>NaN</td>\n      <td>0.0</td>\n      <td>0.0</td>\n      <td>NaN</td>\n      <td>NaN</td>\n      <td>NaN</td>\n      <td>NaN</td>\n      <td>NaN</td>\n      <td>NaN</td>\n      <td>NaN</td>\n      <td>NaN</td>\n      <td>NaN</td>\n      <td>NaN</td>\n      <td>NaN</td>\n      <td>NaN</td>\n      <td>NaN</td>\n      <td>-1.0</td>\n      <td>0.0</td>\n      <td>6.0</td>\n      <td>0</td>\n      <td>NaN</td>\n      <td>0</td>\n      <td>0.625</td>\n      <td>0.01634</td>\n      <td>0.026144</td>\n      <td>0.65</td>\n      <td>-0.012522</td>\n      <td>1</td>\n      <td>-0.009119</td>\n      <td>1</td>\n      <td>-0.235591</td>\n      <td>0.001449</td>\n      <td>0.340590</td>\n      <td>1</td>\n      <td>4</td>\n    </tr>\n    <tr>\n      <th>...</th>\n      <td>...</td>\n      <td>...</td>\n      <td>...</td>\n      <td>...</td>\n      <td>...</td>\n      <td>...</td>\n      <td>...</td>\n      <td>...</td>\n      <td>...</td>\n      <td>...</td>\n      <td>...</td>\n      <td>...</td>\n      <td>...</td>\n      <td>...</td>\n      <td>...</td>\n      <td>...</td>\n      <td>...</td>\n      <td>...</td>\n      <td>...</td>\n      <td>...</td>\n      <td>...</td>\n      <td>...</td>\n      <td>...</td>\n      <td>...</td>\n      <td>...</td>\n      <td>...</td>\n      <td>...</td>\n      <td>...</td>\n      <td>...</td>\n      <td>...</td>\n      <td>...</td>\n      <td>...</td>\n      <td>...</td>\n      <td>...</td>\n      <td>...</td>\n      <td>...</td>\n      <td>...</td>\n      <td>...</td>\n      <td>...</td>\n      <td>...</td>\n      <td>...</td>\n      <td>...</td>\n      <td>...</td>\n      <td>...</td>\n      <td>...</td>\n      <td>...</td>\n      <td>...</td>\n      <td>...</td>\n      <td>...</td>\n      <td>...</td>\n      <td>...</td>\n      <td>...</td>\n      <td>...</td>\n      <td>...</td>\n      <td>...</td>\n      <td>...</td>\n      <td>...</td>\n      <td>...</td>\n      <td>...</td>\n      <td>...</td>\n      <td>...</td>\n      <td>...</td>\n      <td>...</td>\n      <td>...</td>\n      <td>...</td>\n      <td>...</td>\n      <td>...</td>\n    </tr>\n    <tr>\n      <th>4958342</th>\n      <td>332713</td>\n      <td>2013-04-15 20:51:59</td>\n      <td>12</td>\n      <td>99</td>\n      <td>NaN</td>\n      <td>NaN</td>\n      <td>99</td>\n      <td>93842</td>\n      <td>3</td>\n      <td>4.0</td>\n      <td>0</td>\n      <td>1.61</td>\n      <td>NaN</td>\n      <td>4.83</td>\n      <td>8</td>\n      <td>93.85</td>\n      <td>0</td>\n      <td>18778</td>\n      <td>2</td>\n      <td>4</td>\n      <td>2</td>\n      <td>0</td>\n      <td>1</td>\n      <td>1</td>\n      <td>NaN</td>\n      <td>NaN</td>\n      <td>1</td>\n      <td>NaN</td>\n      <td>NaN</td>\n      <td>NaN</td>\n      <td>NaN</td>\n      <td>NaN</td>\n      <td>NaN</td>\n      <td>NaN</td>\n      <td>NaN</td>\n      <td>NaN</td>\n      <td>NaN</td>\n      <td>NaN</td>\n      <td>NaN</td>\n      <td>NaN</td>\n      <td>-1.0</td>\n      <td>NaN</td>\n      <td>NaN</td>\n      <td>NaN</td>\n      <td>NaN</td>\n      <td>NaN</td>\n      <td>NaN</td>\n      <td>NaN</td>\n      <td>NaN</td>\n      <td>NaN</td>\n      <td>NaN</td>\n      <td>0</td>\n      <td>NaN</td>\n      <td>0</td>\n      <td>0.000</td>\n      <td>0.00000</td>\n      <td>0.000000</td>\n      <td>0.70</td>\n      <td>NaN</td>\n      <td>0</td>\n      <td>-1.000000</td>\n      <td>1</td>\n      <td>-0.250465</td>\n      <td>0.001449</td>\n      <td>0.869433</td>\n      <td>4</td>\n      <td>0</td>\n    </tr>\n    <tr>\n      <th>4958343</th>\n      <td>332713</td>\n      <td>2013-04-15 20:51:59</td>\n      <td>12</td>\n      <td>99</td>\n      <td>NaN</td>\n      <td>NaN</td>\n      <td>99</td>\n      <td>103277</td>\n      <td>3</td>\n      <td>5.0</td>\n      <td>0</td>\n      <td>0.69</td>\n      <td>0.0242</td>\n      <td>4.85</td>\n      <td>2</td>\n      <td>165.54</td>\n      <td>0</td>\n      <td>18778</td>\n      <td>2</td>\n      <td>4</td>\n      <td>2</td>\n      <td>0</td>\n      <td>1</td>\n      <td>1</td>\n      <td>NaN</td>\n      <td>NaN</td>\n      <td>1</td>\n      <td>NaN</td>\n      <td>NaN</td>\n      <td>NaN</td>\n      <td>NaN</td>\n      <td>NaN</td>\n      <td>NaN</td>\n      <td>NaN</td>\n      <td>NaN</td>\n      <td>NaN</td>\n      <td>NaN</td>\n      <td>NaN</td>\n      <td>NaN</td>\n      <td>0.0</td>\n      <td>0.0</td>\n      <td>NaN</td>\n      <td>0.0</td>\n      <td>0.0</td>\n      <td>NaN</td>\n      <td>NaN</td>\n      <td>NaN</td>\n      <td>NaN</td>\n      <td>NaN</td>\n      <td>NaN</td>\n      <td>NaN</td>\n      <td>0</td>\n      <td>NaN</td>\n      <td>0</td>\n      <td>0.000</td>\n      <td>0.00000</td>\n      <td>0.000000</td>\n      <td>0.80</td>\n      <td>0.000000</td>\n      <td>1</td>\n      <td>0.000000</td>\n      <td>1</td>\n      <td>0.295910</td>\n      <td>0.001449</td>\n      <td>0.869433</td>\n      <td>4</td>\n      <td>0</td>\n    </tr>\n    <tr>\n      <th>4958344</th>\n      <td>332713</td>\n      <td>2013-04-15 20:51:59</td>\n      <td>12</td>\n      <td>99</td>\n      <td>NaN</td>\n      <td>NaN</td>\n      <td>99</td>\n      <td>135856</td>\n      <td>4</td>\n      <td>3.5</td>\n      <td>0</td>\n      <td>2.30</td>\n      <td>0.1415</td>\n      <td>5.38</td>\n      <td>1</td>\n      <td>155.11</td>\n      <td>0</td>\n      <td>18778</td>\n      <td>2</td>\n      <td>4</td>\n      <td>2</td>\n      <td>0</td>\n      <td>1</td>\n      <td>1</td>\n      <td>NaN</td>\n      <td>NaN</td>\n      <td>1</td>\n      <td>NaN</td>\n      <td>NaN</td>\n      <td>NaN</td>\n      <td>NaN</td>\n      <td>NaN</td>\n      <td>NaN</td>\n      <td>NaN</td>\n      <td>NaN</td>\n      <td>NaN</td>\n      <td>NaN</td>\n      <td>NaN</td>\n      <td>NaN</td>\n      <td>0.0</td>\n      <td>0.0</td>\n      <td>NaN</td>\n      <td>NaN</td>\n      <td>NaN</td>\n      <td>NaN</td>\n      <td>NaN</td>\n      <td>NaN</td>\n      <td>NaN</td>\n      <td>NaN</td>\n      <td>NaN</td>\n      <td>NaN</td>\n      <td>0</td>\n      <td>NaN</td>\n      <td>0</td>\n      <td>0.000</td>\n      <td>0.00000</td>\n      <td>0.000000</td>\n      <td>0.75</td>\n      <td>0.000000</td>\n      <td>1</td>\n      <td>0.000000</td>\n      <td>1</td>\n      <td>-0.285281</td>\n      <td>0.001449</td>\n      <td>0.869433</td>\n      <td>4</td>\n      <td>0</td>\n    </tr>\n    <tr>\n      <th>4958345</th>\n      <td>332740</td>\n      <td>2013-02-18 12:17:59</td>\n      <td>12</td>\n      <td>99</td>\n      <td>NaN</td>\n      <td>NaN</td>\n      <td>99</td>\n      <td>2284</td>\n      <td>0</td>\n      <td>0.0</td>\n      <td>0</td>\n      <td>0.00</td>\n      <td>NaN</td>\n      <td>4.82</td>\n      <td>19</td>\n      <td>44.06</td>\n      <td>0</td>\n      <td>21461</td>\n      <td>4</td>\n      <td>0</td>\n      <td>1</td>\n      <td>0</td>\n      <td>1</td>\n      <td>0</td>\n      <td>NaN</td>\n      <td>NaN</td>\n      <td>0</td>\n      <td>NaN</td>\n      <td>NaN</td>\n      <td>NaN</td>\n      <td>NaN</td>\n      <td>NaN</td>\n      <td>NaN</td>\n      <td>NaN</td>\n      <td>NaN</td>\n      <td>NaN</td>\n      <td>NaN</td>\n      <td>NaN</td>\n      <td>NaN</td>\n      <td>-1.0</td>\n      <td>0.0</td>\n      <td>15.0</td>\n      <td>NaN</td>\n      <td>NaN</td>\n      <td>NaN</td>\n      <td>NaN</td>\n      <td>NaN</td>\n      <td>NaN</td>\n      <td>NaN</td>\n      <td>NaN</td>\n      <td>NaN</td>\n      <td>0</td>\n      <td>NaN</td>\n      <td>0</td>\n      <td>0.000</td>\n      <td>0.00000</td>\n      <td>0.000000</td>\n      <td>0.05</td>\n      <td>-1.000000</td>\n      <td>1</td>\n      <td>0.000000</td>\n      <td>1</td>\n      <td>-0.644577</td>\n      <td>0.001449</td>\n      <td>0.512488</td>\n      <td>2</td>\n      <td>0</td>\n    </tr>\n    <tr>\n      <th>4958346</th>\n      <td>332740</td>\n      <td>2013-02-18 12:17:59</td>\n      <td>12</td>\n      <td>99</td>\n      <td>NaN</td>\n      <td>NaN</td>\n      <td>99</td>\n      <td>87173</td>\n      <td>3</td>\n      <td>4.0</td>\n      <td>1</td>\n      <td>2.08</td>\n      <td>NaN</td>\n      <td>4.45</td>\n      <td>25</td>\n      <td>122.83</td>\n      <td>0</td>\n      <td>21461</td>\n      <td>4</td>\n      <td>0</td>\n      <td>1</td>\n      <td>0</td>\n      <td>1</td>\n      <td>0</td>\n      <td>NaN</td>\n      <td>NaN</td>\n      <td>0</td>\n      <td>NaN</td>\n      <td>NaN</td>\n      <td>NaN</td>\n      <td>NaN</td>\n      <td>NaN</td>\n      <td>NaN</td>\n      <td>NaN</td>\n      <td>NaN</td>\n      <td>NaN</td>\n      <td>NaN</td>\n      <td>NaN</td>\n      <td>NaN</td>\n      <td>0.0</td>\n      <td>0.0</td>\n      <td>NaN</td>\n      <td>NaN</td>\n      <td>NaN</td>\n      <td>NaN</td>\n      <td>NaN</td>\n      <td>NaN</td>\n      <td>NaN</td>\n      <td>NaN</td>\n      <td>NaN</td>\n      <td>NaN</td>\n      <td>0</td>\n      <td>NaN</td>\n      <td>0</td>\n      <td>0.000</td>\n      <td>0.00000</td>\n      <td>0.000000</td>\n      <td>0.70</td>\n      <td>0.000000</td>\n      <td>1</td>\n      <td>0.000000</td>\n      <td>1</td>\n      <td>0.434478</td>\n      <td>0.001449</td>\n      <td>0.512488</td>\n      <td>2</td>\n      <td>0</td>\n    </tr>\n  </tbody>\n</table>\n<p>4958347 rows × 67 columns</p>\n</div>"
     },
     "execution_count": 11,
     "metadata": {},
     "output_type": "execute_result"
    }
   ],
   "source": [
    "df"
   ],
   "metadata": {
    "collapsed": false,
    "pycharm": {
     "name": "#%%\n"
    }
   }
  },
  {
   "cell_type": "code",
   "execution_count": 12,
   "outputs": [],
   "source": [
    "def usa_col(df):\n",
    "    # Encode visitor/hotel from USA (approx. 50% of visitors)\n",
    "    # idx visitor  hotel  encoding\n",
    "    # 0     1     1        2\n",
    "    # 1     0     0        0\n",
    "    # 2     1     0        1\n",
    "    # 3     0     1       -1\n",
    "    visitor_us = (df[\"visitor_location_country_id\"] == 219).astype(int)\n",
    "    hotel_us = (df[\"prop_country_id\"] == 219).astype(int)\n",
    "    return np.where(visitor_us != hotel_us, visitor_us - hotel_us, hotel_us*2)\n",
    "\n",
    "df[\"within_us\"] =  usa_col(df)"
   ],
   "metadata": {
    "collapsed": false,
    "pycharm": {
     "name": "#%%\n"
    }
   }
  },
  {
   "cell_type": "markdown",
   "source": [],
   "metadata": {
    "collapsed": false,
    "pycharm": {
     "name": "#%% md\n"
    }
   }
  },
  {
   "cell_type": "code",
   "execution_count": 13,
   "outputs": [],
   "source": [
    "df.to_csv(\"data/FE_training_set.csv\")\n",
    "# df.to_csv(\"data/train_train.csv\")"
   ],
   "metadata": {
    "collapsed": false,
    "pycharm": {
     "name": "#%%\n"
    }
   }
  },
  {
   "cell_type": "markdown",
   "source": [
    "## Test set\n",
    "\n",
    "- need to add expected click stuff here too, but using values from train set bc. dont have test set values"
   ],
   "metadata": {
    "collapsed": false,
    "pycharm": {
     "name": "#%% md\n"
    }
   }
  },
  {
   "cell_type": "code",
   "execution_count": null,
   "outputs": [],
   "source": [
    "df_test = pd.read_csv(\"data/test_set_VU_DM.csv\")\n",
    "# df_test = pd.read_csv(\"data/train_test.csv\")"
   ],
   "metadata": {
    "collapsed": false,
    "pycharm": {
     "name": "#%%\n",
     "is_executing": true
    }
   }
  },
  {
   "cell_type": "code",
   "execution_count": null,
   "outputs": [],
   "source": [
    "len_test_original = len(df_test)\n",
    "len_test_original"
   ],
   "metadata": {
    "collapsed": false,
    "pycharm": {
     "name": "#%%\n",
     "is_executing": true
    }
   }
  },
  {
   "cell_type": "code",
   "execution_count": null,
   "outputs": [],
   "source": [
    "df_train = df.copy(deep=True)"
   ],
   "metadata": {
    "collapsed": false,
    "pycharm": {
     "name": "#%%\n",
     "is_executing": true
    }
   }
  },
  {
   "cell_type": "markdown",
   "source": [
    "#### Copy click, search, booking columns to test dataset\n",
    "Dataset with len(unique hotels that are in both).\n",
    "\n",
    "With only the new columns to copy them to the test data for the matching hotels."
   ],
   "metadata": {
    "collapsed": false,
    "pycharm": {
     "name": "#%% md\n"
    }
   }
  },
  {
   "cell_type": "code",
   "execution_count": null,
   "outputs": [],
   "source": [
    "test_props = df_test[\"prop_id\"].unique()\n",
    "train_props = df_train[\"prop_id\"].unique() \n",
    "\n",
    "# training dataset, but only the properties that are in the test set too\n",
    "train_df_intersect = df_train[df_train[\"prop_id\"].isin(np.intersect1d(test_props,train_props))]  \n",
    "\n",
    "# select the columns we added before\n",
    "clicks_train = train_df_intersect[[\"prop_id\",\"prob_clickbook\",\"prob_searchbook\",\n",
    "                                      \"prob_searchclick\",\"country_pct_rank\"]]\n",
    "\n",
    "# reduce the nr of rows to unique entries\n",
    "clicks_train= clicks_train.groupby(\"prop_id\").mean() \n",
    "clicks_train[\"in_train\"] = 1 # bool column if was already in training set\n",
    "clicks_train.reset_index(inplace=True)"
   ],
   "metadata": {
    "collapsed": false,
    "pycharm": {
     "name": "#%%\n",
     "is_executing": true
    }
   }
  },
  {
   "cell_type": "code",
   "execution_count": null,
   "outputs": [],
   "source": [
    "df_test = df_test.merge(clicks_train, on=\"prop_id\",how=\"left\") "
   ],
   "metadata": {
    "collapsed": false,
    "pycharm": {
     "name": "#%%\n",
     "is_executing": true
    }
   }
  },
  {
   "cell_type": "code",
   "execution_count": null,
   "outputs": [],
   "source": [
    "df_test[\"in_train\"].fillna(0, inplace=True) # if property not in training set, fill with 0"
   ],
   "metadata": {
    "collapsed": false,
    "pycharm": {
     "name": "#%%\n",
     "is_executing": true
    }
   }
  },
  {
   "cell_type": "markdown",
   "source": [
    "##### Rank of the hotel must be computed using both the test and training set"
   ],
   "metadata": {
    "collapsed": false,
    "pycharm": {
     "name": "#%% md\n"
    }
   }
  },
  {
   "cell_type": "markdown",
   "source": [
    "#### All other features must be computed for all rows in the test set\n",
    "- compute hotel rank with whole test set, but only update hotels that are new"
   ],
   "metadata": {
    "collapsed": false,
    "pycharm": {
     "name": "#%% md\n"
    }
   }
  },
  {
   "cell_type": "code",
   "execution_count": null,
   "outputs": [],
   "source": [
    "# add ranking \n",
    "save = df_test.copy()\n",
    "len(save)"
   ],
   "metadata": {
    "collapsed": false,
    "pycharm": {
     "name": "#%%\n",
     "is_executing": true
    }
   }
  },
  {
   "cell_type": "code",
   "execution_count": null,
   "outputs": [],
   "source": [
    "df_test = save.copy()"
   ],
   "metadata": {
    "collapsed": false,
    "pycharm": {
     "name": "#%%\n",
     "is_executing": true
    }
   }
  },
  {
   "cell_type": "code",
   "execution_count": null,
   "outputs": [],
   "source": [
    "# apply ranking, filter out new hotels and appy only there\n",
    "temp = hotel_country_rank_df(df_test)\n",
    "hotels_not_in_train = df_test[df_test[\"in_train\"]==0][\"prop_id\"].unique()\n",
    "temp = temp[temp[\"prop_id\"].isin(hotels_not_in_train)]\n",
    "\n",
    "# fill nan values of the missing ranks_rank_x\",\"country_pct_rank_y\"], inplace=True)"
   ],
   "metadata": {
    "collapsed": false,
    "pycharm": {
     "name": "#%%\n",
     "is_executing": true
    }
   }
  },
  {
   "cell_type": "code",
   "execution_count": null,
   "outputs": [],
   "source": [
    "df_test = df_test.merge(temp,on=\"prop_id\",how=\"left\")"
   ],
   "metadata": {
    "collapsed": false,
    "pycharm": {
     "name": "#%%\n",
     "is_executing": true
    }
   }
  },
  {
   "cell_type": "code",
   "execution_count": null,
   "outputs": [],
   "source": [
    "#  for the new hotels with the values from the testranking\n",
    "df_test = df_test.merge(temp,on=\"prop_id\",how=\"left\")\n",
    "df_test[\"country_pct_rank\"] = df_test['country_pct_rank_x'].combine_first(df_test['country_pct_rank_y'])\n",
    "df_test.drop(columns=[\"country_pct_rank_x\",\"country_pct_rank_y\"],inplace=True)"
   ],
   "metadata": {
    "collapsed": false,
    "pycharm": {
     "name": "#%%\n",
     "is_executing": true
    }
   }
  },
  {
   "cell_type": "code",
   "execution_count": null,
   "outputs": [],
   "source": [
    "df_test = df_test.merge(competitor_df(df_test), on=\"prop_id\")"
   ],
   "metadata": {
    "collapsed": false,
    "pycharm": {
     "name": "#%%\n",
     "is_executing": true
    }
   }
  },
  {
   "cell_type": "code",
   "execution_count": null,
   "outputs": [],
   "source": [
    "df_test[\"price_change\"] = price_change_col(df_test)\n",
    "df_test[\"desirability_score\"] = desirability_col(df_test)\n",
    "df_test['percentile_of_day'] = percent_day_col(df_test)\n",
    "df['month'] = month_col(df_test)\n",
    "df['day_of_week'] = weekend_bool_col(df_test)\n",
    "df_test[\"within_us\"] =  usa_col(df_test)"
   ],
   "metadata": {
    "collapsed": false,
    "pycharm": {
     "name": "#%%\n",
     "is_executing": true
    }
   }
  },
  {
   "cell_type": "code",
   "execution_count": null,
   "outputs": [],
   "source": [
    "df_test"
   ],
   "metadata": {
    "collapsed": false,
    "pycharm": {
     "name": "#%%\n",
     "is_executing": true
    }
   }
  },
  {
   "cell_type": "code",
   "execution_count": null,
   "outputs": [],
   "source": [
    "# df_test.drop(columns=rate_cols+inv_cols+rate_perc_cols+[\"date_time\"], inplace=True)"
   ],
   "metadata": {
    "collapsed": false,
    "pycharm": {
     "name": "#%%\n"
    }
   }
  },
  {
   "cell_type": "code",
   "execution_count": null,
   "outputs": [],
   "source": [
    "len(df_test) - 4959183"
   ],
   "metadata": {
    "collapsed": false,
    "pycharm": {
     "name": "#%%\n"
    }
   }
  },
  {
   "cell_type": "code",
   "execution_count": null,
   "outputs": [],
   "source": [
    "# both datasets have all the added columns\n",
    "np.setdiff1d(df_train.columns, df_test.columns)"
   ],
   "metadata": {
    "collapsed": false,
    "pycharm": {
     "name": "#%%\n"
    }
   }
  },
  {
   "cell_type": "code",
   "execution_count": null,
   "outputs": [],
   "source": [
    "df_test.to_csv(\"data/FE_test_set.csv\")\n",
    "# df_test.to_csv(\"data/train_test_FE.csv\")"
   ],
   "metadata": {
    "collapsed": false,
    "pycharm": {
     "name": "#%%\n"
    }
   }
  },
  {
   "cell_type": "code",
   "execution_count": null,
   "metadata": {},
   "outputs": [],
   "source": []
  }
 ],
 "metadata": {
  "kernelspec": {
   "display_name": "Python 3 (ipykernel)",
   "language": "python",
   "name": "python3"
  },
  "language_info": {
   "codemirror_mode": {
    "name": "ipython",
    "version": 3
   },
   "file_extension": ".py",
   "mimetype": "text/x-python",
   "name": "python",
   "nbconvert_exporter": "python",
   "pygments_lexer": "ipython3",
   "version": "3.11.3"
  }
 },
 "nbformat": 4,
 "nbformat_minor": 1
}