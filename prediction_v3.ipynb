{
 "cells": [
  {
   "cell_type": "code",
   "execution_count": 2,
   "outputs": [],
   "source": [
    "import modelling"
   ],
   "metadata": {
    "collapsed": false,
    "pycharm": {
     "name": "#%%\n"
    }
   }
  },
  {
   "cell_type": "code",
   "execution_count": 3,
   "outputs": [
    {
     "name": "stderr",
     "output_type": "stream",
     "text": [
      "/Users/paulhosek/PycharmProjects/DataMining/modelling.py:33: SettingWithCopyWarning: \n",
      "A value is trying to be set on a copy of a slice from a DataFrame\n",
      "\n",
      "See the caveats in the documentation: https://pandas.pydata.org/pandas-docs/stable/user_guide/indexing.html#returning-a-view-versus-a-copy\n",
      "  temp_df['target'].loc[temp_df['target'].isna()] = int(0)\n",
      "/Users/paulhosek/PycharmProjects/DataMining/modelling.py:33: SettingWithCopyWarning: \n",
      "A value is trying to be set on a copy of a slice from a DataFrame\n",
      "\n",
      "See the caveats in the documentation: https://pandas.pydata.org/pandas-docs/stable/user_guide/indexing.html#returning-a-view-versus-a-copy\n",
      "  temp_df['target'].loc[temp_df['target'].isna()] = int(0)\n"
     ]
    }
   ],
   "source": [
    "train_data = modelling.import_df(\"train_train.csv\")\n",
    "test_data = modelling.import_df(\"train_test.csv\")"
   ],
   "metadata": {
    "collapsed": false,
    "pycharm": {
     "name": "#%%\n"
    }
   }
  },
  {
   "cell_type": "code",
   "execution_count": 4,
   "outputs": [],
   "source": [
    "X_under, y_under = modelling.undersample(train_data,test_data)"
   ],
   "metadata": {
    "collapsed": false,
    "pycharm": {
     "name": "#%%\n"
    }
   }
  },
  {
   "cell_type": "code",
   "execution_count": 5,
   "outputs": [],
   "source": [
    "X_bal, y_bal = modelling.balance(train_data)"
   ],
   "metadata": {
    "collapsed": false,
    "pycharm": {
     "name": "#%%\n"
    }
   }
  },
  {
   "cell_type": "code",
   "execution_count": 6,
   "outputs": [],
   "source": [
    "X_bal = modelling.drop_comp_cols(X_bal)"
   ],
   "metadata": {
    "collapsed": false,
    "pycharm": {
     "name": "#%%\n"
    }
   }
  },
  {
   "cell_type": "code",
   "execution_count": 7,
   "outputs": [],
   "source": [
    "groups = modelling.build_groups(X_bal)"
   ],
   "metadata": {
    "collapsed": false,
    "pycharm": {
     "name": "#%%\n"
    }
   }
  },
  {
   "cell_type": "code",
   "execution_count": 8,
   "outputs": [],
   "source": [
    "minutes_runtime=1\n",
    "my_params = {\n",
    "    \"task\": \"rank\",\n",
    "    \"groups\": groups,\n",
    "    \"time_budget\": round(minutes_runtime * 60,0),\n",
    "    \"metric\": \"ndcg\",\n",
    "    \"estimator_list\": [\"lgbm\"]\n",
    "}"
   ],
   "metadata": {
    "collapsed": false,
    "pycharm": {
     "name": "#%%\n"
    }
   }
  },
  {
   "cell_type": "code",
   "execution_count": 9,
   "outputs": [
    {
     "name": "stdout",
     "output_type": "stream",
     "text": [
      "[flaml.automl.logger: 05-18 16:35:13] {1693} INFO - task = rank\n",
      "[flaml.automl.logger: 05-18 16:35:13] {1700} INFO - Data split method: group\n",
      "[flaml.automl.logger: 05-18 16:35:13] {1703} INFO - Evaluation method: holdout\n",
      "[flaml.automl.logger: 05-18 16:35:16] {1801} INFO - Minimizing error metric: 1-ndcg\n",
      "[flaml.automl.logger: 05-18 16:35:16] {1911} INFO - List of ML learners in AutoML Run: ['lgbm']\n",
      "[flaml.automl.logger: 05-18 16:35:16] {2221} INFO - iteration 0, current learner lgbm\n",
      "[flaml.automl.logger: 05-18 16:35:23] {2347} INFO - Estimated sufficient time budget=68753s. Estimated necessary time budget=69s.\n",
      "[flaml.automl.logger: 05-18 16:35:23] {2394} INFO -  at 61.7s,\testimator lgbm's best error=0.2744,\tbest estimator lgbm's best error=0.2744\n",
      "[flaml.automl.logger: 05-18 16:35:30] {2630} INFO - retrain lgbm for 6.8s\n",
      "[flaml.automl.logger: 05-18 16:35:30] {2633} INFO - retrained model: LGBMRanker(learning_rate=0.09999999999999995, max_bin=255, n_estimators=4,\n",
      "           num_leaves=4, reg_alpha=0.0009765625, reg_lambda=1.0, verbose=-1)\n",
      "[flaml.automl.logger: 05-18 16:35:30] {1941} INFO - fit succeeded\n",
      "[flaml.automl.logger: 05-18 16:35:30] {1942} INFO - Time taken to find the best model: 61.73752307891846\n"
     ]
    }
   ],
   "source": [
    "baseline = modelling.fit_automodel(X_bal,y_bal,groups,parameters=my_params)"
   ],
   "metadata": {
    "collapsed": false,
    "pycharm": {
     "name": "#%%\n"
    }
   }
  },
  {
   "cell_type": "code",
   "execution_count": 10,
   "outputs": [],
   "source": [
    "modelling.save_mod(baseline, \"test\")"
   ],
   "metadata": {
    "collapsed": false,
    "pycharm": {
     "name": "#%%\n"
    }
   }
  },
  {
   "cell_type": "code",
   "execution_count": 11,
   "outputs": [],
   "source": [
    "baseline = modelling.load_mod(\"test\")"
   ],
   "metadata": {
    "collapsed": false,
    "pycharm": {
     "name": "#%%\n"
    }
   }
  },
  {
   "cell_type": "code",
   "execution_count": 12,
   "outputs": [
    {
     "name": "stderr",
     "output_type": "stream",
     "text": [
      "100%|██████████| 9990/9990 [00:27<00:00, 359.56it/s]"
     ]
    },
    {
     "name": "stdout",
     "output_type": "stream",
     "text": [
      "MSE 0.7027298558988335\n"
     ]
    },
    {
     "name": "stderr",
     "output_type": "stream",
     "text": [
      "\n"
     ]
    }
   ],
   "source": [
    "score = modelling.eval_ndcg2(test_data,baseline)\n",
    "print(score)"
   ],
   "metadata": {
    "collapsed": false,
    "pycharm": {
     "name": "#%%\n"
    }
   }
  },
  {
   "cell_type": "code",
   "execution_count": 13,
   "outputs": [],
   "source": [
    "# modelling.make_submission(baseline)"
   ],
   "metadata": {
    "collapsed": false,
    "pycharm": {
     "name": "#%%\n"
    }
   }
  },
  {
   "cell_type": "code",
   "execution_count": null,
   "outputs": [],
   "source": [],
   "metadata": {
    "collapsed": false,
    "pycharm": {
     "name": "#%%\n"
    }
   }
  }
 ],
 "metadata": {
  "kernelspec": {
   "display_name": "Python 3",
   "language": "python",
   "name": "python3"
  },
  "language_info": {
   "codemirror_mode": {
    "name": "ipython",
    "version": 2
   },
   "file_extension": ".py",
   "mimetype": "text/x-python",
   "name": "python",
   "nbconvert_exporter": "python",
   "pygments_lexer": "ipython2",
   "version": "2.7.6"
  }
 },
 "nbformat": 4,
 "nbformat_minor": 0
}