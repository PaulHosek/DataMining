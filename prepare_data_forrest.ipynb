{
 "cells": [
  {
   "cell_type": "code",
   "execution_count": null,
   "outputs": [],
   "source": [
    "import os\n",
    "import pandas as pd\n",
    "import numpy as np\n",
    "from tqdm import tqdm\n",
    "import matplotlib.pyplot as plt\n",
    "import dask\n",
    "from scipy.stats import randint\n",
    "from sklearn.ensemble import RandomForestClassifier\n",
    "from sklearn.ensemble import RandomForestRegressor\n",
    "from sklearn.model_selection import RandomizedSearchCV, train_test_split\n",
    "from sklearn.metrics import accuracy_score, confusion_matrix, precision_score, recall_score, ConfusionMatrixDisplay\n",
    "from sklearn.metrics import classification_report\n"
   ],
   "metadata": {
    "collapsed": false,
    "pycharm": {
     "name": "#%%\n"
    }
   }
  },
  {
   "cell_type": "code",
   "execution_count": null,
   "outputs": [],
   "source": [
    "# read daily data\n",
    "processed_dfs = []\n",
    "for filename in sorted(os.listdir('data/aggregated_individual_data/')):\n",
    "    with open('data/aggregated_individual_data/'+filename, 'r') as f: # open in readonly mode\n",
    "        df = pd.read_csv(f)\n",
    "        df.drop('Unnamed: 0', inplace=True, axis = 1)\n",
    "        processed_dfs.append(df)"
   ],
   "metadata": {
    "collapsed": false,
    "pycharm": {
     "name": "#%%\n"
    }
   }
  },
  {
   "cell_type": "code",
   "execution_count": null,
   "outputs": [],
   "source": [
    "example = processed_dfs[1].copy()\n",
    "example.head()"
   ],
   "metadata": {
    "collapsed": false,
    "pycharm": {
     "name": "#%%\n"
    }
   }
  },
  {
   "cell_type": "code",
   "execution_count": null,
   "outputs": [],
   "source": [
    "vars = ['time', 'weekday', 'mood', 'circumplex.arousal', 'circumplex.valence',\n",
    "       'activity', 'screen', 'call', 'sms', 'appCat.builtin',\n",
    "       'appCat.communication', 'appCat.entertainment', 'appCat.finance',\n",
    "       'appCat.game', 'appCat.office', 'appCat.other', 'appCat.social',\n",
    "       'appCat.travel', 'appCat.unknown', 'appCat.utilities', 'appCat.weather', 'mood_2days', 'mood_yesterday', '1day_mood_change', 'mood_target', 'target_bw' ]\n",
    "\n",
    "forest_data = pd.DataFrame(columns = vars)\n",
    "\n",
    "n_days = 5\n",
    "\n",
    "for i, df_org in enumerate(processed_dfs):\n",
    "    df = df_org.copy()\n",
    "\n",
    "    for j, col in enumerate(example.columns[2:len(vars)]):\n",
    "        df[col] = (df[col]-df[col].min())/(df[col].max() - df[col].min())\n",
    "        df[col] = df[col].fillna(0)\n",
    "        \n",
    "    for j in range(len(df)-n_days-1):\n",
    "        means = pd.DataFrame(df.iloc[j:j+n_days, 2:len(example.columns)].mean())\n",
    "        forest_data = pd.concat([forest_data, means.transpose()], ignore_index=True)\n",
    "        forest_data.iloc[-1, 0] = df['time'].iloc[j+n_days+1]\n",
    "        forest_data.iloc[-1, 1] = df['weekday'].iloc[j+n_days+1]\n",
    "        forest_data.iloc[-1, -5] = df['mood'].iloc[j+n_days-1]\n",
    "        forest_data.iloc[-1, -4] = df['mood'].iloc[j+n_days]\n",
    "        forest_data.iloc[-1, -2] = df['mood'].iloc[j+n_days+1]\n",
    "\n",
    "\n",
    "# delete columns with too many nan or 0 values\n",
    "for col in forest_data.columns:\n",
    "    if (sum(forest_data[col] == 0)/len(forest_data[col])) > 0.5:\n",
    "        forest_data = forest_data.drop(col, axis = 1)\n",
    "\n",
    "forest_data['target_bw'] = forest_data['mood_target'] - forest_data['mood_yesterday']\n",
    "forest_data['1day_mood_change'] = forest_data['mood_yesterday'] - forest_data['mood_2days']"
   ],
   "metadata": {
    "collapsed": false,
    "pycharm": {
     "name": "#%%\n"
    }
   }
  },
  {
   "cell_type": "code",
   "execution_count": null,
   "outputs": [],
   "source": [
    "forest_data['sms'].hist()"
   ],
   "metadata": {
    "collapsed": false,
    "pycharm": {
     "name": "#%%\n"
    }
   }
  },
  {
   "cell_type": "code",
   "execution_count": null,
   "outputs": [],
   "source": [
    "# labels = ['vl', 'l', 'm', 'h', 'vh']\n",
    "# # build classes\n",
    "# for i, col in enumerate(forest_data.columns[2:len(vars)]):\n",
    "#     forest_data[col+'class'] = pd.cut(forest_data[col], 5, labels=labels)"
   ],
   "metadata": {
    "collapsed": false,
    "pycharm": {
     "name": "#%%\n"
    }
   }
  },
  {
   "cell_type": "code",
   "execution_count": null,
   "outputs": [],
   "source": [
    "forest_data.head()"
   ],
   "metadata": {
    "collapsed": false,
    "pycharm": {
     "name": "#%%\n"
    }
   }
  },
  {
   "cell_type": "code",
   "execution_count": null,
   "outputs": [],
   "source": [
    "# delete constant columns\n",
    "# forest_data = forest_data.loc[:, (forest_data != forest_data.iloc[0]).any()] \n",
    "# len(forest_data.columns)"
   ],
   "metadata": {
    "collapsed": false,
    "pycharm": {
     "name": "#%%\n"
    }
   }
  },
  {
   "cell_type": "code",
   "execution_count": null,
   "outputs": [],
   "source": [
    "wood = ['weekday', 'mood',\n",
    "       'activity', 'screen', 'call', 'sms', 'mood_2days', 'mood_yesterday', '1day_mood_change']\n",
    "\n",
    "# X = forest_data.loc[:, wood].copy()\n",
    "X = forest_data.iloc[:,1:-2].copy()\n",
    "\n",
    "#labels = ['vl', 'l', 'ml', 'm', 'mh', 'h', 'vh']\n",
    "labels = ['vl', 'l', 'm', 'h', 'vh']\n",
    "#labels = ['l', 'm', 'h']\n",
    "#labels = ['three', 'four', 'five', 'six', 'seven', 'eight', 'nine']\n",
    "# y = pd.cut(forest_data['mood_target'], 5, labels=labels)\n",
    "# y = y.to_numpy()\n",
    "y = forest_data.loc[:, 'mood_target'].copy()"
   ],
   "metadata": {
    "collapsed": false,
    "pycharm": {
     "name": "#%%\n"
    }
   }
  },
  {
   "cell_type": "code",
   "execution_count": null,
   "outputs": [],
   "source": [
    "plt.hist(y)"
   ],
   "metadata": {
    "collapsed": false,
    "pycharm": {
     "name": "#%%\n"
    }
   }
  },
  {
   "cell_type": "code",
   "execution_count": null,
   "outputs": [],
   "source": [
    "forest_data.iloc[:,1:-2].head()"
   ],
   "metadata": {
    "collapsed": false,
    "pycharm": {
     "name": "#%%\n"
    }
   }
  },
  {
   "cell_type": "code",
   "execution_count": null,
   "outputs": [],
   "source": [
    "X_train, X_test, y_train, y_test = train_test_split(X, y, test_size=0.2)"
   ],
   "metadata": {
    "collapsed": false,
    "pycharm": {
     "name": "#%%\n"
    }
   }
  },
  {
   "cell_type": "code",
   "execution_count": null,
   "outputs": [],
   "source": [
    "# Hyperparameter tuning\n",
    "param_dist = {'n_estimators': randint(10,100),\n",
    "              'max_depth': randint(1,15)}\n",
    "\n",
    "# Create a random forest classifier\n",
    "rf = RandomForestRegressor(n_jobs = -1)\n",
    "\n",
    "# Use random search to find the best hyperparameters\n",
    "rand_search = RandomizedSearchCV(rf, \n",
    "                                 param_distributions = param_dist, \n",
    "                                 n_iter=100)\n",
    "\n",
    "# Fit the random search object to the data\n",
    "rand_search.fit(X_train, y_train)"
   ],
   "metadata": {
    "collapsed": false,
    "pycharm": {
     "name": "#%%\n"
    }
   }
  },
  {
   "cell_type": "code",
   "execution_count": null,
   "outputs": [],
   "source": [
    "best_rf = rand_search.best_estimator_\n",
    "print('Best hyperparameters:',  rand_search.best_params_)"
   ],
   "metadata": {
    "collapsed": false,
    "pycharm": {
     "name": "#%%\n"
    }
   }
  },
  {
   "cell_type": "code",
   "execution_count": null,
   "outputs": [],
   "source": [
    "rf = RandomForestRegressor(max_depth = 5, n_estimators = 50, n_jobs = -1)\n",
    "#rf = best_rf"
   ],
   "metadata": {
    "collapsed": false,
    "pycharm": {
     "name": "#%%\n"
    }
   }
  },
  {
   "cell_type": "code",
   "execution_count": null,
   "outputs": [],
   "source": [
    "rf = rf.fit(X_train, y_train)"
   ],
   "metadata": {
    "collapsed": false,
    "pycharm": {
     "name": "#%%\n"
    }
   }
  },
  {
   "cell_type": "code",
   "execution_count": null,
   "outputs": [],
   "source": [
    "y_pred = rf.predict(X_test)\n",
    "y_train_pred = rf.predict(X_train)"
   ],
   "metadata": {
    "collapsed": false,
    "pycharm": {
     "name": "#%%\n"
    }
   }
  },
  {
   "cell_type": "code",
   "execution_count": null,
   "outputs": [],
   "source": [
    "from sklearn.metrics import mean_squared_error\n",
    "MSE_test = mean_squared_error(y_test,y_pred)\n",
    "MSE_train = mean_squared_error(y_train,y_train_pred)\n",
    "print(MSE_test)\n",
    "print(MSE_train)"
   ],
   "metadata": {
    "collapsed": false,
    "pycharm": {
     "name": "#%%\n"
    }
   }
  },
  {
   "cell_type": "code",
   "execution_count": null,
   "outputs": [],
   "source": [
    "feature_importances = pd.DataFrame(rf.feature_importances_,\n",
    "                                   index = X_train.columns,\n",
    "                                   columns=['importance']).sort_values('importance',ascending=False)\n",
    "\n",
    "fig = plt.figure()\n",
    "plt.barh(feature_importances.index,feature_importances.importance)\n",
    "\n",
    "plt.show()\n",
    "#fig.savefig('rf_importance.pdf')"
   ],
   "metadata": {
    "collapsed": false,
    "pycharm": {
     "name": "#%%\n"
    }
   }
  }
 ],
 "metadata": {
  "kernelspec": {
   "display_name": "DMT",
   "language": "python",
   "name": "python3"
  },
  "language_info": {
   "codemirror_mode": {
    "name": "ipython",
    "version": 3
   },
   "file_extension": ".py",
   "mimetype": "text/x-python",
   "name": "python",
   "nbconvert_exporter": "python",
   "pygments_lexer": "ipython3",
   "version": "3.11.2"
  },
  "orig_nbformat": 4
 },
 "nbformat": 4,
 "nbformat_minor": 2
}