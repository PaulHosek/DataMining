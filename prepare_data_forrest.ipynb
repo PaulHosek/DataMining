{
 "cells": [
  {
   "cell_type": "code",
   "execution_count": 138,
   "metadata": {
    "pycharm": {
     "name": "#%%\n"
    }
   },
   "outputs": [],
   "source": [
    "import pandas as pd\n",
    "import numpy as np\n",
    "from tqdm import tqdm\n",
    "import matplotlib.pyplot as plt\n",
    "import dask\n",
    "from scipy.stats import randint\n",
    "from sklearn.model_selection import RandomizedSearchCV, train_test_split"
   ]
  },
  {
   "cell_type": "code",
   "execution_count": 2,
   "metadata": {
    "pycharm": {
     "name": "#%%\n"
    }
   },
   "outputs": [],
   "source": [
    "def aggregate_individual_data_per_day(raw=pd.DataFrame, to_average=None ):\n",
    "    \"\"\"\n",
    "    for the raw data of one individual a new df is generated with the variables as columns. Values are summed unless their variable name is \n",
    "    specified to be averaged in to_average.\n",
    "\n",
    "    Parameters\n",
    "    ----------\n",
    "    INPUT\n",
    "    raw : df\n",
    "        DataFrame with the raw data\n",
    "    to_average : array-like\n",
    "        array specifiying which variables to average\n",
    "\n",
    "    RETURNS\n",
    "    processed : df\n",
    "        DataFrame wiht the processed data\n",
    "    \"\"\"\n",
    "\n",
    "    # add column with date only\n",
    "    raw['time'] = pd.to_datetime(raw.loc[:,'time'])\n",
    "    raw['date'] = raw['time'].dt.date\n",
    "\n",
    "    # initialize new df with variables as columns\n",
    "    vars = ['date', 'mood', 'circumplex.arousal', 'circumplex.valence',\n",
    "       'activity', 'screen', 'call', 'sms', 'appCat.builtin',\n",
    "       'appCat.communication', 'appCat.entertainment', 'appCat.finance',\n",
    "       'appCat.game', 'appCat.office', 'appCat.other', 'appCat.social',\n",
    "       'appCat.travel', 'appCat.unknown', 'appCat.utilities', 'appCat.weather']\n",
    "    #    , 'mood_std', 'circumplex.arousal_std', 'circumplex.valence_std',\n",
    "    #    'activity_std']\n",
    "    processed = pd.DataFrame(columns= vars)\n",
    "\n",
    "    # fill df\n",
    "    # loop over days\n",
    "    for i, day in enumerate(raw['date'].unique()):\n",
    "        processed.loc[i, 'date'] = day\n",
    "        row = (raw['date'] == day)\n",
    "\n",
    "        # loop over variables\n",
    "        for col in vars[1:-1]:\n",
    "\n",
    "            # average values of given specified variables\n",
    "            if col in to_average:\n",
    "                processed.loc[i, col] = raw.loc[row & (raw['variable'] == col)].value.mean()\n",
    "                #processed.loc[i, col+'_std'] = raw.loc[row & (raw['variable'] == col)].value.std()\n",
    "\n",
    "            \n",
    "            # sum values for the other variables\n",
    "            else:\n",
    "                processed.loc[i, col] = raw.loc[row & (raw['variable'] == col)].value.abs().sum()\n",
    "\n",
    "    # sort the df according to date\n",
    "    processed['date'] = pd.to_datetime(processed.loc[:,'date'])\n",
    "    processed.sort_values('date')\n",
    "\n",
    "    # drop rows without mood or or screen reading\n",
    "    processed.drop(processed.loc[processed['mood'].isna() | (processed['screen'] == 0)].index, inplace=True)\n",
    "\n",
    "    processed.reindex()\n",
    "\n",
    "    processed.insert(1, 'weekday', processed['date'].dt.weekday)\n",
    "\n",
    "    processed = processed.fillna(0)\n",
    "\n",
    "    return processed"
   ]
  },
  {
   "cell_type": "code",
   "execution_count": 3,
   "metadata": {
    "pycharm": {
     "name": "#%%\n"
    }
   },
   "outputs": [],
   "source": [
    "raw_data = pd.read_csv('data/dataset_mood_smartphone.csv')"
   ]
  },
  {
   "cell_type": "code",
   "execution_count": 4,
   "metadata": {
    "pycharm": {
     "name": "#%%\n"
    }
   },
   "outputs": [],
   "source": [
    "unique_ids = raw_data['id'].unique()"
   ]
  },
  {
   "cell_type": "code",
   "execution_count": 77,
   "metadata": {
    "pycharm": {
     "name": "#%%\n"
    }
   },
   "outputs": [
    {
     "name": "stderr",
     "output_type": "stream",
     "text": [
      "100%|██████████| 27/27 [00:22<00:00,  1.23it/s]\n"
     ]
    }
   ],
   "source": [
    "\n",
    "# specify variables to average\n",
    "to_average = np.array(['mood', 'circumplex.arousal', 'circumplex.valence', 'activity'])\n",
    "\n",
    "# process df for each individual\n",
    "processed_dfs = []\n",
    "for i in tqdm(unique_ids):\n",
    "    raw_df = raw_data.loc[raw_data['id'] == i].copy()\n",
    "    processed_df = aggregate_individual_data_per_day(raw_df, to_average)\n",
    "    processed_dfs.append(processed_df)\n",
    "    #processed_df.to_csv('aggregated_individual_data/'+str(i)+'_aggregated.csv')"
   ]
  },
  {
   "cell_type": "code",
   "execution_count": 26,
   "metadata": {
    "pycharm": {
     "name": "#%%\n"
    }
   },
   "outputs": [
    {
     "data": {
      "text/html": [
       "<div>\n",
       "<style scoped>\n",
       "    .dataframe tbody tr th:only-of-type {\n",
       "        vertical-align: middle;\n",
       "    }\n",
       "\n",
       "    .dataframe tbody tr th {\n",
       "        vertical-align: top;\n",
       "    }\n",
       "\n",
       "    .dataframe thead th {\n",
       "        text-align: right;\n",
       "    }\n",
       "</style>\n",
       "<table border=\"1\" class=\"dataframe\">\n",
       "  <thead>\n",
       "    <tr style=\"text-align: right;\">\n",
       "      <th></th>\n",
       "      <th>date</th>\n",
       "      <th>weekday</th>\n",
       "      <th>mood</th>\n",
       "      <th>circumplex.arousal</th>\n",
       "      <th>circumplex.valence</th>\n",
       "      <th>activity</th>\n",
       "      <th>screen</th>\n",
       "      <th>call</th>\n",
       "      <th>sms</th>\n",
       "      <th>appCat.builtin</th>\n",
       "      <th>...</th>\n",
       "      <th>appCat.entertainment</th>\n",
       "      <th>appCat.finance</th>\n",
       "      <th>appCat.game</th>\n",
       "      <th>appCat.office</th>\n",
       "      <th>appCat.other</th>\n",
       "      <th>appCat.social</th>\n",
       "      <th>appCat.travel</th>\n",
       "      <th>appCat.unknown</th>\n",
       "      <th>appCat.utilities</th>\n",
       "      <th>appCat.weather</th>\n",
       "    </tr>\n",
       "  </thead>\n",
       "  <tbody>\n",
       "    <tr>\n",
       "      <th>0</th>\n",
       "      <td>2014-03-16</td>\n",
       "      <td>6</td>\n",
       "      <td>6.333333</td>\n",
       "      <td>0.0</td>\n",
       "      <td>0.00</td>\n",
       "      <td>0.000000</td>\n",
       "      <td>4902.627000</td>\n",
       "      <td>4.0</td>\n",
       "      <td>1.0</td>\n",
       "      <td>2526.424</td>\n",
       "      <td>...</td>\n",
       "      <td>88.392</td>\n",
       "      <td>0.0</td>\n",
       "      <td>0.0</td>\n",
       "      <td>0.0</td>\n",
       "      <td>408.106</td>\n",
       "      <td>181.591</td>\n",
       "      <td>0.000</td>\n",
       "      <td>0.0</td>\n",
       "      <td>0.0</td>\n",
       "      <td>0</td>\n",
       "    </tr>\n",
       "    <tr>\n",
       "      <th>1</th>\n",
       "      <td>2014-03-17</td>\n",
       "      <td>0</td>\n",
       "      <td>6.750000</td>\n",
       "      <td>0.5</td>\n",
       "      <td>0.50</td>\n",
       "      <td>0.168068</td>\n",
       "      <td>10159.769001</td>\n",
       "      <td>4.0</td>\n",
       "      <td>0.0</td>\n",
       "      <td>1229.347</td>\n",
       "      <td>...</td>\n",
       "      <td>2511.178</td>\n",
       "      <td>0.0</td>\n",
       "      <td>0.0</td>\n",
       "      <td>0.0</td>\n",
       "      <td>103.699</td>\n",
       "      <td>103.028</td>\n",
       "      <td>0.000</td>\n",
       "      <td>0.0</td>\n",
       "      <td>0.0</td>\n",
       "      <td>0</td>\n",
       "    </tr>\n",
       "    <tr>\n",
       "      <th>2</th>\n",
       "      <td>2014-03-18</td>\n",
       "      <td>1</td>\n",
       "      <td>8.200000</td>\n",
       "      <td>0.6</td>\n",
       "      <td>0.80</td>\n",
       "      <td>0.219484</td>\n",
       "      <td>4512.471001</td>\n",
       "      <td>15.0</td>\n",
       "      <td>1.0</td>\n",
       "      <td>2604.521</td>\n",
       "      <td>...</td>\n",
       "      <td>88.943</td>\n",
       "      <td>0.0</td>\n",
       "      <td>0.0</td>\n",
       "      <td>0.0</td>\n",
       "      <td>88.722</td>\n",
       "      <td>212.364</td>\n",
       "      <td>0.000</td>\n",
       "      <td>0.0</td>\n",
       "      <td>0.0</td>\n",
       "      <td>0</td>\n",
       "    </tr>\n",
       "    <tr>\n",
       "      <th>3</th>\n",
       "      <td>2014-03-19</td>\n",
       "      <td>2</td>\n",
       "      <td>6.800000</td>\n",
       "      <td>0.4</td>\n",
       "      <td>0.40</td>\n",
       "      <td>0.315632</td>\n",
       "      <td>8182.757000</td>\n",
       "      <td>5.0</td>\n",
       "      <td>1.0</td>\n",
       "      <td>1554.558</td>\n",
       "      <td>...</td>\n",
       "      <td>196.139</td>\n",
       "      <td>0.0</td>\n",
       "      <td>0.0</td>\n",
       "      <td>0.0</td>\n",
       "      <td>105.536</td>\n",
       "      <td>47.815</td>\n",
       "      <td>567.165</td>\n",
       "      <td>0.0</td>\n",
       "      <td>0.0</td>\n",
       "      <td>0</td>\n",
       "    </tr>\n",
       "    <tr>\n",
       "      <th>4</th>\n",
       "      <td>2014-03-20</td>\n",
       "      <td>3</td>\n",
       "      <td>7.250000</td>\n",
       "      <td>-0.5</td>\n",
       "      <td>0.75</td>\n",
       "      <td>0.239025</td>\n",
       "      <td>4360.334001</td>\n",
       "      <td>10.0</td>\n",
       "      <td>1.0</td>\n",
       "      <td>1777.977</td>\n",
       "      <td>...</td>\n",
       "      <td>148.180</td>\n",
       "      <td>0.0</td>\n",
       "      <td>0.0</td>\n",
       "      <td>0.0</td>\n",
       "      <td>86.857</td>\n",
       "      <td>131.598</td>\n",
       "      <td>0.000</td>\n",
       "      <td>0.0</td>\n",
       "      <td>0.0</td>\n",
       "      <td>0</td>\n",
       "    </tr>\n",
       "  </tbody>\n",
       "</table>\n",
       "<p>5 rows × 21 columns</p>\n",
       "</div>"
      ],
      "text/plain": [
       "        date  weekday      mood  circumplex.arousal  circumplex.valence  \\\n",
       "0 2014-03-16        6  6.333333                 0.0                0.00   \n",
       "1 2014-03-17        0  6.750000                 0.5                0.50   \n",
       "2 2014-03-18        1  8.200000                 0.6                0.80   \n",
       "3 2014-03-19        2  6.800000                 0.4                0.40   \n",
       "4 2014-03-20        3  7.250000                -0.5                0.75   \n",
       "\n",
       "   activity        screen  call  sms  appCat.builtin  ...  \\\n",
       "0  0.000000   4902.627000   4.0  1.0        2526.424  ...   \n",
       "1  0.168068  10159.769001   4.0  0.0        1229.347  ...   \n",
       "2  0.219484   4512.471001  15.0  1.0        2604.521  ...   \n",
       "3  0.315632   8182.757000   5.0  1.0        1554.558  ...   \n",
       "4  0.239025   4360.334001  10.0  1.0        1777.977  ...   \n",
       "\n",
       "   appCat.entertainment  appCat.finance  appCat.game  appCat.office  \\\n",
       "0                88.392             0.0          0.0            0.0   \n",
       "1              2511.178             0.0          0.0            0.0   \n",
       "2                88.943             0.0          0.0            0.0   \n",
       "3               196.139             0.0          0.0            0.0   \n",
       "4               148.180             0.0          0.0            0.0   \n",
       "\n",
       "   appCat.other  appCat.social  appCat.travel  appCat.unknown  \\\n",
       "0       408.106        181.591          0.000             0.0   \n",
       "1       103.699        103.028          0.000             0.0   \n",
       "2        88.722        212.364          0.000             0.0   \n",
       "3       105.536         47.815        567.165             0.0   \n",
       "4        86.857        131.598          0.000             0.0   \n",
       "\n",
       "   appCat.utilities  appCat.weather  \n",
       "0               0.0               0  \n",
       "1               0.0               0  \n",
       "2               0.0               0  \n",
       "3               0.0               0  \n",
       "4               0.0               0  \n",
       "\n",
       "[5 rows x 21 columns]"
      ]
     },
     "execution_count": 26,
     "metadata": {},
     "output_type": "execute_result"
    }
   ],
   "source": [
    "example = processed_dfs[1].copy()\n",
    "example.head()"
   ]
  },
  {
   "cell_type": "code",
   "execution_count": 29,
   "metadata": {
    "pycharm": {
     "name": "#%%\n"
    }
   },
   "outputs": [],
   "source": [
    "vars = example.columns\n",
    "# min max normalization\n",
    "for i, col in enumerate(example.columns[2:len(vars)]):\n",
    "    example[col] = (example[col]-example[col].min())/(example[col].max() - example[col].min())\n",
    "    example[col] = example[col].fillna(0)\n"
   ]
  },
  {
   "cell_type": "code",
   "execution_count": 30,
   "metadata": {
    "pycharm": {
     "name": "#%%\n"
    }
   },
   "outputs": [
    {
     "data": {
      "text/plain": [
       "Index(['mood', 'circumplex.arousal', 'circumplex.valence', 'activity',\n",
       "       'screen', 'call', 'sms', 'appCat.builtin', 'appCat.communication',\n",
       "       'appCat.entertainment', 'appCat.finance', 'appCat.game',\n",
       "       'appCat.office', 'appCat.other', 'appCat.social', 'appCat.travel',\n",
       "       'appCat.unknown', 'appCat.utilities', 'appCat.weather'],\n",
       "      dtype='object')"
      ]
     },
     "execution_count": 30,
     "metadata": {},
     "output_type": "execute_result"
    }
   ],
   "source": [
    "example.columns[2:len(vars)]"
   ]
  },
  {
   "cell_type": "code",
   "execution_count": 31,
   "metadata": {
    "pycharm": {
     "name": "#%%\n"
    }
   },
   "outputs": [
    {
     "data": {
      "text/plain": [
       "21"
      ]
     },
     "execution_count": 31,
     "metadata": {},
     "output_type": "execute_result"
    }
   ],
   "source": [
    "example.head()\n",
    "len(example.columns)"
   ]
  },
  {
   "cell_type": "code",
   "execution_count": 394,
   "metadata": {
    "pycharm": {
     "name": "#%%\n"
    }
   },
   "outputs": [],
   "source": [
    "vars = ['date', 'weekday', 'mood', 'circumplex.arousal', 'circumplex.valence',\n",
    "       'activity', 'screen', 'call', 'sms', 'appCat.builtin',\n",
    "       'appCat.communication', 'appCat.entertainment', 'appCat.finance',\n",
    "       'appCat.game', 'appCat.office', 'appCat.other', 'appCat.social',\n",
    "       'appCat.travel', 'appCat.unknown', 'appCat.utilities', 'appCat.weather', 'mood_2days', 'mood_yesterday', '1day_mood_change', 'mood_target', 'target_bw' ]\n",
    "\n",
    "forest_data = pd.DataFrame(columns = vars)\n",
    "\n",
    "n_days = 7\n",
    "\n",
    "for i, df_org in enumerate(processed_dfs):\n",
    "    df = df_org.copy()\n",
    "\n",
    "    for j, col in enumerate(example.columns[2:len(vars)]):\n",
    "        df[col] = (df[col]-df[col].min())/(df[col].max() - df[col].min())\n",
    "        df[col] = df[col].fillna(0)\n",
    "        \n",
    "    for j in range(len(df)-n_days-1):\n",
    "        means = pd.DataFrame(df.iloc[j:j+n_days, 2:len(example.columns)].mean())\n",
    "        forest_data = pd.concat([forest_data, means.transpose()], ignore_index=True)\n",
    "        forest_data.iloc[-1, 0] = df['date'].iloc[j+n_days+1]\n",
    "        forest_data.iloc[-1, 1] = df['weekday'].iloc[j+n_days+1]\n",
    "        forest_data.iloc[-1, -5] = df['mood'].iloc[j+n_days-1]\n",
    "        forest_data.iloc[-1, -4] = df['mood'].iloc[j+n_days]\n",
    "        forest_data.iloc[-1, -2] = df['mood'].iloc[j+n_days+1]\n",
    "\n",
    "\n",
    "\n",
    "for col in forest_data.columns:\n",
    "    if (sum(forest_data[col] == 0)/len(forest_data[col])) > 0.3:\n",
    "        forest_data = forest_data.drop(col, axis = 1)\n",
    "\n",
    "forest_data['target_bw'] = forest_data['mood_target'] - forest_data['mood_yesterday']\n",
    "forest_data['1day_mood_change'] = forest_data['mood_yesterday'] - forest_data['mood_2days']"
   ]
  },
  {
   "cell_type": "code",
   "execution_count": 397,
   "metadata": {
    "pycharm": {
     "name": "#%%\n"
    }
   },
   "outputs": [
    {
     "data": {
      "text/plain": [
       "<Axes: >"
      ]
     },
     "execution_count": 397,
     "metadata": {},
     "output_type": "execute_result"
    },
    {
     "data": {
      "image/png": "[encoded data removed]",
      "text/plain": [
       "<Figure size 640x480 with 1 Axes>"
      ]
     },
     "metadata": {},
     "output_type": "display_data"
    }
   ],
   "source": [
    "forest_data['1day_mood_change'].hist()"
   ]
  },
  {
   "cell_type": "code",
   "execution_count": 396,
   "metadata": {
    "pycharm": {
     "name": "#%%\n"
    }
   },
   "outputs": [],
   "source": [
    "# labels = ['vl', 'l', 'm', 'h', 'vh']\n",
    "# # build classes\n",
    "# for i, col in enumerate(forest_data.columns[2:len(vars)]):\n",
    "#     forest_data[col+'class'] = pd.cut(forest_data[col], 5, labels=labels)"
   ]
  },
  {
   "cell_type": "code",
   "execution_count": 398,
   "metadata": {
    "pycharm": {
     "name": "#%%\n"
    }
   },
   "outputs": [
    {
     "data": {
      "text/plain": [
       "21"
      ]
     },
     "execution_count": 398,
     "metadata": {},
     "output_type": "execute_result"
    }
   ],
   "source": [
    "len(forest_data.columns)"
   ]
  },
  {
   "cell_type": "code",
   "execution_count": 399,
   "metadata": {
    "pycharm": {
     "name": "#%%\n"
    }
   },
   "outputs": [
    {
     "data": {
      "text/plain": [
       "21"
      ]
     },
     "execution_count": 399,
     "metadata": {},
     "output_type": "execute_result"
    }
   ],
   "source": [
    "# delete constant columns\n",
    "forest_data = forest_data.loc[:, (forest_data != forest_data.iloc[0]).any()] \n",
    "len(forest_data.columns)"
   ]
  },
  {
   "cell_type": "code",
   "execution_count": 382,
   "metadata": {
    "pycharm": {
     "name": "#%%\n"
    }
   },
   "outputs": [],
   "source": [
    "from sklearn.ensemble import RandomForestClassifier"
   ]
  },
  {
   "cell_type": "code",
   "execution_count": 449,
   "metadata": {
    "pycharm": {
     "name": "#%%\n"
    }
   },
   "outputs": [],
   "source": [
    "X = forest_data.iloc[:,1:-2].to_numpy()\n",
    "\n",
    "#labels = ['vl', 'l', 'ml', 'm', 'mh', 'h', 'vh']\n",
    "labels = ['vl', 'l', 'm', 'h', 'vh']\n",
    "#labels = ['l', 'm', 'h']\n",
    "#labels = ['three', 'four', 'five', 'six', 'seven', 'eight', 'nine']\n",
    "y = pd.cut(forest_data['mood_target'], 5, labels=labels)\n",
    "y = y.to_numpy()"
   ]
  },
  {
   "cell_type": "code",
   "execution_count": 450,
   "metadata": {
    "pycharm": {
     "name": "#%%\n"
    }
   },
   "outputs": [
    {
     "data": {
      "text/plain": [
       "(array([142.,   0., 280.,   0.,   0.,  79.,   0., 179.,   0., 272.]),\n",
       " array([0. , 0.4, 0.8, 1.2, 1.6, 2. , 2.4, 2.8, 3.2, 3.6, 4. ]),\n",
       " <BarContainer object of 10 artists>)"
      ]
     },
     "execution_count": 450,
     "metadata": {},
     "output_type": "execute_result"
    },
    {
     "data": {
      "image/png": "[encoded data removed]",
      "text/plain": [
       "<Figure size 640x480 with 1 Axes>"
      ]
     },
     "metadata": {},
     "output_type": "display_data"
    }
   ],
   "source": [
    "plt.hist(y)"
   ]
  },
  {
   "cell_type": "code",
   "execution_count": 451,
   "metadata": {
    "pycharm": {
     "name": "#%%\n"
    }
   },
   "outputs": [
    {
     "data": {
      "text/html": [
       "<div>\n",
       "<style scoped>\n",
       "    .dataframe tbody tr th:only-of-type {\n",
       "        vertical-align: middle;\n",
       "    }\n",
       "\n",
       "    .dataframe tbody tr th {\n",
       "        vertical-align: top;\n",
       "    }\n",
       "\n",
       "    .dataframe thead th {\n",
       "        text-align: right;\n",
       "    }\n",
       "</style>\n",
       "<table border=\"1\" class=\"dataframe\">\n",
       "  <thead>\n",
       "    <tr style=\"text-align: right;\">\n",
       "      <th></th>\n",
       "      <th>weekday</th>\n",
       "      <th>mood</th>\n",
       "      <th>circumplex.arousal</th>\n",
       "      <th>circumplex.valence</th>\n",
       "      <th>activity</th>\n",
       "      <th>screen</th>\n",
       "      <th>call</th>\n",
       "      <th>sms</th>\n",
       "      <th>appCat.builtin</th>\n",
       "      <th>appCat.communication</th>\n",
       "      <th>appCat.entertainment</th>\n",
       "      <th>appCat.other</th>\n",
       "      <th>appCat.social</th>\n",
       "      <th>appCat.travel</th>\n",
       "      <th>appCat.utilities</th>\n",
       "      <th>mood_2days</th>\n",
       "      <th>mood_yesterday</th>\n",
       "      <th>1day_mood_change</th>\n",
       "    </tr>\n",
       "  </thead>\n",
       "  <tbody>\n",
       "    <tr>\n",
       "      <th>0</th>\n",
       "      <td>5</td>\n",
       "      <td>0.267857</td>\n",
       "      <td>0.770035</td>\n",
       "      <td>0.485714</td>\n",
       "      <td>0.547224</td>\n",
       "      <td>0.620661</td>\n",
       "      <td>0.300000</td>\n",
       "      <td>0.107143</td>\n",
       "      <td>0.070543</td>\n",
       "      <td>0.483016</td>\n",
       "      <td>0.076362</td>\n",
       "      <td>0.082458</td>\n",
       "      <td>0.465320</td>\n",
       "      <td>0.125626</td>\n",
       "      <td>0.197111</td>\n",
       "      <td>0.5</td>\n",
       "      <td>0.2</td>\n",
       "      <td>-0.3</td>\n",
       "    </tr>\n",
       "    <tr>\n",
       "      <th>1</th>\n",
       "      <td>6</td>\n",
       "      <td>0.282143</td>\n",
       "      <td>0.714286</td>\n",
       "      <td>0.542857</td>\n",
       "      <td>0.522640</td>\n",
       "      <td>0.527783</td>\n",
       "      <td>0.285714</td>\n",
       "      <td>0.107143</td>\n",
       "      <td>0.137116</td>\n",
       "      <td>0.426025</td>\n",
       "      <td>0.076314</td>\n",
       "      <td>0.080535</td>\n",
       "      <td>0.351442</td>\n",
       "      <td>0.144875</td>\n",
       "      <td>0.154075</td>\n",
       "      <td>0.2</td>\n",
       "      <td>1.0</td>\n",
       "      <td>0.8</td>\n",
       "    </tr>\n",
       "    <tr>\n",
       "      <th>2</th>\n",
       "      <td>0</td>\n",
       "      <td>0.396429</td>\n",
       "      <td>0.686411</td>\n",
       "      <td>0.614286</td>\n",
       "      <td>0.414514</td>\n",
       "      <td>0.543295</td>\n",
       "      <td>0.300000</td>\n",
       "      <td>0.107143</td>\n",
       "      <td>0.148859</td>\n",
       "      <td>0.402423</td>\n",
       "      <td>0.111677</td>\n",
       "      <td>0.090491</td>\n",
       "      <td>0.352390</td>\n",
       "      <td>0.146214</td>\n",
       "      <td>0.224056</td>\n",
       "      <td>1.0</td>\n",
       "      <td>0.75</td>\n",
       "      <td>-0.25</td>\n",
       "    </tr>\n",
       "    <tr>\n",
       "      <th>3</th>\n",
       "      <td>1</td>\n",
       "      <td>0.446429</td>\n",
       "      <td>0.637631</td>\n",
       "      <td>0.607143</td>\n",
       "      <td>0.354484</td>\n",
       "      <td>0.527284</td>\n",
       "      <td>0.300000</td>\n",
       "      <td>0.107143</td>\n",
       "      <td>0.140475</td>\n",
       "      <td>0.360961</td>\n",
       "      <td>0.144902</td>\n",
       "      <td>0.090655</td>\n",
       "      <td>0.331495</td>\n",
       "      <td>0.146214</td>\n",
       "      <td>0.225246</td>\n",
       "      <td>0.75</td>\n",
       "      <td>0.7</td>\n",
       "      <td>-0.05</td>\n",
       "    </tr>\n",
       "    <tr>\n",
       "      <th>4</th>\n",
       "      <td>2</td>\n",
       "      <td>0.546429</td>\n",
       "      <td>0.581882</td>\n",
       "      <td>0.692857</td>\n",
       "      <td>0.349063</td>\n",
       "      <td>0.504444</td>\n",
       "      <td>0.242857</td>\n",
       "      <td>0.107143</td>\n",
       "      <td>0.160615</td>\n",
       "      <td>0.319508</td>\n",
       "      <td>0.162927</td>\n",
       "      <td>0.118803</td>\n",
       "      <td>0.278116</td>\n",
       "      <td>0.125296</td>\n",
       "      <td>0.229820</td>\n",
       "      <td>0.7</td>\n",
       "      <td>0.0</td>\n",
       "      <td>-0.7</td>\n",
       "    </tr>\n",
       "  </tbody>\n",
       "</table>\n",
       "</div>"
      ],
      "text/plain": [
       "  weekday      mood  circumplex.arousal  circumplex.valence  activity  \\\n",
       "0       5  0.267857            0.770035            0.485714  0.547224   \n",
       "1       6  0.282143            0.714286            0.542857  0.522640   \n",
       "2       0  0.396429            0.686411            0.614286  0.414514   \n",
       "3       1  0.446429            0.637631            0.607143  0.354484   \n",
       "4       2  0.546429            0.581882            0.692857  0.349063   \n",
       "\n",
       "     screen      call       sms  appCat.builtin  appCat.communication  \\\n",
       "0  0.620661  0.300000  0.107143        0.070543              0.483016   \n",
       "1  0.527783  0.285714  0.107143        0.137116              0.426025   \n",
       "2  0.543295  0.300000  0.107143        0.148859              0.402423   \n",
       "3  0.527284  0.300000  0.107143        0.140475              0.360961   \n",
       "4  0.504444  0.242857  0.107143        0.160615              0.319508   \n",
       "\n",
       "   appCat.entertainment  appCat.other  appCat.social  appCat.travel  \\\n",
       "0              0.076362      0.082458       0.465320       0.125626   \n",
       "1              0.076314      0.080535       0.351442       0.144875   \n",
       "2              0.111677      0.090491       0.352390       0.146214   \n",
       "3              0.144902      0.090655       0.331495       0.146214   \n",
       "4              0.162927      0.118803       0.278116       0.125296   \n",
       "\n",
       "   appCat.utilities mood_2days mood_yesterday 1day_mood_change  \n",
       "0          0.197111        0.5            0.2             -0.3  \n",
       "1          0.154075        0.2            1.0              0.8  \n",
       "2          0.224056        1.0           0.75            -0.25  \n",
       "3          0.225246       0.75            0.7            -0.05  \n",
       "4          0.229820        0.7            0.0             -0.7  "
      ]
     },
     "execution_count": 451,
     "metadata": {},
     "output_type": "execute_result"
    }
   ],
   "source": [
    "forest_data.iloc[:,1:-2].head()"
   ]
  },
  {
   "cell_type": "code",
   "execution_count": 452,
   "metadata": {
    "pycharm": {
     "name": "#%%\n"
    }
   },
   "outputs": [],
   "source": [
    "X_train, X_test, y_train, y_test = train_test_split(X, y, test_size=0.2)"
   ]
  },
  {
   "cell_type": "code",
   "execution_count": null,
   "metadata": {
    "pycharm": {
     "name": "#%%\n"
    }
   },
   "outputs": [],
   "source": [
    "# Hyperparameter tuning\n",
    "param_dist = {'n_estimators': randint(10,100),\n",
    "              'max_depth': randint(1,10)}\n",
    "\n",
    "# Create a random forest classifier\n",
    "rf = RandomForestClassifier(n_jobs = -1)\n",
    "\n",
    "# Use random search to find the best hyperparameters\n",
    "rand_search = RandomizedSearchCV(rf, \n",
    "                                 param_distributions = param_dist, \n",
    "                                 n_iter=50, \n",
    "                                 cv=5)\n",
    "\n",
    "# Fit the random search object to the data\n",
    "rand_search.fit(X_train, y_train)"
   ]
  },
  {
   "cell_type": "code",
   "execution_count": null,
   "metadata": {
    "pycharm": {
     "name": "#%%\n"
    }
   },
   "outputs": [],
   "source": [
    "best_rf = rand_search.best_estimator_\n",
    "print('Best hyperparameters:',  rand_search.best_params_)"
   ]
  },
  {
   "cell_type": "code",
   "execution_count": 453,
   "metadata": {
    "pycharm": {
     "name": "#%%\n"
    }
   },
   "outputs": [],
   "source": [
    "rf = RandomForestClassifier(max_depth = 10, n_estimators = 50, n_jobs = -1)"
   ]
  },
  {
   "cell_type": "code",
   "execution_count": 454,
   "metadata": {
    "pycharm": {
     "name": "#%%\n"
    }
   },
   "outputs": [],
   "source": [
    "rf = rf.fit(X_train, y_train)"
   ]
  },
  {
   "cell_type": "code",
   "execution_count": 455,
   "metadata": {
    "pycharm": {
     "name": "#%%\n"
    }
   },
   "outputs": [],
   "source": [
    "y_pred = rf.predict(X_test)"
   ]
  },
  {
   "cell_type": "code",
   "execution_count": 456,
   "metadata": {
    "pycharm": {
     "name": "#%%\n"
    }
   },
   "outputs": [
    {
     "data": {
      "text/plain": [
       "<sklearn.metrics._plot.confusion_matrix.ConfusionMatrixDisplay at 0x1763c9650>"
      ]
     },
     "execution_count": 456,
     "metadata": {},
     "output_type": "execute_result"
    },
    {
     "data": {
      "image/png": "[encoded data removed]",
      "text/plain": [
       "<Figure size 640x480 with 2 Axes>"
      ]
     },
     "metadata": {},
     "output_type": "display_data"
    }
   ],
   "source": [
    "from sklearn.metrics import accuracy_score, confusion_matrix, precision_score, recall_score, ConfusionMatrixDisplay\n",
    "cm = confusion_matrix(y_test, y_pred)\n",
    "ConfusionMatrixDisplay(confusion_matrix=cm).plot()"
   ]
  },
  {
   "cell_type": "code",
   "execution_count": 457,
   "metadata": {
    "pycharm": {
     "name": "#%%\n"
    }
   },
   "outputs": [
    {
     "name": "stdout",
     "output_type": "stream",
     "text": [
      "              precision    recall  f1-score   support\n",
      "\n",
      "           h       0.43      0.57      0.49        58\n",
      "           l       0.41      0.24      0.31        45\n",
      "           m       0.24      0.42      0.31        43\n",
      "          vh       0.27      0.11      0.15        28\n",
      "          vl       0.00      0.00      0.00        17\n",
      "\n",
      "    accuracy                           0.34       191\n",
      "   macro avg       0.27      0.27      0.25       191\n",
      "weighted avg       0.32      0.34      0.31       191\n",
      "\n"
     ]
    }
   ],
   "source": [
    "from sklearn.metrics import classification_report\n",
    "print(classification_report(y_test,y_pred))"
   ]
  },
  {
   "cell_type": "code",
   "execution_count": null,
   "metadata": {
    "pycharm": {
     "name": "#%%\n"
    }
   },
   "outputs": [],
   "source": []
  }
 ],
 "metadata": {
  "kernelspec": {
   "display_name": "DMT",
   "language": "python",
   "name": "python3"
  },
  "language_info": {
   "codemirror_mode": {
    "name": "ipython",
    "version": 3
   },
   "file_extension": ".py",
   "mimetype": "text/x-python",
   "name": "python",
   "nbconvert_exporter": "python",
   "pygments_lexer": "ipython3",
   "version": "3.11.2"
  },
  "orig_nbformat": 4
 },
 "nbformat": 4,
 "nbformat_minor": 2
}