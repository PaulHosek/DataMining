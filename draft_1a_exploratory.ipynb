{
 "cells": [
  {
   "cell_type": "code",
   "execution_count": 9,
   "metadata": {
    "collapsed": true,
    "pycharm": {
     "name": "#%%\n"
    },
    "ExecuteTime": {
     "start_time": "2023-04-07T14:58:05.454706Z",
     "end_time": "2023-04-07T14:58:28.244183Z"
    }
   },
   "outputs": [],
   "source": [
    "import pandas as pd\n",
    "import numpy as np\n",
    "import matplotlib.pyplot as plt\n",
    "import matplotlib as mpl\n",
    "import seaborn as sns\n",
    "from datetime import datetime\n",
    "\n",
    "import statsmodels.api as sm\n",
    "from statsmodels.tsa.stattools import grangercausalitytests"
   ]
  },
  {
   "cell_type": "code",
   "execution_count": 10,
   "outputs": [],
   "source": [
    "# mpl.style.use('seaborn-v0_8-darkgrid')\n",
    "plt.rcParams['font.size'] = 16"
   ],
   "metadata": {
    "collapsed": false,
    "ExecuteTime": {
     "start_time": "2023-04-07T14:58:30.350618Z",
     "end_time": "2023-04-07T14:58:30.381574Z"
    }
   }
  },
  {
   "cell_type": "markdown",
   "source": [
    "# Try granger causality"
   ],
   "metadata": {
    "collapsed": false,
    "pycharm": {
     "name": "#%% md\n"
    }
   }
  },
  {
   "cell_type": "code",
   "execution_count": 11,
   "outputs": [
    {
     "data": {
      "text/plain": "    mood  circumplex.arousal  circumplex.valence  activity        screen  \\\n29  6.60               -0.40                0.60  0.056918  15018.480001   \n30  6.80               -0.80                0.80  0.094033  13490.729000   \n31  7.80               -0.20                1.00  0.099432  13293.248001   \n32  7.25               -0.25                0.75  0.074816   8343.518000   \n33  7.60               -0.25                1.00  0.102041   3832.990999   \n34  7.40                0.20                1.00  0.091930  15490.269999   \n35  7.60                0.20                1.00  0.045986  14535.339999   \n36  7.60               -0.40                1.00  0.050903  22086.478000   \n37  7.20               -0.20                0.80  0.109061  13973.942000   \n38  7.60               -0.20                1.00  0.214249  15482.018999   \n39  7.50                0.00                1.00  0.030479   5700.562000   \n40  7.60               -0.80                0.80  0.019675  10807.830000   \n41  7.00               -0.25                1.00  0.102758   7873.291999   \n42  7.80               -0.40                0.75  0.151051   9175.604999   \n43  8.00               -0.40                1.00  0.037065  15516.951998   \n44  7.60               -0.20                1.00  0.077341  15088.519001   \n45  8.00               -0.20                1.00  0.071741   8186.036001   \n\n    call  sms  appCat.builtin  appCat.communication  appCat.entertainment  \\\n29   2.0  0.0         552.201             11853.339               142.241   \n30   1.0  0.0        1860.898              5341.657               774.354   \n31   1.0  0.0         946.190              2728.260               469.274   \n32   2.0  2.0         897.086              4984.724               727.492   \n33   2.0  0.0        3442.232              2004.347                74.880   \n34   2.0  0.0        2212.954             11360.913              1101.017   \n35   1.0  0.0        1130.842              8928.472               347.427   \n36   1.0  0.0        1466.271              9692.133              4464.975   \n37   2.0  1.0         817.613              7279.144               650.832   \n38   3.0  4.0         864.519              2567.857               125.556   \n39   0.0  0.0        1291.314              2431.498              1510.221   \n40   2.0  0.0        1312.001              4697.372              1548.438   \n41   0.0  0.0        5289.913              3834.645              1562.533   \n42   1.0  0.0         844.963              3550.618               504.862   \n43   7.0  4.0        1876.113              8191.410               470.866   \n44   0.0  0.0         795.436              7925.918               352.888   \n45   0.0  1.0         753.257              4539.776              2761.950   \n\n    ...  appCat.other  appCat.social  appCat.travel  appCat.unknown  \\\n29  ...        53.763       2107.146          0.000           0.000   \n30  ...        47.789       1993.922         63.874           0.000   \n31  ...        31.482        396.672        128.890           0.000   \n32  ...        34.202       2237.742          0.000           0.000   \n33  ...        58.049        428.972         68.278           0.000   \n34  ...        63.160       1422.548          0.000           0.000   \n35  ...        42.398        526.598          0.000           0.000   \n36  ...        31.933       2688.536         51.184           0.000   \n37  ...        68.847       2227.694         63.316           0.000   \n38  ...        46.205       2368.377        470.773           3.148   \n39  ...      1056.684         27.470          0.000           0.000   \n40  ...        72.584       2423.933          0.000           0.000   \n41  ...        40.472        411.485         41.982           0.000   \n42  ...       185.783         89.166        272.798           0.000   \n43  ...        44.430       4918.942          0.000           0.000   \n44  ...        32.443        771.266          0.000           0.000   \n45  ...        40.569        205.602        143.631          30.102   \n\n    appCat.utilities  mood_std  circumplex.arousal_std  \\\n29            49.718       0.0                     0.0   \n30            88.680       0.0                     0.0   \n31           305.796       0.0                     0.0   \n32           121.035       0.0                     0.0   \n33           210.882       0.0                     0.0   \n34           423.215       0.0                     0.0   \n35           246.944       0.0                     0.0   \n36           716.197       0.0                     0.0   \n37           347.974       0.0                     0.0   \n38           315.763       0.0                     0.0   \n39            60.338       0.0                     0.0   \n40           380.193       0.0                     0.0   \n41           410.436       0.0                     0.0   \n42           112.295       0.0                     0.0   \n43           269.569       0.0                     0.0   \n44            11.083       0.0                     0.0   \n45           125.605       0.0                     0.0   \n\n    circumplex.valence_std  activity_std  days  \n29                     0.0      0.077915     0  \n30                     0.0      0.138848     1  \n31                     0.0      0.115524     2  \n32                     0.0      0.116477     3  \n33                     0.0      0.162982     4  \n34                     0.0      0.106167     5  \n35                     0.0      0.067673     6  \n36                     0.0      0.085740     7  \n37                     0.0      0.126012     8  \n38                     0.0      0.316180     9  \n39                     0.0      0.050447    10  \n40                     0.0      0.030014    11  \n41                     0.0      0.140156    12  \n42                     0.0      0.182664    13  \n43                     0.0      0.037171    14  \n44                     0.0      0.105937    15  \n45                     0.0      0.097756    16  \n\n[17 rows x 23 columns]",
      "text/html": "<div>\n<style scoped>\n    .dataframe tbody tr th:only-of-type {\n        vertical-align: middle;\n    }\n\n    .dataframe tbody tr th {\n        vertical-align: top;\n    }\n\n    .dataframe thead th {\n        text-align: right;\n    }\n</style>\n<table border=\"1\" class=\"dataframe\">\n  <thead>\n    <tr style=\"text-align: right;\">\n      <th></th>\n      <th>mood</th>\n      <th>circumplex.arousal</th>\n      <th>circumplex.valence</th>\n      <th>activity</th>\n      <th>screen</th>\n      <th>call</th>\n      <th>sms</th>\n      <th>appCat.builtin</th>\n      <th>appCat.communication</th>\n      <th>appCat.entertainment</th>\n      <th>...</th>\n      <th>appCat.other</th>\n      <th>appCat.social</th>\n      <th>appCat.travel</th>\n      <th>appCat.unknown</th>\n      <th>appCat.utilities</th>\n      <th>mood_std</th>\n      <th>circumplex.arousal_std</th>\n      <th>circumplex.valence_std</th>\n      <th>activity_std</th>\n      <th>days</th>\n    </tr>\n  </thead>\n  <tbody>\n    <tr>\n      <th>29</th>\n      <td>6.60</td>\n      <td>-0.40</td>\n      <td>0.60</td>\n      <td>0.056918</td>\n      <td>15018.480001</td>\n      <td>2.0</td>\n      <td>0.0</td>\n      <td>552.201</td>\n      <td>11853.339</td>\n      <td>142.241</td>\n      <td>...</td>\n      <td>53.763</td>\n      <td>2107.146</td>\n      <td>0.000</td>\n      <td>0.000</td>\n      <td>49.718</td>\n      <td>0.0</td>\n      <td>0.0</td>\n      <td>0.0</td>\n      <td>0.077915</td>\n      <td>0</td>\n    </tr>\n    <tr>\n      <th>30</th>\n      <td>6.80</td>\n      <td>-0.80</td>\n      <td>0.80</td>\n      <td>0.094033</td>\n      <td>13490.729000</td>\n      <td>1.0</td>\n      <td>0.0</td>\n      <td>1860.898</td>\n      <td>5341.657</td>\n      <td>774.354</td>\n      <td>...</td>\n      <td>47.789</td>\n      <td>1993.922</td>\n      <td>63.874</td>\n      <td>0.000</td>\n      <td>88.680</td>\n      <td>0.0</td>\n      <td>0.0</td>\n      <td>0.0</td>\n      <td>0.138848</td>\n      <td>1</td>\n    </tr>\n    <tr>\n      <th>31</th>\n      <td>7.80</td>\n      <td>-0.20</td>\n      <td>1.00</td>\n      <td>0.099432</td>\n      <td>13293.248001</td>\n      <td>1.0</td>\n      <td>0.0</td>\n      <td>946.190</td>\n      <td>2728.260</td>\n      <td>469.274</td>\n      <td>...</td>\n      <td>31.482</td>\n      <td>396.672</td>\n      <td>128.890</td>\n      <td>0.000</td>\n      <td>305.796</td>\n      <td>0.0</td>\n      <td>0.0</td>\n      <td>0.0</td>\n      <td>0.115524</td>\n      <td>2</td>\n    </tr>\n    <tr>\n      <th>32</th>\n      <td>7.25</td>\n      <td>-0.25</td>\n      <td>0.75</td>\n      <td>0.074816</td>\n      <td>8343.518000</td>\n      <td>2.0</td>\n      <td>2.0</td>\n      <td>897.086</td>\n      <td>4984.724</td>\n      <td>727.492</td>\n      <td>...</td>\n      <td>34.202</td>\n      <td>2237.742</td>\n      <td>0.000</td>\n      <td>0.000</td>\n      <td>121.035</td>\n      <td>0.0</td>\n      <td>0.0</td>\n      <td>0.0</td>\n      <td>0.116477</td>\n      <td>3</td>\n    </tr>\n    <tr>\n      <th>33</th>\n      <td>7.60</td>\n      <td>-0.25</td>\n      <td>1.00</td>\n      <td>0.102041</td>\n      <td>3832.990999</td>\n      <td>2.0</td>\n      <td>0.0</td>\n      <td>3442.232</td>\n      <td>2004.347</td>\n      <td>74.880</td>\n      <td>...</td>\n      <td>58.049</td>\n      <td>428.972</td>\n      <td>68.278</td>\n      <td>0.000</td>\n      <td>210.882</td>\n      <td>0.0</td>\n      <td>0.0</td>\n      <td>0.0</td>\n      <td>0.162982</td>\n      <td>4</td>\n    </tr>\n    <tr>\n      <th>34</th>\n      <td>7.40</td>\n      <td>0.20</td>\n      <td>1.00</td>\n      <td>0.091930</td>\n      <td>15490.269999</td>\n      <td>2.0</td>\n      <td>0.0</td>\n      <td>2212.954</td>\n      <td>11360.913</td>\n      <td>1101.017</td>\n      <td>...</td>\n      <td>63.160</td>\n      <td>1422.548</td>\n      <td>0.000</td>\n      <td>0.000</td>\n      <td>423.215</td>\n      <td>0.0</td>\n      <td>0.0</td>\n      <td>0.0</td>\n      <td>0.106167</td>\n      <td>5</td>\n    </tr>\n    <tr>\n      <th>35</th>\n      <td>7.60</td>\n      <td>0.20</td>\n      <td>1.00</td>\n      <td>0.045986</td>\n      <td>14535.339999</td>\n      <td>1.0</td>\n      <td>0.0</td>\n      <td>1130.842</td>\n      <td>8928.472</td>\n      <td>347.427</td>\n      <td>...</td>\n      <td>42.398</td>\n      <td>526.598</td>\n      <td>0.000</td>\n      <td>0.000</td>\n      <td>246.944</td>\n      <td>0.0</td>\n      <td>0.0</td>\n      <td>0.0</td>\n      <td>0.067673</td>\n      <td>6</td>\n    </tr>\n    <tr>\n      <th>36</th>\n      <td>7.60</td>\n      <td>-0.40</td>\n      <td>1.00</td>\n      <td>0.050903</td>\n      <td>22086.478000</td>\n      <td>1.0</td>\n      <td>0.0</td>\n      <td>1466.271</td>\n      <td>9692.133</td>\n      <td>4464.975</td>\n      <td>...</td>\n      <td>31.933</td>\n      <td>2688.536</td>\n      <td>51.184</td>\n      <td>0.000</td>\n      <td>716.197</td>\n      <td>0.0</td>\n      <td>0.0</td>\n      <td>0.0</td>\n      <td>0.085740</td>\n      <td>7</td>\n    </tr>\n    <tr>\n      <th>37</th>\n      <td>7.20</td>\n      <td>-0.20</td>\n      <td>0.80</td>\n      <td>0.109061</td>\n      <td>13973.942000</td>\n      <td>2.0</td>\n      <td>1.0</td>\n      <td>817.613</td>\n      <td>7279.144</td>\n      <td>650.832</td>\n      <td>...</td>\n      <td>68.847</td>\n      <td>2227.694</td>\n      <td>63.316</td>\n      <td>0.000</td>\n      <td>347.974</td>\n      <td>0.0</td>\n      <td>0.0</td>\n      <td>0.0</td>\n      <td>0.126012</td>\n      <td>8</td>\n    </tr>\n    <tr>\n      <th>38</th>\n      <td>7.60</td>\n      <td>-0.20</td>\n      <td>1.00</td>\n      <td>0.214249</td>\n      <td>15482.018999</td>\n      <td>3.0</td>\n      <td>4.0</td>\n      <td>864.519</td>\n      <td>2567.857</td>\n      <td>125.556</td>\n      <td>...</td>\n      <td>46.205</td>\n      <td>2368.377</td>\n      <td>470.773</td>\n      <td>3.148</td>\n      <td>315.763</td>\n      <td>0.0</td>\n      <td>0.0</td>\n      <td>0.0</td>\n      <td>0.316180</td>\n      <td>9</td>\n    </tr>\n    <tr>\n      <th>39</th>\n      <td>7.50</td>\n      <td>0.00</td>\n      <td>1.00</td>\n      <td>0.030479</td>\n      <td>5700.562000</td>\n      <td>0.0</td>\n      <td>0.0</td>\n      <td>1291.314</td>\n      <td>2431.498</td>\n      <td>1510.221</td>\n      <td>...</td>\n      <td>1056.684</td>\n      <td>27.470</td>\n      <td>0.000</td>\n      <td>0.000</td>\n      <td>60.338</td>\n      <td>0.0</td>\n      <td>0.0</td>\n      <td>0.0</td>\n      <td>0.050447</td>\n      <td>10</td>\n    </tr>\n    <tr>\n      <th>40</th>\n      <td>7.60</td>\n      <td>-0.80</td>\n      <td>0.80</td>\n      <td>0.019675</td>\n      <td>10807.830000</td>\n      <td>2.0</td>\n      <td>0.0</td>\n      <td>1312.001</td>\n      <td>4697.372</td>\n      <td>1548.438</td>\n      <td>...</td>\n      <td>72.584</td>\n      <td>2423.933</td>\n      <td>0.000</td>\n      <td>0.000</td>\n      <td>380.193</td>\n      <td>0.0</td>\n      <td>0.0</td>\n      <td>0.0</td>\n      <td>0.030014</td>\n      <td>11</td>\n    </tr>\n    <tr>\n      <th>41</th>\n      <td>7.00</td>\n      <td>-0.25</td>\n      <td>1.00</td>\n      <td>0.102758</td>\n      <td>7873.291999</td>\n      <td>0.0</td>\n      <td>0.0</td>\n      <td>5289.913</td>\n      <td>3834.645</td>\n      <td>1562.533</td>\n      <td>...</td>\n      <td>40.472</td>\n      <td>411.485</td>\n      <td>41.982</td>\n      <td>0.000</td>\n      <td>410.436</td>\n      <td>0.0</td>\n      <td>0.0</td>\n      <td>0.0</td>\n      <td>0.140156</td>\n      <td>12</td>\n    </tr>\n    <tr>\n      <th>42</th>\n      <td>7.80</td>\n      <td>-0.40</td>\n      <td>0.75</td>\n      <td>0.151051</td>\n      <td>9175.604999</td>\n      <td>1.0</td>\n      <td>0.0</td>\n      <td>844.963</td>\n      <td>3550.618</td>\n      <td>504.862</td>\n      <td>...</td>\n      <td>185.783</td>\n      <td>89.166</td>\n      <td>272.798</td>\n      <td>0.000</td>\n      <td>112.295</td>\n      <td>0.0</td>\n      <td>0.0</td>\n      <td>0.0</td>\n      <td>0.182664</td>\n      <td>13</td>\n    </tr>\n    <tr>\n      <th>43</th>\n      <td>8.00</td>\n      <td>-0.40</td>\n      <td>1.00</td>\n      <td>0.037065</td>\n      <td>15516.951998</td>\n      <td>7.0</td>\n      <td>4.0</td>\n      <td>1876.113</td>\n      <td>8191.410</td>\n      <td>470.866</td>\n      <td>...</td>\n      <td>44.430</td>\n      <td>4918.942</td>\n      <td>0.000</td>\n      <td>0.000</td>\n      <td>269.569</td>\n      <td>0.0</td>\n      <td>0.0</td>\n      <td>0.0</td>\n      <td>0.037171</td>\n      <td>14</td>\n    </tr>\n    <tr>\n      <th>44</th>\n      <td>7.60</td>\n      <td>-0.20</td>\n      <td>1.00</td>\n      <td>0.077341</td>\n      <td>15088.519001</td>\n      <td>0.0</td>\n      <td>0.0</td>\n      <td>795.436</td>\n      <td>7925.918</td>\n      <td>352.888</td>\n      <td>...</td>\n      <td>32.443</td>\n      <td>771.266</td>\n      <td>0.000</td>\n      <td>0.000</td>\n      <td>11.083</td>\n      <td>0.0</td>\n      <td>0.0</td>\n      <td>0.0</td>\n      <td>0.105937</td>\n      <td>15</td>\n    </tr>\n    <tr>\n      <th>45</th>\n      <td>8.00</td>\n      <td>-0.20</td>\n      <td>1.00</td>\n      <td>0.071741</td>\n      <td>8186.036001</td>\n      <td>0.0</td>\n      <td>1.0</td>\n      <td>753.257</td>\n      <td>4539.776</td>\n      <td>2761.950</td>\n      <td>...</td>\n      <td>40.569</td>\n      <td>205.602</td>\n      <td>143.631</td>\n      <td>30.102</td>\n      <td>125.605</td>\n      <td>0.0</td>\n      <td>0.0</td>\n      <td>0.0</td>\n      <td>0.097756</td>\n      <td>16</td>\n    </tr>\n  </tbody>\n</table>\n<p>17 rows × 23 columns</p>\n</div>"
     },
     "execution_count": 11,
     "metadata": {},
     "output_type": "execute_result"
    }
   ],
   "source": [
    "df = pd.read_csv(\"aggregated_individual_data/0_aggregated.csv\", index_col=0, header=0, parse_dates=[\"date\"])\n",
    "# df[\"date\"] = df[\"date\"]\n",
    "df= df.iloc[27:-1]\n",
    "df['days'] = (df['date'] - df['date'].min()).dt.days.astype(int)\n",
    "df.drop([\"date\",\"weekday\", 'appCat.weather'], axis=1,inplace=True)\n",
    "# df.drop(\"Unnamed: 0\", axis=1, inplace=True)\n",
    "df"
   ],
   "metadata": {
    "collapsed": false,
    "pycharm": {
     "name": "#%%\n"
    },
    "ExecuteTime": {
     "start_time": "2023-04-07T14:58:38.688242Z",
     "end_time": "2023-04-07T14:58:38.845720Z"
    }
   }
  },
  {
   "cell_type": "code",
   "execution_count": 12,
   "outputs": [],
   "source": [
    "df.to_csv('test.csv')"
   ],
   "metadata": {
    "collapsed": false,
    "pycharm": {
     "name": "#%%\n"
    },
    "ExecuteTime": {
     "start_time": "2023-04-07T14:59:03.755176Z",
     "end_time": "2023-04-07T14:59:03.770527Z"
    }
   }
  },
  {
   "cell_type": "code",
   "execution_count": 13,
   "outputs": [],
   "source": [
    "def granger_causality_matrix(data, variables, test=\"ssr_chi2test\", verbose=False, maxlag=7):\n",
    "    df = pd.DataFrame(np.zeros((len(variables),len(variables))), columns=variables, index=variables)\n",
    "    for c in df.columns:\n",
    "        for r in df.index:\n",
    "            test_result = grangercausalitytests(data[[r, c]], maxlag=maxlag, verbose=False)\n",
    "            p_values = [round(test_result[i+1][0][test][1],4) for i in range(maxlag)]\n",
    "            if verbose: print(f'Y = {r}, X = {c}, P Values = {p_values}')\n",
    "            min_p_value = np.min(p_values)\n",
    "            df.loc[r, c] = min_p_value\n",
    "    df.columns = [var + '_x' for var in variables]\n",
    "    df.index = [var + '_y' for var in variables]\n",
    "    return df"
   ],
   "metadata": {
    "collapsed": false,
    "pycharm": {
     "name": "#%%\n"
    },
    "ExecuteTime": {
     "start_time": "2023-04-07T14:59:07.752747Z",
     "end_time": "2023-04-07T14:59:07.773143Z"
    }
   }
  },
  {
   "cell_type": "code",
   "execution_count": 17,
   "outputs": [
    {
     "ename": "ValueError",
     "evalue": "Insufficient observations. Maximum allowable lag is 4",
     "output_type": "error",
     "traceback": [
      "\u001B[0;31m---------------------------------------------------------------------------\u001B[0m",
      "\u001B[0;31mValueError\u001B[0m                                Traceback (most recent call last)",
      "Cell \u001B[0;32mIn[17], line 3\u001B[0m\n\u001B[1;32m      1\u001B[0m \u001B[38;5;66;03m# Use your granger_causality_matrix function on the days column\u001B[39;00m\n\u001B[1;32m      2\u001B[0m variables \u001B[38;5;241m=\u001B[39m [\u001B[38;5;124m'\u001B[39m\u001B[38;5;124mmood\u001B[39m\u001B[38;5;124m'\u001B[39m, \u001B[38;5;124m'\u001B[39m\u001B[38;5;124mcircumplex.arousal\u001B[39m\u001B[38;5;124m'\u001B[39m, \u001B[38;5;124m'\u001B[39m\u001B[38;5;124mcircumplex.valence\u001B[39m\u001B[38;5;124m'\u001B[39m, \u001B[38;5;124m'\u001B[39m\u001B[38;5;124mactivity\u001B[39m\u001B[38;5;124m'\u001B[39m, \u001B[38;5;124m'\u001B[39m\u001B[38;5;124mscreen\u001B[39m\u001B[38;5;124m'\u001B[39m, \u001B[38;5;124m'\u001B[39m\u001B[38;5;124mcall\u001B[39m\u001B[38;5;124m'\u001B[39m, \u001B[38;5;124m'\u001B[39m\u001B[38;5;124msms\u001B[39m\u001B[38;5;124m'\u001B[39m, \u001B[38;5;124m'\u001B[39m\u001B[38;5;124mappCat.builtin\u001B[39m\u001B[38;5;124m'\u001B[39m, \u001B[38;5;124m'\u001B[39m\u001B[38;5;124mappCat.communication\u001B[39m\u001B[38;5;124m'\u001B[39m, \u001B[38;5;124m'\u001B[39m\u001B[38;5;124mappCat.entertainment\u001B[39m\u001B[38;5;124m'\u001B[39m, \u001B[38;5;124m'\u001B[39m\u001B[38;5;124mappCat.finance\u001B[39m\u001B[38;5;124m'\u001B[39m, \u001B[38;5;124m'\u001B[39m\u001B[38;5;124mappCat.game\u001B[39m\u001B[38;5;124m'\u001B[39m, \u001B[38;5;124m'\u001B[39m\u001B[38;5;124mappCat.office\u001B[39m\u001B[38;5;124m'\u001B[39m, \u001B[38;5;124m'\u001B[39m\u001B[38;5;124mappCat.other\u001B[39m\u001B[38;5;124m'\u001B[39m, \u001B[38;5;124m'\u001B[39m\u001B[38;5;124mappCat.social\u001B[39m\u001B[38;5;124m'\u001B[39m, \u001B[38;5;124m'\u001B[39m\u001B[38;5;124mappCat.travel\u001B[39m\u001B[38;5;124m'\u001B[39m, \u001B[38;5;124m'\u001B[39m\u001B[38;5;124mappCat.unknown\u001B[39m\u001B[38;5;124m'\u001B[39m, \u001B[38;5;124m'\u001B[39m\u001B[38;5;124mappCat.utilities\u001B[39m\u001B[38;5;124m'\u001B[39m]\n\u001B[0;32m----> 3\u001B[0m granger_matrix \u001B[38;5;241m=\u001B[39m \u001B[43mgranger_causality_matrix\u001B[49m\u001B[43m(\u001B[49m\u001B[43mdf\u001B[49m\u001B[43m[\u001B[49m\u001B[43m[\u001B[49m\u001B[38;5;124;43m'\u001B[39;49m\u001B[38;5;124;43mdays\u001B[39;49m\u001B[38;5;124;43m'\u001B[39;49m\u001B[43m]\u001B[49m\u001B[43m \u001B[49m\u001B[38;5;241;43m+\u001B[39;49m\u001B[43m \u001B[49m\u001B[43mvariables\u001B[49m\u001B[43m]\u001B[49m\u001B[43m,\u001B[49m\u001B[43m \u001B[49m\u001B[43mvariables\u001B[49m\u001B[43m)\u001B[49m\n\u001B[1;32m      4\u001B[0m granger_matrix\n",
      "Cell \u001B[0;32mIn[13], line 5\u001B[0m, in \u001B[0;36mgranger_causality_matrix\u001B[0;34m(data, variables, test, verbose, maxlag)\u001B[0m\n\u001B[1;32m      3\u001B[0m \u001B[38;5;28;01mfor\u001B[39;00m c \u001B[38;5;129;01min\u001B[39;00m df\u001B[38;5;241m.\u001B[39mcolumns:\n\u001B[1;32m      4\u001B[0m     \u001B[38;5;28;01mfor\u001B[39;00m r \u001B[38;5;129;01min\u001B[39;00m df\u001B[38;5;241m.\u001B[39mindex:\n\u001B[0;32m----> 5\u001B[0m         test_result \u001B[38;5;241m=\u001B[39m \u001B[43mgrangercausalitytests\u001B[49m\u001B[43m(\u001B[49m\u001B[43mdata\u001B[49m\u001B[43m[\u001B[49m\u001B[43m[\u001B[49m\u001B[43mr\u001B[49m\u001B[43m,\u001B[49m\u001B[43m \u001B[49m\u001B[43mc\u001B[49m\u001B[43m]\u001B[49m\u001B[43m]\u001B[49m\u001B[43m,\u001B[49m\u001B[43m \u001B[49m\u001B[43mmaxlag\u001B[49m\u001B[38;5;241;43m=\u001B[39;49m\u001B[43mmaxlag\u001B[49m\u001B[43m,\u001B[49m\u001B[43m \u001B[49m\u001B[43mverbose\u001B[49m\u001B[38;5;241;43m=\u001B[39;49m\u001B[38;5;28;43;01mFalse\u001B[39;49;00m\u001B[43m)\u001B[49m\n\u001B[1;32m      6\u001B[0m         p_values \u001B[38;5;241m=\u001B[39m [\u001B[38;5;28mround\u001B[39m(test_result[i\u001B[38;5;241m+\u001B[39m\u001B[38;5;241m1\u001B[39m][\u001B[38;5;241m0\u001B[39m][test][\u001B[38;5;241m1\u001B[39m],\u001B[38;5;241m4\u001B[39m) \u001B[38;5;28;01mfor\u001B[39;00m i \u001B[38;5;129;01min\u001B[39;00m \u001B[38;5;28mrange\u001B[39m(maxlag)]\n\u001B[1;32m      7\u001B[0m         \u001B[38;5;28;01mif\u001B[39;00m verbose: \u001B[38;5;28mprint\u001B[39m(\u001B[38;5;124mf\u001B[39m\u001B[38;5;124m'\u001B[39m\u001B[38;5;124mY = \u001B[39m\u001B[38;5;132;01m{\u001B[39;00mr\u001B[38;5;132;01m}\u001B[39;00m\u001B[38;5;124m, X = \u001B[39m\u001B[38;5;132;01m{\u001B[39;00mc\u001B[38;5;132;01m}\u001B[39;00m\u001B[38;5;124m, P Values = \u001B[39m\u001B[38;5;132;01m{\u001B[39;00mp_values\u001B[38;5;132;01m}\u001B[39;00m\u001B[38;5;124m'\u001B[39m)\n",
      "File \u001B[0;32m~/.conda/envs/DataMining2/lib/python3.10/site-packages/statsmodels/tsa/stattools.py:1477\u001B[0m, in \u001B[0;36mgrangercausalitytests\u001B[0;34m(x, maxlag, addconst, verbose)\u001B[0m\n\u001B[1;32m   1471\u001B[0m         \u001B[38;5;28;01mraise\u001B[39;00m \u001B[38;5;167;01mValueError\u001B[39;00m(\n\u001B[1;32m   1472\u001B[0m             \u001B[38;5;124m\"\u001B[39m\u001B[38;5;124mmaxlag must be a non-empty list containing only \u001B[39m\u001B[38;5;124m\"\u001B[39m\n\u001B[1;32m   1473\u001B[0m             \u001B[38;5;124m\"\u001B[39m\u001B[38;5;124mpositive integers\u001B[39m\u001B[38;5;124m\"\u001B[39m\n\u001B[1;32m   1474\u001B[0m         )\n\u001B[1;32m   1476\u001B[0m \u001B[38;5;28;01mif\u001B[39;00m x\u001B[38;5;241m.\u001B[39mshape[\u001B[38;5;241m0\u001B[39m] \u001B[38;5;241m<\u001B[39m\u001B[38;5;241m=\u001B[39m \u001B[38;5;241m3\u001B[39m \u001B[38;5;241m*\u001B[39m maxlag \u001B[38;5;241m+\u001B[39m \u001B[38;5;28mint\u001B[39m(addconst):\n\u001B[0;32m-> 1477\u001B[0m     \u001B[38;5;28;01mraise\u001B[39;00m \u001B[38;5;167;01mValueError\u001B[39;00m(\n\u001B[1;32m   1478\u001B[0m         \u001B[38;5;124m\"\u001B[39m\u001B[38;5;124mInsufficient observations. Maximum allowable \u001B[39m\u001B[38;5;124m\"\u001B[39m\n\u001B[1;32m   1479\u001B[0m         \u001B[38;5;124m\"\u001B[39m\u001B[38;5;124mlag is \u001B[39m\u001B[38;5;132;01m{0}\u001B[39;00m\u001B[38;5;124m\"\u001B[39m\u001B[38;5;241m.\u001B[39mformat(\u001B[38;5;28mint\u001B[39m((x\u001B[38;5;241m.\u001B[39mshape[\u001B[38;5;241m0\u001B[39m] \u001B[38;5;241m-\u001B[39m \u001B[38;5;28mint\u001B[39m(addconst)) \u001B[38;5;241m/\u001B[39m \u001B[38;5;241m3\u001B[39m) \u001B[38;5;241m-\u001B[39m \u001B[38;5;241m1\u001B[39m)\n\u001B[1;32m   1480\u001B[0m     )\n\u001B[1;32m   1482\u001B[0m resli \u001B[38;5;241m=\u001B[39m {}\n\u001B[1;32m   1484\u001B[0m \u001B[38;5;28;01mfor\u001B[39;00m mlg \u001B[38;5;129;01min\u001B[39;00m lags:\n",
      "\u001B[0;31mValueError\u001B[0m: Insufficient observations. Maximum allowable lag is 4"
     ]
    }
   ],
   "source": [
    "# Use your granger_causality_matrix function on the days column\n",
    "variables = ['mood', 'circumplex.arousal', 'circumplex.valence', 'activity', 'screen', 'call', 'sms', 'appCat.builtin', 'appCat.communication', 'appCat.entertainment', 'appCat.finance', 'appCat.game', 'appCat.office', 'appCat.other', 'appCat.social', 'appCat.travel', 'appCat.unknown', 'appCat.utilities']\n",
    "granger_matrix = granger_causality_matrix(df[['days'] + variables], variables)\n",
    "granger_matrix"
   ],
   "metadata": {
    "collapsed": false
   }
  },
  {
   "cell_type": "code",
   "execution_count": 16,
   "outputs": [
    {
     "ename": "NameError",
     "evalue": "name 'granger_matrix' is not defined",
     "output_type": "error",
     "traceback": [
      "\u001B[0;31m---------------------------------------------------------------------------\u001B[0m",
      "\u001B[0;31mNameError\u001B[0m                                 Traceback (most recent call last)",
      "Cell \u001B[0;32mIn[16], line 2\u001B[0m\n\u001B[1;32m      1\u001B[0m plt\u001B[38;5;241m.\u001B[39mfigure(figsize\u001B[38;5;241m=\u001B[39m(\u001B[38;5;241m12\u001B[39m,\u001B[38;5;241m12\u001B[39m))\n\u001B[0;32m----> 2\u001B[0m sns\u001B[38;5;241m.\u001B[39mheatmap(\u001B[43mgranger_matrix\u001B[49m, cmap\u001B[38;5;241m=\u001B[39m\u001B[38;5;124m\"\u001B[39m\u001B[38;5;124mSpectral_r\u001B[39m\u001B[38;5;124m\"\u001B[39m)\n\u001B[1;32m      3\u001B[0m plt\u001B[38;5;241m.\u001B[39mshow()\n",
      "\u001B[0;31mNameError\u001B[0m: name 'granger_matrix' is not defined"
     ]
    },
    {
     "data": {
      "text/plain": "<Figure size 1200x1200 with 0 Axes>"
     },
     "metadata": {},
     "output_type": "display_data"
    }
   ],
   "source": [
    "plt.figure(figsize=(12,12))\n",
    "sns.heatmap(granger_matrix, cmap=\"Spectral_r\")\n",
    "plt.show()"
   ],
   "metadata": {
    "collapsed": false,
    "pycharm": {
     "name": "#%%\n"
    }
   }
  },
  {
   "cell_type": "code",
   "execution_count": null,
   "outputs": [],
   "source": [],
   "metadata": {
    "collapsed": false,
    "pycharm": {
     "name": "#%%\n"
    }
   }
  }
 ],
 "metadata": {
  "kernelspec": {
   "display_name": "Python 3",
   "language": "python",
   "name": "python3"
  },
  "language_info": {
   "codemirror_mode": {
    "name": "ipython",
    "version": 2
   },
   "file_extension": ".py",
   "mimetype": "text/x-python",
   "name": "python",
   "nbconvert_exporter": "python",
   "pygments_lexer": "ipython2",
   "version": "2.7.6"
  }
 },
 "nbformat": 4,
 "nbformat_minor": 0
}
