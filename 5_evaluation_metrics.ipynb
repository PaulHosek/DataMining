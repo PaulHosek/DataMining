{
 "cells": [
  {
   "cell_type": "code",
   "execution_count": 168,
   "outputs": [],
   "source": [
    "import matplotlib as mpl\n",
    "import matplotlib.pyplot as plt\n",
    "import numpy as np\n",
    "import pandas as pd\n",
    "import tensorflow as tf\n",
    "from tensorflow.keras.utils import timeseries_dataset_from_array\n",
    "import matplotlib.pyplot as plt\n",
    "import seaborn as sns\n",
    "from MultiSeriesWindowsGenerator import MultiSeriesWindowsGenerator\n",
    "import IPython.display"
   ],
   "metadata": {
    "collapsed": false,
    "pycharm": {
     "name": "#%%\n"
    }
   }
  },
  {
   "cell_type": "code",
   "execution_count": 169,
   "outputs": [],
   "source": [
    "pd.set_option(\"display.max_row\", 200)"
   ],
   "metadata": {
    "collapsed": false,
    "pycharm": {
     "name": "#%%\n"
    }
   }
  },
  {
   "cell_type": "code",
   "execution_count": 170,
   "outputs": [],
   "source": [
    "df = pd.read_csv(\"data/all_data_aggr_nonan.csv\", index_col=0)"
   ],
   "metadata": {
    "collapsed": false,
    "pycharm": {
     "name": "#%%\n"
    }
   }
  },
  {
   "cell_type": "code",
   "execution_count": 171,
   "outputs": [],
   "source": [
    "LABELS = ['mood']\n",
    "REGRESSORS = ['weekday', 'circumplex.arousal', 'circumplex.valence',\n",
    "              'activity', 'screen', 'call', 'sms', 'appCat.builtin',\n",
    "              'appCat.communication', 'appCat.entertainment', 'appCat.finance',\n",
    "              'appCat.game', 'appCat.office', 'appCat.other', 'appCat.social',\n",
    "              'appCat.travel', 'appCat.unknown', 'appCat.utilities', 'appCat.weather']\n",
    "\n",
    "DATE = 'days'  # always correct\n",
    "IN_STEPS = 20  # use 7 days\n",
    "OUT_STEPS = 1  # to predict 1 day in the future\n",
    "GROUPBY = ['subject_id']\n",
    "BATCH_SIZE = 8"
   ],
   "metadata": {
    "collapsed": false,
    "pycharm": {
     "name": "#%%\n"
    }
   }
  },
  {
   "cell_type": "code",
   "execution_count": 172,
   "outputs": [],
   "source": [
    "n = len(df)\n",
    "train_series = df.groupby(GROUPBY, as_index=False, group_keys=False).apply(\n",
    "    lambda x: x.iloc[:int(len(x) * 0.7)]).reset_index(drop=True)\n",
    "val_series = df.groupby(GROUPBY, as_index=False, group_keys=False).apply(\n",
    "    lambda x: x.iloc[int(len(x) * 0.7):int(len(x) * 0.9)]).reset_index(drop=True)\n",
    "test_series = df.groupby(GROUPBY, as_index=False, group_keys=False).apply(\n",
    "    lambda x: x.iloc[int(len(x) * 0.9):]).reset_index(drop=True)\n",
    "\n",
    "test_window = MultiSeriesWindowsGenerator(\n",
    "    input_width=IN_STEPS, label_width=OUT_STEPS, shift=1, batch_size=BATCH_SIZE, GROUPBY=GROUPBY,\n",
    "    label_columns=LABELS, regressor_columns=REGRESSORS, DATE=DATE, LABELS=LABELS)\n",
    "\n",
    "test_window.update_datasets(train_series, val_series, test_series, norm=True)"
   ],
   "metadata": {
    "collapsed": false,
    "pycharm": {
     "name": "#%%\n"
    }
   }
  },
  {
   "cell_type": "code",
   "execution_count": 204,
   "outputs": [],
   "source": [
    "lstm_model = tf.keras.models.Sequential([\n",
    "    tf.keras.layers.LSTM(64, return_sequences=True),\n",
    "    tf.keras.layers.Dropout(0.2),\n",
    "    tf.keras.layers.LSTM(64, return_sequences=False),\n",
    "    tf.keras.layers.Dropout(0.2),\n",
    "    tf.keras.layers.Dense(units=1, activation='relu')\n",
    "])\n",
    "\n",
    "MAX_EPOCHS = 20"
   ],
   "metadata": {
    "collapsed": false,
    "pycharm": {
     "name": "#%%\n"
    }
   }
  },
  {
   "cell_type": "code",
   "execution_count": 205,
   "outputs": [],
   "source": [
    "def compile_and_fit(model, window, patience=2, loss=tf.keras.losses.MeanSquaredError()):\n",
    "    early_stopping = tf.keras.callbacks.EarlyStopping(monitor='val_loss',\n",
    "                                                      patience=patience,\n",
    "                                                      mode='min')\n",
    "\n",
    "    model.compile(loss=loss,\n",
    "                  optimizer=tf.keras.optimizers.Adam(learning_rate=0.001, clipnorm=1),\n",
    "                  metrics=[tf.keras.metrics.MeanAbsoluteError(), tf.keras.metrics.MeanSquaredError()])\n",
    "\n",
    "    history = model.fit(window.train, epochs=MAX_EPOCHS,\n",
    "                        validation_data=window.val,\n",
    "                        callbacks=[early_stopping])\n",
    "    return history"
   ],
   "metadata": {
    "collapsed": false,
    "pycharm": {
     "name": "#%%\n"
    }
   }
  },
  {
   "cell_type": "code",
   "execution_count": 206,
   "outputs": [
    {
     "name": "stdout",
     "output_type": "stream",
     "text": [
      "Epoch 1/20\n",
      "61/61 [==============================] - 10s 70ms/step - loss: 0.0936 - mean_absolute_error: 0.2542 - mean_squared_error: 0.0936 - val_loss: 0.0931 - val_mean_absolute_error: 0.2605 - val_mean_squared_error: 0.0931\n",
      "Epoch 2/20\n",
      "61/61 [==============================] - 3s 40ms/step - loss: 0.0676 - mean_absolute_error: 0.2130 - mean_squared_error: 0.0676 - val_loss: 0.0501 - val_mean_absolute_error: 0.1687 - val_mean_squared_error: 0.0501\n",
      "Epoch 3/20\n",
      "61/61 [==============================] - 3s 36ms/step - loss: 0.0616 - mean_absolute_error: 0.1971 - mean_squared_error: 0.0616 - val_loss: 0.0542 - val_mean_absolute_error: 0.1593 - val_mean_squared_error: 0.0542\n",
      "Epoch 4/20\n",
      "61/61 [==============================] - 3s 38ms/step - loss: 0.0598 - mean_absolute_error: 0.1849 - mean_squared_error: 0.0598 - val_loss: 0.0581 - val_mean_absolute_error: 0.1461 - val_mean_squared_error: 0.0581\n",
      "27/27 [==============================] - 2s 8ms/step - loss: 0.0581 - mean_absolute_error: 0.1461 - mean_squared_error: 0.0581\n"
     ]
    }
   ],
   "source": [
    "history = compile_and_fit(lstm_model, test_window)\n",
    "val_performance = {}\n",
    "performance = {}\n",
    "val_performance['LSTM'] = lstm_model.evaluate(test_window.val)\n",
    "performance['LSTM'] = lstm_model.evaluate(test_window.test, verbose=0)\n",
    "mse_model = lstm_model"
   ],
   "metadata": {
    "collapsed": false,
    "pycharm": {
     "name": "#%%\n"
    }
   }
  },
  {
   "cell_type": "code",
   "execution_count": 178,
   "outputs": [
    {
     "name": "stdout",
     "output_type": "stream",
     "text": [
      "Epoch 1/20\n",
      "61/61 [==============================] - 8s 68ms/step - loss: 0.1573 - mean_absolute_error: 0.1573 - mean_squared_error: 0.0502 - val_loss: 0.1287 - val_mean_absolute_error: 0.1287 - val_mean_squared_error: 0.0458\n",
      "Epoch 2/20\n",
      "61/61 [==============================] - 3s 37ms/step - loss: 0.1524 - mean_absolute_error: 0.1524 - mean_squared_error: 0.0472 - val_loss: 0.1045 - val_mean_absolute_error: 0.1045 - val_mean_squared_error: 0.0369\n",
      "Epoch 3/20\n",
      "61/61 [==============================] - 3s 36ms/step - loss: 0.1467 - mean_absolute_error: 0.1467 - mean_squared_error: 0.0472 - val_loss: 0.1070 - val_mean_absolute_error: 0.1070 - val_mean_squared_error: 0.0392\n",
      "Epoch 4/20\n",
      "61/61 [==============================] - 3s 35ms/step - loss: 0.1405 - mean_absolute_error: 0.1405 - mean_squared_error: 0.0437 - val_loss: 0.1132 - val_mean_absolute_error: 0.1132 - val_mean_squared_error: 0.0419\n",
      "27/27 [==============================] - 1s 6ms/step - loss: 0.1132 - mean_absolute_error: 0.1132 - mean_squared_error: 0.0419\n"
     ]
    }
   ],
   "source": [
    "history = compile_and_fit(lstm_model, test_window, loss=tf.keras.losses.MeanAbsoluteError())\n",
    "val_performance = {}\n",
    "performance = {}\n",
    "val_performance['LSTM'] = lstm_model.evaluate(test_window.val)\n",
    "performance['LSTM'] = lstm_model.evaluate(test_window.test, verbose=0)\n",
    "mae_model = lstm_model"
   ],
   "metadata": {
    "collapsed": false,
    "pycharm": {
     "name": "#%%\n"
    }
   }
  },
  {
   "cell_type": "code",
   "execution_count": 236,
   "outputs": [],
   "source": [
    "def plot_error(self, mse_model, mae_model, plot_col=None, max_subplots=1, single=True):\n",
    "    \"\"\"Compare error between two models on the test set.\"\"\"\n",
    "    def test_data(self):\n",
    "        result = getattr(self, '_test_data', None)\n",
    "        if result is None:\n",
    "            result = []\n",
    "            for batch in self.test:\n",
    "                result.append(batch)\n",
    "            self._test_data = result\n",
    "        return result\n",
    "    label_col_index = self.label_columns_indices.get(plot_col, None)\n",
    "    plt.figure(figsize=(12,8))\n",
    "    data = test_data(test_window)\n",
    "    errors1 = list()\n",
    "    errors2 = list()\n",
    "    for i,_ in enumerate(data):\n",
    "        inputs, labels = data[i]\n",
    "        predictions1 = mse_model(inputs)[:, label_col_index]\n",
    "        predictions2 = mae_model(inputs)[:, label_col_index]\n",
    "        expected = labels[:, label_col_index]\n",
    "        errors1.append(np.array(predictions1[:,0,0]-expected[:,0,0,0]))\n",
    "        errors2.append(np.array(predictions2[:,0,0]-expected[:,0,0,0]))\n",
    "\n",
    "    errors = np.stack([np.concatenate(errors1, axis=0), np.concatenate(errors2, axis=0)], axis=0)\n",
    "    sns.set(style=\"darkgrid\")\n",
    "    plt.figure(figsize=(8,3))\n",
    "    sns.kdeplot(errors[0,:], fill=True, color=\"r\", label=\"MSE model\")\n",
    "    sns.kdeplot(errors[1,:], fill=True, color=\"b\", label=\"MAE model\")\n",
    "    plt.xlabel(\"Error on the test set.\")\n",
    "    plt.legend()\n",
    "    plt.savefig(\"5_error_testset.png\",bbox_inches=\"tight\", dpi=300)"
   ],
   "metadata": {
    "collapsed": false,
    "pycharm": {
     "name": "#%%\n"
    }
   }
  },
  {
   "cell_type": "code",
   "execution_count": 237,
   "outputs": [
    {
     "data": {
      "text/plain": "<Figure size 1200x800 with 0 Axes>"
     },
     "metadata": {},
     "output_type": "display_data"
    },
    {
     "data": {
      "text/plain": "<Figure size 800x300 with 1 Axes>",
      "image/png": "[encoded data removed]"
     },
     "metadata": {},
     "output_type": "display_data"
    }
   ],
   "source": [
    "plot_error(test_window,mse_model, mae_model)"
   ],
   "metadata": {
    "collapsed": false,
    "pycharm": {
     "name": "#%%\n"
    }
   }
  },
  {
   "cell_type": "code",
   "execution_count": 231,
   "outputs": [
    {
     "name": "stdout",
     "output_type": "stream",
     "text": [
      "Loss, MAE, MSE\n",
      "[0.05740198493003845, 0.15231211483478546, 0.05740198493003845]\n",
      "[0.11827215552330017, 0.11827215552330017, 0.03940854221582413]\n"
     ]
    }
   ],
   "source": [
    "print(\"Loss, MAE, MSE\")\n",
    "print(mse_model.evaluate(test_window.test, verbose=0))\n",
    "print(mae_model.evaluate(test_window.test, verbose=0))"
   ],
   "metadata": {
    "collapsed": false,
    "pycharm": {
     "name": "#%%\n"
    }
   }
  },
  {
   "cell_type": "code",
   "execution_count": null,
   "outputs": [],
   "source": [],
   "metadata": {
    "collapsed": false,
    "pycharm": {
     "name": "#%%\n"
    }
   }
  }
 ],
 "metadata": {
  "kernelspec": {
   "display_name": "Python 3",
   "language": "python",
   "name": "python3"
  },
  "language_info": {
   "codemirror_mode": {
    "name": "ipython",
    "version": 2
   },
   "file_extension": ".py",
   "mimetype": "text/x-python",
   "name": "python",
   "nbconvert_exporter": "python",
   "pygments_lexer": "ipython2",
   "version": "2.7.6"
  }
 },
 "nbformat": 4,
 "nbformat_minor": 0
}